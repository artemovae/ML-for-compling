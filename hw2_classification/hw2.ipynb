{
 "cells": [
  {
   "cell_type": "markdown",
   "metadata": {},
   "source": [
    "## Предсказание промышленного индекса Доу — Джонса по заголовкам новостей\n",
    "\n",
    "Источник (соревнование Kaggle): https://www.kaggle.com/aaron7sun/stocknews"
   ]
  },
  {
   "cell_type": "markdown",
   "metadata": {},
   "source": [
    "Входная коллекция данных состоит из двух частей:\n",
    "1. заголовки новостных сообщений, входящих в топ-25 по популярности, опубликованных на  Reddit WorldNews Channel\n",
    "2. бинаризованный промышленный индекса Доу — Джонса DJIA (0, если значение индекса за день понизилось, 1 – если осталось на прежнем уровне или выросло). \n",
    "\n",
    "Данные собраны за период с 2008-08-08 до 2016-07-01.\n",
    "\n",
    "Данные представлены в файле Combined_News_DJIA.csv. Первая колонка – дата, вторая – бинаризованный промышленный индекса Доу — Джонса, оставшиеся 25 – заголовки новостей. "
   ]
  },
  {
   "cell_type": "markdown",
   "metadata": {},
   "source": [
    "### Часть 1 [3 балла] Предварительная обработка текстов\n",
    "Проведите предобработку текстов: если считаете нужным, выполните токенизацию, приведение к нижнему регистру, лемматизацию и/или стемминг. \n",
    "Ответьте на следующие вопросы:\n",
    "1. Есть ли корреляция между средней длинной текста за день и DJIA?\n",
    "2. Есть ли корреляция между количеством упоминаний Барака Обамы и США в день и DJIA? Учтите разные варианты написания США.\n",
    "3. Каких статей больше: статей о России и Путине или об Исламском государстве (запрещенной законом РФ террористическая организации)?\n",
    "4. О каких кризисах (crisis) пишут статьи?\n"
   ]
  },
  {
   "cell_type": "markdown",
   "metadata": {},
   "source": [
    "### Часть 2 [5 баллов] Классификация\n",
    "\n",
    "Вам предстоит решить следующую задачу: по текстам новостей за день определить, вырастет или понизится DJIA. То есть, метки класса (y) заданы DJIA, признаки (X) требуется извлечь из текстов.\n",
    "\n",
    "Обучающее и тестовое множество строится так: данные до начала 2015 года используются для обучения, данные с 2015 года и позже – для тестировани.\n",
    "\n",
    "Подсказка:"
   ]
  },
  {
   "cell_type": "markdown",
   "metadata": {},
   "source": [
    "Используйте любой известный вам алгоритм классификации текстов для того,  Используйте $tf-idf$ преобразование, сингулярное разложение, нормировку признакого пространства и любые другие техники обработки данных, которые вы считаете нужным. Используйте accuracy и F-measure  для оценки качества классификации. Покажите, как  $tf-idf$ преобразование или сингулярное разложение или любая другая использованная вами техника влияет на качество классификации. \n",
    "\n",
    "Если у выбранного вами алгоритма есть гиперпараметры (например, $\\alpha$ в преобразовании Лапласа для метода наивного Байеса), покажите, как изменение гиперпараметра влияет на качество классификации. "
   ]
  },
  {
   "cell_type": "markdown",
   "metadata": {},
   "source": [
    "### Часть 3 [2 балла] Творческая\n",
    "Придумайте и попытайтесь сделать еще что-нибудь, чтобы улучшить качество классификации. Например:\n",
    "* использовать в качестве признаков только именованные сущности; \n",
    "* использовать в качестве признаков скрытые темы;\n",
    "* добавить признак, отвечающий за какие-то важные темы или тональность новостей."
   ]
  },
  {
   "cell_type": "markdown",
   "metadata": {},
   "source": [
    "# Домашка "
   ]
  },
  {
   "cell_type": "code",
   "execution_count": 1,
   "metadata": {},
   "outputs": [],
   "source": [
    "from pandas import DataFrame, concat, options\n",
    "from nltk.corpus import stopwords\n",
    "import numpy as np\n",
    "import xgboost as xgb\n",
    "from sklearn.model_selection import KFold\n",
    "from sklearn.metrics import f1_score, accuracy_score\n",
    "from sklearn.feature_extraction.text import TfidfVectorizer, CountVectorizer, HashingVectorizer\n",
    "from sklearn.naive_bayes import MultinomialNB\n",
    "from sklearn.decomposition import TruncatedSVD\n",
    "\n",
    "# import torch\n",
    "# from torch import nn\n",
    "# import torch.nn.functional as F\n",
    "# from skorch.net import NeuralNetClassifier\n",
    "\n",
    "stop = stopwords.words('english')\n",
    "options.mode.chained_assignment = None"
   ]
  },
  {
   "cell_type": "markdown",
   "metadata": {},
   "source": [
    "Загружаем данные"
   ]
  },
  {
   "cell_type": "code",
   "execution_count": 2,
   "metadata": {
    "collapsed": true
   },
   "outputs": [],
   "source": [
    "data = DataFrame.from_csv('stocknews/Combined_News_DJIA.csv').reset_index().fillna(' ')"
   ]
  },
  {
   "cell_type": "code",
   "execution_count": 3,
   "metadata": {
    "collapsed": true
   },
   "outputs": [],
   "source": [
    "train = data[data['Date'] < '2015-01-01']\n",
    "test = data[data['Date'] > '2014-12-31']\n",
    "y_train = train.Label.values\n",
    "y_test = test.Label.values"
   ]
  },
  {
   "cell_type": "code",
   "execution_count": 4,
   "metadata": {
    "collapsed": true
   },
   "outputs": [],
   "source": [
    "col_number = 26"
   ]
  },
  {
   "cell_type": "markdown",
   "metadata": {},
   "source": [
    "### Тут будет анализ данных"
   ]
  },
  {
   "cell_type": "markdown",
   "metadata": {},
   "source": [
    "### Простые фичи"
   ]
  },
  {
   "cell_type": "code",
   "execution_count": 5,
   "metadata": {
    "collapsed": true
   },
   "outputs": [],
   "source": [
    "lambda_func_features = [\n",
    "    (lambda x: len(str(x).split()), 'NumWords'),\n",
    "    (lambda x: len(set(str(x).split())), 'NumUniqueWords'),\n",
    "    (lambda x: len(str(x)), 'NumChars'),\n",
    "    (lambda x: len([w for w in str(x).lower().split() if w in stop]), 'NumStopWords'),\n",
    "    (lambda x: np.mean([len(w) for w in str(x).split()]), 'MeanWordLen')\n",
    "]"
   ]
  },
  {
   "cell_type": "code",
   "execution_count": 6,
   "metadata": {
    "collapsed": true
   },
   "outputs": [],
   "source": [
    "def generate_features(train, test, lambda_func, func_name):\n",
    "    train_features = DataFrame([train.loc[:,'Top' + str(col)].apply(lambda_func) for col in range(1, col_number)]).transpose()\n",
    "    test_features = DataFrame([test.loc[:,'Top' + str(col)].apply(lambda_func) for col in range(1, col_number)]).transpose()\n",
    "    train_features.columns = [func_name + str(i) for i in range(1, col_number)]\n",
    "    test_features.columns = [func_name + str(i) for i in range(1, col_number)]\n",
    "    return concat([train, train_features], axis=1), concat([test, test_features], axis=1)"
   ]
  },
  {
   "cell_type": "code",
   "execution_count": 7,
   "metadata": {},
   "outputs": [
    {
     "name": "stderr",
     "output_type": "stream",
     "text": [
      "/Users/defeater/anaconda/lib/python3.6/site-packages/numpy/core/fromnumeric.py:2909: RuntimeWarning: Mean of empty slice.\n",
      "  out=out, **kwargs)\n"
     ]
    }
   ],
   "source": [
    "for lambda_func, func_name in lambda_func_features:\n",
    "    train, test = generate_features(train, test, lambda_func, func_name)"
   ]
  },
  {
   "cell_type": "markdown",
   "metadata": {},
   "source": [
    "### Фичи на основе предсказаний классификаторов на векторизаторах"
   ]
  },
  {
   "cell_type": "code",
   "execution_count": 8,
   "metadata": {},
   "outputs": [],
   "source": [
    "def make_raw_text_col(df):\n",
    "    df['text'] = df['Top1'].str[1:] + ' '\n",
    "    for i in df.loc[:,'Top2':'Top25']:\n",
    "        df['text'] += df[i].str[1:] + ' '\n",
    "    df['text'] = df['text'].str.lower().str.replace('[^a-zA-Z ]', '')\n",
    "    return df\n",
    "    \n",
    "train = make_raw_text_col(train)\n",
    "test = make_raw_text_col(test)"
   ]
  },
  {
   "cell_type": "code",
   "execution_count": 9,
   "metadata": {
    "collapsed": true
   },
   "outputs": [],
   "source": [
    "vectorizers = [\n",
    "    (CountVectorizer(stop_words='english', ngram_range=(1,3)), 'CountVectorizer'),\n",
    "    (TfidfVectorizer(ngram_range=(1,5), analyzer='char'), 'TfIdfVectorizerChar')\n",
    "]"
   ]
  },
  {
   "cell_type": "code",
   "execution_count": 10,
   "metadata": {},
   "outputs": [],
   "source": [
    "kfolds = 5\n",
    "\n",
    "for vec, vec_name in vectorizers:\n",
    "    vectorizer = vec\n",
    "    full = vectorizer.fit_transform(np.hstack((train.text.values, test.text.values)))\n",
    "    X_train = vectorizer.transform(train.text.values)\n",
    "    X_test = vectorizer.transform(test.text.values)\n",
    "\n",
    "    pred_full_test = 0\n",
    "    pred_train = np.zeros([train.shape[0], len(train.Label.unique())])\n",
    "\n",
    "    for dev_index, val_index in KFold(n_splits=kfolds, shuffle=True, random_state=42).split(train):\n",
    "        dev_X, val_X = X_train[dev_index], X_train[val_index]\n",
    "        dev_y, val_y = y_train[dev_index], y_train[val_index]\n",
    "        model = MultinomialNB()\n",
    "        model.fit(dev_X, dev_y)\n",
    "        pred_full_test = pred_full_test + model.predict_proba(X_test)\n",
    "        pred_train[val_index,:] = model.predict_proba(val_X)\n",
    "\n",
    "    pred_full_test = pred_full_test / kfolds\n",
    "\n",
    "    train[vec_name + 'Zero'] = pred_train[:,0]\n",
    "    train[vec_name + 'One'] = pred_train[:,1]\n",
    "    test[vec_name + 'Zero'] = pred_full_test[:,0]\n",
    "    test[vec_name + 'One'] = pred_full_test[:,1]"
   ]
  },
  {
   "cell_type": "markdown",
   "metadata": {},
   "source": [
    "### Фичи на основе компонент векторов"
   ]
  },
  {
   "cell_type": "code",
   "execution_count": 11,
   "metadata": {},
   "outputs": [],
   "source": [
    "svd_components = 20\n",
    "\n",
    "vectorizer = TfidfVectorizer(ngram_range=(1,5), analyzer='char')\n",
    "full = vectorizer.fit_transform(np.hstack((train.text.values, test.text.values)))\n",
    "X_train = vectorizer.transform(train.text.values)\n",
    "X_test = vectorizer.transform(test.text.values)\n",
    "\n",
    "svd = TruncatedSVD(n_components=svd_components, algorithm='arpack')\n",
    "svd.fit(full)\n",
    "train_svd = DataFrame(svd.transform(X_train))\n",
    "test_svd = DataFrame(svd.transform(X_test))\n",
    "    \n",
    "train_svd.columns = ['SVD' + str(i) for i in range(svd_components)]\n",
    "test_svd.columns = ['SVD' + str(i) for i in range(svd_components)]\n",
    "\n",
    "train = concat([train, train_svd], axis=1, join_axes=[train.index])\n",
    "test = concat([test, test_svd], axis=1, join_axes=[test.index])"
   ]
  },
  {
   "cell_type": "markdown",
   "metadata": {},
   "source": [
    "### Фичи сгенерированы, убираем лишнее"
   ]
  },
  {
   "cell_type": "code",
   "execution_count": 12,
   "metadata": {},
   "outputs": [],
   "source": [
    "train = train.drop(train.columns[0:col_number+2], axis=1)\n",
    "test = test.drop(test.columns[0:col_number+2], axis=1)\n",
    "# train = train.drop('text', axis=1)\n",
    "# test = test.drop('text', axis=1)"
   ]
  },
  {
   "cell_type": "markdown",
   "metadata": {},
   "source": [
    "### Задаём параметры градиентного бустинга"
   ]
  },
  {
   "cell_type": "code",
   "execution_count": 13,
   "metadata": {
    "collapsed": true
   },
   "outputs": [],
   "source": [
    "params = {}\n",
    "params['objective'] = 'multi:softprob'\n",
    "params['eta'] = 0.1\n",
    "params['max_depth'] = 3\n",
    "params['silent'] = 1\n",
    "params['num_class'] = 3\n",
    "params['eval_metric'] = 'mlogloss'\n",
    "params['min_child_weight'] = 1\n",
    "params['subsample'] = 0.8\n",
    "params['colsample_bytree'] = 0.3\n",
    "params['seed'] = 0"
   ]
  },
  {
   "cell_type": "markdown",
   "metadata": {},
   "source": [
    "### Классификация"
   ]
  },
  {
   "cell_type": "code",
   "execution_count": 43,
   "metadata": {},
   "outputs": [],
   "source": [
    "boost_rounds = 20\n",
    "kfolds = 5\n",
    "pred_full_test = 0\n",
    "pred_train = np.zeros([train.shape[0], len(set(y_train))])\n",
    "for dev_index, val_index in KFold(n_splits=kfolds, shuffle=True, random_state=42).split(train):\n",
    "    dev_X, val_X = train.loc[dev_index], train.loc[val_index]\n",
    "    dev_y, val_y = y_train[dev_index], y_train[val_index]\n",
    "    xgtrain = xgb.DMatrix(dev_X, dev_y)\n",
    "    xgtest = xgb.DMatrix(test)\n",
    "    model = xgb.train(params=list(params.items()), dtrain=xgtrain, num_boost_round=boost_rounds)\n",
    "    predictions = model.predict(xgtest, ntree_limit=model.best_ntree_limit)\n",
    "    pred_full_test = pred_full_test + predictions\n",
    "pred_full_test = pred_full_test / kfolds"
   ]
  },
  {
   "cell_type": "markdown",
   "metadata": {},
   "source": [
    "### Считаем результаты"
   ]
  },
  {
   "cell_type": "markdown",
   "metadata": {},
   "source": [
    "Текстовые фичи"
   ]
  },
  {
   "cell_type": "code",
   "execution_count": 11,
   "metadata": {},
   "outputs": [
    {
     "data": {
      "text/plain": [
       "0.67034990791896865"
      ]
     },
     "execution_count": 11,
     "metadata": {},
     "output_type": "execute_result"
    }
   ],
   "source": [
    "f1_score(pred_full_test.argmax(axis=1), y_test) "
   ]
  },
  {
   "cell_type": "code",
   "execution_count": 12,
   "metadata": {},
   "outputs": [
    {
     "data": {
      "text/plain": [
       "0.52645502645502651"
      ]
     },
     "execution_count": 12,
     "metadata": {},
     "output_type": "execute_result"
    }
   ],
   "source": [
    "accuracy_score(pred_full_test.argmax(axis=1), y_test) "
   ]
  },
  {
   "cell_type": "markdown",
   "metadata": {
    "collapsed": true
   },
   "source": [
    "Фичи с вероятностями на векторизации"
   ]
  },
  {
   "cell_type": "code",
   "execution_count": 43,
   "metadata": {},
   "outputs": [
    {
     "data": {
      "text/plain": [
       "0.65461121157323687"
      ]
     },
     "execution_count": 43,
     "metadata": {},
     "output_type": "execute_result"
    }
   ],
   "source": [
    "f1_score(pred_full_test.argmax(axis=1), y_test) "
   ]
  },
  {
   "cell_type": "code",
   "execution_count": 44,
   "metadata": {},
   "outputs": [
    {
     "data": {
      "text/plain": [
       "0.49470899470899471"
      ]
     },
     "execution_count": 44,
     "metadata": {},
     "output_type": "execute_result"
    }
   ],
   "source": [
    "accuracy_score(pred_full_test.argmax(axis=1), y_test) "
   ]
  },
  {
   "cell_type": "markdown",
   "metadata": {},
   "source": [
    "Фичи на компонентах векторов"
   ]
  },
  {
   "cell_type": "code",
   "execution_count": 93,
   "metadata": {},
   "outputs": [
    {
     "name": "stderr",
     "output_type": "stream",
     "text": [
      "/Users/defeater/anaconda/lib/python3.6/site-packages/sklearn/metrics/classification.py:1115: UndefinedMetricWarning: F-score is ill-defined and being set to 0.0 due to no true samples.\n",
      "  'recall', 'true', average, warn_for)\n"
     ]
    },
    {
     "data": {
      "text/plain": [
       "0.0"
      ]
     },
     "execution_count": 93,
     "metadata": {},
     "output_type": "execute_result"
    }
   ],
   "source": [
    "f1_score(pred_full_test.argmax(axis=1), y_test) "
   ]
  },
  {
   "cell_type": "code",
   "execution_count": 94,
   "metadata": {},
   "outputs": [
    {
     "data": {
      "text/plain": [
       "0.49206349206349204"
      ]
     },
     "execution_count": 94,
     "metadata": {},
     "output_type": "execute_result"
    }
   ],
   "source": [
    "accuracy_score(pred_full_test.argmax(axis=1), y_test) "
   ]
  },
  {
   "cell_type": "markdown",
   "metadata": {},
   "source": [
    "Всё вместе"
   ]
  },
  {
   "cell_type": "code",
   "execution_count": 36,
   "metadata": {},
   "outputs": [
    {
     "data": {
      "text/plain": [
       "0.66019417475728159"
      ]
     },
     "execution_count": 36,
     "metadata": {},
     "output_type": "execute_result"
    }
   ],
   "source": [
    "f1_score(pred_full_test.argmax(axis=1), y_test) "
   ]
  },
  {
   "cell_type": "code",
   "execution_count": 37,
   "metadata": {},
   "outputs": [
    {
     "data": {
      "text/plain": [
       "0.53703703703703709"
      ]
     },
     "execution_count": 37,
     "metadata": {},
     "output_type": "execute_result"
    }
   ],
   "source": [
    "accuracy_score(pred_full_test.argmax(axis=1), y_test) "
   ]
  }
 ],
 "metadata": {
  "kernelspec": {
   "display_name": "Python 3",
   "language": "python",
   "name": "python3"
  },
  "language_info": {
   "codemirror_mode": {
    "name": "ipython",
    "version": 3
   },
   "file_extension": ".py",
   "mimetype": "text/x-python",
   "name": "python",
   "nbconvert_exporter": "python",
   "pygments_lexer": "ipython3",
   "version": "3.6.1"
  }
 },
 "nbformat": 4,
 "nbformat_minor": 2
}
