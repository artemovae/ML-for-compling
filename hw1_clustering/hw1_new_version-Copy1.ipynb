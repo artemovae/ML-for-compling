{
 "cells": [
  {
   "cell_type": "markdown",
   "metadata": {},
   "source": [
    "<h1><center>Машинное обучение. Кластеризация новостных текстов</center></h1>\n",
    "<center>Бакаров Амир, Никишина Ирина, Степачёв Павел </center>\n",
    "<center>Национальный исследовательский университет \"Высшая школа экономики\"</center>"
   ]
  },
  {
   "cell_type": "markdown",
   "metadata": {},
   "source": [
    "**Абстракт**. Лемматизация -- процесс приведения слова к его нормальной форме; этот процесс уникален для каждого языка, поскольку набор словоизменительных аффиксов варьируется от языка к языку. Для русского языка на данный момент существующих несколько популярных алгоритмов лемматизации (называемых также морфологическими анализаторами), оценка эффективности их работы обычно происходит с помощью \"золотого стандарта\" -- текст, лематизированный с помощью автоматического анализатора, сранивается с текстом, лемматизированным профессиональным лингвистом. При этом не существует исследования, в котором бы рассматривалось влияние выбора алгоритма лемматизации на качество решения конкретных прикладных задач обработки естественного языка. Данное исследование призвано заполнить этот пробел в научном знании и посвящено сравению различных морфологических анализаторов для русского языка в задаче кластеризации набора новостных текстов. Для того, чтобы проверить, действительно ли разница в качестве работы разных лемматизаторов закономерна (а не является случайностью), мы используем несколько различных методов векторизации текста и алгоритмов кластеризации на одном и том же датасете, проверяя каждый морфологический анализатор на множестве разных случаев. В качестве размеченного датасета мы используем корпус русскоязычных новостных сводок за 2017 год, предоставленный Екатериной Черняк."
   ]
  },
  {
   "cell_type": "markdown",
   "metadata": {},
   "source": [
    "### Введение\n",
    "\n",
    "**Кластерный анализ**, или кластеризация (cluster analysis) — один из типов задач в машинном обучении (наряду с классификацией, регрессией и определением аномалией), сводящийся к разбиению неоднородного множества объектов на сравнительно однородные группы. В обработке естественного языка кластеризация обычно используется для автоматического выделения тематически схожих документов из единого множества без использования обучающей выборки (unsupervised learning) -- к примеру, для разделения новостей на группы в новостных аггрегаторах.\n",
    "\n",
    "Существенная особенность задач по обработке естественного языка (по сравению с другими задачами машинного обучения) заключается в том, что здесь данные представлены в \"сыром виде\", и качество решения задачи напрямую зависит от выбранного метода преобразования данных в числовой вид (иначе говоря, от метода векторизации данных). При этом известно, что качество решения задачи может повыситься, если применить к \"сырому тексту\" процедуры, удаляющие из текста шум. Одним из примеров такого шума может выступать излишнее многообразие словоформ -- разных форм одного и того же слова (иными словами, цепочек символов, имеющих одну и ту же семантику, но разное графематическое представление). Процедура, приводящая слоформы к одному и тому же слову, называется лемматизацией. Для русского языка лемматизация может осуществляться при помощи морфологических анализаторов pymorphy2, mystem и texterra.\n",
    "\n",
    "Обычно качество работы морфологических анализаторов оценивается на основне схожести текста, лематизированного при помощи анализатора, с текстом, лемматизированным профессиональным лингвистом. Такую оценку можно назвать \"внутренней\" (intrinsic evaluation) -- она предоставляет некую абсолютную меру качества; при этом неизвестно, действительно ли алгоритм лемматизации, показавший наивысшее качество при \"внутренней\" оценке, покажет лучшее качество на конкретной прикладной задаче при сравнении с другими алгоритмами лемматизации. Подробный сравнительный обзор морфологических анализаторов для русского языка при помощи \"внутренней\" оценки был проведен в (Kuzmenko, 2016).\n",
    "\n",
    "Таким образом, мы предполагаем, что оценивать алгоритм лемматизации важно и на прикладных задачах -- этот метод оценки мы назовём \"внешним\" (extrinsic evaluation). И одной из такой задачи как раз и может быть задача кластеризации -- в научном сообществе пока не был рассмотрен вопрос о том, каким образом выбор морфологического анализатора влияет на качество кластеризации. Целью данного исследования и является выявление производительности этих алгоритмов в задаче кластеризации. Данная работа является первой работой, в которой рассматривается зависимость успешности решения задачи кластеризации для русского языка от используемого алгоритма лемматизации; в этом факте и заключается научная новизна данного исследования.\n",
    "\n",
    "Работа устроена следующим образом. В разделе 1 рассматриваются особенности корпуса Екатерины Черняк. В разделе 2 описываются используемые алгоритмы лемматизации. В разделе 3 приводится обзор существующих классов алгоритмов векторизации \"сырого текста\", в то время как раздел 4 посвящен алгоритмам кластеризации и метрикам оценки качества. В разделе 5 обсуждаются полученные результаты, и раздел 6 завершает статью."
   ]
  },
  {
   "cell_type": "markdown",
   "metadata": {},
   "source": [
    "Все эксперименты в данном исследовании проводятся на языке программирования Python 3.6.1 с использованием следующих библиотек: "
   ]
  },
  {
   "cell_type": "code",
   "execution_count": 2,
   "metadata": {
    "collapsed": true
   },
   "outputs": [],
   "source": [
    "from os import path\n",
    "import glob\n",
    "import pickle\n",
    "import gensim\n",
    "import numpy as np\n",
    "import time\n",
    "\n",
    "from nltk.tokenize import RegexpTokenizer, word_tokenize\n",
    "from re import sub\n",
    "\n",
    "from pandas import DataFrame, options\n",
    "\n",
    "from pymystem3 import Mystem\n",
    "import texterra\n",
    "from pymorphy2 import MorphAnalyzer\n",
    "import pandas\n",
    "\n",
    "import codecs\n",
    "import csv\n",
    "from sklearn.feature_extraction.text import TfidfVectorizer\n",
    "from sklearn.decomposition import TruncatedSVD\n",
    "from sklearn.preprocessing import Normalizer\n",
    "from sklearn.metrics import *\n",
    "from sklearn.cluster import *\n",
    "from sklearn.pipeline import Pipeline\n",
    "from sklearn.feature_extraction.text import *\n",
    "import scipy.cluster.hierarchy as hac\n",
    "\n",
    "import matplotlib.pyplot as plt\n",
    "import seaborn as sns\n",
    "\n",
    "from collections import defaultdict\n",
    "from difflib import SequenceMatcher\n",
    "\n",
    "API_KEY = '9988cfb979b80264baeba1386cc7e455f99f943c'\n",
    "\n",
    "morph = MorphAnalyzer()\n",
    "m = Mystem()\n",
    "t = texterra.API(API_KEY)\n",
    "alpha_tokenizer = RegexpTokenizer('\\w+')"
   ]
  },
  {
   "cell_type": "markdown",
   "metadata": {},
   "source": [
    "Большинство используемых модулей содержится в дефолтной сборке Анаконды; для воспроизведения экспериментов требуется дополнительно установить TextErra (https://pypi.python.org/pypi/texterra/1.0.1, API-ключ указан выше), PyMorphy2 (https://pypi.python.org/pypi/pymorphy2) и PyMyStem3 (https://pypi.python.org/pypi/pymystem3/0.1.1)."
   ]
  },
  {
   "cell_type": "markdown",
   "metadata": {},
   "source": [
    "### Анализ данных\n",
    "\n",
    "Новостной корпус Екатерины Черняк представлен данными в файлах 'events.csv' (заголовки новостных событий) и 'raw_news.csv' (тексты новостей с метками событий):"
   ]
  },
  {
   "cell_type": "code",
   "execution_count": 3,
   "metadata": {
    "collapsed": true
   },
   "outputs": [],
   "source": [
    "df_events = DataFrame.from_csv('events.csv')\n",
    "df_news = DataFrame.from_csv('raw_news.csv')\n",
    "texts = list(df_news.text.values)"
   ]
  },
  {
   "cell_type": "markdown",
   "metadata": {},
   "source": [
    "Данные имеют вид таблицы из двух столбцов -- текста новости и метки события, о котором в нём идет речь."
   ]
  },
  {
   "cell_type": "code",
   "execution_count": 4,
   "metadata": {},
   "outputs": [
    {
     "data": {
      "text/html": [
       "<div>\n",
       "<style>\n",
       "    .dataframe thead tr:only-child th {\n",
       "        text-align: right;\n",
       "    }\n",
       "\n",
       "    .dataframe thead th {\n",
       "        text-align: left;\n",
       "    }\n",
       "\n",
       "    .dataframe tbody tr th {\n",
       "        vertical-align: top;\n",
       "    }\n",
       "</style>\n",
       "<table border=\"1\" class=\"dataframe\">\n",
       "  <thead>\n",
       "    <tr style=\"text-align: right;\">\n",
       "      <th></th>\n",
       "      <th>event_id</th>\n",
       "      <th>text</th>\n",
       "    </tr>\n",
       "  </thead>\n",
       "  <tbody>\n",
       "    <tr>\n",
       "      <th>0</th>\n",
       "      <td>1</td>\n",
       "      <td>В ПЕТЕРБУРГЕ ПРОШЕЛ МИТИНГ ПРОТИВ ПЕРЕДАЧИ ИСААКИЕВСКОГО СОБОРА РПЦ В Санкт-Петербурге люди устроили акцию протеста...</td>\n",
       "    </tr>\n",
       "    <tr>\n",
       "      <th>1</th>\n",
       "      <td>1</td>\n",
       "      <td>Lenta.co, Москва, 14 января 2017 СИТУАЦИЯ С ПЕРЕДАЧЕЙ ИСААКИЕВСКОГО СОБОРА В ВЕДЕНИЕ РПЦ. ИСТОРИЯ СОБОРА Читать ори...</td>\n",
       "    </tr>\n",
       "    <tr>\n",
       "      <th>2</th>\n",
       "      <td>1</td>\n",
       "      <td>Аргументы и Факты (aif.ru), Москва, 14 января 2017 ОППОЗИЦИЯ ПРОВЕЛА МИТИНГ ПРОТИВ ПЕРЕДАЧИ ИСААКИЕВСКОГО СОБОРА РП...</td>\n",
       "    </tr>\n",
       "    <tr>\n",
       "      <th>3</th>\n",
       "      <td>1</td>\n",
       "      <td>Google Новости ТОП, Москва, 14 января 2017 АКЦИЯ ПРОТИВ ПЕРЕДАЧИ ИСААКИЕВСКОГО СОБОРА РПЦ ПРОШЛА БЕЗ НАРУШЕНИЙ Моск...</td>\n",
       "    </tr>\n",
       "    <tr>\n",
       "      <th>4</th>\n",
       "      <td>1</td>\n",
       "      <td>Газета.Ru, Москва, 13 января 2017 В МОСКОВСКОЙ ПАТРИАРХИИ ПРОКОММЕНТИРОВАЛИ ПЕРЕДАЧУ ИСААКИЕВСКОГО СОБОРА РПЦ Руков...</td>\n",
       "    </tr>\n",
       "  </tbody>\n",
       "</table>\n",
       "</div>"
      ],
      "text/plain": [
       "   event_id  \\\n",
       "0         1   \n",
       "1         1   \n",
       "2         1   \n",
       "3         1   \n",
       "4         1   \n",
       "\n",
       "                                                                                                                      text  \n",
       "0   В ПЕТЕРБУРГЕ ПРОШЕЛ МИТИНГ ПРОТИВ ПЕРЕДАЧИ ИСААКИЕВСКОГО СОБОРА РПЦ В Санкт-Петербурге люди устроили акцию протеста...  \n",
       "1   Lenta.co, Москва, 14 января 2017 СИТУАЦИЯ С ПЕРЕДАЧЕЙ ИСААКИЕВСКОГО СОБОРА В ВЕДЕНИЕ РПЦ. ИСТОРИЯ СОБОРА Читать ори...  \n",
       "2   Аргументы и Факты (aif.ru), Москва, 14 января 2017 ОППОЗИЦИЯ ПРОВЕЛА МИТИНГ ПРОТИВ ПЕРЕДАЧИ ИСААКИЕВСКОГО СОБОРА РП...  \n",
       "3   Google Новости ТОП, Москва, 14 января 2017 АКЦИЯ ПРОТИВ ПЕРЕДАЧИ ИСААКИЕВСКОГО СОБОРА РПЦ ПРОШЛА БЕЗ НАРУШЕНИЙ Моск...  \n",
       "4   Газета.Ru, Москва, 13 января 2017 В МОСКОВСКОЙ ПАТРИАРХИИ ПРОКОММЕНТИРОВАЛИ ПЕРЕДАЧУ ИСААКИЕВСКОГО СОБОРА РПЦ Руков...  "
      ]
     },
     "execution_count": 4,
     "metadata": {},
     "output_type": "execute_result"
    }
   ],
   "source": [
    "options.display.max_colwidth = 120\n",
    "df_news.head()"
   ]
  },
  {
   "cell_type": "markdown",
   "metadata": {},
   "source": [
    "Таким образом, каждая новость представлена в виде фрагмента текста и имеет метку о принадлежности к определенному событию. Одному событию может соотвествовать несколько новостей, но каждая новости ассоциировано только одно событие; диаграмма ниже показывает, как распределены события по новостям:"
   ]
  },
  {
   "cell_type": "code",
   "execution_count": 4,
   "metadata": {},
   "outputs": [
    {
     "data": {
      "image/png": "[encoded data removed]",
      "text/plain": [
       "<matplotlib.figure.Figure at 0x11e3738d0>"
      ]
     },
     "metadata": {},
     "output_type": "display_data"
    }
   ],
   "source": [
    "events = df_news.event_id.value_counts()\n",
    "plt.figure(figsize=(12,6))\n",
    "sns.barplot(events.index, events.values, alpha=0.8)\n",
    "plt.ylabel('Число новостей в событии', fontsize=16)\n",
    "plt.xlabel('Событие', fontsize=16)\n",
    "plt.show();"
   ]
  },
  {
   "cell_type": "markdown",
   "metadata": {},
   "source": [
    "Рассмотрим распределение новостей по числу токенов в её тексте. Как видно, подавляющее большинство новостей содержит достаточно малое число токенов:"
   ]
  },
  {
   "cell_type": "code",
   "execution_count": 5,
   "metadata": {},
   "outputs": [
    {
     "data": {
      "image/png": "[encoded data removed]",
      "text/plain": [
       "<matplotlib.figure.Figure at 0x11f14a828>"
      ]
     },
     "metadata": {},
     "output_type": "display_data"
    }
   ],
   "source": [
    "plt.figure(figsize=(12,6))\n",
    "sns.distplot(df_news.text.apply(lambda string: len(word_tokenize(string))), bins=100, rug=False, hist=False, color='pink')\n",
    "plt.ylabel('Распределение новостей', fontsize=16)\n",
    "plt.xlabel('Число токенов в тексте новости', fontsize=16)\n",
    "plt.show()"
   ]
  },
  {
   "cell_type": "markdown",
   "metadata": {},
   "source": [
    "Корпус также содержит дубликаты некоторых новостей (6 одинаковых объектов):"
   ]
  },
  {
   "cell_type": "code",
   "execution_count": 5,
   "metadata": {},
   "outputs": [
    {
     "data": {
      "text/html": [
       "<div>\n",
       "<style>\n",
       "    .dataframe thead tr:only-child th {\n",
       "        text-align: right;\n",
       "    }\n",
       "\n",
       "    .dataframe thead th {\n",
       "        text-align: left;\n",
       "    }\n",
       "\n",
       "    .dataframe tbody tr th {\n",
       "        vertical-align: top;\n",
       "    }\n",
       "</style>\n",
       "<table border=\"1\" class=\"dataframe\">\n",
       "  <thead>\n",
       "    <tr style=\"text-align: right;\">\n",
       "      <th></th>\n",
       "      <th>event_id</th>\n",
       "      <th>text</th>\n",
       "    </tr>\n",
       "  </thead>\n",
       "  <tbody>\n",
       "    <tr>\n",
       "      <th>513</th>\n",
       "      <td>9</td>\n",
       "      <td>Коммерсантъ. Новости информ. центра, Москва, 23 марта 2017 СМИ: УБИЙЦА ВОРОНЕНКОВА НАХОДИТСЯ В РОЗЫСКЕ ПО ДЕЛУ ОБ О...</td>\n",
       "    </tr>\n",
       "    <tr>\n",
       "      <th>518</th>\n",
       "      <td>9</td>\n",
       "      <td>Коммерсантъ. Новости информ. центра, Москва, 23 марта 2017 МВД УКРАИНЫ ПО ФАКТУ ГИБЕЛИ ВОРОНЕНКОВА ВОЗБУДИЛО ДЕЛО П...</td>\n",
       "    </tr>\n",
       "    <tr>\n",
       "      <th>522</th>\n",
       "      <td>9</td>\n",
       "      <td>Коммерсантъ. Новости информ. центра, Москва, 23 марта 2017 ДЕНИС ВОРОНЕНКОВ БЫЛ УБИТ ИЗ ПИСТОЛЕТА ТТ Установлено ор...</td>\n",
       "    </tr>\n",
       "    <tr>\n",
       "      <th>526</th>\n",
       "      <td>9</td>\n",
       "      <td>Коммерсантъ. Новости информ. центра, Москва, 23 марта 2017 ПОРОШЕНКО НАЗВАЛ УБИЙСТВО ВОРОНЕНКОВА \"АКТОМ ТЕРРОРИЗМА ...</td>\n",
       "    </tr>\n",
       "    <tr>\n",
       "      <th>528</th>\n",
       "      <td>9</td>\n",
       "      <td>Коммерсантъ. Новости информ. центра, Москва, 23 марта 2017 ГЕНПРОКУРАТУРА УКРАИНЫ ПОДОЗРЕВАЕТ РОССИЮ В ПРИЧАСТНОСТИ...</td>\n",
       "    </tr>\n",
       "    <tr>\n",
       "      <th>536</th>\n",
       "      <td>9</td>\n",
       "      <td>Коммерсантъ. Новости информ. центра, Москва, 23 марта 2017 ВЛАДИМИРУ ПУТИНУ ДОЛОЖИЛИ ОБ УБИЙСТВЕ БЫВШЕГО ДЕПУТАТА Д...</td>\n",
       "    </tr>\n",
       "  </tbody>\n",
       "</table>\n",
       "</div>"
      ],
      "text/plain": [
       "     event_id  \\\n",
       "513         9   \n",
       "518         9   \n",
       "522         9   \n",
       "526         9   \n",
       "528         9   \n",
       "536         9   \n",
       "\n",
       "                                                                                                                        text  \n",
       "513   Коммерсантъ. Новости информ. центра, Москва, 23 марта 2017 СМИ: УБИЙЦА ВОРОНЕНКОВА НАХОДИТСЯ В РОЗЫСКЕ ПО ДЕЛУ ОБ О...  \n",
       "518   Коммерсантъ. Новости информ. центра, Москва, 23 марта 2017 МВД УКРАИНЫ ПО ФАКТУ ГИБЕЛИ ВОРОНЕНКОВА ВОЗБУДИЛО ДЕЛО П...  \n",
       "522   Коммерсантъ. Новости информ. центра, Москва, 23 марта 2017 ДЕНИС ВОРОНЕНКОВ БЫЛ УБИТ ИЗ ПИСТОЛЕТА ТТ Установлено ор...  \n",
       "526   Коммерсантъ. Новости информ. центра, Москва, 23 марта 2017 ПОРОШЕНКО НАЗВАЛ УБИЙСТВО ВОРОНЕНКОВА \"АКТОМ ТЕРРОРИЗМА ...  \n",
       "528   Коммерсантъ. Новости информ. центра, Москва, 23 марта 2017 ГЕНПРОКУРАТУРА УКРАИНЫ ПОДОЗРЕВАЕТ РОССИЮ В ПРИЧАСТНОСТИ...  \n",
       "536   Коммерсантъ. Новости информ. центра, Москва, 23 марта 2017 ВЛАДИМИРУ ПУТИНУ ДОЛОЖИЛИ ОБ УБИЙСТВЕ БЫВШЕГО ДЕПУТАТА Д...  "
      ]
     },
     "execution_count": 5,
     "metadata": {},
     "output_type": "execute_result"
    }
   ],
   "source": [
    "df_news[df_news.duplicated()]"
   ]
  },
  {
   "cell_type": "markdown",
   "metadata": {},
   "source": [
    "Таким образом, размер корпуса без дубликатов составляет 1924 новости:"
   ]
  },
  {
   "cell_type": "code",
   "execution_count": 6,
   "metadata": {},
   "outputs": [
    {
     "name": "stdout",
     "output_type": "stream",
     "text": [
      "1924\n"
     ]
    }
   ],
   "source": [
    "df_news = df_news.drop_duplicates()\n",
    "print(len(df_news))"
   ]
  },
  {
   "cell_type": "markdown",
   "metadata": {},
   "source": [
    "### Предобработка текста\n",
    "\n",
    "В данной работе рассматриваются три алгоритма лемматизации, существующие в виде модулей для языка Python:\n",
    "\n",
    "* **pymorphy2**. Анализатор, разработанный Михаилом Коробовым на основе словарей OpenCorpora.\n",
    "* **mystem**. Первый лемматизатор русского языка (2003 год), разработка Ильи Сегаловича и Виталия Титова из компании \"Яндекс\", способен строить леммы для слов, отсутсвующих в словаре алгоритма.\n",
    "* **texterra**. Лемматизатор, разработанный в ИСП РАН, и претендующий на лавры state-of-the-art морфологического анализатора для русского языка. Стоит заметить, что модуль texterra для языка Python не является открытым -- он посылает запросы к API, находящемся на удалённом сервере."
   ]
  },
  {
   "cell_type": "code",
   "execution_count": 8,
   "metadata": {
    "collapsed": true
   },
   "outputs": [],
   "source": [
    "def normalize_with_pymorphy(tokens):\n",
    "    return [morph.parse(word)[0].normal_form for word in tokens]\n",
    "\n",
    "def normalize_with_mystem(tokens):\n",
    "    return ''.join(m.lemmatize(' '.join(tokens))).split()\n",
    "\n",
    "def normalize_with_texterra(tokens):\n",
    "    time.sleep(10)\n",
    "    text = ' '.join(tokens)\n",
    "    return [token[3] for token in list(t.lemmatization(text))[0]]"
   ]
  },
  {
   "cell_type": "markdown",
   "metadata": {},
   "source": [
    "Качество работы различных алгоритмов можно наглядно рассмотреть на задаче разрешения контекстной омономии, используя в качестве примера фразу *\"Поля в поле моет пол и заполнила пол поля\"*. \n",
    "\n",
    "Разобъем это предложение на токены (отдельные значимые единицы, в данном случае являющиеся словами) и применим к токенам рассмотренные алгоритмы леммаизации. Качество решения задачи оценивается с помощью золотого стандарта *\"поля в поле мыть пол и заполнить половина поле\"*, указанного при помощи людей на основе метрики Gestalt Pattern Matching."
   ]
  },
  {
   "cell_type": "code",
   "execution_count": 9,
   "metadata": {
    "collapsed": true
   },
   "outputs": [],
   "source": [
    "tricky_text = 'Поля в поле моет пол и заполнила пол поля'\n",
    "gold_standard_normalized = 'поля в поле мыть пол и заполнить половина поле'"
   ]
  },
  {
   "cell_type": "code",
   "execution_count": 10,
   "metadata": {},
   "outputs": [
    {
     "name": "stdout",
     "output_type": "stream",
     "text": [
      "Pymorphy2: 0.90 (поль в пол мыть половина и заполнить половина поль)\n",
      "MyStem: 0.87 (поле в поле мыть пол и заполнять пол поля)\n",
      "Texterra: 0.88 (поле в поле мывать пол и заполнять пол поле)\n"
     ]
    }
   ],
   "source": [
    "for normalizer, normalize in [('Pymorphy2', normalize_with_pymorphy),\n",
    "                              ('MyStem', normalize_with_mystem),\n",
    "                              ('Texterra', normalize_with_texterra)]:\n",
    "    normalized_text = ' '.join(normalize((alpha_tokenizer.tokenize(tricky_text))))\n",
    "    print('{}: {:0.2f} ({})'.format(normalizer, SequenceMatcher(None, gold_standard_normalized, normalized_text).ratio(), normalized_text))"
   ]
  },
  {
   "cell_type": "markdown",
   "metadata": {},
   "source": [
    "В этом исследовании мы получим три варианта исходного \"сырого текста\", лемматизированного при помощи трёх разных алгоритмов, и проверим, на каком из них какие получатся результаты:"
   ]
  },
  {
   "cell_type": "code",
   "execution_count": 11,
   "metadata": {
    "collapsed": true
   },
   "outputs": [],
   "source": [
    "all_type_of_tokens = {}\n",
    "tokenizers = {'pymorphy': normalize_with_pymorphy, 'texterra': normalize_with_texterra, 'mystem': normalize_with_mystem}"
   ]
  },
  {
   "cell_type": "markdown",
   "metadata": {},
   "source": [
    "Данные предварительно сериализованы в .pickle-файлы для того, чтобы впоследствии к ним можно было обращаться без повторного обращения к лемматизаторам (обработка всего датасета может занимать до 20 минут):"
   ]
  },
  {
   "cell_type": "code",
   "execution_count": null,
   "metadata": {
    "collapsed": true
   },
   "outputs": [],
   "source": [
    "for name, tokenizer in tokenizers.items():\n",
    "    all_texts = []\n",
    "    for text in texts:\n",
    "        text = sub(r'http\\S+', '', text)\n",
    "        tokens = alpha_tokenizer.tokenize(text)\n",
    "        tokens = tokenizer(tokens)\n",
    "        all_texts.append(tokens)\n",
    "    with open('lemmas_from_' + name + '.pickle', 'wb') as f:\n",
    "        pickle.dump(all_texts, f)"
   ]
  },
  {
   "cell_type": "code",
   "execution_count": 13,
   "metadata": {
    "collapsed": true
   },
   "outputs": [],
   "source": [
    "data = {}\n",
    "for filename in glob.iglob('lemmas_from_*.pickle', recursive=True):\n",
    "    with open(filename, 'rb') as f:\n",
    "        data_lemmas = pickle.load(f)\n",
    "        data[path.splitext(path.basename(filename))[0]] = data_lemmas"
   ]
  },
  {
   "cell_type": "markdown",
   "metadata": {},
   "source": [
    "### Векторизация\n",
    "\n",
    "Существует три типа основных метода векторизации текста, которые мы выделяем:\n",
    "\n",
    "* **Матричная факторизация** -- применение алгоритмов сингулярного разложения для понижения размерности матрицы совместной встречаемости, получаемой для слов относительно всего текста (CountVectorizer), либо относительно слов по отношению к документам (Tf-Idf-Vectorizer).\n",
    "* **Эмбеддинги слов**, полученные с помощью дистрибутивных семантических моделей -- алгоритмов, строящих вектора фиксированной размерности, полученных на softmax-слое нейронной сети, максимизирующей вероятность встретить слово на основании его контекста (Continious Bag of Words), либо, наоборот, встретить контекст на основе слова (Skip-Gram).\n",
    "* **Эмбеддинги предложений**, полученные с помощью дистрибутивных моделей, строящих вектора не только для слов, но и для предложений.\n",
    "\n",
    "В данном исследовании с помощью модуля gensim были обучены модели Word2Vec (CBOW) и Doc2Vec (CBOW), использовавшиеся для получения векторов для каждой новости; для каждой модели заранее были подобраны наиболее оптимальные гиперпараметры, при которых была достижима наивысшая оценка по ARI (размер окна, размерность вектора, минимальное число встречаемости слов, выбранный алгоритм, дополнительное использование иерархического софтмакса либо негативного сэмплирования)."
   ]
  },
  {
   "cell_type": "markdown",
   "metadata": {
    "collapsed": true
   },
   "source": [
    "Вектора слов, полученные с помощью Word2Vec, складывались и усреднялись:"
   ]
  },
  {
   "cell_type": "code",
   "execution_count": null,
   "metadata": {
    "collapsed": true
   },
   "outputs": [],
   "source": [
    "num_of_features = 200\n",
    "\n",
    "for name_of_alg, list_of_docs in data.items():\n",
    "    model = gensim.models.Word2Vec(list_of_docs, size=num_of_features, min_count=30, window=30, sg=0, ns=1)\n",
    "    model.save(name_of_alg.replace('lemmas','w2v_model')+'.mdl')\n",
    "    \n",
    "    vectors_list = []\n",
    "    \n",
    "    for text_id in range(len(list_of_docs)):\n",
    "        vector_for_each_text = []\n",
    "        \n",
    "        for word in list_of_docs[text_id]:\n",
    "            try:\n",
    "                featureVec = np.zeros(shape=(1, num_of_features), dtype='float32')\n",
    "                featureVec = np.add(featureVec, model[word])\n",
    "                vector_for_each_text.append(featureVec)\n",
    "            except KeyError:\n",
    "                pass\n",
    "\n",
    "        first_vector = np.array(vector_for_each_text[0])\n",
    "        for i in range(1, len(vector_for_each_text)):\n",
    "            first_vector = np.add(first_vector, vector_for_each_text[i])\n",
    "            \n",
    "        resultVec = np.divide(first_vector, len(vector_for_each_text))\n",
    "        vectors_list.append(resultVec)\n",
    "\n",
    "    vectors_array = np.array(vectors_list[0])\n",
    "    for i in range(1, len(vectors_list)):\n",
    "        vectors_array = np.vstack((vectors_array,vectors_list[i]))\n",
    "\n",
    "    with open(name_of_alg.replace('lemmas', 'vectors_w2v')+ '.pickle', 'wb') as f:\n",
    "            pickle.dump(np.matrix(vectors_array), f)"
   ]
  },
  {
   "cell_type": "markdown",
   "metadata": {},
   "source": [
    "Такая же операция производилась и с Doc2Vec:"
   ]
  },
  {
   "cell_type": "code",
   "execution_count": null,
   "metadata": {
    "collapsed": true
   },
   "outputs": [],
   "source": [
    "for name_of_alg, list_of_docs in data.items():\n",
    "    \n",
    "    sentences = [gensim.models.doc2vec.TaggedDocument(words=list_of_docs[doc], tags=[u'text']) for doc \n",
    "                 in range(len(list_of_docs))]\n",
    "    model = gensim.models.doc2vec.Doc2Vec(sentences, size=num_of_features, min_count=70, window=70)\n",
    "    model.save(name_of_alg.replace('lemmas', 'd2v_model') + '.mdl')\n",
    "    model.delete_temporary_training_data(keep_doctags_vectors=True, keep_inference=True)\n",
    "\n",
    "    vectors_list = []\n",
    "    for text_id in range(len(list_of_docs)):\n",
    "        vector_for_each_text = []\n",
    "        for word in list_of_docs[text_id]:\n",
    "            try:\n",
    "                featureVec = np.zeros(shape=(1, num_of_features), dtype='float32')\n",
    "                featureVec = np.add(featureVec, model[word])\n",
    "                vector_for_each_text.append(featureVec)\n",
    "            except KeyError:\n",
    "                pass\n",
    "        first = np.array(vector_for_each_text[0])\n",
    "\n",
    "        for i in range(1, len(vector_for_each_text)):\n",
    "            first = np.add(first, vector_for_each_text[i])\n",
    "        resultVec = np.divide(first, len(vector_for_each_text))\n",
    "        vectors_list.append(resultVec)\n",
    "\n",
    "    vectors_array = np.array(vectors_list[0])\n",
    "\n",
    "    for i in range(1, len(vectors_list)):\n",
    "        vectors_array = np.vstack((vectors_array, vectors_list[i]))\n",
    "        \n",
    "    with open(name_of_alg.replace('lemmas', 'vectors_d2v') + '.pickle', 'wb') as f:\n",
    "            pickle.dump(np.matrix(vectors_array), f)"
   ]
  },
  {
   "cell_type": "markdown",
   "metadata": {},
   "source": [
    "TF-IDF вектора создавлавись при помощи ```TfIdfVectorizer``` с наиболее оптимально подобранными гиперпараметрами:"
   ]
  },
  {
   "cell_type": "code",
   "execution_count": 48,
   "metadata": {
    "collapsed": true
   },
   "outputs": [],
   "source": [
    "for name in glob.iglob('lemmas_from_*.pickle', recursive=True):\n",
    "    with open(name, 'rb') as g:\n",
    "        lemmas = pickle.load(g)\n",
    "    words_list = [' '.join([word for word in sentence]) for sentence in lemmas]\n",
    "    tf_idf = TfidfVectorizer(ngram_range=(1,3))\n",
    "    with open(name.replace('lemmas', 'vectors_tf-idf') + '.pickle', 'wb') as f:\n",
    "            pickle.dump(tf_idf.fit_transform(words_list), f)"
   ]
  },
  {
   "cell_type": "markdown",
   "metadata": {},
   "source": [
    "### Кластеризация\n",
    "\n",
    "В данном исследовании используются три алгоритма кластеризации, представленные в библиотеке ```scikit-learn```.\n",
    "\n",
    "**Метод k-means** — метод кластеризации, основанный на минимизации суммарного квадратичного отклонения точек кластеров от их центроидов.\n",
    "\n",
    "**Метод Agglomerative Clustering** -- иерархический метод кластеризации, работающий \"снизу вверх\". В нём каждый объект из выборки получает собственный кластер, и далее пары кластеров итеративно объединяются в соответствии с заданными условиями, пока не получится желаемое число кластеров.\n",
    "\n",
    "**Метод Ши-Малика (Spectral Clustering)** -- метод кластеризации, который использует спектр (собственные значения) матрицы подобия данных (количественной оценки относительного сходства каждой пары точек в наборе данных) меньшей размерности. "
   ]
  },
  {
   "cell_type": "code",
   "execution_count": 7,
   "metadata": {
    "collapsed": true
   },
   "outputs": [],
   "source": [
    "list_of_alg = [('KMeans', KMeans),\n",
    "               ('AgglomerativeClustering', AgglomerativeClustering),\n",
    "               ('SpectralClustering', SpectralClustering)]"
   ]
  },
  {
   "cell_type": "markdown",
   "metadata": {},
   "source": [
    "Для оценки в качестве золотого стандарта используются проставленные людьми метки новостей из ```raw_news.csv```. Чтобы проверить качество работы алгоритмов на кластеры, используются следующие метрики:\n",
    "\n",
    "* **Adjusted Rand Index** ((RI - Expected_RI) / (max(RI) - Expected_RI)\n",
    "* **Homogenity** -- результат кластеризации удовлетворяет требованию homogenity, если все его кластеры содержат только точки данных, которые являются членами одного класса.\n",
    "* **Completeness** -- результат кластеризации удовлетворяет требованию completeness, если все точки данных, являющиеся членами данного класса, являются элементами одного и того же кластера.\n",
    "* **V-score** (среднее гармоническое между homogeneity и completeness: V = 2 * (homogeneity * completeness) / (homogeneity + completeness)"
   ]
  },
  {
   "cell_type": "code",
   "execution_count": 49,
   "metadata": {
    "collapsed": true
   },
   "outputs": [],
   "source": [
    "labels = list(df_news.event_id)"
   ]
  },
  {
   "cell_type": "markdown",
   "metadata": {},
   "source": [
    "Итак, для каждого типа лемматизированного текста используются 3 разных класса методов векторизации и 3 разных алгоритма кластеризации. Программный код для реализации этого эксперимента оформляется в виде инструмента ```pipeline``` модуля ```scikit-learn```:"
   ]
  },
  {
   "cell_type": "code",
   "execution_count": 56,
   "metadata": {
    "collapsed": true
   },
   "outputs": [],
   "source": [
    "ari_dict = {}\n",
    "cfm_dict = {}\n",
    "results = defaultdict(lambda: defaultdict(lambda: {}))"
   ]
  },
  {
   "cell_type": "code",
   "execution_count": 57,
   "metadata": {
    "collapsed": true
   },
   "outputs": [],
   "source": [
    "metrics = [('Homogenity', homogeneity_score),\n",
    "          ('Completeness', completeness_score),\n",
    "          ('V-measure', v_measure_score),\n",
    "          ('ARI', adjusted_rand_score)]"
   ]
  },
  {
   "cell_type": "code",
   "execution_count": 58,
   "metadata": {
    "collapsed": true
   },
   "outputs": [],
   "source": [
    "def pipeline_executor(name, data_model, alg, n_clusters=28, verbose=False):\n",
    "    pipeline = Pipeline([('tfidf', TfidfTransformer()),\n",
    "                                 ('svd', TruncatedSVD(n_components=150)),\n",
    "                                 ('norm', Normalizer()),\n",
    "                                 ('clust', alg[1](n_clusters=n_clusters))\n",
    "                                ])\n",
    "    pipeline.fit(data_model)\n",
    "            \n",
    "    explained_variance = pipeline.named_steps['svd'].explained_variance_ratio_.sum()\n",
    "    if verbose:\n",
    "        print('Explained variance of the SVD step: {}%'.format(int(explained_variance * 100)))\n",
    "                        \n",
    "    clust_labels = pipeline.named_steps['clust'].labels_\n",
    "    ari=adjusted_rand_score(labels, clust_labels)\n",
    "    for metric_name, metric in metrics:\n",
    "        results[name][alg[0]][metric_name] = metric(labels, clust_labels)\n",
    "        if verbose:\n",
    "            print('Homogeneity={:0.2f}, Completeness={:0.2f}, V-measure={:0.2f}, ARI={:0.2f}\\n'.format(homogeneity_score(labels, clust_labels),\n",
    "                                  completeness_score(labels, clust_labels),\n",
    "                                v_measure_score(labels, clust_labels),\n",
    "                               ari))\n",
    "    return (ari, confusion_matrix(labels, clust_labels))"
   ]
  },
  {
   "cell_type": "markdown",
   "metadata": {},
   "source": [
    "Итак, для каждого типа лемматизированного текста используются 3 разных класса методов векторизации и 3 разных алгоритма кластеризации. Для последующего построения confusion matrix и определения наиболее результативного алгоритма мы будем хранить получаемые значения в следующем наборе словарей:"
   ]
  },
  {
   "cell_type": "markdown",
   "metadata": {},
   "source": [
    "С помощью заранее сериализованных векторов текстов новостей, полученный с помощью Word2Vec, создавются словари:"
   ]
  },
  {
   "cell_type": "code",
   "execution_count": 59,
   "metadata": {
    "collapsed": true
   },
   "outputs": [],
   "source": [
    "data_models = {}\n",
    "for filename in glob.iglob('vectors_w2v*.pickle', recursive=True):\n",
    "    with open(filename, 'rb') as f:\n",
    "        data_model = pickle.load(f)\n",
    "        data_models[filename.replace('.pickle', '')] = data_model\n",
    "for name, model in data_models.items():\n",
    "    for alg in list_of_alg:\n",
    "        ari, cfm = pipeline_executor(name.replace('_', ' ').capitalize(), model, alg)\n",
    "        ari_dict[ari] = name\n",
    "        cfm_dict[name] = cfm      "
   ]
  },
  {
   "cell_type": "markdown",
   "metadata": {},
   "source": [
    "Аналогичная операция производится с Doc2Vec:"
   ]
  },
  {
   "cell_type": "code",
   "execution_count": 60,
   "metadata": {
    "collapsed": true
   },
   "outputs": [],
   "source": [
    "data_models = {}\n",
    "for filename in glob.iglob('vectors_d2v_*.pickle', recursive=True):\n",
    "    with open(filename, 'rb') as f:\n",
    "        data_model = pickle.load(f)\n",
    "        data_models[filename.replace('.pickle', '')] = data_model\n",
    "for name, model in data_models.items():\n",
    "    for alg in list_of_alg:\n",
    "        ari, cfm = pipeline_executor(name.replace('_', ' ').capitalize(), model, alg)\n",
    "        ari_dict[ari] = name\n",
    "        cfm_dict[name] = cfm"
   ]
  },
  {
   "cell_type": "markdown",
   "metadata": {},
   "source": [
    "И не менее аналогичная операция производится с векторами факторизованной TF-IDF-матрицы:"
   ]
  },
  {
   "cell_type": "code",
   "execution_count": 61,
   "metadata": {
    "collapsed": true
   },
   "outputs": [],
   "source": [
    "data_models = {}\n",
    "for filename in glob.iglob('vectors_tf-idf_*.pickle', recursive=True):\n",
    "    with open(filename, 'rb') as f:\n",
    "        data_model = pickle.load(f)\n",
    "        data_models[filename.replace('.pickle', '')] = data_model\n",
    "for name, model in data_models.items():\n",
    "    for alg in list_of_alg:\n",
    "        ari, cfm = pipeline_executor(name.replace('_', ' ').capitalize(), model, alg)\n",
    "        ari_dict[ari] = name\n",
    "        cfm_dict[name] = cfm"
   ]
  },
  {
   "cell_type": "markdown",
   "metadata": {},
   "source": [
    "Предполагая, что в данной задаче метрика Adjusted Rand Index отражает абсолютное качество, делаем вывод, что наиболее качественную кластеризацию проводят следующие комбинации алгоритмов:"
   ]
  },
  {
   "cell_type": "code",
   "execution_count": 62,
   "metadata": {},
   "outputs": [
    {
     "name": "stdout",
     "output_type": "stream",
     "text": [
      "TOP-3 Resuls:\n",
      "\n",
      "ARI = 0.89 (Algoritm: AgglomerativeClustering, Vectorizer: d2v, Lemmatizer: mystem)\n",
      "ARI = 0.89 (Algoritm: AgglomerativeClustering, Vectorizer: d2v, Lemmatizer: pymorphy)\n",
      "ARI = 0.89 (Algoritm: KMeans, Vectorizer: d2v, Lemmatizer: mystem)\n"
     ]
    }
   ],
   "source": [
    "top_n = 3\n",
    "\n",
    "aris = []\n",
    "for i in results.items():\n",
    "    for j in i[1].items():\n",
    "        for metric_num, res in enumerate(j[1].items()):\n",
    "            if metric_num == 3:\n",
    "                aris.append((res[1], i[0], j[0])) # sorry for this shit, i haven't figured out how to sort dict of dicts of dicts in a pythonic way\n",
    "aris = sorted(aris, reverse=True)\n",
    "print('TOP-{} Resuls:\\n'.format(top_n))\n",
    "for i in range(top_n):\n",
    "    print('ARI = {:0.2f} (Algoritm: {}, Vectorizer: {}, Lemmatizer: {})'.format(aris[i][0], aris[i][2], aris[i][1].split(' ')[1], aris[i][1].split(' ')[-1]))"
   ]
  },
  {
   "cell_type": "markdown",
   "metadata": {},
   "source": [
    "Как можно видеть, наилучший результат был достигнут при векторизации моделью Doc2Vec данных, предобработанных при помощи алгоритма MyStem. При этом MyStem показал высокое качество и при векторизации при использовании в качестве векторизатора факторизованной матрицы TF-IDF; впрочем, Word2Vec-векторизация этих данных не позволила добиться такого же качества решения задачи. Более наглядно полученные результаты характеризует следующая дендрограмма:"
   ]
  },
  {
   "cell_type": "code",
   "execution_count": 63,
   "metadata": {
    "collapsed": true
   },
   "outputs": [],
   "source": [
    "max_ari = aris[0][1].lower().replace(' ', '_')"
   ]
  },
  {
   "cell_type": "code",
   "execution_count": 64,
   "metadata": {},
   "outputs": [
    {
     "data": {
      "image/png": "[encoded data removed]",
      "text/plain": [
       "<matplotlib.figure.Figure at 0xb14fb00>"
      ]
     },
     "metadata": {},
     "output_type": "display_data"
    }
   ],
   "source": [
    "with open('{}.pickle'.format(max_ari), 'rb') as g:\n",
    "    vectors = pickle.load(g)\n",
    "    plt.figure(figsize=(12,6))\n",
    "    z = hac.linkage(vectors, method='ward')\n",
    "    dendro = hac.dendrogram(z)\n",
    "    plt.ylabel('Linkage Distance', fontsize=16)\n",
    "    plt.xlabel('Кластеры', fontsize=16)\n",
    "    for item in dendro.get_xticklabels():\n",
    "        item.set_fontsize(0)\n",
    "        item.set_rotation(10)\n",
    "    plt.tight_layout()\n",
    "    plt.show()"
   ]
  },
  {
   "cell_type": "markdown",
   "metadata": {},
   "source": [
    "Качество работы разных алгоритмов показывает также следующая матрица:"
   ]
  },
  {
   "cell_type": "code",
   "execution_count": 65,
   "metadata": {},
   "outputs": [
    {
     "data": {
      "image/png": "[encoded data removed]",
      "text/plain": [
       "<matplotlib.figure.Figure at 0x103327b8>"
      ]
     },
     "metadata": {},
     "output_type": "display_data"
    }
   ],
   "source": [
    "cm = cfm_dict[max_ari]\n",
    "df_cm = DataFrame(cm)\n",
    "plt.figure(figsize=(12,6))\n",
    "plt.title('Heatmap для кластеров', fontsize=16)\n",
    "sns.heatmap(df_cm, annot=True, cmap=plt.cm.Oranges)\n",
    "plt.show()"
   ]
  },
  {
   "cell_type": "markdown",
   "metadata": {},
   "source": [
    "### Обсуждение\n",
    "\n",
    "Таким образом, в результате исследования было выяснено, что морфологический анализатор MyStem показывает наилучшие результаты в задаче кластеризации. Этот результат был достигнут при помощи алгоритма кластеризации AgglomerativeClustering и векторизатора Doc2Vec, а использование PyMorphy при использовании той же комбинации алгоритмов дало менее высокий результат. Тем не менее, стоит отметить, что результаты по метрике ARI отличаются лишь на тысячные доли; при выводе первых двух знаков после запятой (как это произведено у нас в выводе) результаты выглядят абсолютно одинаковыми -- таким образом, мы делаем вывод, что, скорее всего, выбор алгоритма лемматизации не даст зачимого прироста в качестве."
   ]
  },
  {
   "cell_type": "code",
   "execution_count": 70,
   "metadata": {},
   "outputs": [
    {
     "data": {
      "image/png": "[encoded data removed]",
      "text/plain": [
       "<matplotlib.figure.Figure at 0x222a46d8>"
      ]
     },
     "metadata": {},
     "output_type": "display_data"
    }
   ],
   "source": [
    "plt.figure(figsize=(13,7))\n",
    "bars = sns.barplot([' '.join(entry.split('_')).capitalize() for entry in list(ari_dict.values())], list(ari_dict.keys()), alpha=0.8)\n",
    "plt.ylabel('ARI', fontsize=16)\n",
    "plt.xlabel('Событие', fontsize=16)\n",
    "for item in bars.get_xticklabels():\n",
    "    item.set_fontsize(12)\n",
    "    item.set_rotation(10)\n",
    "plt.show()"
   ]
  },
  {
   "cell_type": "markdown",
   "metadata": {},
   "source": [
    "Итак, в результате исследования были получены довольно высокие результаты по метрикам ARI и V-score -- т.е., полученные результаты говорят нам о том, что в большинстве случаев полученные с помощью алгоритмов метки кластеров были похожи на метки кластеров, проставленные людьми, но при этом пока ничего не понятно о том, действительно ли полученные кластеры будут интерпретируемы. \n",
    "\n",
    "Для этого мы решеили дополнительно провести ещё один эксперимент, разбив данные на 5 кластеров, чтобы проверить действительно ли рассматриваемые нами методы кластеризации способы разбивать документы по тематически схожим категориям:"
   ]
  },
  {
   "cell_type": "code",
   "execution_count": 71,
   "metadata": {
    "collapsed": true
   },
   "outputs": [],
   "source": [
    "pipeline = Pipeline([('tfidf', TfidfTransformer()),\n",
    "                                 ('svd', TruncatedSVD(n_components=150)),\n",
    "                                 ('norm', Normalizer()),\n",
    "                                 ('clust', KMeans(n_clusters=5))\n",
    "                                ])\n",
    "pipeline.fit(vectors)\n",
    "clust_labels = pipeline.named_steps['clust'].labels_"
   ]
  },
  {
   "cell_type": "code",
   "execution_count": 72,
   "metadata": {
    "collapsed": true
   },
   "outputs": [],
   "source": [
    "events_merged = []\n",
    "\n",
    "for event in range(5):\n",
    "    events = set([df_news.event_id.values[i] for i, x in enumerate(clust_labels) if x == event])\n",
    "    events_merged.append(events)"
   ]
  },
  {
   "cell_type": "code",
   "execution_count": 73,
   "metadata": {},
   "outputs": [
    {
     "name": "stdout",
     "output_type": "stream",
     "text": [
      "Кластер 1:\n",
      "\n",
      "1. Юлию Самойлову не пустили на евровидении в Киеве\n",
      "2. SpaceX впервые в истории запустила и посадила уже летавшую ракету-носитель\n",
      "3. Умер Евгений Евтушенко\n",
      "4. Чемпионат мира по хоккею\n",
      "5. Победа Макрона во Франции\n",
      "6. Горячая линия Президента Путина\n",
      "7. Кубок конфедерации FiFA\n",
      "\n",
      "\n",
      "Кластер 2:\n",
      "\n",
      "1. Скоропостижно скончался постпред России при ООН Виталий Чуркин.\n",
      "2. Умер Дэвид рокфеллер\n",
      "3. Юлию Самойлову не пустили на евровидении в Киеве\n",
      "4. В центре Киева был убит бывший депутат Госдумы РФ от КПРФ Денис Вороненков\n",
      "5. Умер Евгений Евтушенко\n",
      "6. Горячая линия Президента Путина\n",
      "\n",
      "\n",
      "Кластер 3:\n",
      "\n",
      "1. Теракт в Барселоне\n",
      "2. Ураган в Москве\n",
      "3. теракт произошел в центре Лондона\n",
      "\n",
      "\n",
      "Кластер 4:\n",
      "\n",
      "1. Власти Петербурга согласились передать РПЦ Исаакиевский собор.\n",
      "2. Дональд Трамп вступил в должность президента США.\n",
      "3. Вышел фильм Навального «он Вам не димон»\n",
      "4. Юлию Самойлову не пустили на евровидении в Киеве\n",
      "5. Митинг в москве против коррупции\n",
      "6. Премьер Медведев выступает перед депутатами Госдумы с отчетом об итогах работы правительства за 2016 год\n",
      "7. Несанкционированные акции в Москве апрель\n",
      "8. Чемпионат мира по хоккею\n",
      "9. Правительство внесло в Госдуму законопроект о курортных сборах\n",
      "10. Митинг против Реновации в Москве\n",
      "11. Акции протеста 12 июня\n",
      "12. Горячая линия Президента Путина\n",
      "13. Кубок конфедерации FiFA\n",
      "14. Единый день голосования\n",
      "\n",
      "\n",
      "Кластер 5:\n",
      "\n",
      "1. Дональд Трамп вступил в должность президента США.\n",
      "2. CNN показала фильм «Владимир Путин — самый влиятельный человек в мире».\n",
      "3. Умер Дэвид рокфеллер\n",
      "4. В центре Киева был убит бывший депутат Госдумы РФ от КПРФ Денис Вороненков\n",
      "5. SpaceX впервые в истории запустила и посадила уже летавшую ракету-носитель\n",
      "6. Тиллерсон посещает Москву и встречается с Путиным\n",
      "7. Путин и Меркель в Сочи\n",
      "8. Победа Макрона во Франции\n",
      "9. Парламентские выборы в Великобритании\n",
      "10. Горячая линия Президента Путина\n",
      "11. Саммит G20\n",
      "12. Единый день голосования\n",
      "\n",
      "\n"
     ]
    }
   ],
   "source": [
    "for cluster_number, events_set in enumerate(events_merged):\n",
    "    print('Кластер {}:\\n'.format(cluster_number + 1))\n",
    "    for event_number, event in enumerate(events_set):\n",
    "        print('{}. {}'.format(event_number + 1, df_events.loc[df_events.index == event]['name'].values[0]))\n",
    "    print('\\n')"
   ]
  },
  {
   "cell_type": "markdown",
   "metadata": {
    "collapsed": true
   },
   "source": [
    "Как видно из полученных данных, некоторые кластеры действительно содержат очень тематически похожие новости: можно заметить выделенный набор новостей про чью-то кончину, набор новостей про митинги и набор новостей про политику. При этом почему-то отдельно выделился кластер из одной новости, а также кластер из достаточно разнородных новостей, которые трудно с первого взгляда отнести в какую-то конкретную категорию. Таким образом, при разбиении множества новостей на меньшее число кластеров (в данном случае на 5), 60% полученных кластеров будут интерпретируемы. В какой-то степени можно считать, что рассмотренные нами алгоритмы работают верно."
   ]
  },
  {
   "cell_type": "markdown",
   "metadata": {},
   "source": [
    "### Заключение\n",
    "\n",
    "Таким образом, в данной работе мы сравнили производительность трёх алгоритмов лемматизации русского языка для 9 разных случаев с использованием разных методов векторизации \"сырого текста\" и разных методов кластеризации. \n",
    "\n",
    "В продолжение данной работы мы предполагаем расширить исследование на сравнение производительности дистрибутивных моделей (GloVe, FastText, StarSpace и т.д.) и дистрибутивно-тематических моделей (Potapenko et al. 2017), использовав задачу кластеризации новостей как downstream task в рамках extrinsic evaluation дистрибутивных моделей. \n",
    "\n",
    "Помимо этого, в будущем мы планируем выполнить вторую и последующие домашки по машинному обучению."
   ]
  },
  {
   "cell_type": "markdown",
   "metadata": {},
   "source": [
    "### Список литературы"
   ]
  },
  {
   "cell_type": "markdown",
   "metadata": {},
   "source": [
    "1. Mikolov T. et al. Distributed representations of words and phrases and their compositionality //Advances in neural information processing systems. – 2013. – С. 3111-3119. \n",
    "2. Le Q., Mikolov T. Distributed representations of sentences and documents //Proceedings of the 31st International Conference on Machine Learning (ICML-14). – 2014. – С. 1188-1196.\n",
    "3. Korobov M. Morphological analyzer and generator for Russian and Ukrainian languages //International Conference on Analysis of Images, Social Networks and Texts. – Springer, Cham, 2015. – С. 320-332.\n",
    "4. Segalovich I. A Fast Morphological Algorithm with Unknown Word Guessing Induced by a Dictionary for a Web Search Engine //MLMTA. – 2003. – С. 273-280.\n",
    "5. Turdakov D. Y. et al. Texterra: A framework for text analysis //Programming and Computer Software. – 2014. – Т. 40. – №. 5. – С. 288-295.\n",
    "6. Kuzmenko E. Morphological analysis for Russian: Integration and comparison of taggers //International Conference on Analysis of Images, Social Networks and Texts. – Springer, Cham, 2016. – С. 162-171."
   ]
  }
 ],
 "metadata": {
  "kernelspec": {
   "display_name": "Python 3",
   "language": "python",
   "name": "python3"
  },
  "language_info": {
   "codemirror_mode": {
    "name": "ipython",
    "version": 3
   },
   "file_extension": ".py",
   "mimetype": "text/x-python",
   "name": "python",
   "nbconvert_exporter": "python",
   "pygments_lexer": "ipython3",
   "version": "3.6.1"
  }
 },
 "nbformat": 4,
 "nbformat_minor": 2
}
