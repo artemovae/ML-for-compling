{
 "cells": [
  {
   "cell_type": "markdown",
   "metadata": {},
   "source": [
    "<h1><center>Машинное обучение. Кластеризация новостных текстов</center></h1>\n",
    "<center>Бакаров Амир, Никишина Ирина, Степачёв Павел </center>\n",
    "<center>Национальный исследовательский университет \"Высшая школа экономики\"</center>"
   ]
  },
  {
   "cell_type": "markdown",
   "metadata": {},
   "source": [
    "**Абстракт**. Лемматизация -- процесс приведения слова к его нормальной форме; этот процесс уникален для каждого языка, поскольку набор словоизменительных аффиксов варьируется от языка к языку. Для русского языка на данный момент существующих три популярных алгоритма лемматизации: pymorphy2, mystem и texterra. При этом не существует исследования, в котором бы рассматривалось влияние выбора алгоритма лемматизации на качество решения задачи кластеризации данных -- процессу разбиения множества объектов на сравнительно однородные группы. Данное исследование призвано заполнить этот пробел в научном знании и посвящено сравению различных алгоритмов лемматизации русского языка в задаче кластеризации набора новостных текстов. Для того, чтобы подтвердить, что зависимость качества кластеризации неразрывано связана с используемым алгоритмом лемматизации, мы используем несколько различных методов векторизации текста и алгоритмов кластеризации. В качестве размеченного датасета мы используем корпус русскоязычных новостных сводок за 2017 год, предоставленный Екатериной Черняк."
   ]
  },
  {
   "cell_type": "markdown",
   "metadata": {},
   "source": [
    "### Введение\n",
    "\n",
    "Кластерный анализ, или кластеризация (cluster analysis) — один из возможных классов задач в машинном обучении (наряду с классификацией, регрессией и определением аномалией), сводящийся к разбиению неоднородного множества объектов в сравнительно однородные группы. В обработке естественного языка кластеризация обычно используется для автоматического выделения из множества документов тематически схожих без использования обучающей выборки -- к примеру, для разделения новостей на группы в новостных аггрегаторах.\n",
    "\n",
    "Существенная особенность задач по обработке естественного языка (по сравению с другими задачами машинного обучения) заключается в том, что данные представлены в \"сыром виде\", и качество решения задачи напрямую зависит от выбранного метода преобразования данных в числовой вид. При этом известно, что качество решения задачи повысится, если применить к \"сырому тексту\" процедуры, удаляющие из текста шум. Одним из примеров такого шума может выступать излишнее многообразие словоформ -- разных форм одного и того же слова. Процедура, приводящая слоформы к одному и тому же слову, называется лемматизацией. Для русского языка существует три алгоритма лемматизации: pymorphy2, mystem и texterra. При этом неизвестно, каким образом эти алгоритмы влияют на качество кластеризации. Целью данного исследования и является выявление производительности этих алгоритмов в задаче кластеризации. Данная работа является первой работой, в которой рассматривается зависимость успешности решения задачи кластеризации для русского языка от используемого алгоритма лемматизации; в этом факте и заключается научная новизна данного исследования.\n",
    "\n",
    "Работа устроена следующим образом. В разделе 1 рассматриваются особенности корпуса Екатерины Черняк. В разделе 2 описываются используемые алгоритмы лемматизации. В разделе 3 приводится обзор существующих классов алгоритмов векторизации \"сырого текста\", в то время как раздел 4 посвящен алгоритмам кластеризации и метрикам оценки качества. В разделе 5 обсуждаются полученные результаты, и раздел 6 завершает статью."
   ]
  },
  {
   "cell_type": "markdown",
   "metadata": {},
   "source": [
    "Все эксперименты в данном исследовании проводятся на языке программирования Python 3.6.3 с использованием следующих библиотек: "
   ]
  },
  {
   "cell_type": "code",
   "execution_count": 134,
   "metadata": {
    "collapsed": true
   },
   "outputs": [],
   "source": [
    "from os import path\n",
    "import glob\n",
    "import pickle\n",
    "import gensim\n",
    "import numpy as np\n",
    "import time\n",
    "\n",
    "from nltk.tokenize import RegexpTokenizer, word_tokenize\n",
    "from re import sub\n",
    "\n",
    "from pandas import DataFrame, options\n",
    "\n",
    "from pymystem3 import Mystem\n",
    "import texterra\n",
    "from pymorphy2 import MorphAnalyzer\n",
    "import pandas\n",
    "\n",
    "import codecs\n",
    "import csv\n",
    "from sklearn.feature_extraction.text import TfidfVectorizer\n",
    "from sklearn.decomposition import TruncatedSVD\n",
    "from sklearn.preprocessing import Normalizer\n",
    "from sklearn.metrics import *\n",
    "from sklearn.cluster import *\n",
    "from sklearn.pipeline import Pipeline\n",
    "from sklearn.feature_extraction.text import *\n",
    "import scipy.cluster.hierarchy as hac\n",
    "\n",
    "import matplotlib.pyplot as plt\n",
    "import seaborn as sns\n",
    "\n",
    "from difflib import SequenceMatcher\n",
    "\n",
    "API_KEY = '9988cfb979b80264baeba1386cc7e455f99f943c'\n",
    "\n",
    "morph = MorphAnalyzer()\n",
    "m = Mystem()\n",
    "t = texterra.API(API_KEY)\n",
    "alpha_tokenizer = RegexpTokenizer('\\w+')"
   ]
  },
  {
   "cell_type": "markdown",
   "metadata": {},
   "source": [
    "### Анализ данных\n",
    "\n",
    "Новостной корпус Екатерины Черняк представлен данными в файлах 'events.csv' (заголовки новостных событий) и 'raw_news.csv' (тексты новостей с метками событий):"
   ]
  },
  {
   "cell_type": "code",
   "execution_count": 178,
   "metadata": {
    "collapsed": true
   },
   "outputs": [],
   "source": [
    "df_events = DataFrame.from_csv('events.csv')\n",
    "df_news = DataFrame.from_csv('raw_news.csv')\n",
    "texts = list(df_news.text.values)"
   ]
  },
  {
   "cell_type": "markdown",
   "metadata": {},
   "source": [
    "Данные имеют вид таблицы из двух столбцов -- текста новости и метки события, о котором в нём идет речь."
   ]
  },
  {
   "cell_type": "code",
   "execution_count": 3,
   "metadata": {},
   "outputs": [
    {
     "data": {
      "text/html": [
       "<div>\n",
       "<style>\n",
       "    .dataframe thead tr:only-child th {\n",
       "        text-align: right;\n",
       "    }\n",
       "\n",
       "    .dataframe thead th {\n",
       "        text-align: left;\n",
       "    }\n",
       "\n",
       "    .dataframe tbody tr th {\n",
       "        vertical-align: top;\n",
       "    }\n",
       "</style>\n",
       "<table border=\"1\" class=\"dataframe\">\n",
       "  <thead>\n",
       "    <tr style=\"text-align: right;\">\n",
       "      <th></th>\n",
       "      <th>event_id</th>\n",
       "      <th>text</th>\n",
       "    </tr>\n",
       "  </thead>\n",
       "  <tbody>\n",
       "    <tr>\n",
       "      <th>0</th>\n",
       "      <td>1</td>\n",
       "      <td>В ПЕТЕРБУРГЕ ПРОШЕЛ МИТИНГ ПРОТИВ ПЕРЕДАЧИ ИСААКИЕВСКОГО СОБОРА РПЦ В Санкт-Петербурге люди устроили акцию протеста...</td>\n",
       "    </tr>\n",
       "    <tr>\n",
       "      <th>1</th>\n",
       "      <td>1</td>\n",
       "      <td>Lenta.co, Москва, 14 января 2017 СИТУАЦИЯ С ПЕРЕДАЧЕЙ ИСААКИЕВСКОГО СОБОРА В ВЕДЕНИЕ РПЦ. ИСТОРИЯ СОБОРА Читать ори...</td>\n",
       "    </tr>\n",
       "    <tr>\n",
       "      <th>2</th>\n",
       "      <td>1</td>\n",
       "      <td>Аргументы и Факты (aif.ru), Москва, 14 января 2017 ОППОЗИЦИЯ ПРОВЕЛА МИТИНГ ПРОТИВ ПЕРЕДАЧИ ИСААКИЕВСКОГО СОБОРА РП...</td>\n",
       "    </tr>\n",
       "    <tr>\n",
       "      <th>3</th>\n",
       "      <td>1</td>\n",
       "      <td>Google Новости ТОП, Москва, 14 января 2017 АКЦИЯ ПРОТИВ ПЕРЕДАЧИ ИСААКИЕВСКОГО СОБОРА РПЦ ПРОШЛА БЕЗ НАРУШЕНИЙ Моск...</td>\n",
       "    </tr>\n",
       "    <tr>\n",
       "      <th>4</th>\n",
       "      <td>1</td>\n",
       "      <td>Газета.Ru, Москва, 13 января 2017 В МОСКОВСКОЙ ПАТРИАРХИИ ПРОКОММЕНТИРОВАЛИ ПЕРЕДАЧУ ИСААКИЕВСКОГО СОБОРА РПЦ Руков...</td>\n",
       "    </tr>\n",
       "  </tbody>\n",
       "</table>\n",
       "</div>"
      ],
      "text/plain": [
       "   event_id  \\\n",
       "0         1   \n",
       "1         1   \n",
       "2         1   \n",
       "3         1   \n",
       "4         1   \n",
       "\n",
       "                                                                                                                      text  \n",
       "0   В ПЕТЕРБУРГЕ ПРОШЕЛ МИТИНГ ПРОТИВ ПЕРЕДАЧИ ИСААКИЕВСКОГО СОБОРА РПЦ В Санкт-Петербурге люди устроили акцию протеста...  \n",
       "1   Lenta.co, Москва, 14 января 2017 СИТУАЦИЯ С ПЕРЕДАЧЕЙ ИСААКИЕВСКОГО СОБОРА В ВЕДЕНИЕ РПЦ. ИСТОРИЯ СОБОРА Читать ори...  \n",
       "2   Аргументы и Факты (aif.ru), Москва, 14 января 2017 ОППОЗИЦИЯ ПРОВЕЛА МИТИНГ ПРОТИВ ПЕРЕДАЧИ ИСААКИЕВСКОГО СОБОРА РП...  \n",
       "3   Google Новости ТОП, Москва, 14 января 2017 АКЦИЯ ПРОТИВ ПЕРЕДАЧИ ИСААКИЕВСКОГО СОБОРА РПЦ ПРОШЛА БЕЗ НАРУШЕНИЙ Моск...  \n",
       "4   Газета.Ru, Москва, 13 января 2017 В МОСКОВСКОЙ ПАТРИАРХИИ ПРОКОММЕНТИРОВАЛИ ПЕРЕДАЧУ ИСААКИЕВСКОГО СОБОРА РПЦ Руков...  "
      ]
     },
     "execution_count": 3,
     "metadata": {},
     "output_type": "execute_result"
    }
   ],
   "source": [
    "options.display.max_colwidth = 120\n",
    "df_news.head()"
   ]
  },
  {
   "cell_type": "markdown",
   "metadata": {},
   "source": [
    "Таким образом, каждая новость представлена в виде фрагмента текста и имеет метку о принадлежности к определенному событию. Одному событию может соотвествовать несколько новостей, но каждая новости ассоциировано только одно событие; диаграмма ниже показывает, как распределены события по новостям:"
   ]
  },
  {
   "cell_type": "code",
   "execution_count": 13,
   "metadata": {},
   "outputs": [
    {
     "data": {
      "image/png": "[encoded data removed]",
      "text/plain": [
       "<matplotlib.figure.Figure at 0x11da70588>"
      ]
     },
     "metadata": {},
     "output_type": "display_data"
    }
   ],
   "source": [
    "events = df_news.event_id.value_counts()\n",
    "plt.figure(figsize=(12,6))\n",
    "sns.barplot(events.index, events.values, alpha=0.8)\n",
    "plt.ylabel('Число новостей в событии', fontsize=16)\n",
    "plt.xlabel('Событие', fontsize=16)\n",
    "plt.show();"
   ]
  },
  {
   "cell_type": "markdown",
   "metadata": {},
   "source": [
    "Рассмотрим распределение новостей по числу токенов в её тексте. Как видно, подавляющее большинство новостей содержит достаточно малое число токенов:"
   ]
  },
  {
   "cell_type": "code",
   "execution_count": 21,
   "metadata": {},
   "outputs": [
    {
     "data": {
      "image/png": "[encoded data removed]",
      "text/plain": [
       "<matplotlib.figure.Figure at 0x11d4c9fd0>"
      ]
     },
     "metadata": {},
     "output_type": "display_data"
    }
   ],
   "source": [
    "plt.figure(figsize=(12,6))\n",
    "sns.distplot(df_news.text.apply(lambda string: len(word_tokenize(string))), bins=100, rug=False, hist=False, color='pink')\n",
    "plt.ylabel('Распределение новостей', fontsize=16)\n",
    "plt.xlabel('Число токенов в тексте новости', fontsize=16)\n",
    "plt.show()"
   ]
  },
  {
   "cell_type": "markdown",
   "metadata": {},
   "source": [
    "Корпус также содержит дубликаты некоторых новостей (6 одинаковых объектов):"
   ]
  },
  {
   "cell_type": "code",
   "execution_count": 179,
   "metadata": {},
   "outputs": [
    {
     "data": {
      "text/html": [
       "<div>\n",
       "<style>\n",
       "    .dataframe thead tr:only-child th {\n",
       "        text-align: right;\n",
       "    }\n",
       "\n",
       "    .dataframe thead th {\n",
       "        text-align: left;\n",
       "    }\n",
       "\n",
       "    .dataframe tbody tr th {\n",
       "        vertical-align: top;\n",
       "    }\n",
       "</style>\n",
       "<table border=\"1\" class=\"dataframe\">\n",
       "  <thead>\n",
       "    <tr style=\"text-align: right;\">\n",
       "      <th></th>\n",
       "      <th>event_id</th>\n",
       "      <th>text</th>\n",
       "    </tr>\n",
       "  </thead>\n",
       "  <tbody>\n",
       "    <tr>\n",
       "      <th>513</th>\n",
       "      <td>9</td>\n",
       "      <td>Коммерсантъ. Новости информ. центра, Москва, 23 марта 2017 СМИ: УБИЙЦА ВОРОНЕНКОВА НАХОДИТСЯ В РОЗЫСКЕ ПО ДЕЛУ ОБ О...</td>\n",
       "    </tr>\n",
       "    <tr>\n",
       "      <th>518</th>\n",
       "      <td>9</td>\n",
       "      <td>Коммерсантъ. Новости информ. центра, Москва, 23 марта 2017 МВД УКРАИНЫ ПО ФАКТУ ГИБЕЛИ ВОРОНЕНКОВА ВОЗБУДИЛО ДЕЛО П...</td>\n",
       "    </tr>\n",
       "    <tr>\n",
       "      <th>522</th>\n",
       "      <td>9</td>\n",
       "      <td>Коммерсантъ. Новости информ. центра, Москва, 23 марта 2017 ДЕНИС ВОРОНЕНКОВ БЫЛ УБИТ ИЗ ПИСТОЛЕТА ТТ Установлено ор...</td>\n",
       "    </tr>\n",
       "    <tr>\n",
       "      <th>526</th>\n",
       "      <td>9</td>\n",
       "      <td>Коммерсантъ. Новости информ. центра, Москва, 23 марта 2017 ПОРОШЕНКО НАЗВАЛ УБИЙСТВО ВОРОНЕНКОВА \"АКТОМ ТЕРРОРИЗМА ...</td>\n",
       "    </tr>\n",
       "    <tr>\n",
       "      <th>528</th>\n",
       "      <td>9</td>\n",
       "      <td>Коммерсантъ. Новости информ. центра, Москва, 23 марта 2017 ГЕНПРОКУРАТУРА УКРАИНЫ ПОДОЗРЕВАЕТ РОССИЮ В ПРИЧАСТНОСТИ...</td>\n",
       "    </tr>\n",
       "    <tr>\n",
       "      <th>536</th>\n",
       "      <td>9</td>\n",
       "      <td>Коммерсантъ. Новости информ. центра, Москва, 23 марта 2017 ВЛАДИМИРУ ПУТИНУ ДОЛОЖИЛИ ОБ УБИЙСТВЕ БЫВШЕГО ДЕПУТАТА Д...</td>\n",
       "    </tr>\n",
       "  </tbody>\n",
       "</table>\n",
       "</div>"
      ],
      "text/plain": [
       "     event_id  \\\n",
       "513         9   \n",
       "518         9   \n",
       "522         9   \n",
       "526         9   \n",
       "528         9   \n",
       "536         9   \n",
       "\n",
       "                                                                                                                        text  \n",
       "513   Коммерсантъ. Новости информ. центра, Москва, 23 марта 2017 СМИ: УБИЙЦА ВОРОНЕНКОВА НАХОДИТСЯ В РОЗЫСКЕ ПО ДЕЛУ ОБ О...  \n",
       "518   Коммерсантъ. Новости информ. центра, Москва, 23 марта 2017 МВД УКРАИНЫ ПО ФАКТУ ГИБЕЛИ ВОРОНЕНКОВА ВОЗБУДИЛО ДЕЛО П...  \n",
       "522   Коммерсантъ. Новости информ. центра, Москва, 23 марта 2017 ДЕНИС ВОРОНЕНКОВ БЫЛ УБИТ ИЗ ПИСТОЛЕТА ТТ Установлено ор...  \n",
       "526   Коммерсантъ. Новости информ. центра, Москва, 23 марта 2017 ПОРОШЕНКО НАЗВАЛ УБИЙСТВО ВОРОНЕНКОВА \"АКТОМ ТЕРРОРИЗМА ...  \n",
       "528   Коммерсантъ. Новости информ. центра, Москва, 23 марта 2017 ГЕНПРОКУРАТУРА УКРАИНЫ ПОДОЗРЕВАЕТ РОССИЮ В ПРИЧАСТНОСТИ...  \n",
       "536   Коммерсантъ. Новости информ. центра, Москва, 23 марта 2017 ВЛАДИМИРУ ПУТИНУ ДОЛОЖИЛИ ОБ УБИЙСТВЕ БЫВШЕГО ДЕПУТАТА Д...  "
      ]
     },
     "execution_count": 179,
     "metadata": {},
     "output_type": "execute_result"
    }
   ],
   "source": [
    "df_news[df_news.duplicated()]"
   ]
  },
  {
   "cell_type": "markdown",
   "metadata": {},
   "source": [
    "Таким образом, размер корпуса без дубликатов составляет 1924 новости:"
   ]
  },
  {
   "cell_type": "code",
   "execution_count": 5,
   "metadata": {},
   "outputs": [
    {
     "name": "stdout",
     "output_type": "stream",
     "text": [
      "1924\n"
     ]
    }
   ],
   "source": [
    "df_news = df_news.drop_duplicates()\n",
    "print(len(df_news))"
   ]
  },
  {
   "cell_type": "markdown",
   "metadata": {},
   "source": [
    "### Предобработка текста\n",
    "\n",
    "В данной работе рассматриваются три алгоритма лемматизации, существующие в виде модулей для языка Python:\n",
    "\n",
    "* pymorphy2 \n",
    "* mystem\n",
    "* texterra\n",
    "\n",
    "Стоит заметить, что texterra не является открытым модулем, и посылает запросы к API, находящемся на удалённом сервере."
   ]
  },
  {
   "cell_type": "code",
   "execution_count": 4,
   "metadata": {
    "collapsed": true
   },
   "outputs": [],
   "source": [
    "def normalize_with_pymorphy(tokens):\n",
    "    return [morph.parse(word)[0].normal_form for word in tokens]\n",
    "\n",
    "def normalize_with_mystem(tokens):\n",
    "    return ''.join(m.lemmatize(' '.join(tokens))).split()\n",
    "\n",
    "def normalize_with_texterra(tokens):\n",
    "    time.sleep(10)\n",
    "    text = ' '.join(tokens)\n",
    "    return [token[3] for token in list(t.lemmatization(text))[0]]"
   ]
  },
  {
   "cell_type": "markdown",
   "metadata": {},
   "source": [
    "Качество работы различных алгоритмов можно наглядно рассмотреть на задаче разрешения контекстной омономии, используя в качестве примера фразу *\"Поля в поле моет пол и заполнила пол поля\"*. Разобъем это предложение на токены (отдельные значимые единицы, в данном случае являющиеся словами) и применим к токенам рассмотренные алгоритмы леммаизации. Качество решения задачи оценивается с помощью золотого стандарта 'поля в поле мыть пол и заполнить половина поле', указанного при помощи людей на основе метрики Gestalt Pattern Matching."
   ]
  },
  {
   "cell_type": "code",
   "execution_count": null,
   "metadata": {
    "collapsed": true
   },
   "outputs": [],
   "source": [
    "tricky_text = 'Поля в поле моет пол и заполнила пол поля'\n",
    "gold_standard_normalized = 'поля в поле мыть пол и заполнить половина поле'"
   ]
  },
  {
   "cell_type": "code",
   "execution_count": 9,
   "metadata": {},
   "outputs": [
    {
     "name": "stdout",
     "output_type": "stream",
     "text": [
      "Pymorphy2: 0.90 (поль в пол мыть половина и заполнить половина поль)\n",
      "MyStem: 0.87 (поле в поле мыть пол и заполнять пол поля)\n",
      "Texterra: 0.88 (поле в поле мывать пол и заполнять пол поле)\n"
     ]
    }
   ],
   "source": [
    "for normalizer, normalize in [('Pymorphy2', normalize_with_pymorphy),\n",
    "                              ('MyStem', normalize_with_mystem),\n",
    "                              ('Texterra', normalize_with_texterra)]:\n",
    "    normalized_text = ' '.join(normalize((alpha_tokenizer.tokenize(tricky_text))))\n",
    "    print('{}: {:0.2f} ({})'.format(normalizer, SequenceMatcher(None, gold_standard_normalized, normalized_text).ratio(), normalized_text))"
   ]
  },
  {
   "cell_type": "markdown",
   "metadata": {},
   "source": [
    "В этом исследовании мы получим три варианта исходного \"сырого текста\", лемматизированного при помощи трёх разных алгоритмов, и проверим, на каком из них какие получатся результаты:"
   ]
  },
  {
   "cell_type": "code",
   "execution_count": 6,
   "metadata": {
    "collapsed": true
   },
   "outputs": [],
   "source": [
    "all_type_of_tokens = {}\n",
    "tokenizers = {'pymorphy': normalize_with_pymorphy, 'texterra': normalize_with_texterra, 'mystem': normalize_with_mystem}"
   ]
  },
  {
   "cell_type": "markdown",
   "metadata": {},
   "source": [
    "Данные предварительно сериализованы в .pickle-файлы для того, чтобы впоследствии к ним можно было удобно обращаться:"
   ]
  },
  {
   "cell_type": "code",
   "execution_count": null,
   "metadata": {
    "collapsed": true
   },
   "outputs": [],
   "source": [
    "for name, tokenizer in tokenizers.items():\n",
    "    all_texts = []\n",
    "    for text in texts:\n",
    "        text = sub(r'http\\S+', '', text)\n",
    "        tokens = alpha_tokenizer.tokenize(text)\n",
    "        tokens = tokenizer(tokens)\n",
    "        all_texts.append(tokens)\n",
    "    with open('tokens_from_' + name + '.pickle', 'wb') as f:\n",
    "        pickle.dump(all_texts, f)"
   ]
  },
  {
   "cell_type": "code",
   "execution_count": 8,
   "metadata": {
    "collapsed": true
   },
   "outputs": [],
   "source": [
    "data = {}\n",
    "for filename in glob.iglob('lemmas_from_*.pickle', recursive=True):\n",
    "    with open(filename, 'rb') as f:\n",
    "        data_lemmas = pickle.load(f)\n",
    "        data[path.splitext(path.basename(filename))[0]] = data_lemmas"
   ]
  },
  {
   "cell_type": "markdown",
   "metadata": {},
   "source": [
    "### Векторизация\n",
    "\n",
    "Существует три типа основных метода векторизации, которые мы выделяем:\n",
    "\n",
    "* Матричная факторизация (применение алгоритмов LSA или SVD для понижения размерности матрицы совместной встречаемости, получаемой для слов относительно всего текста (CountVectorizer), либо относительно слов по отношению к документам (Tf-Idf-Vectorizer))\n",
    "* Дистрибутивные семантические модели, эмбеддинги слов (алгоритмы, строящие вектора фиксированной размерности, полученные на softmax-слое нейронной сети, максимизирующей вероятность встретить слово на основании его контекста (Continious Bag of Words), либо, наоборот, встретить контекст на основе слова (Skip-Gram))\n",
    "* Эмбеддинги предложений (алгоритмы, строящие вектора не только для слов, но и для предложений)\n",
    "\n",
    "В данном исследовании с помощью модуля gensim были обучены модели Word2Vec (CBOW) и Doc2Vec, использовавшиеся для получения векторов для каждой новости:"
   ]
  },
  {
   "cell_type": "markdown",
   "metadata": {
    "collapsed": true
   },
   "source": [
    "Вектора слов, полученные с помощью Word2Vec, складывались и усреднялись:"
   ]
  },
  {
   "cell_type": "code",
   "execution_count": null,
   "metadata": {
    "collapsed": true
   },
   "outputs": [],
   "source": [
    "num_of_features = 200\n",
    "\n",
    "for name_of_alg, list_of_docs in data.items():\n",
    "    model = gensim.models.Word2Vec(list_of_docs, size=num_of_features, min_count=30, window=30)\n",
    "    model.save(name_of_alg.replace('lemmas','w2v_model2')+'.mdl')\n",
    "    \n",
    "    vectors_list = []\n",
    "    \n",
    "    for text_id in range(len(list_of_docs)):\n",
    "        vector_for_each_text = []\n",
    "        \n",
    "        for word in list_of_docs[text_id]:\n",
    "            try:\n",
    "                featureVec = np.zeros(shape=(1, num_of_features), dtype='float32')\n",
    "                featureVec = np.add(featureVec, model[word])\n",
    "                vector_for_each_text.append(featureVec)\n",
    "            except KeyError:\n",
    "                pass\n",
    "\n",
    "        first_vector = np.array(vector_for_each_text[0])\n",
    "        for i in range(1, len(vector_for_each_text)):\n",
    "            first_vector = np.add(first_vector, vector_for_each_text[i])\n",
    "            \n",
    "        resultVec = np.divide(first_vector, len(vector_for_each_text))\n",
    "        vectors_list.append(resultVec)\n",
    "\n",
    "    vectors_array = np.array(vectors_list[0])\n",
    "    for i in range(1, len(vectors_list)):\n",
    "        vectors_array = np.vstack((vectors_array,vectors_list[i]))\n",
    "\n",
    "    with open(name_of_alg.replace('lemmas', 'vectors2')+ '.pickle', 'wb') as f:\n",
    "            pickle.dump(np.matrix(vectors_array), f)"
   ]
  },
  {
   "cell_type": "markdown",
   "metadata": {},
   "source": [
    "Такая же операция производилась и с Doc2Vec:"
   ]
  },
  {
   "cell_type": "code",
   "execution_count": null,
   "metadata": {
    "collapsed": true
   },
   "outputs": [],
   "source": [
    "for name_of_alg, list_of_docs in data.items():\n",
    "    \n",
    "    sentences = [gensim.models.doc2vec.TaggedDocument(words=list_of_docs[doc], tags=[u'text']) for doc \n",
    "                 in range(len(list_of_docs))]\n",
    "    model = gensim.models.doc2vec.Doc2Vec(sentences, size=num_of_features, min_count=70, window=70)\n",
    "    model.save(name_of_alg.replace('lemmas', 'd2v_model') + '.mdl')\n",
    "    model.delete_temporary_training_data(keep_doctags_vectors=True, keep_inference=True)\n",
    "\n",
    "    vectors_list = []\n",
    "    for text_id in range(len(list_of_docs)):\n",
    "        vector_for_each_text = []\n",
    "        for word in list_of_docs[text_id]:\n",
    "            try:\n",
    "                featureVec = np.zeros(shape=(1, num_of_features), dtype='float32')\n",
    "                featureVec = np.add(featureVec, model[word])\n",
    "                vector_for_each_text.append(featureVec)\n",
    "            except KeyError:\n",
    "                pass\n",
    "        first = np.array(vector_for_each_text[0])\n",
    "\n",
    "        for i in range(1, len(vector_for_each_text)):\n",
    "            first = np.add(first, vector_for_each_text[i])\n",
    "        resultVec = np.divide(first, len(vector_for_each_text))\n",
    "        vectors_list.append(resultVec)\n",
    "\n",
    "    vectors_array = np.array(vectors_list[0])\n",
    "\n",
    "    for i in range(1, len(vectors_list)):\n",
    "        vectors_array = np.vstack((vectors_array, vectors_list[i]))\n",
    "        \n",
    "    with open(name_of_alg.replace('lemmas', 'vectors_d2v') + '.pickle', 'wb') as f:\n",
    "            pickle.dump(np.matrix(vectors_array), f)"
   ]
  },
  {
   "cell_type": "markdown",
   "metadata": {},
   "source": [
    "### Кластеризация\n",
    "\n",
    "В данном исследовании используются три алгоритма кластеризации, представленные в библиотеке ```scikit-learn```.\n",
    "\n",
    "**Метод k-means** — метод кластеризации, основанный на минимизации суммарного квадратичного отклонения точек кластеров от их центроидов:\n",
    "${\\displaystyle V=\\sum _{i=1}^{k}\\sum _{x_{j}\\in S_{i}}(x_{j}-\\mu _{i})^{2}} V=\\sum _{i=1}^{k}\\sum _{x_{j}\\in S_{i}}(x_{j}-\\mu _{i})^{2}$\n",
    "где $k$ — число кластеров, $S_{i}$ — полученные кластеры, $i=1,2,\\dots ,k$ и $\\mu _{i}$ — центры масс векторов $x_{j}\\in S_{i}$.\n",
    "\n",
    "**Метод Agglomerative Clustering** -- иерархический метод кластеризации, работающий \"снизу вверх\". В нём каждый объект из выборки получает собственный кластер, и далее пары кластеров итеративно объединяются в соответствии с заданными условиями, пока не получится желаемое число кластеров.\n",
    "\n",
    "**Метод Ши-Малика (Spectral Clustering)** -- метод кластеризации, который использует спектр (собственные значения) матрицы подобия данных (количественной оценки относительного сходства каждой пары точек в наборе данных) меньшей размерности. "
   ]
  },
  {
   "cell_type": "code",
   "execution_count": 9,
   "metadata": {
    "collapsed": true
   },
   "outputs": [],
   "source": [
    "list_of_alg = [KMeans, AgglomerativeClustering, SpectralClustering]"
   ]
  },
  {
   "cell_type": "markdown",
   "metadata": {},
   "source": [
    "Для оценки в качестве золотого стандарта используются проставленные людьми метки новостей из ```raw_news.csv```. Чтобы проверить качество работы алгоритмов на кластеры, используются следующие метрики:\n",
    "\n",
    "* **Adjusted Rand Index** ((RI - Expected_RI) / (max(RI) - Expected_RI)\n",
    "* **Homogenity** -- результат кластеризации удовлетворяет требованию homogenity, если все его кластеры содержат только точки данных, которые являются членами одного класса.\n",
    "* **Completeness** -- результат кластеризации удовлетворяет требованию completeness, если все точки данных, являющиеся членами данного класса, являются элементами одного и того же кластера.\n",
    "* **V-score** (среднее гармоническое между homogeneity и completeness: V = 2 * (homogeneity * completeness) / (homogeneity + completeness)"
   ]
  },
  {
   "cell_type": "code",
   "execution_count": 82,
   "metadata": {
    "collapsed": true
   },
   "outputs": [],
   "source": [
    "labels = list(df_news.event_id)"
   ]
  },
  {
   "cell_type": "markdown",
   "metadata": {},
   "source": [
    "Итак, для каждого типа лемматизированного текста используются 3 разных класса методов векторизации и 3 разных алгоритма кластеризации. Программный код для реализации этого эксперимента оформляется в виде инструмента ```pipeline``` модуля ```scikit-learn```:"
   ]
  },
  {
   "cell_type": "code",
   "execution_count": 252,
   "metadata": {
    "collapsed": true
   },
   "outputs": [],
   "source": [
    "def pipeline_executor(data_model, alg, n_clusters=28):\n",
    "    pipeline = Pipeline([('tfidf', TfidfTransformer()),\n",
    "                                 ('svd', TruncatedSVD(n_components=150)),\n",
    "                                 ('norm', Normalizer()),\n",
    "                                 ('clust', alg(n_clusters=n_clusters))\n",
    "                                ])\n",
    "    pipeline.fit(data_model)\n",
    "            \n",
    "    explained_variance = pipeline.named_steps['svd'].explained_variance_ratio_.sum()\n",
    "    print(\"Explained variance of the SVD step: {}%\".format(int(explained_variance * 100)))\n",
    "                        \n",
    "    clust_labels = pipeline.named_steps['clust'].labels_\n",
    "\n",
    "    print(\"Homogeneity:\", homogeneity_score(labels, clust_labels))\n",
    "    print(\"Completeness:\", completeness_score(labels, clust_labels))\n",
    "    print(\"V-measure\",  v_measure_score(labels, clust_labels))\n",
    "    ari= adjusted_rand_score(labels, clust_labels)\n",
    "    print(\"Adjusted Rand-Index:\",  ari)\n",
    "    print('==============')\n",
    "    return (ari, confusion_matrix(labels, clust_labels))\n",
    "    "
   ]
  },
  {
   "cell_type": "markdown",
   "metadata": {},
   "source": [
    "Итак, для каждого типа лемматизированного текста используются 3 разных класса методов векторизации и 3 разных алгоритма кластеризации. Программный код для реализации этого эксперимента оформляется в виде инструмента ```pipeline``` модуля ```scikit-learn```:"
   ]
  },
  {
   "cell_type": "code",
   "execution_count": 222,
   "metadata": {
    "collapsed": true
   },
   "outputs": [],
   "source": [
    "ari_dict = {}\n",
    "cfm_dict = {}"
   ]
  },
  {
   "cell_type": "markdown",
   "metadata": {},
   "source": [
    "С помощью заранее сериализованных векторов текстов новостей, полученный с помощью Word2Vec, создавются словари:"
   ]
  },
  {
   "cell_type": "code",
   "execution_count": 223,
   "metadata": {},
   "outputs": [
    {
     "name": "stdout",
     "output_type": "stream",
     "text": [
      "<class 'sklearn.cluster.k_means_.KMeans'> vectors_w2v_from_texterra\n",
      "Explained variance of the SVD step: 99%\n",
      "Homogeneity: 0.840502857497\n",
      "Completeness: 0.815909617926\n",
      "V-measure 0.828023666208\n",
      "Adjusted Rand-Index: 0.661636563509\n",
      "==============\n",
      "<class 'sklearn.cluster.hierarchical.AgglomerativeClustering'> vectors_w2v_from_texterra\n",
      "Explained variance of the SVD step: 99%\n",
      "Homogeneity: 0.858866770617\n",
      "Completeness: 0.844341076052\n",
      "V-measure 0.851541982626\n",
      "Adjusted Rand-Index: 0.702140661018\n",
      "==============\n",
      "<class 'sklearn.cluster.spectral.SpectralClustering'> vectors_w2v_from_texterra\n",
      "Explained variance of the SVD step: 99%\n",
      "Homogeneity: 0.854660577024\n",
      "Completeness: 0.825687659663\n",
      "V-measure 0.839924339779\n",
      "Adjusted Rand-Index: 0.661752706396\n",
      "==============\n",
      "<class 'sklearn.cluster.k_means_.KMeans'> vectors_w2v_from_pymorphy\n",
      "Explained variance of the SVD step: 99%\n",
      "Homogeneity: 0.857773151803\n",
      "Completeness: 0.838825516496\n",
      "V-measure 0.848193530434\n",
      "Adjusted Rand-Index: 0.70454501694\n",
      "==============\n",
      "<class 'sklearn.cluster.hierarchical.AgglomerativeClustering'> vectors_w2v_from_pymorphy\n",
      "Explained variance of the SVD step: 99%\n",
      "Homogeneity: 0.858866770617\n",
      "Completeness: 0.844341076052\n",
      "V-measure 0.851541982626\n",
      "Adjusted Rand-Index: 0.702140661018\n",
      "==============\n",
      "<class 'sklearn.cluster.spectral.SpectralClustering'> vectors_w2v_from_pymorphy\n",
      "Explained variance of the SVD step: 99%\n",
      "Homogeneity: 0.857236907943\n",
      "Completeness: 0.829625285075\n",
      "V-measure 0.843205114291\n",
      "Adjusted Rand-Index: 0.668551126422\n",
      "==============\n",
      "<class 'sklearn.cluster.k_means_.KMeans'> vectors_w2v_from_mystem\n",
      "Explained variance of the SVD step: 99%\n",
      "Homogeneity: 0.85917144161\n",
      "Completeness: 0.831759320086\n",
      "V-measure 0.845243188307\n",
      "Adjusted Rand-Index: 0.691821981938\n",
      "==============\n",
      "<class 'sklearn.cluster.hierarchical.AgglomerativeClustering'> vectors_w2v_from_mystem\n",
      "Explained variance of the SVD step: 99%\n",
      "Homogeneity: 0.858866770617\n",
      "Completeness: 0.844341076052\n",
      "V-measure 0.851541982626\n",
      "Adjusted Rand-Index: 0.702140661018\n",
      "==============\n",
      "<class 'sklearn.cluster.spectral.SpectralClustering'> vectors_w2v_from_mystem\n",
      "Explained variance of the SVD step: 99%\n",
      "Homogeneity: 0.84341129104\n",
      "Completeness: 0.817836746502\n",
      "V-measure 0.830427161555\n",
      "Adjusted Rand-Index: 0.634387480413\n",
      "==============\n"
     ]
    }
   ],
   "source": [
    "data_models = {}\n",
    "for filename in glob.iglob('vectors_w2v*.pickle', recursive=True):\n",
    "    with open(filename, 'rb') as f:\n",
    "        data_model = pickle.load(f)\n",
    "        data_models[filename.replace('.pickle', '')] = data_model\n",
    "for name, model in data_models.items():\n",
    "    for alg in list_of_alg:\n",
    "        print(alg, name)\n",
    "        ari, cfm = pipeline_executor(data_model,alg)\n",
    "        ari_dict[ari] = name\n",
    "        cfm_dict[name] = cfm       "
   ]
  },
  {
   "cell_type": "markdown",
   "metadata": {},
   "source": [
    "Аналогичная операция производится с Doc2Vec:"
   ]
  },
  {
   "cell_type": "code",
   "execution_count": 224,
   "metadata": {},
   "outputs": [
    {
     "name": "stdout",
     "output_type": "stream",
     "text": [
      "<class 'sklearn.cluster.k_means_.KMeans'> vectors_d2v_from_texterra\n",
      "Explained variance of the SVD step: 99%\n",
      "Homogeneity: 0.904784593878\n",
      "Completeness: 0.871442952948\n",
      "V-measure 0.887800844751\n",
      "Adjusted Rand-Index: 0.781620577042\n",
      "==============\n",
      "<class 'sklearn.cluster.hierarchical.AgglomerativeClustering'> vectors_d2v_from_texterra\n",
      "Explained variance of the SVD step: 99%\n",
      "Homogeneity: 0.904446914495\n",
      "Completeness: 0.883663924457\n",
      "V-measure 0.893934640421\n",
      "Adjusted Rand-Index: 0.788155788567\n",
      "==============\n",
      "<class 'sklearn.cluster.spectral.SpectralClustering'> vectors_d2v_from_texterra\n",
      "Explained variance of the SVD step: 99%\n",
      "Homogeneity: 0.899470900987\n",
      "Completeness: 0.868176522702\n",
      "V-measure 0.883546694466\n",
      "Adjusted Rand-Index: 0.759181498759\n",
      "==============\n",
      "<class 'sklearn.cluster.k_means_.KMeans'> vectors_d2v_from_mystem\n",
      "Explained variance of the SVD step: 99%\n",
      "Homogeneity: 0.919855325725\n",
      "Completeness: 0.887568580247\n",
      "V-measure 0.903423577378\n",
      "Adjusted Rand-Index: 0.82838770568\n",
      "==============\n",
      "<class 'sklearn.cluster.hierarchical.AgglomerativeClustering'> vectors_d2v_from_mystem\n",
      "Explained variance of the SVD step: 99%\n",
      "Homogeneity: 0.904446914495\n",
      "Completeness: 0.883663924457\n",
      "V-measure 0.893934640421\n",
      "Adjusted Rand-Index: 0.788155788567\n",
      "==============\n",
      "<class 'sklearn.cluster.spectral.SpectralClustering'> vectors_d2v_from_mystem\n",
      "Explained variance of the SVD step: 99%\n",
      "Homogeneity: 0.901774061511\n",
      "Completeness: 0.871775394075\n",
      "V-measure 0.886521021857\n",
      "Adjusted Rand-Index: 0.773546529822\n",
      "==============\n",
      "<class 'sklearn.cluster.k_means_.KMeans'> vectors_d2v_from_pymorphy\n",
      "Explained variance of the SVD step: 99%\n",
      "Homogeneity: 0.908446027494\n",
      "Completeness: 0.885318937723\n",
      "V-measure 0.896733393321\n",
      "Adjusted Rand-Index: 0.792913370472\n",
      "==============\n",
      "<class 'sklearn.cluster.hierarchical.AgglomerativeClustering'> vectors_d2v_from_pymorphy\n",
      "Explained variance of the SVD step: 99%\n",
      "Homogeneity: 0.904446914495\n",
      "Completeness: 0.883663924457\n",
      "V-measure 0.893934640421\n",
      "Adjusted Rand-Index: 0.788155788567\n",
      "==============\n",
      "<class 'sklearn.cluster.spectral.SpectralClustering'> vectors_d2v_from_pymorphy\n",
      "Explained variance of the SVD step: 99%\n",
      "Homogeneity: 0.901873072925\n",
      "Completeness: 0.872061853633\n",
      "V-measure 0.886716972468\n",
      "Adjusted Rand-Index: 0.775461647109\n",
      "==============\n"
     ]
    }
   ],
   "source": [
    "data_models = {}\n",
    "for filename in glob.iglob('vectors_d2v_*.pickle', recursive=True):\n",
    "    with open(filename, 'rb') as f:\n",
    "        data_model = pickle.load(f)\n",
    "        data_models[filename.replace('.pickle', '')] = data_model\n",
    "for name, model in data_models.items():\n",
    "    for alg in list_of_alg:\n",
    "        print(alg, name)\n",
    "        ari, cfm = pipeline_executor(data_model,alg)\n",
    "        ari_dict[ari] = name\n",
    "        cfm_dict[name] = cfm "
   ]
  },
  {
   "cell_type": "markdown",
   "metadata": {},
   "source": [
    "И не менее аналогичная операция производится с векторами факторизованной TF-IDF-матрицы:"
   ]
  },
  {
   "cell_type": "code",
   "execution_count": 225,
   "metadata": {},
   "outputs": [
    {
     "name": "stdout",
     "output_type": "stream",
     "text": [
      "<class 'sklearn.cluster.k_means_.KMeans'> tf-idf_from_texterra\n",
      "Explained variance of the SVD step: 99%\n",
      "Homogeneity: 0.902376025292\n",
      "Completeness: 0.877132104926\n",
      "V-measure 0.889575011273\n",
      "Adjusted Rand-Index: 0.787701464734\n",
      "==============\n",
      "<class 'sklearn.cluster.hierarchical.AgglomerativeClustering'> tf-idf_from_texterra\n",
      "Explained variance of the SVD step: 99%\n",
      "Homogeneity: 0.904446914495\n",
      "Completeness: 0.883663924457\n",
      "V-measure 0.893934640421\n",
      "Adjusted Rand-Index: 0.788155788567\n",
      "==============\n",
      "<class 'sklearn.cluster.spectral.SpectralClustering'> tf-idf_from_texterra\n",
      "Explained variance of the SVD step: 99%\n",
      "Homogeneity: 0.901325854256\n",
      "Completeness: 0.870765755944\n",
      "V-measure 0.885782297389\n",
      "Adjusted Rand-Index: 0.77658239386\n",
      "==============\n",
      "<class 'sklearn.cluster.k_means_.KMeans'> tf-idf_from_pymorphy\n",
      "Explained variance of the SVD step: 99%\n",
      "Homogeneity: 0.902435432505\n",
      "Completeness: 0.870218491482\n",
      "V-measure 0.88603420003\n",
      "Adjusted Rand-Index: 0.782716162431\n",
      "==============\n",
      "<class 'sklearn.cluster.hierarchical.AgglomerativeClustering'> tf-idf_from_pymorphy\n",
      "Explained variance of the SVD step: 99%\n",
      "Homogeneity: 0.904446914495\n",
      "Completeness: 0.883663924457\n",
      "V-measure 0.893934640421\n",
      "Adjusted Rand-Index: 0.788155788567\n",
      "==============\n",
      "<class 'sklearn.cluster.spectral.SpectralClustering'> tf-idf_from_pymorphy\n",
      "Explained variance of the SVD step: 99%\n",
      "Homogeneity: 0.898375168903\n",
      "Completeness: 0.86853450636\n",
      "V-measure 0.883202853857\n",
      "Adjusted Rand-Index: 0.768305699436\n",
      "==============\n",
      "<class 'sklearn.cluster.k_means_.KMeans'> tf-idf_from_mystem\n",
      "Explained variance of the SVD step: 99%\n",
      "Homogeneity: 0.90757251593\n",
      "Completeness: 0.886664939746\n",
      "V-measure 0.896996913766\n",
      "Adjusted Rand-Index: 0.802480119123\n",
      "==============\n",
      "<class 'sklearn.cluster.hierarchical.AgglomerativeClustering'> tf-idf_from_mystem\n",
      "Explained variance of the SVD step: 99%\n",
      "Homogeneity: 0.904446914495\n",
      "Completeness: 0.883663924457\n",
      "V-measure 0.893934640421\n",
      "Adjusted Rand-Index: 0.788155788567\n",
      "==============\n",
      "<class 'sklearn.cluster.spectral.SpectralClustering'> tf-idf_from_mystem\n",
      "Explained variance of the SVD step: 99%\n",
      "Homogeneity: 0.903814150911\n",
      "Completeness: 0.873186933487\n",
      "V-measure 0.88823660695\n",
      "Adjusted Rand-Index: 0.776818453563\n",
      "==============\n"
     ]
    }
   ],
   "source": [
    "data_models = {}\n",
    "for name in glob.iglob('lemmas_from_*.pickle', recursive=True):\n",
    "    with open(name, 'rb') as g:\n",
    "        lemmas = pickle.load(g)\n",
    "    words_list = [' '.join([word for word in sentence]) for sentence in lemmas]\n",
    "    tf_idf = TfidfVectorizer(ngram_range=(1,3))\n",
    "    data_models[name.replace('.pickle', '').replace('lemmas','tf-idf')] = tf_idf.fit_transform(words_list)\n",
    "for name, model in data_models.items():\n",
    "    for alg in list_of_alg:\n",
    "        print(alg, name)\n",
    "        ari, cfm = pipeline_executor(data_model,alg)\n",
    "        ari_dict[ari] = name\n",
    "        cfm_dict[name] = cfm "
   ]
  },
  {
   "cell_type": "markdown",
   "metadata": {},
   "source": [
    "Предполагая, что в данной задаче метрика Adjusted Rand Index отражает абсолютное качество, делаем вывод, что наиболее качественную кластеризацию проводят следующие комбинации алгоритмов:"
   ]
  },
  {
   "cell_type": "code",
   "execution_count": 22,
   "metadata": {
    "collapsed": true
   },
   "outputs": [],
   "source": [
    "# а че за модель кластеризации-то"
   ]
  },
  {
   "cell_type": "code",
   "execution_count": 226,
   "metadata": {},
   "outputs": [
    {
     "name": "stdout",
     "output_type": "stream",
     "text": [
      "0.82838770568 ===== vectors_d2v_from_mystem\n",
      "0.802480119123 ===== tf-idf_from_mystem\n",
      "0.792913370472 ===== vectors_d2v_from_pymorphy\n"
     ]
    }
   ],
   "source": [
    "sorted_ari = sorted(ari_dict.keys(), reverse=True)\n",
    "for i in range(3):\n",
    "    print('{}: {}'.format(ari_dict[sorted_ari[i]], sorted_ari[i]))"
   ]
  },
  {
   "cell_type": "markdown",
   "metadata": {},
   "source": [
    "Как можно видеть, наилучший результат был достигнут при векторизации моделью Doc2Vec данных, предобработанных при помощи алгоритма MyStem. При этом MyStem показал высокое качество и при векторизации при использовании в качестве векторизатора факторизованной матрицы TF-IDF; впрочем, Word2Vec-векторизация этих данных не позволила добиться такого же качества решения задачи. Более наглядно полученные результаты характеризует следующая дендрограмма:"
   ]
  },
  {
   "cell_type": "code",
   "execution_count": 23,
   "metadata": {
    "collapsed": true
   },
   "outputs": [],
   "source": [
    "# увеличить шрифт и сам график"
   ]
  },
  {
   "cell_type": "code",
   "execution_count": 229,
   "metadata": {},
   "outputs": [
    {
     "data": {
      "image/png": "[encoded data removed]",
      "text/plain": [
       "<matplotlib.figure.Figure at 0x2ae45320>"
      ]
     },
     "metadata": {},
     "output_type": "display_data"
    }
   ],
   "source": [
    "max_ari = ari_dict[max(sorted_ari)]\n",
    "with open(max_ari+'.pickle', 'rb') as g:\n",
    "    vectors = pickle.load(g)\n",
    "    z = hac.linkage(a, method='ward')\n",
    "    hac.dendrogram(z)\n",
    "    plt.tight_layout()\n",
    "    plt.show()"
   ]
  },
  {
   "cell_type": "markdown",
   "metadata": {},
   "source": [
    "Качество работы разных алгоритмов показывает также следующая матрица:"
   ]
  },
  {
   "cell_type": "code",
   "execution_count": 230,
   "metadata": {},
   "outputs": [
    {
     "data": {
      "image/png": "[encoded data removed]",
      "text/plain": [
       "<matplotlib.figure.Figure at 0x4caaf908>"
      ]
     },
     "metadata": {},
     "output_type": "display_data"
    }
   ],
   "source": [
    "cm = cfm_dict[max_ari]\n",
    "df_cm = pd.DataFrame(cm)\n",
    "plt.figure(figsize=(12,6))\n",
    "sns.heatmap(df_cm, annot=True, cmap=plt.cm.Oranges)\n",
    "plt.show()"
   ]
  },
  {
   "cell_type": "markdown",
   "metadata": {},
   "source": [
    "Если же в задаче будут использованы Doc2Vec- и Word2Vec-вектора без использования какой бы то ни было обработки, то результаты действительно получатся не такими высокими: "
   ]
  },
  {
   "cell_type": "code",
   "execution_count": 231,
   "metadata": {},
   "outputs": [
    {
     "name": "stdout",
     "output_type": "stream",
     "text": [
      "<class 'sklearn.cluster.k_means_.KMeans'> vectors_d2v_from_mystem.pickle\n",
      "Homogeneity: 0.870869794863\n",
      "Completeness: 0.85228923241\n",
      "V-measure 0.861479337943\n",
      "Adjusted Rand-Index: 0.700319373103\n",
      "==============\n",
      "<class 'sklearn.cluster.hierarchical.AgglomerativeClustering'> vectors_d2v_from_mystem.pickle\n",
      "Homogeneity: 0.881361624232\n",
      "Completeness: 0.868015515439\n",
      "V-measure 0.874637660681\n",
      "Adjusted Rand-Index: 0.715862782206\n",
      "==============\n",
      "<class 'sklearn.cluster.spectral.SpectralClustering'> vectors_d2v_from_mystem.pickle\n",
      "Homogeneity: 0.605483947577\n",
      "Completeness: 0.715680979758\n",
      "V-measure 0.655986752092\n",
      "Adjusted Rand-Index: 0.181558218148\n",
      "==============\n",
      "<class 'sklearn.cluster.k_means_.KMeans'> vectors_d2v_from_pymorphy.pickle\n",
      "Homogeneity: 0.874782173113\n",
      "Completeness: 0.857196709985\n",
      "V-measure 0.865900165485\n",
      "Adjusted Rand-Index: 0.738555642877\n",
      "==============\n",
      "<class 'sklearn.cluster.hierarchical.AgglomerativeClustering'> vectors_d2v_from_pymorphy.pickle\n",
      "Homogeneity: 0.897940802913\n",
      "Completeness: 0.883628227483\n",
      "V-measure 0.890727023793\n",
      "Adjusted Rand-Index: 0.748457014092\n",
      "==============\n",
      "<class 'sklearn.cluster.spectral.SpectralClustering'> vectors_d2v_from_pymorphy.pickle\n",
      "Homogeneity: 0.624619927204\n",
      "Completeness: 0.720305292489\n",
      "V-measure 0.669058818693\n",
      "Adjusted Rand-Index: 0.212047144822\n",
      "==============\n",
      "<class 'sklearn.cluster.k_means_.KMeans'> vectors_d2v_from_texterra.pickle\n",
      "Homogeneity: 0.861391156477\n",
      "Completeness: 0.834306401647\n",
      "V-measure 0.847632471637\n",
      "Adjusted Rand-Index: 0.677901809729\n",
      "==============\n",
      "<class 'sklearn.cluster.hierarchical.AgglomerativeClustering'> vectors_d2v_from_texterra.pickle\n",
      "Homogeneity: 0.883121479936\n",
      "Completeness: 0.864038025146\n",
      "V-measure 0.87347553245\n",
      "Adjusted Rand-Index: 0.709977944826\n",
      "==============\n",
      "<class 'sklearn.cluster.spectral.SpectralClustering'> vectors_d2v_from_texterra.pickle\n",
      "Homogeneity: 0.620586020245\n",
      "Completeness: 0.727062782038\n",
      "V-measure 0.669618074989\n",
      "Adjusted Rand-Index: 0.214535229737\n",
      "==============\n",
      "<class 'sklearn.cluster.k_means_.KMeans'> vectors_w2v_from_mystem.pickle\n",
      "Homogeneity: 0.828645027907\n",
      "Completeness: 0.797973937303\n",
      "V-measure 0.813020319679\n",
      "Adjusted Rand-Index: 0.625346679008\n",
      "==============\n",
      "<class 'sklearn.cluster.hierarchical.AgglomerativeClustering'> vectors_w2v_from_mystem.pickle\n",
      "Homogeneity: 0.826834995093\n",
      "Completeness: 0.809346321922\n",
      "V-measure 0.8179971928\n",
      "Adjusted Rand-Index: 0.603759279568\n",
      "==============\n",
      "<class 'sklearn.cluster.spectral.SpectralClustering'> vectors_w2v_from_mystem.pickle\n",
      "Homogeneity: 0.589960236647\n",
      "Completeness: 0.696936589227\n",
      "V-measure 0.63900208135\n",
      "Adjusted Rand-Index: 0.183148186146\n",
      "==============\n",
      "<class 'sklearn.cluster.k_means_.KMeans'> vectors_w2v_from_pymorphy.pickle\n",
      "Homogeneity: 0.804134103951\n",
      "Completeness: 0.781387042845\n",
      "V-measure 0.792597400302\n",
      "Adjusted Rand-Index: 0.588478945376\n",
      "==============\n",
      "<class 'sklearn.cluster.hierarchical.AgglomerativeClustering'> vectors_w2v_from_pymorphy.pickle\n",
      "Homogeneity: 0.83250493791\n",
      "Completeness: 0.81225047145\n",
      "V-measure 0.822252992091\n",
      "Adjusted Rand-Index: 0.632282181972\n",
      "==============\n",
      "<class 'sklearn.cluster.spectral.SpectralClustering'> vectors_w2v_from_pymorphy.pickle\n",
      "Homogeneity: 0.584248020678\n",
      "Completeness: 0.681737928121\n",
      "V-measure 0.62923926684\n",
      "Adjusted Rand-Index: 0.179900001412\n",
      "==============\n",
      "<class 'sklearn.cluster.k_means_.KMeans'> vectors_w2v_from_texterra.pickle\n",
      "Homogeneity: 0.815571750517\n",
      "Completeness: 0.791761456548\n",
      "V-measure 0.803490246167\n",
      "Adjusted Rand-Index: 0.583380545163\n",
      "==============\n",
      "<class 'sklearn.cluster.hierarchical.AgglomerativeClustering'> vectors_w2v_from_texterra.pickle\n",
      "Homogeneity: 0.836216179299\n",
      "Completeness: 0.817405883957\n",
      "V-measure 0.826704046115\n",
      "Adjusted Rand-Index: 0.623531199327\n",
      "==============\n",
      "<class 'sklearn.cluster.spectral.SpectralClustering'> vectors_w2v_from_texterra.pickle\n",
      "Homogeneity: 0.579633244289\n",
      "Completeness: 0.68016541948\n",
      "V-measure 0.625888088445\n",
      "Adjusted Rand-Index: 0.167096439785\n",
      "==============\n"
     ]
    }
   ],
   "source": [
    "for filename in glob.iglob('vectors_*.pickle', recursive=True):\n",
    "    with open(filename, 'rb') as f:\n",
    "        data_model = pickle.load(f)\n",
    "        for alg in list_of_alg:\n",
    "            print(alg,filename)\n",
    "            pipeline = Pipeline([        ('clust', alg(n_clusters=28))\n",
    "                                ])\n",
    "            pipeline.fit(data_model)\n",
    "            \n",
    "            clust_labels = pipeline.named_steps['clust'].labels_\n",
    "\n",
    "            print(\"Homogeneity:\", homogeneity_score(labels, clust_labels))\n",
    "            print(\"Completeness:\", completeness_score(labels, clust_labels))\n",
    "            print(\"V-measure\",  v_measure_score(labels, clust_labels))\n",
    "            ari= adjusted_rand_score(labels, clust_labels)\n",
    "            print(\"Adjusted Rand-Index:\",  ari)\n",
    "            print('==============')"
   ]
  },
  {
   "cell_type": "markdown",
   "metadata": {},
   "source": [
    "Для отрисовки Agglomerative clustering:"
   ]
  },
  {
   "cell_type": "code",
   "execution_count": null,
   "metadata": {
    "collapsed": true
   },
   "outputs": [],
   "source": [
    "def plotClusters(a):\n",
    "    z = hac.linkage(a, method='ward')\n",
    "    hac.dendrogram(z)\n",
    "    plt.tight_layout()\n",
    "    plt.show()"
   ]
  },
  {
   "cell_type": "markdown",
   "metadata": {},
   "source": [
    "### Обсуждение\n",
    "\n",
    "В результате получилось, что Texterra действительно показывает наилучшие результаты по всем 9 типам кластеризации (по ARI), вот тут будет нарисован график:"
   ]
  },
  {
   "cell_type": "markdown",
   "metadata": {},
   "source": [
    "Итак, в результате исследования были получены результаты по метрикам ARI и V-score, являющихся относительными величинами. То есть, полученные результаты говорят нам о том, что в большинстве случаев полученные с помощью алгоритмов метки кластеров были похожи на метки кластеров, проставленные людьми, но при этом пока ничего не понятно о том, действительно ли полученные кластеры будут интерпретируемы. \n",
    "\n",
    "Для этого мы решеили дополнительно провести ещё один эксперимент, разбив данные на 5 кластеров, чтобы проверить действительно ли рассматриваемые нами методы кластеризации способы разбивать документы по тематически схожим категориям:"
   ]
  },
  {
   "cell_type": "code",
   "execution_count": 312,
   "metadata": {},
   "outputs": [
    {
     "data": {
      "text/plain": [
       "<matplotlib.figure.Figure at 0xca213c8>"
      ]
     },
     "metadata": {},
     "output_type": "display_data"
    },
    {
     "data": {
      "text/plain": [
       "<matplotlib.figure.Figure at 0x47580f98>"
      ]
     },
     "metadata": {},
     "output_type": "display_data"
    },
    {
     "data": {
      "text/plain": [
       "<matplotlib.figure.Figure at 0x47a1a208>"
      ]
     },
     "metadata": {},
     "output_type": "display_data"
    },
    {
     "data": {
      "text/plain": [
       "<matplotlib.figure.Figure at 0x4e7077f0>"
      ]
     },
     "metadata": {},
     "output_type": "display_data"
    },
    {
     "data": {
      "text/plain": [
       "<matplotlib.figure.Figure at 0x1f8f8048>"
      ]
     },
     "metadata": {},
     "output_type": "display_data"
    },
    {
     "data": {
      "text/plain": [
       "<matplotlib.figure.Figure at 0x47b3e0b8>"
      ]
     },
     "metadata": {},
     "output_type": "display_data"
    },
    {
     "data": {
      "text/plain": [
       "<matplotlib.figure.Figure at 0x4e771c88>"
      ]
     },
     "metadata": {},
     "output_type": "display_data"
    },
    {
     "data": {
      "text/plain": [
       "<matplotlib.figure.Figure at 0x47ac9978>"
      ]
     },
     "metadata": {},
     "output_type": "display_data"
    },
    {
     "data": {
      "text/plain": [
       "<matplotlib.figure.Figure at 0x47ab7ac8>"
      ]
     },
     "metadata": {},
     "output_type": "display_data"
    },
    {
     "data": {
      "text/plain": [
       "<matplotlib.figure.Figure at 0x476236a0>"
      ]
     },
     "metadata": {},
     "output_type": "display_data"
    },
    {
     "data": {
      "text/plain": [
       "<matplotlib.figure.Figure at 0x476b70f0>"
      ]
     },
     "metadata": {},
     "output_type": "display_data"
    },
    {
     "data": {
      "text/plain": [
       "<matplotlib.figure.Figure at 0x4e7714e0>"
      ]
     },
     "metadata": {},
     "output_type": "display_data"
    },
    {
     "data": {
      "image/png": "[encoded data removed]",
      "text/plain": [
       "<matplotlib.figure.Figure at 0x473c7b00>"
      ]
     },
     "metadata": {},
     "output_type": "display_data"
    }
   ],
   "source": [
    "plt.figure(figsize=(12,6))\n",
    "sns.barplot(list(ari_dict.values()), list(ari_dict.keys()), alpha=0.8)\n",
    "plt.ylabel('ARI', fontsize=16)\n",
    "plt.xlabel('Событие', fontsize=16)\n",
    "plt.show();"
   ]
  },
  {
   "cell_type": "markdown",
   "metadata": {},
   "source": [
    "Итак, в результате исследования были получены результаты по метрикам ARI и V-score, являющихся относительными величинами. То есть, полученные результаты говорят нам о том, что в большинстве случаев полученные с помощью алгоритмов метки кластеров были похожи на метки кластеров, проставленные людьми, но при этом пока ничего не понятно о том, действительно ли полученные кластеры будут интерпретируемы. \n",
    "\n",
    "Для этого мы решеили дополнительно провести ещё один эксперимент, разбив данные на 5 кластеров, чтобы проверить действительно ли рассматриваемые нами методы кластеризации способы разбивать документы по тематически схожим категориям:"
   ]
  },
  {
   "cell_type": "code",
   "execution_count": 285,
   "metadata": {
    "collapsed": true
   },
   "outputs": [],
   "source": [
    "pipeline = Pipeline([('tfidf', TfidfTransformer()),\n",
    "                                 ('svd', TruncatedSVD(n_components=150)),\n",
    "                                 ('norm', Normalizer()),\n",
    "                                 ('clust', KMeans(n_clusters=5))\n",
    "                                ])\n",
    "pipeline.fit(vectors)\n",
    "clust_labels = pipeline.named_steps['clust'].labels_"
   ]
  },
  {
   "cell_type": "code",
   "execution_count": 286,
   "metadata": {
    "collapsed": true
   },
   "outputs": [],
   "source": [
    "events_merged = []\n",
    "\n",
    "for event in range(5):\n",
    "    events = set([df_news.event_id.values[i] for i, x in enumerate(clust_labels) if x == event])\n",
    "    events_merged.append(events)"
   ]
  },
  {
   "cell_type": "code",
   "execution_count": 287,
   "metadata": {},
   "outputs": [
    {
     "name": "stdout",
     "output_type": "stream",
     "text": [
      "Дональд Трамп вступил в должность президента США.\n",
      "CNN показала фильм «Владимир Путин — самый влиятельный человек в мире».\n",
      "теракт произошел в центре Лондона\n",
      "В центре Киева был убит бывший депутат Госдумы РФ от КПРФ Денис Вороненков\n",
      "SpaceX впервые в истории запустила и посадила уже летавшую ракету-носитель\n",
      "Тиллерсон посещает Москву и встречается с Путиным\n",
      "Несанкционированные акции в Москве апрель\n",
      "Путин и Меркель в Сочи\n",
      "Победа Макрона во Франции\n",
      "Парламентские выборы в Великобритании\n",
      "Горячая линия Президента Путина\n",
      "Саммит G20\n",
      "Единый день голосования\n",
      "=======\n",
      "Скоропостижно скончался постпред России при ООН Виталий Чуркин.\n",
      "Умер Дэвид рокфеллер\n",
      "Юлию Самойлову не пустили на евровидении в Киеве\n",
      "В центре Киева был убит бывший депутат Госдумы РФ от КПРФ Денис Вороненков\n",
      "Умер Евгений Евтушенко\n",
      "Горячая линия Президента Путина\n",
      "=======\n",
      "Юлию Самойлову не пустили на евровидении в Киеве\n",
      "SpaceX впервые в истории запустила и посадила уже летавшую ракету-носитель\n",
      "Умер Евгений Евтушенко\n",
      "Чемпионат мира по хоккею\n",
      "Победа Макрона во Франции\n",
      "Кубок конфедерации FiFA\n",
      "=======\n",
      "Теракт в Барселоне\n",
      "Ураган в Москве\n",
      "теракт произошел в центре Лондона\n",
      "=======\n",
      "Власти Петербурга согласились передать РПЦ Исаакиевский собор.\n",
      "Дональд Трамп вступил в должность президента США.\n",
      "Вышел фильм Навального «он Вам не димон»\n",
      "Юлию Самойлову не пустили на евровидении в Киеве\n",
      "Митинг в москве против коррупции\n",
      "Премьер Медведев выступает перед депутатами Госдумы с отчетом об итогах работы правительства за 2016 год\n",
      "Несанкционированные акции в Москве апрель\n",
      "Чемпионат мира по хоккею\n",
      "Правительство внесло в Госдуму законопроект о курортных сборах\n",
      "Митинг против Реновации в Москве\n",
      "Акции протеста 12 июня\n",
      "Горячая линия Президента Путина\n",
      "Кубок конфедерации FiFA\n",
      "Единый день голосования\n",
      "=======\n"
     ]
    }
   ],
   "source": [
    "for events_set in events_merged:\n",
    "    for event in events_set:\n",
    "        print(df_events.loc[df_events.index == event]['name'].values[0])\n",
    "    print('=======')"
   ]
  },
  {
   "cell_type": "markdown",
   "metadata": {
    "collapsed": true
   },
   "source": [
    "Как видно из полученных данных, некоторые кластеры действительно содержат очень тематически похожие новости: можно заметить выделенный набор новостей про чью-то кончину, набор новостей про митинги и набор новостей про политику. При этом почему-то отдельно выделился кластер из одной новости, а также кластер из достаточно разнородных новостей, которые трудно с первого взгляда отнести в какую-то конкретную категорию. Таким образом, при разбиении множества новостей на меньшее число кластеров (в данном случае на 5), 60% полученных кластеров будут интерпретируемы. В какой-то степени можно считать, что рассмотренные нами алгоритмы работают верно."
   ]
  },
  {
   "cell_type": "markdown",
   "metadata": {},
   "source": [
    "### Заключение\n",
    "\n",
    "Таким образом, в данной работе мы сравнили производительность трёх алгоритмов лемматизации русского языка для 9 разных случаев с использованием разных методов векторизации \"сырого текста\" и разных методов кластеризации. \n",
    "\n",
    "В продолжение данной работы мы предполагаем расширить исследование на сравнение производительности дистрибутивных моделей (GloVe, FastText, StarSpace и т.д.) и дистрибутивно-тематических моделей (Potapenko et al. 2017), использовав задачу кластеризации новостей как downstream task в рамках extrinsic evaluation дистрибутивных моделей. Помимо этого, в будущем мы планируем выполнить вторую и последующие домашки по машинному обучению."
   ]
  },
  {
   "cell_type": "markdown",
   "metadata": {},
   "source": [
    "### Список литературы"
   ]
  },
  {
   "cell_type": "markdown",
   "metadata": {},
   "source": [
    "1. Mikolov T. et al. Distributed representations of words and phrases and their compositionality //Advances in neural information processing systems. – 2013. – С. 3111-3119. \n",
    "2. Le Q., Mikolov T. Distributed representations of sentences and documents //Proceedings of the 31st International Conference on Machine Learning (ICML-14). – 2014. – С. 1188-1196.\n",
    "3. Korobov M. Morphological analyzer and generator for Russian and Ukrainian languages //International Conference on Analysis of Images, Social Networks and Texts. – Springer, Cham, 2015. – С. 320-332.\n",
    "4. Segalovich I. A Fast Morphological Algorithm with Unknown Word Guessing Induced by a Dictionary for a Web Search Engine //MLMTA. – 2003. – С. 273-280.\n",
    "5. Turdakov D. Y. et al. Texterra: A framework for text analysis //Programming and Computer Software. – 2014. – Т. 40. – №. 5. – С. 288-295."
   ]
  }
 ],
 "metadata": {
  "kernelspec": {
   "display_name": "Python 3",
   "language": "python",
   "name": "python3"
  },
  "language_info": {
   "codemirror_mode": {
    "name": "ipython",
    "version": 3
   },
   "file_extension": ".py",
   "mimetype": "text/x-python",
   "name": "python",
   "nbconvert_exporter": "python",
   "pygments_lexer": "ipython3",
   "version": "3.6.1"
  }
 },
 "nbformat": 4,
 "nbformat_minor": 2
}
