{
 "cells": [
  {
   "cell_type": "markdown",
   "metadata": {},
   "source": [
    "# Семинар №1\n",
    "## Определение языка\n",
    "\n",
    "В этой лабораторной работе вам предстоит сравнить между собой различные алгоритмы классификации текстов для задачи определения языка. Коллекция текстов состоит из 383,108 текстов на 26 языках.\n",
    "\n",
    "Ваша задача – сравнить между собой несколько алгоритмов классификации и выбрать лучший из них по аккуратности (accuracy) и F1-мере. \n",
    "\n",
    "### Подготовка данных\n",
    "\n",
    "Для начала посмотрим на [данные](https://www.dropbox.com/s/fkr16tbrh90bq78/TLI.zip?dl=0). Первая колонка здесь – метка класса (язык), вторая – текст, а разделены они табуляцией."
   ]
  },
  {
   "cell_type": "code",
   "execution_count": 1,
   "metadata": {},
   "outputs": [
    {
     "data": {
      "text/html": [
       "<div>\n",
       "<style scoped>\n",
       "    .dataframe tbody tr th:only-of-type {\n",
       "        vertical-align: middle;\n",
       "    }\n",
       "\n",
       "    .dataframe tbody tr th {\n",
       "        vertical-align: top;\n",
       "    }\n",
       "\n",
       "    .dataframe thead th {\n",
       "        text-align: right;\n",
       "    }\n",
       "</style>\n",
       "<table border=\"1\" class=\"dataframe\">\n",
       "  <thead>\n",
       "    <tr style=\"text-align: right;\">\n",
       "      <th></th>\n",
       "      <th>lang</th>\n",
       "      <th>text</th>\n",
       "    </tr>\n",
       "  </thead>\n",
       "  <tbody>\n",
       "    <tr>\n",
       "      <th>0</th>\n",
       "      <td>ru</td>\n",
       "      <td>Притом же это республиканское устройство бурсы...</td>\n",
       "    </tr>\n",
       "    <tr>\n",
       "      <th>1</th>\n",
       "      <td>ru</td>\n",
       "      <td>Ты упомянул о том, что могло бы привести меня ...</td>\n",
       "    </tr>\n",
       "    <tr>\n",
       "      <th>2</th>\n",
       "      <td>uk</td>\n",
       "      <td>«Отже йому і спиться, і байдуже — хропе собі!....</td>\n",
       "    </tr>\n",
       "    <tr>\n",
       "      <th>3</th>\n",
       "      <td>pl</td>\n",
       "      <td>Kiedy słońce, odchodząc za horyzont, poczęło w...</td>\n",
       "    </tr>\n",
       "    <tr>\n",
       "      <th>4</th>\n",
       "      <td>ru</td>\n",
       "      <td>Странник выудил их всех, всех до единого, и с ...</td>\n",
       "    </tr>\n",
       "  </tbody>\n",
       "</table>\n",
       "</div>"
      ],
      "text/plain": [
       "  lang                                               text\n",
       "0   ru  Притом же это республиканское устройство бурсы...\n",
       "1   ru  Ты упомянул о том, что могло бы привести меня ...\n",
       "2   uk  «Отже йому і спиться, і байдуже — хропе собі!....\n",
       "3   pl  Kiedy słońce, odchodząc za horyzont, poczęło w...\n",
       "4   ru  Странник выудил их всех, всех до единого, и с ..."
      ]
     },
     "execution_count": 1,
     "metadata": {},
     "output_type": "execute_result"
    }
   ],
   "source": [
    "import pandas as pd\n",
    "\n",
    "data = pd.read_table('data-lang-id.txt', sep='\\t')\n",
    "data.head()"
   ]
  },
  {
   "cell_type": "code",
   "execution_count": 2,
   "metadata": {},
   "outputs": [
    {
     "data": {
      "text/html": [
       "<div>\n",
       "<style scoped>\n",
       "    .dataframe tbody tr th:only-of-type {\n",
       "        vertical-align: middle;\n",
       "    }\n",
       "\n",
       "    .dataframe tbody tr th {\n",
       "        vertical-align: top;\n",
       "    }\n",
       "\n",
       "    .dataframe thead th {\n",
       "        text-align: right;\n",
       "    }\n",
       "</style>\n",
       "<table border=\"1\" class=\"dataframe\">\n",
       "  <thead>\n",
       "    <tr style=\"text-align: right;\">\n",
       "      <th></th>\n",
       "      <th>text</th>\n",
       "    </tr>\n",
       "    <tr>\n",
       "      <th>lang</th>\n",
       "      <th></th>\n",
       "    </tr>\n",
       "  </thead>\n",
       "  <tbody>\n",
       "    <tr>\n",
       "      <th>be</th>\n",
       "      <td>14855</td>\n",
       "    </tr>\n",
       "    <tr>\n",
       "      <th>bg</th>\n",
       "      <td>14880</td>\n",
       "    </tr>\n",
       "    <tr>\n",
       "      <th>cs</th>\n",
       "      <td>1787</td>\n",
       "    </tr>\n",
       "    <tr>\n",
       "      <th>de</th>\n",
       "      <td>17509</td>\n",
       "    </tr>\n",
       "    <tr>\n",
       "      <th>el</th>\n",
       "      <td>223</td>\n",
       "    </tr>\n",
       "    <tr>\n",
       "      <th>en</th>\n",
       "      <td>71581</td>\n",
       "    </tr>\n",
       "    <tr>\n",
       "      <th>es</th>\n",
       "      <td>767</td>\n",
       "    </tr>\n",
       "    <tr>\n",
       "      <th>fr</th>\n",
       "      <td>9354</td>\n",
       "    </tr>\n",
       "    <tr>\n",
       "      <th>hr</th>\n",
       "      <td>1734</td>\n",
       "    </tr>\n",
       "    <tr>\n",
       "      <th>hsb</th>\n",
       "      <td>181</td>\n",
       "    </tr>\n",
       "    <tr>\n",
       "      <th>hy</th>\n",
       "      <td>4474</td>\n",
       "    </tr>\n",
       "    <tr>\n",
       "      <th>it</th>\n",
       "      <td>3353</td>\n",
       "    </tr>\n",
       "    <tr>\n",
       "      <th>la</th>\n",
       "      <td>497</td>\n",
       "    </tr>\n",
       "    <tr>\n",
       "      <th>lt</th>\n",
       "      <td>119</td>\n",
       "    </tr>\n",
       "    <tr>\n",
       "      <th>lv</th>\n",
       "      <td>2420</td>\n",
       "    </tr>\n",
       "    <tr>\n",
       "      <th>mk</th>\n",
       "      <td>1788</td>\n",
       "    </tr>\n",
       "    <tr>\n",
       "      <th>nl</th>\n",
       "      <td>2155</td>\n",
       "    </tr>\n",
       "    <tr>\n",
       "      <th>pl</th>\n",
       "      <td>24394</td>\n",
       "    </tr>\n",
       "    <tr>\n",
       "      <th>pt</th>\n",
       "      <td>346</td>\n",
       "    </tr>\n",
       "    <tr>\n",
       "      <th>ro</th>\n",
       "      <td>225</td>\n",
       "    </tr>\n",
       "    <tr>\n",
       "      <th>ru</th>\n",
       "      <td>171728</td>\n",
       "    </tr>\n",
       "    <tr>\n",
       "      <th>sk</th>\n",
       "      <td>1588</td>\n",
       "    </tr>\n",
       "    <tr>\n",
       "      <th>sl</th>\n",
       "      <td>1600</td>\n",
       "    </tr>\n",
       "    <tr>\n",
       "      <th>sr</th>\n",
       "      <td>1704</td>\n",
       "    </tr>\n",
       "    <tr>\n",
       "      <th>sv</th>\n",
       "      <td>339</td>\n",
       "    </tr>\n",
       "    <tr>\n",
       "      <th>uk</th>\n",
       "      <td>33507</td>\n",
       "    </tr>\n",
       "  </tbody>\n",
       "</table>\n",
       "</div>"
      ],
      "text/plain": [
       "        text\n",
       "lang        \n",
       "be     14855\n",
       "bg     14880\n",
       "cs      1787\n",
       "de     17509\n",
       "el       223\n",
       "en     71581\n",
       "es       767\n",
       "fr      9354\n",
       "hr      1734\n",
       "hsb      181\n",
       "hy      4474\n",
       "it      3353\n",
       "la       497\n",
       "lt       119\n",
       "lv      2420\n",
       "mk      1788\n",
       "nl      2155\n",
       "pl     24394\n",
       "pt       346\n",
       "ro       225\n",
       "ru    171728\n",
       "sk      1588\n",
       "sl      1600\n",
       "sr      1704\n",
       "sv       339\n",
       "uk     33507"
      ]
     },
     "execution_count": 2,
     "metadata": {},
     "output_type": "execute_result"
    }
   ],
   "source": [
    "data.groupby('lang').count()"
   ]
  },
  {
   "cell_type": "code",
   "execution_count": 3,
   "metadata": {},
   "outputs": [
    {
     "data": {
      "text/plain": [
       "lang    383111\n",
       "text    383108\n",
       "dtype: int64"
      ]
     },
     "execution_count": 3,
     "metadata": {},
     "output_type": "execute_result"
    }
   ],
   "source": [
    "# что-то не так...\n",
    "data.count()"
   ]
  },
  {
   "cell_type": "code",
   "execution_count": 4,
   "metadata": {},
   "outputs": [
    {
     "data": {
      "text/plain": [
       "lang    383108\n",
       "text    383108\n",
       "dtype: int64"
      ]
     },
     "execution_count": 4,
     "metadata": {},
     "output_type": "execute_result"
    }
   ],
   "source": [
    "# выкинем строки, в которых есть пустые значения\n",
    "# и переназначим индексы\n",
    "\n",
    "data.dropna(inplace=True)\n",
    "data.reset_index(drop=True, inplace=True)\n",
    "data.count()"
   ]
  },
  {
   "cell_type": "markdown",
   "metadata": {},
   "source": [
    "Теперь нужно разбить данные на тренировочную и тестовую выборку. Кажется, они уже перемешаны, но на всякий случай перемешаем их перед разбиением еще раз."
   ]
  },
  {
   "cell_type": "code",
   "execution_count": 5,
   "metadata": {},
   "outputs": [
    {
     "data": {
      "text/html": [
       "<div>\n",
       "<style scoped>\n",
       "    .dataframe tbody tr th:only-of-type {\n",
       "        vertical-align: middle;\n",
       "    }\n",
       "\n",
       "    .dataframe tbody tr th {\n",
       "        vertical-align: top;\n",
       "    }\n",
       "\n",
       "    .dataframe thead th {\n",
       "        text-align: right;\n",
       "    }\n",
       "</style>\n",
       "<table border=\"1\" class=\"dataframe\">\n",
       "  <thead>\n",
       "    <tr style=\"text-align: right;\">\n",
       "      <th></th>\n",
       "      <th>lang</th>\n",
       "      <th>text</th>\n",
       "    </tr>\n",
       "  </thead>\n",
       "  <tbody>\n",
       "    <tr>\n",
       "      <th>132941</th>\n",
       "      <td>fr</td>\n",
       "      <td>Le plaisir qu’il y prenait se reflétait sur se...</td>\n",
       "    </tr>\n",
       "    <tr>\n",
       "      <th>31184</th>\n",
       "      <td>ru</td>\n",
       "      <td>Алесь привязал коня к забору и медленно пошел ...</td>\n",
       "    </tr>\n",
       "    <tr>\n",
       "      <th>255297</th>\n",
       "      <td>en</td>\n",
       "      <td>Ranged around the building in ring fashion, th...</td>\n",
       "    </tr>\n",
       "    <tr>\n",
       "      <th>198820</th>\n",
       "      <td>pl</td>\n",
       "      <td>Myślałem o Claire, o wieczorach, które u niej ...</td>\n",
       "    </tr>\n",
       "    <tr>\n",
       "      <th>152289</th>\n",
       "      <td>ru</td>\n",
       "      <td>Кроме нас двоих, у нее нет никого на земле. Ск...</td>\n",
       "    </tr>\n",
       "  </tbody>\n",
       "</table>\n",
       "</div>"
      ],
      "text/plain": [
       "       lang                                               text\n",
       "132941   fr  Le plaisir qu’il y prenait se reflétait sur se...\n",
       "31184    ru  Алесь привязал коня к забору и медленно пошел ...\n",
       "255297   en  Ranged around the building in ring fashion, th...\n",
       "198820   pl  Myślałem o Claire, o wieczorach, które u niej ...\n",
       "152289   ru  Кроме нас двоих, у нее нет никого на земле. Ск..."
      ]
     },
     "execution_count": 5,
     "metadata": {},
     "output_type": "execute_result"
    }
   ],
   "source": [
    "from sklearn.utils import shuffle\n",
    "from sklearn.model_selection import train_test_split\n",
    "\n",
    "data = shuffle(data)\n",
    "\n",
    "train, test = train_test_split(data, test_size=0.2)\n",
    "train.tail()"
   ]
  },
  {
   "cell_type": "markdown",
   "metadata": {},
   "source": [
    "## Традиционные алгоритмы классификации\n",
    "Возможные варианты алгоритмов классификации (можно использовать и другие):\n",
    "* Наивный Байесовский классификатор [(MultinomialNB)](http://scikit-learn.org/stable/modules/generated/sklearn.naive_bayes.MultinomialNB.html)\n",
    "* Машины опорных векторов [(SGDClassifier)](http://scikit-learn.org/stable/modules/generated/sklearn.linear_model.SGDClassifier.html)\n",
    "* Случайные леса [(RandomForestClassifier)](http://scikit-learn.org/stable/modules/generated/sklearn.ensemble.RandomForestClassifier.html)\n",
    "* Метод максимальной энтропии [(LogisticRegression)](http://scikit-learn.org/stable/modules/generated/sklearn.linear_model.LogisticRegression.html)\n",
    "\n",
    "Работа со всеми ними в `sklearn` устроена одинаково.\n",
    "\n",
    "Векторизовать тексты тоже можно по-разному. Для начала попробуем мешок `CountVectorizer` (мешок слов) и `TfidfVectorizer`. Для тех, кто забыл, что такое tf-idf, если примечание в конце конспекта. :)"
   ]
  },
  {
   "cell_type": "code",
   "execution_count": 6,
   "metadata": {},
   "outputs": [],
   "source": [
    "from sklearn.feature_extraction.text import *\n",
    "from sklearn.metrics import *\n",
    "from sklearn.pipeline import Pipeline\n",
    "from sklearn.naive_bayes import MultinomialNB\n",
    "from sklearn.linear_model import SGDClassifier, LogisticRegression\n",
    "from sklearn.ensemble import RandomForestClassifier"
   ]
  },
  {
   "cell_type": "markdown",
   "metadata": {},
   "source": [
    "В качестве примера классифицируем тексты как \"мешки слов\" с помощью наивного байесовского классификатора. Это значит, что каждое слово или каждая н-грамма задает свою координату в векторном пространстве и никаких дополнительных признаков – например, порядок слов – не использует. \n",
    "\n",
    "В `sklearn` можно создавать пайплайн, или конвейер из этапов работы над данными: векторизация, классификация и т.д. "
   ]
  },
  {
   "cell_type": "code",
   "execution_count": 7,
   "metadata": {},
   "outputs": [
    {
     "name": "stdout",
     "output_type": "stream",
     "text": [
      "Wall time: 1min 32s\n"
     ]
    },
    {
     "data": {
      "text/plain": [
       "Pipeline(memory=None,\n",
       "     steps=[('vect', CountVectorizer(analyzer='word', binary=False, decode_error='strict',\n",
       "        dtype=<class 'numpy.int64'>, encoding='utf-8', input='content',\n",
       "        lowercase=True, max_df=1.0, max_features=None, min_df=1,\n",
       "        ngram_range=(1, 1), preprocessor=None, stop_words=None,\n",
       "        strip_accents=None, token_pattern='(?u)\\\\b\\\\w\\\\w+\\\\b',\n",
       "        tokenizer=None, vocabulary=None)), ('clf', MultinomialNB(alpha=1.0, class_prior=None, fit_prior=True))])"
      ]
     },
     "execution_count": 7,
     "metadata": {},
     "output_type": "execute_result"
    }
   ],
   "source": [
    "vectorizer = CountVectorizer(ngram_range=(1,1))\n",
    "classifier = MultinomialNB()\n",
    "\n",
    "clf = Pipeline([\n",
    "    ('vect', vectorizer),\n",
    "    ('clf', classifier),\n",
    "])\n",
    "\n",
    "# учим классификатор\n",
    "%time clf.fit(train.text, train.lang)"
   ]
  },
  {
   "cell_type": "markdown",
   "metadata": {},
   "source": [
    "Смотрим показания классификатора на тестовом множестве. "
   ]
  },
  {
   "cell_type": "code",
   "execution_count": 8,
   "metadata": {},
   "outputs": [],
   "source": [
    "predictions = clf.predict(test.text)"
   ]
  },
  {
   "cell_type": "markdown",
   "metadata": {},
   "source": [
    "Оцениваем качество."
   ]
  },
  {
   "cell_type": "code",
   "execution_count": 17,
   "metadata": {},
   "outputs": [
    {
     "name": "stdout",
     "output_type": "stream",
     "text": [
      "Precision:   0.99\n",
      "Recall:   0.99\n",
      "F1-measure:   0.99\n",
      "...\n",
      "Precision:   1.00\n",
      "Recall:   1.00\n",
      "F1-measure:   1.00\n",
      "...\n",
      "Accuracy:   1.00\n"
     ]
    }
   ],
   "source": [
    "# макро-усреднение\n",
    "print(\"Precision: {0:6.2f}\".format(precision_score(test.lang, predictions, average='macro')))\n",
    "print(\"Recall: {0:6.2f}\".format(recall_score(test.lang, predictions, average='macro')))\n",
    "print(\"F1-measure: {0:6.2f}\".format(f1_score(test.lang, predictions, average='macro')))\n",
    "\n",
    "print(\"...\")\n",
    "# микро-усреднение\n",
    "print(\"Precision: {0:6.2f}\".format(precision_score(test.lang, predictions, average='micro')))\n",
    "print(\"Recall: {0:6.2f}\".format(recall_score(test.lang, predictions, average='micro')))\n",
    "print(\"F1-measure: {0:6.2f}\".format(f1_score(test.lang, predictions, average='micro')))\n",
    "\n",
    "print(\"...\")\n",
    "# accuracy\n",
    "print(\"Accuracy: {0:6.2f}\".format(accuracy_score(test.lang, predictions)))"
   ]
  },
  {
   "cell_type": "code",
   "execution_count": 18,
   "metadata": {},
   "outputs": [
    {
     "name": "stdout",
     "output_type": "stream",
     "text": [
      "              precision    recall  f1-score   support\n",
      "\n",
      "          be       1.00      1.00      1.00      3078\n",
      "          bg       1.00      1.00      1.00      3074\n",
      "          cs       1.00      1.00      1.00       358\n",
      "          de       1.00      1.00      1.00      3475\n",
      "          el       1.00      1.00      1.00        40\n",
      "          en       1.00      1.00      1.00     14231\n",
      "          es       1.00      1.00      1.00       148\n",
      "          fr       0.99      1.00      1.00      1873\n",
      "          hr       0.86      1.00      0.92       349\n",
      "         hsb       1.00      1.00      1.00        36\n",
      "          hy       1.00      1.00      1.00       916\n",
      "          it       1.00      1.00      1.00       663\n",
      "          la       1.00      1.00      1.00        95\n",
      "          lt       1.00      1.00      1.00        17\n",
      "          lv       1.00      1.00      1.00       496\n",
      "          mk       1.00      1.00      1.00       381\n",
      "          nl       1.00      1.00      1.00       416\n",
      "          pl       1.00      1.00      1.00      4874\n",
      "          pt       1.00      1.00      1.00        66\n",
      "          ro       1.00      1.00      1.00        47\n",
      "          ru       1.00      1.00      1.00     34257\n",
      "          sk       1.00      1.00      1.00       315\n",
      "          sl       0.99      1.00      1.00       339\n",
      "          sr       1.00      0.83      0.90       322\n",
      "          sv       1.00      1.00      1.00        67\n",
      "          uk       1.00      1.00      1.00      6689\n",
      "\n",
      "   micro avg       1.00      1.00      1.00     76622\n",
      "   macro avg       0.99      0.99      0.99     76622\n",
      "weighted avg       1.00      1.00      1.00     76622\n",
      "\n"
     ]
    }
   ],
   "source": [
    "print(classification_report(test.lang, predictions))"
   ]
  },
  {
   "cell_type": "markdown",
   "metadata": {},
   "source": [
    "Визуализируем результаты."
   ]
  },
  {
   "cell_type": "code",
   "execution_count": 11,
   "metadata": {},
   "outputs": [
    {
     "data": {
      "image/png": "[encoded data removed]",
      "text/plain": [
       "<Figure size 1080x1080 with 1 Axes>"
      ]
     },
     "metadata": {
      "needs_background": "light"
     },
     "output_type": "display_data"
    }
   ],
   "source": [
    "import matplotlib.pyplot as plt\n",
    "import seaborn as sns\n",
    "import numpy as np\n",
    "\n",
    "m = confusion_matrix(test.lang, predictions)\n",
    "\n",
    "labels = clf.classes_\n",
    "plt.figure(figsize = (15,15))\n",
    "sns.heatmap(data=m, annot=True, fmt=\"d\", cbar=False, xticklabels=labels, yticklabels=labels, cmap=\"PuBuGn\")\n",
    "plt.title(\"Confusion matrix\")\n",
    "plt.show()"
   ]
  },
  {
   "cell_type": "markdown",
   "metadata": {},
   "source": [
    "## Важность признаков\n",
    "\n",
    "Веса признаков в линейной модели в случае, если признаки отмасштабированы, характеризуют степень их влияния на значение целевой переменной. В задаче классификации текстов, кроме того, признаки являются хорошо интерпретируемыми, поскольку каждый из них соответствует конкретному слову. Изучим влияние конкретных слов на значение целевой переменной."
   ]
  },
  {
   "cell_type": "code",
   "execution_count": 12,
   "metadata": {},
   "outputs": [
    {
     "name": "stdout",
     "output_type": "stream",
     "text": [
      "не, -4.68\n",
      "на, -4.83\n",
      "што, -5.13\n",
      "ён, -5.53\n",
      "як, -5.68\n",
      "да, -5.80\n",
      "яго, -5.80\n",
      "за, -5.97\n",
      "але, -6.05\n",
      "па, -6.15\n",
      "гэта, -6.15\n",
      "ад, -6.34\n",
      "яна, -6.36\n",
      "было, -6.37\n",
      "калі, -6.45\n",
      "ты, -6.45\n",
      "яе, -6.51\n",
      "так, -6.59\n",
      "яшчэ, -6.65\n",
      "яны, -6.65\n",
      "каб, -6.65\n",
      "толькі, -6.68\n",
      "быў, -6.84\n",
      "іх, -6.84\n",
      "тут, -6.86\n",
      "мяне, -6.87\n",
      "пра, -6.92\n",
      "пад, -6.94\n",
      "сказаў, -6.96\n",
      "...\n",
      "039, -14.49\n",
      "025, -14.49\n",
      "02, -14.49\n",
      "016, -14.49\n",
      "015, -14.49\n",
      "011, -14.49\n",
      "0083, -14.49\n",
      "007, -14.49\n",
      "003, -14.49\n"
     ]
    }
   ],
   "source": [
    "f_weights = zip(vectorizer.get_feature_names(), classifier.coef_[0])\n",
    "f_weights = sorted(f_weights, key=lambda i: i[1])\n",
    "for i in range(1,30):\n",
    "    print('%s, %.2f' % f_weights[-i])\n",
    "    \n",
    "print('...')\n",
    "for i in reversed(range(1,10)):\n",
    "    print('%s, %.2f' % f_weights[i])"
   ]
  },
  {
   "cell_type": "markdown",
   "metadata": {},
   "source": [
    "### Задание\n",
    "\n",
    "Итак, ваша задача – проделать то же самое с другими классификаторами и сравнить их качество, а потом векторизовать слова с помощью `TfidfVectorizer` и проверить, влияет ли это на качество результатов классификации."
   ]
  },
  {
   "cell_type": "markdown",
   "metadata": {},
   "source": [
    "### Напоминание: TF-IDF\n",
    "\n",
    "Ещё один способ работы с текстовыми данными — [TF-IDF](https://en.wikipedia.org/wiki/Tf–idf) *(Term Frequency – Inverse Document Frequency)*. Рассмотрим коллекцию текстов $D$.  Для каждого уникального слова $t$ из документа $d \\in D$ вычислим следующие величины:\n",
    "\n",
    "**1. Term Frequency** – количество вхождений слова в отношении к общему числу слов в тексте:\n",
    "$$\\text{tf}(t, d) = \\frac{n_{td}}{\\sum_{t \\in d} n_{td}},$$\n",
    "где $n_{td}$ — количество вхождений слова $t$ в текст $d$.\n",
    "\n",
    "\n",
    "**2. Inverse Document Frequency**\n",
    "$$\\text{idf}(t, D) = \\log \\frac{\\left| D \\right|}{\\left| \\{d\\in D: t \\in d\\} \\right|},$$\n",
    "где $\\left| \\{d\\in D: t \\in d\\} \\right|$ – количество текстов в коллекции, содержащих слово $t$.\n",
    "\n",
    "Тогда для каждой пары (слово, текст) $(t, d)$ вычислим величину:\n",
    "$$\\text{tf-idf}(t,d, D) = \\text{tf}(t, d)\\cdot \\text{idf}(t, D).$$\n",
    "\n",
    "Отметим, что значение $\\text{tf}(t, d)$ корректируется для часто встречающихся общеупотребимых слов при помощи значения $\\text{idf}(t, D).$\n",
    "\n",
    "Признаковым описанием одного объекта $d \\in D$ будет вектор $\\bigg(\\text{tf-idf}(t,d, D)\\bigg)_{t\\in V}$, где $V$ – словарь всех слов, встречающихся в коллекции $D$."
   ]
  }
 ],
 "metadata": {
  "kernelspec": {
   "display_name": "Python 3",
   "language": "python",
   "name": "python3"
  },
  "language_info": {
   "codemirror_mode": {
    "name": "ipython",
    "version": 3
   },
   "file_extension": ".py",
   "mimetype": "text/x-python",
   "name": "python",
   "nbconvert_exporter": "python",
   "pygments_lexer": "ipython3",
   "version": "3.6.7"
  }
 },
 "nbformat": 4,
 "nbformat_minor": 2
}
