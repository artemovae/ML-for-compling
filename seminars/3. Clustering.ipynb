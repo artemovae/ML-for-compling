{
 "cells": [
  {
   "cell_type": "markdown",
   "metadata": {},
   "source": [
    "# Кластеризация"
   ]
  },
  {
   "cell_type": "code",
   "execution_count": 1,
   "metadata": {},
   "outputs": [],
   "source": [
    "import numpy as np\n",
    "import pandas as pd\n",
    "import re\n",
    "from sklearn.decomposition import TruncatedSVD, PCA\n",
    "from sklearn.feature_extraction.text import *\n",
    "from sklearn.pipeline import *\n",
    "from sklearn.preprocessing import Normalizer, LabelEncoder\n",
    "from sklearn.metrics import *\n",
    "from sklearn.cluster import *\n",
    "from sklearn.pipeline import Pipeline\n",
    "from sklearn.feature_extraction.text import *"
   ]
  },
  {
   "cell_type": "markdown",
   "metadata": {},
   "source": [
    "## Подготовка данных\n",
    "\n",
    "Данные – пересказы сюжетов 100 лучших фильмов всех времен по версии imdb. Для каждого из них известен набор жанров – но насколько они отражают действительность?"
   ]
  },
  {
   "cell_type": "code",
   "execution_count": 2,
   "metadata": {},
   "outputs": [
    {
     "data": {
      "text/html": [
       "<div>\n",
       "<style scoped>\n",
       "    .dataframe tbody tr th:only-of-type {\n",
       "        vertical-align: middle;\n",
       "    }\n",
       "\n",
       "    .dataframe tbody tr th {\n",
       "        vertical-align: top;\n",
       "    }\n",
       "\n",
       "    .dataframe thead th {\n",
       "        text-align: right;\n",
       "    }\n",
       "</style>\n",
       "<table border=\"1\" class=\"dataframe\">\n",
       "  <thead>\n",
       "    <tr style=\"text-align: right;\">\n",
       "      <th></th>\n",
       "      <th>synopsis</th>\n",
       "      <th>title</th>\n",
       "      <th>genre</th>\n",
       "    </tr>\n",
       "  </thead>\n",
       "  <tbody>\n",
       "    <tr>\n",
       "      <th>0</th>\n",
       "      <td>In late summer 1945, guests are gathered for t...</td>\n",
       "      <td>The Godfather</td>\n",
       "      <td>Crime, Drama</td>\n",
       "    </tr>\n",
       "    <tr>\n",
       "      <th>1</th>\n",
       "      <td>In 1947, Andy Dufresne (Tim Robbins), a banker...</td>\n",
       "      <td>The Shawshank Redemption</td>\n",
       "      <td>Crime, Drama</td>\n",
       "    </tr>\n",
       "    <tr>\n",
       "      <th>2</th>\n",
       "      <td>The relocation of Polish Jews from surrounding...</td>\n",
       "      <td>Schindler's List</td>\n",
       "      <td>Biography, Drama, History</td>\n",
       "    </tr>\n",
       "    <tr>\n",
       "      <th>3</th>\n",
       "      <td>The film opens in 1964, where an older and fat...</td>\n",
       "      <td>Raging Bull</td>\n",
       "      <td>Biography, Drama, Sport</td>\n",
       "    </tr>\n",
       "    <tr>\n",
       "      <th>4</th>\n",
       "      <td>In the early years of World War II, December 1...</td>\n",
       "      <td>Casablanca</td>\n",
       "      <td>Drama, Romance, War</td>\n",
       "    </tr>\n",
       "  </tbody>\n",
       "</table>\n",
       "</div>"
      ],
      "text/plain": [
       "                                            synopsis  \\\n",
       "0  In late summer 1945, guests are gathered for t...   \n",
       "1  In 1947, Andy Dufresne (Tim Robbins), a banker...   \n",
       "2  The relocation of Polish Jews from surrounding...   \n",
       "3  The film opens in 1964, where an older and fat...   \n",
       "4  In the early years of World War II, December 1...   \n",
       "\n",
       "                      title                      genre  \n",
       "0             The Godfather               Crime, Drama  \n",
       "1  The Shawshank Redemption               Crime, Drama  \n",
       "2          Schindler's List  Biography, Drama, History  \n",
       "3               Raging Bull    Biography, Drama, Sport  \n",
       "4                Casablanca        Drama, Romance, War  "
      ]
     },
     "execution_count": 2,
     "metadata": {},
     "output_type": "execute_result"
    }
   ],
   "source": [
    "movies = pd.read_csv('../../clustering/movie_synopses.csv', sep='\\t', \\\n",
    "                     encoding='utf-8', quotechar='\"', escapechar='\\\\')\n",
    "movies.head()"
   ]
  },
  {
   "cell_type": "code",
   "execution_count": 3,
   "metadata": {},
   "outputs": [
    {
     "data": {
      "text/plain": [
       "'in 1963 oregon randle patrick mcmurphy nicholson a criminal who has been sentenced to a fairly short prison term decides to have himself declared insane so hell be transferred to a mental institution where he expects to serve the rest of his term free of prison labor and in comparative comfort and l'"
      ]
     },
     "execution_count": 3,
     "metadata": {},
     "output_type": "execute_result"
    }
   ],
   "source": [
    "data = [s.lower() for s in movies.synopsis]\n",
    "data = [re.sub(r'[,.\\'–?!;:\"()]', '', s) for s in data]\n",
    "data[5][:300]"
   ]
  },
  {
   "cell_type": "markdown",
   "metadata": {},
   "source": [
    "## Кластеризация\n",
    "\n",
    "Некоторые алгоритмы кластеризации ([вот очень хорошее описание](https://scikit-learn.org/stable/modules/clustering.html#clustering) из документации `sklearn`):\n",
    "\n",
    "* [K-Means](http://scikit-learn.org/stable/modules/generated/sklearn.cluster.KMeans.html#sklearn.cluster.KMeans)\n",
    "* [Mini-Batch K-Means](https://scikit-learn.org/stable/modules/generated/sklearn.cluster.MiniBatchKMeans.html#sklearn.cluster.MiniBatchKMeans)\n",
    "* [Spectral Clustering](http://scikit-learn.org/stable/modules/generated/sklearn.cluster.SpectralClustering.html#sklearn.cluster.SpectralClustering)\n",
    "* [Hierarchical Agglomerative Clustering](http://scikit-learn.org/stable/modules/generated/sklearn.cluster.AgglomerativeClustering.html#sklearn.cluster.AgglomerativeClustering)\n",
    "* [Affinity Propagation](https://scikit-learn.org/stable/modules/generated/sklearn.cluster.AffinityPropagation.html#sklearn.cluster.AffinityPropagation)\n",
    "* [MeanShift](https://scikit-learn.org/stable/modules/generated/sklearn.cluster.MeanShift.html#sklearn.cluster.MeanShift)\n",
    "* [DBSCAN](https://scikit-learn.org/stable/modules/generated/sklearn.cluster.DBSCAN.html#sklearn.cluster.DBSCAN)\n",
    "\n",
    "\n",
    "![](https://scikit-learn.org/stable/_images/sphx_glr_plot_cluster_comparison_001.png)\n",
    "\n",
    "\n",
    "### Что входит в Pipeline\n",
    "* [CountVectorizer](https://scikit-learn.org/stable/modules/generated/sklearn.feature_extraction.text.CountVectorizer.html) – векторизация\n",
    "    * max_df – максимальная документная частота \n",
    "    * max_features – максимальное количество признаков\n",
    "    * min_df – минимальная документная частота\n",
    "    * ngram_range – интервал для $n$-грам\n",
    "    * analyzer –  задает элемент текста {‘word’, ‘char’, ‘char_wb’}  \n",
    "    * stop_words – стоп-слова\n",
    "* [TfidfTransformer](https://scikit-learn.org/stable/modules/generated/sklearn.feature_extraction.text.TfidfTransformer.html) – $tf-idf$ преобразование\n",
    "    * можно не использовать\n",
    "* [TruncatedSVD](https://scikit-learn.org/stable/modules/generated/sklearn.decomposition.TruncatedSVD.html) – сингулярное разложение\n",
    "    * можно не использовать\n",
    "    * n_components – число компонент\n",
    "    * для визуализации результатов, нужно обязательно снизить размерность до 2, можно также использовать метод главных компонент ([PCA](https://scikit-learn.org/stable/modules/generated/sklearn.decomposition.PCA.html))\n",
    "* [Normalizer](https://scikit-learn.org/stable/modules/generated/sklearn.preprocessing.Normalizer.html) – нормировка (сумма по столбцу будет равна 1)\n",
    "    * можно не использовать\n",
    "* Последний этап – какой-либо алгоритм кластеризации, см. выше (можно выбрать любой, в примере ниже – KMeans)\n",
    "\n",
    "Необязательно включать все этапы в пайплайн, можно выполнять их и по-отдельности. \n",
    "\n",
    "**NB!** Все ссылки ведут на документацию `sklearn`."
   ]
  },
  {
   "cell_type": "code",
   "execution_count": 4,
   "metadata": {},
   "outputs": [
    {
     "data": {
      "text/plain": [
       "(100, 2348)"
      ]
     },
     "execution_count": 4,
     "metadata": {},
     "output_type": "execute_result"
    }
   ],
   "source": [
    "pipeline = Pipeline([\n",
    "    ('vect', CountVectorizer(max_df=0.8, min_df=5, ngram_range=(1,3), \\\n",
    "                             analyzer='word', stop_words ='english')),\n",
    "    ('tfidf', TfidfTransformer())\n",
    "])\n",
    "\n",
    "X = pipeline.fit_transform(data)\n",
    "X.shape"
   ]
  },
  {
   "cell_type": "markdown",
   "metadata": {},
   "source": [
    "## K-Means\n",
    "\n",
    "Какое количество кластеров взять? Первая идея – по количеству возможных жанров, но их около 20, что многовато для 100 фильмов. К тому же, почти у всех фильмов по несколько жанров, так что смело можно сократить количество кластеров как минимум пополам, а то и в 4 раза."
   ]
  },
  {
   "cell_type": "code",
   "execution_count": 13,
   "metadata": {},
   "outputs": [],
   "source": [
    "n_clusters = 5\n",
    "\n",
    "clf = KMeans(n_clusters=n_clusters)\n",
    "result = clf.fit_predict(X)"
   ]
  },
  {
   "cell_type": "code",
   "execution_count": 14,
   "metadata": {},
   "outputs": [
    {
     "data": {
      "text/html": [
       "<div>\n",
       "<style scoped>\n",
       "    .dataframe tbody tr th:only-of-type {\n",
       "        vertical-align: middle;\n",
       "    }\n",
       "\n",
       "    .dataframe tbody tr th {\n",
       "        vertical-align: top;\n",
       "    }\n",
       "\n",
       "    .dataframe thead th {\n",
       "        text-align: right;\n",
       "    }\n",
       "</style>\n",
       "<table border=\"1\" class=\"dataframe\">\n",
       "  <thead>\n",
       "    <tr style=\"text-align: right;\">\n",
       "      <th></th>\n",
       "      <th>synopsis</th>\n",
       "      <th>title</th>\n",
       "      <th>genre</th>\n",
       "      <th>cluster</th>\n",
       "    </tr>\n",
       "  </thead>\n",
       "  <tbody>\n",
       "    <tr>\n",
       "      <th>0</th>\n",
       "      <td>In late summer 1945, guests are gathered for t...</td>\n",
       "      <td>The Godfather</td>\n",
       "      <td>Crime, Drama</td>\n",
       "      <td>2</td>\n",
       "    </tr>\n",
       "    <tr>\n",
       "      <th>1</th>\n",
       "      <td>In 1947, Andy Dufresne (Tim Robbins), a banker...</td>\n",
       "      <td>The Shawshank Redemption</td>\n",
       "      <td>Crime, Drama</td>\n",
       "      <td>3</td>\n",
       "    </tr>\n",
       "    <tr>\n",
       "      <th>2</th>\n",
       "      <td>The relocation of Polish Jews from surrounding...</td>\n",
       "      <td>Schindler's List</td>\n",
       "      <td>Biography, Drama, History</td>\n",
       "      <td>2</td>\n",
       "    </tr>\n",
       "    <tr>\n",
       "      <th>3</th>\n",
       "      <td>The film opens in 1964, where an older and fat...</td>\n",
       "      <td>Raging Bull</td>\n",
       "      <td>Biography, Drama, Sport</td>\n",
       "      <td>2</td>\n",
       "    </tr>\n",
       "    <tr>\n",
       "      <th>4</th>\n",
       "      <td>In the early years of World War II, December 1...</td>\n",
       "      <td>Casablanca</td>\n",
       "      <td>Drama, Romance, War</td>\n",
       "      <td>1</td>\n",
       "    </tr>\n",
       "  </tbody>\n",
       "</table>\n",
       "</div>"
      ],
      "text/plain": [
       "                                            synopsis  \\\n",
       "0  In late summer 1945, guests are gathered for t...   \n",
       "1  In 1947, Andy Dufresne (Tim Robbins), a banker...   \n",
       "2  The relocation of Polish Jews from surrounding...   \n",
       "3  The film opens in 1964, where an older and fat...   \n",
       "4  In the early years of World War II, December 1...   \n",
       "\n",
       "                      title                      genre  cluster  \n",
       "0             The Godfather               Crime, Drama        2  \n",
       "1  The Shawshank Redemption               Crime, Drama        3  \n",
       "2          Schindler's List  Biography, Drama, History        2  \n",
       "3               Raging Bull    Biography, Drama, Sport        2  \n",
       "4                Casablanca        Drama, Romance, War        1  "
      ]
     },
     "execution_count": 14,
     "metadata": {},
     "output_type": "execute_result"
    }
   ],
   "source": [
    "# добавим номера кластеров в датасет для удобства\n",
    "\n",
    "movies['cluster'] = result\n",
    "movies.head()"
   ]
  },
  {
   "cell_type": "markdown",
   "metadata": {},
   "source": [
    "Какие фильмы входят в каждый из кластеров?"
   ]
  },
  {
   "cell_type": "code",
   "execution_count": 15,
   "metadata": {},
   "outputs": [
    {
     "name": "stdout",
     "output_type": "stream",
     "text": [
      "Cluster 0:\n",
      "['Citizen Kane', 'Rebel Without a Cause']\n",
      "\n",
      "Cluster 1:\n",
      "['Casablanca', 'Gone with the Wind', '2001: A Space Odyssey', '12 Angry Men', 'Dr. Strangelove or: How I Learned to Stop Worrying and Love the Bomb', 'Apocalypse Now', 'The Lord of the Rings: The Return of the King', 'Gladiator', 'Saving Private Ryan', 'Unforgiven', 'Raiders of the Lost Ark', 'Butch Cassidy and the Sundance Kid', 'The Treasure of the Sierra Madre', 'Platoon', 'Dances with Wolves', 'Taxi Driver', 'All Quiet on the Western Front', 'High Noon', 'Shane', 'Stagecoach']\n",
      "\n",
      "Cluster 2:\n",
      "['The Godfather', \"Schindler's List\", 'Raging Bull', 'The Godfather: Part II', 'Forrest Gump', 'The Sound of Music', 'West Side Story', 'E.T. the Extra-Terrestrial', 'Gandhi', 'A Streetcar Named Desire', 'The Philadelphia Story', 'To Kill a Mockingbird', 'The Best Years of Our Lives', 'Doctor Zhivago', 'Patton', 'The Apartment', 'The Pianist', 'Goodfellas', 'The Deer Hunter', \"The King's Speech\", 'Tootsie', 'Giant', 'The Grapes of Wrath', 'The Green Mile', 'Nashville', 'Yankee Doodle Dandy', 'Network', 'Terms of Endearment']\n",
      "\n",
      "Cluster 3:\n",
      "['The Shawshank Redemption', \"One Flew Over the Cuckoo's Nest\", 'The Wizard of Oz', 'Titanic', 'Lawrence of Arabia', 'Psycho', 'Vertigo', 'On the Waterfront', 'Star Wars', 'The Silence of the Lambs', 'Chinatown', 'The Bridge on the River Kwai', \"Singin' in the Rain\", \"It's a Wonderful Life\", 'Amadeus', 'From Here to Eternity', 'Rocky', 'My Fair Lady', 'Ben-Hur', 'Jaws', 'Braveheart', 'The Good, the Bad and the Ugly', 'The Exorcist', 'The French Connection', 'It Happened One Night', 'A Place in the Sun', 'Mr. Smith Goes to Washington', 'Annie Hall', 'Out of Africa', 'Good Will Hunting', 'Close Encounters of the Third Kind', 'The Graduate', 'American Graffiti', 'Pulp Fiction', 'The African Queen', 'The Maltese Falcon', 'A Clockwork Orange', 'Double Indemnity', 'Rear Window', 'The Third Man', 'North by Northwest', 'City Lights', 'Mutiny on the Bounty', 'Wuthering Heights']\n",
      "\n",
      "Cluster 4:\n",
      "['Sunset Blvd.', 'Some Like It Hot', 'An American in Paris', 'Midnight Cowboy', 'Rain Man', 'Fargo']\n",
      "\n"
     ]
    }
   ],
   "source": [
    "for i in range(n_clusters):\n",
    "    print(\"Cluster %d:\\n%s\\n\" % \\\n",
    "          (i, movies.loc[movies['cluster'] == i, 'title'].tolist()))"
   ]
  },
  {
   "cell_type": "markdown",
   "metadata": {},
   "source": [
    "Соотносится ли это с жанрами? Спойлер: не особенно..."
   ]
  },
  {
   "cell_type": "code",
   "execution_count": 16,
   "metadata": {},
   "outputs": [
    {
     "name": "stdout",
     "output_type": "stream",
     "text": [
      "Cluster 0:\n",
      "['Drama, Mystery', 'Crime, Drama, Thriller']\n",
      "\n",
      "Cluster 1:\n",
      "['Drama, Romance, War', 'Drama, Romance, War', 'Mystery, Sci-Fi', 'Drama', 'Comedy, War', 'Drama, War', 'Adventure, Fantasy', 'Action, Drama', 'Action, Drama, War', 'Western', 'Action, Adventure', 'Biography, Crime, Western', 'Action, Adventure, Drama, Western', 'Drama, War', 'Western', 'Comedy, Drama, Romance', 'Crime, Drama, Sci-Fi', 'Drama, Romance', 'Crime, Drama, Film-Noir, Thriller', 'Film-Noir, Mystery, Thriller']\n",
      "\n",
      "Cluster 2:\n",
      "['Crime, Drama', 'Biography, Drama, History', 'Biography, Drama, Sport', 'Crime, Drama', 'Drama, Romance', 'Biography, Drama, Family, Musical, Romance', 'Crime, Drama, Musical, Romance, Thriller', 'Adventure, Family, Sci-Fi', 'Biography, Drama, History', 'Drama', 'Comedy, Romance', 'Drama', 'Drama, Romance, War', 'Drama, Romance, War', 'Biography, Drama, War', 'Comedy, Drama, Romance', 'Adventure, Drama, Western', 'Biography, Drama, War', 'Horror', 'Drama, War', 'Comedy, Drama, Romance', 'Drama', 'Comedy, Drama', 'Comedy, Drama, Romance', 'Drama, Romance', 'Drama, Film-Noir, Mystery', 'Drama', 'Mystery, Thriller']\n",
      "\n",
      "Cluster 3:\n",
      "['Crime, Drama', 'Drama', 'Adventure, Family, Fantasy, Musical', 'Drama, Romance', 'Adventure, Biography, Drama, History, War', 'Horror, Mystery, Thriller', 'Mystery, Romance, Thriller', 'Crime, Drama', 'Action, Adventure, Fantasy, Sci-Fi', 'Crime, Drama, Thriller', 'Drama, Mystery, Thriller', 'Adventure, Drama, War', 'Comedy, Musical, Romance', 'Drama, Family, Fantasy', 'Biography, Drama, Music', 'Drama, Romance, War', 'Drama, Sport', 'Drama, Family, Musical, Romance', 'Adventure, Drama', 'Drama, Thriller', 'Action, Biography, Drama, History, War', 'Western', 'Biography, Crime, Drama', 'Drama, War', 'Action, Crime, Thriller', 'Comedy, Drama, Romance', 'Comedy, Romance', 'Drama', 'Drama', 'Drama', 'Crime, Drama, Thriller', 'Drama', 'Drama, Romance, Western', 'Crime, Drama, Fantasy, Mystery', 'Drama, Sci-Fi', 'Drama', 'Drama, Music', 'Comedy, Drama', 'Adventure, Romance, War', 'Adventure, Western', 'Adventure, Drama, History', 'Crime, Drama', 'Mystery, Thriller', 'Biography, Drama, Musical']\n",
      "\n",
      "Cluster 4:\n",
      "['Drama', 'Comedy', 'Musical, Romance', 'Biography, Drama, History', 'Drama, Romance', 'Biography, Drama, Romance']\n",
      "\n"
     ]
    }
   ],
   "source": [
    "for i in range(n_clusters):\n",
    "    print(\"Cluster %d:\\n%s\\n\" % \\\n",
    "          (i, movies.loc[movies['cluster'] == i, 'genre'].tolist()))"
   ]
  },
  {
   "cell_type": "markdown",
   "metadata": {},
   "source": [
    "## Визуализация\n",
    "\n",
    "Чтобы визуализировать результаты, нужно снизить размерность данных до 2 – например, с помощью PCA."
   ]
  },
  {
   "cell_type": "code",
   "execution_count": 17,
   "metadata": {},
   "outputs": [],
   "source": [
    "pca = PCA(n_components=2)\n",
    "X_2D = pca.fit_transform(X.todense())\n",
    "centers = pca.fit_transform(clf.cluster_centers_)"
   ]
  },
  {
   "cell_type": "markdown",
   "metadata": {},
   "source": [
    "### Matplotlib"
   ]
  },
  {
   "cell_type": "code",
   "execution_count": 18,
   "metadata": {},
   "outputs": [
    {
     "data": {
      "image/png": "[encoded data removed]",
      "text/plain": [
       "<Figure size 1080x1440 with 1 Axes>"
      ]
     },
     "metadata": {},
     "output_type": "display_data"
    }
   ],
   "source": [
    "import matplotlib.pyplot as plt\n",
    "from matplotlib import style\n",
    "style.use('ggplot')\n",
    "\n",
    "plt.figure(figsize = (15,20))\n",
    "plt.axhline(0, color='#afafaf')\n",
    "plt.axvline(0, color='#afafaf')\n",
    "\n",
    "for i in range(n_clusters):\n",
    "    try:\n",
    "        plt.scatter(X_2D[i:,0], X_2D[i:,1], s=30, c=clf.labels_)\n",
    "    except (KeyError, ValueError) as e: # костыль для бага матплотлиба\n",
    "        pass\n",
    "\n",
    "plt.scatter(centers[:,0], centers[:,1], marker=\"x\", c='r')\n",
    "plt.xlabel('Principal Component 1')\n",
    "plt.ylabel('Principal Component 2')\n",
    "plt.title('100 Greatest Films')\n",
    "plt.show()"
   ]
  },
  {
   "cell_type": "markdown",
   "metadata": {},
   "source": [
    "### Plotly\n",
    "\n",
    "Красивая динамическая визуализация, которую не рендерит ни GitHub, ни colab – можно посмотреть только запустив у себя."
   ]
  },
  {
   "cell_type": "code",
   "execution_count": 42,
   "metadata": {},
   "outputs": [
    {
     "data": {
      "text/html": [
       "<script type=\"text/javascript\">window.PlotlyConfig = {MathJaxConfig: 'local'};</script><script type=\"text/javascript\">if (window.MathJax) {MathJax.Hub.Config({SVG: {font: \"STIX-Web\"}});}</script><script>requirejs.config({paths: { 'plotly': ['https://cdn.plot.ly/plotly-latest.min']},});if(!window._Plotly) {require(['plotly'],function(plotly) {window._Plotly=plotly;});}</script>"
      ],
      "text/vnd.plotly.v1+html": [
       "<script type=\"text/javascript\">window.PlotlyConfig = {MathJaxConfig: 'local'};</script><script type=\"text/javascript\">if (window.MathJax) {MathJax.Hub.Config({SVG: {font: \"STIX-Web\"}});}</script><script>requirejs.config({paths: { 'plotly': ['https://cdn.plot.ly/plotly-latest.min']},});if(!window._Plotly) {require(['plotly'],function(plotly) {window._Plotly=plotly;});}</script>"
      ]
     },
     "metadata": {},
     "output_type": "display_data"
    },
    {
     "name": "stdout",
     "output_type": "stream",
     "text": [
      "This is the format of your plot grid:\n",
      "[ (1,1) x1,y1 ]\n",
      "\n"
     ]
    },
    {
     "data": {
      "application/vnd.plotly.v1+json": {
       "config": {
        "linkText": "Export to plot.ly",
        "plotlyServerURL": "https://plot.ly",
        "showLink": false
       },
       "data": [
        {
         "marker": {
          "color": [
           2,
           3,
           2,
           2,
           1,
           3,
           1,
           0,
           3,
           3,
           3,
           2,
           3,
           4,
           3,
           3,
           2,
           2,
           2,
           3,
           2,
           1,
           3,
           3,
           3,
           3,
           3,
           4,
           1,
           1,
           3,
           1,
           2,
           1,
           1,
           3,
           1,
           1,
           1,
           3,
           2,
           2,
           2,
           4,
           2,
           3,
           3,
           2,
           2,
           3,
           3,
           3,
           1,
           1,
           2,
           1,
           1,
           2,
           2,
           3,
           2,
           3,
           2,
           3,
           3,
           4,
           3,
           4,
           3,
           3,
           3,
           2,
           4,
           2,
           2,
           2,
           3,
           2,
           3,
           3,
           3,
           3,
           3,
           3,
           1,
           3,
           0,
           3,
           3,
           3,
           2,
           1,
           3,
           1,
           1,
           2,
           2,
           1,
           3,
           3
          ],
          "colorscale": "Viridis",
          "size": 10
         },
         "mode": "markers",
         "name": "Movies",
         "text": [
          "The Godfather",
          "The Shawshank Redemption",
          "Schindler's List",
          "Raging Bull",
          "Casablanca",
          "One Flew Over the Cuckoo's Nest",
          "Gone with the Wind",
          "Citizen Kane",
          "The Wizard of Oz",
          "Titanic",
          "Lawrence of Arabia",
          "The Godfather: Part II",
          "Psycho",
          "Sunset Blvd.",
          "Vertigo",
          "On the Waterfront",
          "Forrest Gump",
          "The Sound of Music",
          "West Side Story",
          "Star Wars",
          "E.T. the Extra-Terrestrial",
          "2001: A Space Odyssey",
          "The Silence of the Lambs",
          "Chinatown",
          "The Bridge on the River Kwai",
          "Singin' in the Rain",
          "It's a Wonderful Life",
          "Some Like It Hot",
          "12 Angry Men",
          "Dr. Strangelove or: How I Learned to Stop Worrying and Love the Bomb",
          "Amadeus",
          "Apocalypse Now",
          "Gandhi",
          "The Lord of the Rings: The Return of the King",
          "Gladiator",
          "From Here to Eternity",
          "Saving Private Ryan",
          "Unforgiven",
          "Raiders of the Lost Ark",
          "Rocky",
          "A Streetcar Named Desire",
          "The Philadelphia Story",
          "To Kill a Mockingbird",
          "An American in Paris",
          "The Best Years of Our Lives",
          "My Fair Lady",
          "Ben-Hur",
          "Doctor Zhivago",
          "Patton",
          "Jaws",
          "Braveheart",
          "The Good, the Bad and the Ugly",
          "Butch Cassidy and the Sundance Kid",
          "The Treasure of the Sierra Madre",
          "The Apartment",
          "Platoon",
          "Dances with Wolves",
          "The Pianist",
          "Goodfellas",
          "The Exorcist",
          "The Deer Hunter",
          "The French Connection",
          "The King's Speech",
          "It Happened One Night",
          "A Place in the Sun",
          "Midnight Cowboy",
          "Mr. Smith Goes to Washington",
          "Rain Man",
          "Annie Hall",
          "Out of Africa",
          "Good Will Hunting",
          "Tootsie",
          "Fargo",
          "Giant",
          "The Grapes of Wrath",
          "The Green Mile",
          "Close Encounters of the Third Kind",
          "Nashville",
          "The Graduate",
          "American Graffiti",
          "Pulp Fiction",
          "The African Queen",
          "The Maltese Falcon",
          "A Clockwork Orange",
          "Taxi Driver",
          "Double Indemnity",
          "Rebel Without a Cause",
          "Rear Window",
          "The Third Man",
          "North by Northwest",
          "Yankee Doodle Dandy",
          "All Quiet on the Western Front",
          "City Lights",
          "High Noon",
          "Shane",
          "Network",
          "Terms of Endearment",
          "Stagecoach",
          "Mutiny on the Bounty",
          "Wuthering Heights"
         ],
         "textposition": "bottom right",
         "type": "scatter",
         "uid": "002d418c-b300-4fc2-93a5-9a5a7d034c65",
         "x": [
          0.7689656520635243,
          -0.04919006041504778,
          -0.05868247705905714,
          0.0010010967816316198,
          -0.10372915309979575,
          -0.03205274651997496,
          -0.020524576210553837,
          -0.007859001921278457,
          -0.026342482037381387,
          -0.07360450910397302,
          -0.12687074055795516,
          0.823990028795463,
          -0.012909499969318085,
          -0.055985394334108894,
          -0.025123629865259848,
          0.010712272003130588,
          -0.02374470305319463,
          -0.07815104938823755,
          -0.06121316345438579,
          -0.07636605061359668,
          0.5830675339032589,
          -0.04160767244071315,
          -0.04025116336681578,
          -0.017546968689479185,
          -0.1285956492954737,
          -0.011831152026350364,
          0.028535756368093496,
          -0.11157721270453883,
          -0.0509284106487088,
          -0.10405898911869575,
          -0.03296330223006995,
          -0.13097061849355426,
          -0.09723745527832608,
          -0.09555543015844636,
          -0.05439188177428747,
          -0.06184247509987363,
          -0.10040721848738515,
          -0.03381124049102121,
          -0.1106138394376215,
          0.013163759800465864,
          0.006610626517357985,
          0.04525296370006227,
          0.08200663207586262,
          -0.1060234901633161,
          -0.03793132722957419,
          -0.027971711036238956,
          -0.04919217355001911,
          0.01623649823263122,
          -0.04906322382145342,
          0.15936040695722858,
          -0.037468061318892146,
          -0.09310869820579741,
          -0.0872436831725014,
          -0.07097674548683133,
          0.00800171342361328,
          -0.1001917191386644,
          -0.1008429799926573,
          -0.05185068235220631,
          0.010206723859226614,
          0.05281801151171713,
          0.08259233945422409,
          -0.03927811028925651,
          0.029149911012755256,
          0.003757021885936857,
          0.03434397838725282,
          -0.04765743404455306,
          -0.031870710069382774,
          -0.03382884845691648,
          -0.0075454429934365035,
          -0.020021699866713684,
          -0.022823107105455806,
          0.8174866139050521,
          -0.07012760140078116,
          0.014018340977713595,
          0.04893924034909923,
          -0.009833490684993978,
          -0.02085900830335431,
          0.042240333972832236,
          0.024803061509047715,
          0.01202173570872178,
          -0.012351787623596415,
          -0.09178228215982753,
          -0.008199764221806988,
          0.06595888154711783,
          0.015511457394677264,
          -0.025861687903643904,
          -0.02110437875621959,
          -0.008710896341501965,
          -0.020222844285927813,
          -0.008777211379894448,
          -0.03858817126737192,
          -0.08205095328024238,
          -0.0387999064107911,
          -0.055732021027183845,
          -0.06920066749463938,
          -0.0397612509796251,
          0.04197497552982979,
          -0.052710486018085076,
          -0.08649086616204618,
          -0.010132526287646718
         ],
         "xaxis": "x",
         "y": [
          -0.06783068929038884,
          0.00384182908800921,
          -0.17510436423474987,
          0.05366747583658199,
          -0.10841575717984162,
          -0.011040346579950311,
          -0.08321462585165564,
          0.08147971209750504,
          -0.008789950455807225,
          -0.026432894796602446,
          -0.23018423810055139,
          -0.06520766397980422,
          0.08114463014857028,
          0.3183122014077096,
          0.06551859585157001,
          0.11712021964469205,
          0.0015453268594206452,
          -0.037381880236442684,
          0.019473172825380435,
          -0.14814388744121226,
          -0.04007789874681544,
          -0.06049553431897373,
          -0.018228754502036894,
          0.00961571876260665,
          -0.25787979498447156,
          0.11799392077191355,
          0.01402987353768596,
          0.6651841897035494,
          -0.01518948669420401,
          -0.17689264139965302,
          -0.007905800383657046,
          -0.24522047643111974,
          -0.1575923727248976,
          -0.11576816328025379,
          -0.19644410738106902,
          -0.15200117033306715,
          -0.24656979696534417,
          -0.01762431065508637,
          -0.1699517075987149,
          0.13205931337757773,
          0.0015437630317107645,
          0.024378291360857247,
          0.03765035049392183,
          0.574497355685835,
          -0.011242671778678168,
          0.0039008959923034436,
          -0.08581077949083353,
          -0.042132233462892715,
          -0.22967314594944185,
          -0.10166254516909963,
          -0.12620443324908562,
          -0.14339309720094712,
          -0.03039845004952652,
          -0.04343922559835119,
          0.09925305928224924,
          -0.19564455912056364,
          -0.1839563467841299,
          -0.15205013048468516,
          0.032588509804991665,
          0.04700977719700078,
          -0.04754801763990316,
          0.09974567515902505,
          -0.07032675332756602,
          0.09934471242343758,
          -0.014674722963000913,
          0.22294091440460126,
          -0.08989231318471332,
          0.12435875245447671,
          0.11745854036692152,
          -0.0384563776564968,
          0.02783023984783218,
          -0.018340904760808848,
          0.633245437690542,
          -0.00826820645877919,
          -0.07359678692956907,
          -0.040421999588457984,
          -0.03889664044823617,
          0.12522177157429865,
          0.1347582077732002,
          0.1301635218657632,
          0.08193751106213117,
          -0.08189413093435202,
          0.051566914593287105,
          0.037131705344821166,
          0.08047456631519559,
          0.051800320934015744,
          0.06383583456999083,
          0.10756911198496161,
          0.029921699094212568,
          0.11993197766414453,
          0.016131785713865216,
          -0.16860017611354342,
          0.12087956462819778,
          0.044349716501616815,
          -0.07954623229759557,
          -0.015102578743183694,
          0.07747785461216361,
          -0.035244342303353736,
          -0.16297695568386025,
          0.06909855257768163
         ],
         "yaxis": "y"
        },
        {
         "marker": {
          "color": "red",
          "size": 10,
          "symbol": "cross"
         },
         "mode": "markers",
         "name": "Centroids",
         "type": "scatter",
         "uid": "771ccd7f-c1b4-488b-93fe-37d950a1fcbd",
         "x": [
          0.5646780378924451,
          -0.11148128529715136,
          -0.10000528619073765,
          -0.08742823476514286,
          -0.26576323163941307
         ],
         "xaxis": "x",
         "y": [
          0.09887724398128732,
          -0.1933006666347218,
          -0.16190801117359066,
          -0.1427168088386942,
          0.3990482426657194
         ],
         "yaxis": "y"
        }
       ],
       "layout": {
        "legend": {
         "bgcolor": "#f6f6f6",
         "font": {
          "size": 20
         }
        },
        "title": {
         "font": {
          "size": 25
         },
         "text": "100 Greatest Films"
        },
        "xaxis": {
         "anchor": "y",
         "domain": [
          0,
          1
         ],
         "title": {
          "text": "Principal Component 1"
         }
        },
        "yaxis": {
         "anchor": "x",
         "domain": [
          0,
          1
         ],
         "title": {
          "text": "Principal Component 2"
         }
        }
       }
      },
      "text/html": [
       "<div id=\"435cd439-946f-45a8-9ce5-f8eedf33687d\" style=\"height: 525px; width: 100%;\" class=\"plotly-graph-div\"></div><script type=\"text/javascript\">require([\"plotly\"], function(Plotly) { window.PLOTLYENV=window.PLOTLYENV || {};window.PLOTLYENV.BASE_URL=\"https://plot.ly\";Plotly.newPlot(\"435cd439-946f-45a8-9ce5-f8eedf33687d\", [{\"marker\": {\"color\": [2, 3, 2, 2, 1, 3, 1, 0, 3, 3, 3, 2, 3, 4, 3, 3, 2, 2, 2, 3, 2, 1, 3, 3, 3, 3, 3, 4, 1, 1, 3, 1, 2, 1, 1, 3, 1, 1, 1, 3, 2, 2, 2, 4, 2, 3, 3, 2, 2, 3, 3, 3, 1, 1, 2, 1, 1, 2, 2, 3, 2, 3, 2, 3, 3, 4, 3, 4, 3, 3, 3, 2, 4, 2, 2, 2, 3, 2, 3, 3, 3, 3, 3, 3, 1, 3, 0, 3, 3, 3, 2, 1, 3, 1, 1, 2, 2, 1, 3, 3], \"colorscale\": \"Viridis\", \"size\": 10}, \"mode\": \"markers\", \"name\": \"Movies\", \"text\": [\"The Godfather\", \"The Shawshank Redemption\", \"Schindler's List\", \"Raging Bull\", \"Casablanca\", \"One Flew Over the Cuckoo's Nest\", \"Gone with the Wind\", \"Citizen Kane\", \"The Wizard of Oz\", \"Titanic\", \"Lawrence of Arabia\", \"The Godfather: Part II\", \"Psycho\", \"Sunset Blvd.\", \"Vertigo\", \"On the Waterfront\", \"Forrest Gump\", \"The Sound of Music\", \"West Side Story\", \"Star Wars\", \"E.T. the Extra-Terrestrial\", \"2001: A Space Odyssey\", \"The Silence of the Lambs\", \"Chinatown\", \"The Bridge on the River Kwai\", \"Singin' in the Rain\", \"It's a Wonderful Life\", \"Some Like It Hot\", \"12 Angry Men\", \"Dr. Strangelove or: How I Learned to Stop Worrying and Love the Bomb\", \"Amadeus\", \"Apocalypse Now\", \"Gandhi\", \"The Lord of the Rings: The Return of the King\", \"Gladiator\", \"From Here to Eternity\", \"Saving Private Ryan\", \"Unforgiven\", \"Raiders of the Lost Ark\", \"Rocky\", \"A Streetcar Named Desire\", \"The Philadelphia Story\", \"To Kill a Mockingbird\", \"An American in Paris\", \"The Best Years of Our Lives\", \"My Fair Lady\", \"Ben-Hur\", \"Doctor Zhivago\", \"Patton\", \"Jaws\", \"Braveheart\", \"The Good, the Bad and the Ugly\", \"Butch Cassidy and the Sundance Kid\", \"The Treasure of the Sierra Madre\", \"The Apartment\", \"Platoon\", \"Dances with Wolves\", \"The Pianist\", \"Goodfellas\", \"The Exorcist\", \"The Deer Hunter\", \"The French Connection\", \"The King's Speech\", \"It Happened One Night\", \"A Place in the Sun\", \"Midnight Cowboy\", \"Mr. Smith Goes to Washington\", \"Rain Man\", \"Annie Hall\", \"Out of Africa\", \"Good Will Hunting\", \"Tootsie\", \"Fargo\", \"Giant\", \"The Grapes of Wrath\", \"The Green Mile\", \"Close Encounters of the Third Kind\", \"Nashville\", \"The Graduate\", \"American Graffiti\", \"Pulp Fiction\", \"The African Queen\", \"The Maltese Falcon\", \"A Clockwork Orange\", \"Taxi Driver\", \"Double Indemnity\", \"Rebel Without a Cause\", \"Rear Window\", \"The Third Man\", \"North by Northwest\", \"Yankee Doodle Dandy\", \"All Quiet on the Western Front\", \"City Lights\", \"High Noon\", \"Shane\", \"Network\", \"Terms of Endearment\", \"Stagecoach\", \"Mutiny on the Bounty\", \"Wuthering Heights\"], \"textposition\": \"bottom right\", \"x\": [0.7689656520635243, -0.04919006041504778, -0.05868247705905714, 0.0010010967816316198, -0.10372915309979575, -0.03205274651997496, -0.020524576210553837, -0.007859001921278457, -0.026342482037381387, -0.07360450910397302, -0.12687074055795516, 0.823990028795463, -0.012909499969318085, -0.055985394334108894, -0.025123629865259848, 0.010712272003130588, -0.02374470305319463, -0.07815104938823755, -0.06121316345438579, -0.07636605061359668, 0.5830675339032589, -0.04160767244071315, -0.04025116336681578, -0.017546968689479185, -0.1285956492954737, -0.011831152026350364, 0.028535756368093496, -0.11157721270453883, -0.0509284106487088, -0.10405898911869575, -0.03296330223006995, -0.13097061849355426, -0.09723745527832608, -0.09555543015844636, -0.05439188177428747, -0.06184247509987363, -0.10040721848738515, -0.03381124049102121, -0.1106138394376215, 0.013163759800465864, 0.006610626517357985, 0.04525296370006227, 0.08200663207586262, -0.1060234901633161, -0.03793132722957419, -0.027971711036238956, -0.04919217355001911, 0.01623649823263122, -0.04906322382145342, 0.15936040695722858, -0.037468061318892146, -0.09310869820579741, -0.0872436831725014, -0.07097674548683133, 0.00800171342361328, -0.1001917191386644, -0.1008429799926573, -0.05185068235220631, 0.010206723859226614, 0.05281801151171713, 0.08259233945422409, -0.03927811028925651, 0.029149911012755256, 0.003757021885936857, 0.03434397838725282, -0.04765743404455306, -0.031870710069382774, -0.03382884845691648, -0.0075454429934365035, -0.020021699866713684, -0.022823107105455806, 0.8174866139050521, -0.07012760140078116, 0.014018340977713595, 0.04893924034909923, -0.009833490684993978, -0.02085900830335431, 0.042240333972832236, 0.024803061509047715, 0.01202173570872178, -0.012351787623596415, -0.09178228215982753, -0.008199764221806988, 0.06595888154711783, 0.015511457394677264, -0.025861687903643904, -0.02110437875621959, -0.008710896341501965, -0.020222844285927813, -0.008777211379894448, -0.03858817126737192, -0.08205095328024238, -0.0387999064107911, -0.055732021027183845, -0.06920066749463938, -0.0397612509796251, 0.04197497552982979, -0.052710486018085076, -0.08649086616204618, -0.010132526287646718], \"y\": [-0.06783068929038884, 0.00384182908800921, -0.17510436423474987, 0.05366747583658199, -0.10841575717984162, -0.011040346579950311, -0.08321462585165564, 0.08147971209750504, -0.008789950455807225, -0.026432894796602446, -0.23018423810055139, -0.06520766397980422, 0.08114463014857028, 0.3183122014077096, 0.06551859585157001, 0.11712021964469205, 0.0015453268594206452, -0.037381880236442684, 0.019473172825380435, -0.14814388744121226, -0.04007789874681544, -0.06049553431897373, -0.018228754502036894, 0.00961571876260665, -0.25787979498447156, 0.11799392077191355, 0.01402987353768596, 0.6651841897035494, -0.01518948669420401, -0.17689264139965302, -0.007905800383657046, -0.24522047643111974, -0.1575923727248976, -0.11576816328025379, -0.19644410738106902, -0.15200117033306715, -0.24656979696534417, -0.01762431065508637, -0.1699517075987149, 0.13205931337757773, 0.0015437630317107645, 0.024378291360857247, 0.03765035049392183, 0.574497355685835, -0.011242671778678168, 0.0039008959923034436, -0.08581077949083353, -0.042132233462892715, -0.22967314594944185, -0.10166254516909963, -0.12620443324908562, -0.14339309720094712, -0.03039845004952652, -0.04343922559835119, 0.09925305928224924, -0.19564455912056364, -0.1839563467841299, -0.15205013048468516, 0.032588509804991665, 0.04700977719700078, -0.04754801763990316, 0.09974567515902505, -0.07032675332756602, 0.09934471242343758, -0.014674722963000913, 0.22294091440460126, -0.08989231318471332, 0.12435875245447671, 0.11745854036692152, -0.0384563776564968, 0.02783023984783218, -0.018340904760808848, 0.633245437690542, -0.00826820645877919, -0.07359678692956907, -0.040421999588457984, -0.03889664044823617, 0.12522177157429865, 0.1347582077732002, 0.1301635218657632, 0.08193751106213117, -0.08189413093435202, 0.051566914593287105, 0.037131705344821166, 0.08047456631519559, 0.051800320934015744, 0.06383583456999083, 0.10756911198496161, 0.029921699094212568, 0.11993197766414453, 0.016131785713865216, -0.16860017611354342, 0.12087956462819778, 0.044349716501616815, -0.07954623229759557, -0.015102578743183694, 0.07747785461216361, -0.035244342303353736, -0.16297695568386025, 0.06909855257768163], \"type\": \"scatter\", \"uid\": \"002d418c-b300-4fc2-93a5-9a5a7d034c65\", \"xaxis\": \"x\", \"yaxis\": \"y\"}, {\"marker\": {\"color\": \"red\", \"size\": 10, \"symbol\": \"cross\"}, \"mode\": \"markers\", \"name\": \"Centroids\", \"x\": [0.5646780378924451, -0.11148128529715136, -0.10000528619073765, -0.08742823476514286, -0.26576323163941307], \"y\": [0.09887724398128732, -0.1933006666347218, -0.16190801117359066, -0.1427168088386942, 0.3990482426657194], \"type\": \"scatter\", \"uid\": \"771ccd7f-c1b4-488b-93fe-37d950a1fcbd\", \"xaxis\": \"x\", \"yaxis\": \"y\"}], {\"xaxis\": {\"anchor\": \"y\", \"domain\": [0.0, 1.0], \"title\": {\"text\": \"Principal Component 1\"}}, \"yaxis\": {\"anchor\": \"x\", \"domain\": [0.0, 1.0], \"title\": {\"text\": \"Principal Component 2\"}}, \"title\": {\"font\": {\"size\": 25}, \"text\": \"100 Greatest Films\"}, \"legend\": {\"font\": {\"size\": 20}, \"bgcolor\": \"#f6f6f6\"}}, {\"showLink\": false, \"linkText\": \"Export to plot.ly\", \"plotlyServerURL\": \"https://plot.ly\"})});</script><script type=\"text/javascript\">window.addEventListener(\"resize\", function(){window._Plotly.Plots.resize(document.getElementById(\"435cd439-946f-45a8-9ce5-f8eedf33687d\"));});</script>"
      ],
      "text/vnd.plotly.v1+html": [
       "<div id=\"435cd439-946f-45a8-9ce5-f8eedf33687d\" style=\"height: 525px; width: 100%;\" class=\"plotly-graph-div\"></div><script type=\"text/javascript\">require([\"plotly\"], function(Plotly) { window.PLOTLYENV=window.PLOTLYENV || {};window.PLOTLYENV.BASE_URL=\"https://plot.ly\";Plotly.newPlot(\"435cd439-946f-45a8-9ce5-f8eedf33687d\", [{\"marker\": {\"color\": [2, 3, 2, 2, 1, 3, 1, 0, 3, 3, 3, 2, 3, 4, 3, 3, 2, 2, 2, 3, 2, 1, 3, 3, 3, 3, 3, 4, 1, 1, 3, 1, 2, 1, 1, 3, 1, 1, 1, 3, 2, 2, 2, 4, 2, 3, 3, 2, 2, 3, 3, 3, 1, 1, 2, 1, 1, 2, 2, 3, 2, 3, 2, 3, 3, 4, 3, 4, 3, 3, 3, 2, 4, 2, 2, 2, 3, 2, 3, 3, 3, 3, 3, 3, 1, 3, 0, 3, 3, 3, 2, 1, 3, 1, 1, 2, 2, 1, 3, 3], \"colorscale\": \"Viridis\", \"size\": 10}, \"mode\": \"markers\", \"name\": \"Movies\", \"text\": [\"The Godfather\", \"The Shawshank Redemption\", \"Schindler's List\", \"Raging Bull\", \"Casablanca\", \"One Flew Over the Cuckoo's Nest\", \"Gone with the Wind\", \"Citizen Kane\", \"The Wizard of Oz\", \"Titanic\", \"Lawrence of Arabia\", \"The Godfather: Part II\", \"Psycho\", \"Sunset Blvd.\", \"Vertigo\", \"On the Waterfront\", \"Forrest Gump\", \"The Sound of Music\", \"West Side Story\", \"Star Wars\", \"E.T. the Extra-Terrestrial\", \"2001: A Space Odyssey\", \"The Silence of the Lambs\", \"Chinatown\", \"The Bridge on the River Kwai\", \"Singin' in the Rain\", \"It's a Wonderful Life\", \"Some Like It Hot\", \"12 Angry Men\", \"Dr. Strangelove or: How I Learned to Stop Worrying and Love the Bomb\", \"Amadeus\", \"Apocalypse Now\", \"Gandhi\", \"The Lord of the Rings: The Return of the King\", \"Gladiator\", \"From Here to Eternity\", \"Saving Private Ryan\", \"Unforgiven\", \"Raiders of the Lost Ark\", \"Rocky\", \"A Streetcar Named Desire\", \"The Philadelphia Story\", \"To Kill a Mockingbird\", \"An American in Paris\", \"The Best Years of Our Lives\", \"My Fair Lady\", \"Ben-Hur\", \"Doctor Zhivago\", \"Patton\", \"Jaws\", \"Braveheart\", \"The Good, the Bad and the Ugly\", \"Butch Cassidy and the Sundance Kid\", \"The Treasure of the Sierra Madre\", \"The Apartment\", \"Platoon\", \"Dances with Wolves\", \"The Pianist\", \"Goodfellas\", \"The Exorcist\", \"The Deer Hunter\", \"The French Connection\", \"The King's Speech\", \"It Happened One Night\", \"A Place in the Sun\", \"Midnight Cowboy\", \"Mr. Smith Goes to Washington\", \"Rain Man\", \"Annie Hall\", \"Out of Africa\", \"Good Will Hunting\", \"Tootsie\", \"Fargo\", \"Giant\", \"The Grapes of Wrath\", \"The Green Mile\", \"Close Encounters of the Third Kind\", \"Nashville\", \"The Graduate\", \"American Graffiti\", \"Pulp Fiction\", \"The African Queen\", \"The Maltese Falcon\", \"A Clockwork Orange\", \"Taxi Driver\", \"Double Indemnity\", \"Rebel Without a Cause\", \"Rear Window\", \"The Third Man\", \"North by Northwest\", \"Yankee Doodle Dandy\", \"All Quiet on the Western Front\", \"City Lights\", \"High Noon\", \"Shane\", \"Network\", \"Terms of Endearment\", \"Stagecoach\", \"Mutiny on the Bounty\", \"Wuthering Heights\"], \"textposition\": \"bottom right\", \"x\": [0.7689656520635243, -0.04919006041504778, -0.05868247705905714, 0.0010010967816316198, -0.10372915309979575, -0.03205274651997496, -0.020524576210553837, -0.007859001921278457, -0.026342482037381387, -0.07360450910397302, -0.12687074055795516, 0.823990028795463, -0.012909499969318085, -0.055985394334108894, -0.025123629865259848, 0.010712272003130588, -0.02374470305319463, -0.07815104938823755, -0.06121316345438579, -0.07636605061359668, 0.5830675339032589, -0.04160767244071315, -0.04025116336681578, -0.017546968689479185, -0.1285956492954737, -0.011831152026350364, 0.028535756368093496, -0.11157721270453883, -0.0509284106487088, -0.10405898911869575, -0.03296330223006995, -0.13097061849355426, -0.09723745527832608, -0.09555543015844636, -0.05439188177428747, -0.06184247509987363, -0.10040721848738515, -0.03381124049102121, -0.1106138394376215, 0.013163759800465864, 0.006610626517357985, 0.04525296370006227, 0.08200663207586262, -0.1060234901633161, -0.03793132722957419, -0.027971711036238956, -0.04919217355001911, 0.01623649823263122, -0.04906322382145342, 0.15936040695722858, -0.037468061318892146, -0.09310869820579741, -0.0872436831725014, -0.07097674548683133, 0.00800171342361328, -0.1001917191386644, -0.1008429799926573, -0.05185068235220631, 0.010206723859226614, 0.05281801151171713, 0.08259233945422409, -0.03927811028925651, 0.029149911012755256, 0.003757021885936857, 0.03434397838725282, -0.04765743404455306, -0.031870710069382774, -0.03382884845691648, -0.0075454429934365035, -0.020021699866713684, -0.022823107105455806, 0.8174866139050521, -0.07012760140078116, 0.014018340977713595, 0.04893924034909923, -0.009833490684993978, -0.02085900830335431, 0.042240333972832236, 0.024803061509047715, 0.01202173570872178, -0.012351787623596415, -0.09178228215982753, -0.008199764221806988, 0.06595888154711783, 0.015511457394677264, -0.025861687903643904, -0.02110437875621959, -0.008710896341501965, -0.020222844285927813, -0.008777211379894448, -0.03858817126737192, -0.08205095328024238, -0.0387999064107911, -0.055732021027183845, -0.06920066749463938, -0.0397612509796251, 0.04197497552982979, -0.052710486018085076, -0.08649086616204618, -0.010132526287646718], \"y\": [-0.06783068929038884, 0.00384182908800921, -0.17510436423474987, 0.05366747583658199, -0.10841575717984162, -0.011040346579950311, -0.08321462585165564, 0.08147971209750504, -0.008789950455807225, -0.026432894796602446, -0.23018423810055139, -0.06520766397980422, 0.08114463014857028, 0.3183122014077096, 0.06551859585157001, 0.11712021964469205, 0.0015453268594206452, -0.037381880236442684, 0.019473172825380435, -0.14814388744121226, -0.04007789874681544, -0.06049553431897373, -0.018228754502036894, 0.00961571876260665, -0.25787979498447156, 0.11799392077191355, 0.01402987353768596, 0.6651841897035494, -0.01518948669420401, -0.17689264139965302, -0.007905800383657046, -0.24522047643111974, -0.1575923727248976, -0.11576816328025379, -0.19644410738106902, -0.15200117033306715, -0.24656979696534417, -0.01762431065508637, -0.1699517075987149, 0.13205931337757773, 0.0015437630317107645, 0.024378291360857247, 0.03765035049392183, 0.574497355685835, -0.011242671778678168, 0.0039008959923034436, -0.08581077949083353, -0.042132233462892715, -0.22967314594944185, -0.10166254516909963, -0.12620443324908562, -0.14339309720094712, -0.03039845004952652, -0.04343922559835119, 0.09925305928224924, -0.19564455912056364, -0.1839563467841299, -0.15205013048468516, 0.032588509804991665, 0.04700977719700078, -0.04754801763990316, 0.09974567515902505, -0.07032675332756602, 0.09934471242343758, -0.014674722963000913, 0.22294091440460126, -0.08989231318471332, 0.12435875245447671, 0.11745854036692152, -0.0384563776564968, 0.02783023984783218, -0.018340904760808848, 0.633245437690542, -0.00826820645877919, -0.07359678692956907, -0.040421999588457984, -0.03889664044823617, 0.12522177157429865, 0.1347582077732002, 0.1301635218657632, 0.08193751106213117, -0.08189413093435202, 0.051566914593287105, 0.037131705344821166, 0.08047456631519559, 0.051800320934015744, 0.06383583456999083, 0.10756911198496161, 0.029921699094212568, 0.11993197766414453, 0.016131785713865216, -0.16860017611354342, 0.12087956462819778, 0.044349716501616815, -0.07954623229759557, -0.015102578743183694, 0.07747785461216361, -0.035244342303353736, -0.16297695568386025, 0.06909855257768163], \"type\": \"scatter\", \"uid\": \"002d418c-b300-4fc2-93a5-9a5a7d034c65\", \"xaxis\": \"x\", \"yaxis\": \"y\"}, {\"marker\": {\"color\": \"red\", \"size\": 10, \"symbol\": \"cross\"}, \"mode\": \"markers\", \"name\": \"Centroids\", \"x\": [0.5646780378924451, -0.11148128529715136, -0.10000528619073765, -0.08742823476514286, -0.26576323163941307], \"y\": [0.09887724398128732, -0.1933006666347218, -0.16190801117359066, -0.1427168088386942, 0.3990482426657194], \"type\": \"scatter\", \"uid\": \"771ccd7f-c1b4-488b-93fe-37d950a1fcbd\", \"xaxis\": \"x\", \"yaxis\": \"y\"}], {\"xaxis\": {\"anchor\": \"y\", \"domain\": [0.0, 1.0], \"title\": {\"text\": \"Principal Component 1\"}}, \"yaxis\": {\"anchor\": \"x\", \"domain\": [0.0, 1.0], \"title\": {\"text\": \"Principal Component 2\"}}, \"title\": {\"font\": {\"size\": 25}, \"text\": \"100 Greatest Films\"}, \"legend\": {\"font\": {\"size\": 20}, \"bgcolor\": \"#f6f6f6\"}}, {\"showLink\": false, \"linkText\": \"Export to plot.ly\", \"plotlyServerURL\": \"https://plot.ly\"})});</script><script type=\"text/javascript\">window.addEventListener(\"resize\", function(){window._Plotly.Plots.resize(document.getElementById(\"435cd439-946f-45a8-9ce5-f8eedf33687d\"));});</script>"
      ]
     },
     "metadata": {},
     "output_type": "display_data"
    }
   ],
   "source": [
    "from plotly.offline import download_plotlyjs, init_notebook_mode, plot, iplot\n",
    "from plotly import tools\n",
    "import plotly.plotly as py\n",
    "import plotly.graph_objs as go\n",
    "\n",
    "init_notebook_mode(connected=True)\n",
    "\n",
    "points = go.Scatter(\n",
    "        x = X_2D[:,0],\n",
    "        y = X_2D[:,1],\n",
    "        name = 'Movies', \n",
    "        mode='markers',\n",
    "        marker=dict(color=clf.labels_, colorscale='Viridis', size=10),\n",
    "        text=movies['title'].tolist(),\n",
    "        textposition='bottom right'\n",
    ")\n",
    "\n",
    "\n",
    "center_points = go.Scatter(\n",
    "         x = centers[:,0], \n",
    "         y = centers[:,1], \n",
    "         mode = 'markers', \n",
    "         marker = dict(size=10, color='red', symbol='cross'),\n",
    "         name = 'Centroids'\n",
    ")\n",
    "\n",
    "\n",
    "fig = tools.make_subplots(rows=1, cols=1)\n",
    "\n",
    "fig.append_trace(points, 1, 1)\n",
    "fig.append_trace(center_points, 1, 1)\n",
    "\n",
    "fig['layout'].update(\n",
    "                     title={'text': '100 Greatest Films', 'font': {'size': 25}}, \n",
    "                     xaxis={'title':'Principal Component 1'}, \n",
    "                     yaxis={'title':'Principal Component 2'},\n",
    "                     legend={'font': {'size': 20},\n",
    "                             'bgcolor':'#f6f6f6'})\n",
    "            \n",
    "iplot(fig, filename='film_synopses_clustering')"
   ]
  },
  {
   "cell_type": "markdown",
   "metadata": {},
   "source": [
    "## Оценка качества\n",
    "\n",
    "Измерить качество по одной из следующих метрик можно только если известны настоящие метки документов. В нашем случае это не так, поэтому просто сгенерируем их – для интерпретации качества смысла никакого, зато понятно, как работают метрики. То же самое касается и [матрицы ошибок](https://www.python-course.eu/confusion_matrix.php).\n",
    "\n",
    "* [Homogenity Score](https://scikit-learn.org/stable/modules/generated/sklearn.metrics.homogeneity_score.html#sklearn.metrics.homogeneity_score)\n",
    "* [Completeness Score](https://scikit-learn.org/stable/modules/generated/sklearn.metrics.completeness_score.html#sklearn.metrics.completeness_score)\n",
    "* [V-Measure](https://scikit-learn.org/stable/modules/generated/sklearn.metrics.v_measure_score.html#sklearn.metrics.v_measure_score)\n",
    "* [Adjusted Rand-Index](https://scikit-learn.org/stable/modules/generated/sklearn.metrics.adjusted_rand_score.html#sklearn.metrics.adjusted_rand_score)\n",
    "* [Adjusted Mutual Information](https://scikit-learn.org/stable/modules/generated/sklearn.metrics.adjusted_mutual_info_score.html#sklearn.metrics.adjusted_mutual_info_score)"
   ]
  },
  {
   "cell_type": "code",
   "execution_count": 21,
   "metadata": {},
   "outputs": [
    {
     "name": "stdout",
     "output_type": "stream",
     "text": [
      "Homogeneity: 0.04119291344816716\n",
      "Completeness: 0.05136875767391293\n",
      "V-measure 0.04572149061592733\n",
      "Adjusted Rand-Index: -0.010257885150033575\n",
      "Adjusted Mutual Information: -0.014751611745389128\n"
     ]
    },
    {
     "name": "stderr",
     "output_type": "stream",
     "text": [
      "C:\\Users\\ancatmara\\Anaconda3\\lib\\site-packages\\sklearn\\metrics\\cluster\\supervised.py:732: FutureWarning:\n",
      "\n",
      "The behavior of AMI will change in version 0.22. To match the behavior of 'v_measure_score', AMI will use average_method='arithmetic' by default.\n",
      "\n"
     ]
    }
   ],
   "source": [
    "target = np.random.randint(0,5, size=100)\n",
    "\n",
    "print(\"Homogeneity:\", homogeneity_score(target, clf.labels_))\n",
    "print(\"Completeness:\", completeness_score(target, clf.labels_))\n",
    "print(\"V-measure\",  v_measure_score(target, clf.labels_))\n",
    "print(\"Adjusted Rand-Index:\",  adjusted_rand_score(target, clf.labels_))\n",
    "print(\"Adjusted Mutual Information:\",  adjusted_mutual_info_score(target, clf.labels_))"
   ]
  },
  {
   "cell_type": "markdown",
   "metadata": {},
   "source": [
    "#### Матрица ошибок\n",
    "\n",
    "Строки – настоящая метка, столбцы – предсказанная. Т.е. в левом верхнем углу документы из кластера 0, которые были определены как 0, следующая ячейка в этой строке – документы класса 0, предсказанные как 1 и т.п. В каждом квадратике показано число соответствующих примеров, и чем больше их, тем темнее цвет.\n",
    "\n",
    "**NB!** В данном случае \"настоящие метки\" сгенерированы искусственно, поэтому интерпретировать картинку с точки зрения здравого смысла – бессмысленно."
   ]
  },
  {
   "cell_type": "code",
   "execution_count": 22,
   "metadata": {},
   "outputs": [
    {
     "data": {
      "image/png": "[encoded data removed]",
      "text/plain": [
       "<Figure size 360x360 with 1 Axes>"
      ]
     },
     "metadata": {},
     "output_type": "display_data"
    }
   ],
   "source": [
    "import seaborn as sns\n",
    "\n",
    "m = confusion_matrix(target, clf.labels_)\n",
    "\n",
    "plt.figure(figsize = (5,5))\n",
    "sns.heatmap(data=m, annot=True, fmt=\"d\", cbar=False, cmap=\"Greens\")\n",
    "plt.title(\"Confusion Matrix\")\n",
    "plt.xlabel('Predicted')\n",
    "plt.ylabel('True')\n",
    "plt.show()"
   ]
  },
  {
   "cell_type": "markdown",
   "metadata": {},
   "source": [
    "Идеальная матрица ошибок – диагональная."
   ]
  },
  {
   "cell_type": "code",
   "execution_count": 23,
   "metadata": {},
   "outputs": [
    {
     "data": {
      "image/png": "[encoded data removed]",
      "text/plain": [
       "<Figure size 360x360 with 1 Axes>"
      ]
     },
     "metadata": {},
     "output_type": "display_data"
    }
   ],
   "source": [
    "plt.figure(figsize = (5,5))\n",
    "sns.heatmap(data=confusion_matrix([0,1,2,3,4,5,0,1,2,3,4,5], [5,1,2,3,4,5,0,1,2,3,2,5]), \n",
    "            annot=True, fmt=\"d\", cbar=False, cmap=\"Greens\")\n",
    "plt.title(\"(Almost) Ideal Confusion Matrix\")\n",
    "plt.xlabel('Predicted')\n",
    "plt.ylabel('True')\n",
    "plt.show()"
   ]
  },
  {
   "cell_type": "markdown",
   "metadata": {},
   "source": [
    "## Agglomerative Clustering\n",
    "\n",
    "Другой алгоритм на уже подготовленных данных."
   ]
  },
  {
   "cell_type": "code",
   "execution_count": 25,
   "metadata": {},
   "outputs": [
    {
     "data": {
      "image/png": "[encoded data removed]",
      "text/plain": [
       "<Figure size 1440x504 with 1 Axes>"
      ]
     },
     "metadata": {},
     "output_type": "display_data"
    }
   ],
   "source": [
    "from scipy.cluster.hierarchy import dendrogram\n",
    "\n",
    "def plot_dendrogram(model, **kwargs):\n",
    "    children = model.children_\n",
    "    distance = np.arange(children.shape[0])\n",
    "    no_of_observations = np.arange(2, children.shape[0]+2)\n",
    "    linkage_matrix = np.column_stack([children, distance, no_of_observations]).astype(float)\n",
    "    dendrogram(linkage_matrix, **kwargs)\n",
    "\n",
    "clf2 = AgglomerativeClustering()\n",
    "clf2.fit(X.toarray())\n",
    "\n",
    "sns.set_style(style='whitegrid')\n",
    "plt.figure(figsize = (20,7))\n",
    "plt.grid(False)\n",
    "plt.title('100 Greatest Films')\n",
    "plot_dendrogram(clf2, labels=movies['title'].tolist())\n",
    "plt.show()"
   ]
  },
  {
   "cell_type": "markdown",
   "metadata": {},
   "source": [
    "В plotly тоже есть дендрограммы, в которые уже зашита кластеризация. Но их, как и предыдущий график из plotly, просто так не увидишь."
   ]
  },
  {
   "cell_type": "code",
   "execution_count": 26,
   "metadata": {},
   "outputs": [
    {
     "data": {
      "application/vnd.plotly.v1+json": {
       "config": {
        "linkText": "Export to plot.ly",
        "plotlyServerURL": "https://plot.ly",
        "showLink": false
       },
       "data": [
        {
         "hoverinfo": "text",
         "marker": {
          "color": "rgb(61,153,112)"
         },
         "mode": "lines",
         "type": "scatter",
         "uid": "19a9639e-80dd-4515-946a-b03c39f7299b",
         "x": [
          25,
          25,
          35,
          35
         ],
         "xaxis": "x",
         "y": [
          0,
          0.047315827425166164,
          0.047315827425166164,
          0
         ],
         "yaxis": "y"
        },
        {
         "hoverinfo": "text",
         "marker": {
          "color": "rgb(61,153,112)"
         },
         "mode": "lines",
         "type": "scatter",
         "uid": "d87f525b-25a2-4219-8671-dc8c1222ed07",
         "x": [
          15,
          15,
          30,
          30
         ],
         "xaxis": "x",
         "y": [
          0,
          0.06930744917259074,
          0.06930744917259074,
          0.047315827425166164
         ],
         "yaxis": "y"
        },
        {
         "hoverinfo": "text",
         "marker": {
          "color": "rgb(61,153,112)"
         },
         "mode": "lines",
         "type": "scatter",
         "uid": "d75e5819-8e22-4729-87e2-399db080900e",
         "x": [
          5,
          5,
          22.5,
          22.5
         ],
         "xaxis": "x",
         "y": [
          0,
          0.24222954742505967,
          0.24222954742505967,
          0.06930744917259074
         ],
         "yaxis": "y"
        },
        {
         "hoverinfo": "text",
         "marker": {
          "color": "rgb(255,65,54)"
         },
         "mode": "lines",
         "type": "scatter",
         "uid": "9f98e51d-ca9e-4700-83a5-73fb32a6df49",
         "x": [
          65,
          65,
          75,
          75
         ],
         "xaxis": "x",
         "y": [
          0,
          0.0128801717739737,
          0.0128801717739737,
          0
         ],
         "yaxis": "y"
        },
        {
         "hoverinfo": "text",
         "marker": {
          "color": "rgb(255,65,54)"
         },
         "mode": "lines",
         "type": "scatter",
         "uid": "65dc938f-0a56-48ef-a8a3-a5c0177795e3",
         "x": [
          55,
          55,
          70,
          70
         ],
         "xaxis": "x",
         "y": [
          0,
          0.027749219471243255,
          0.027749219471243255,
          0.0128801717739737
         ],
         "yaxis": "y"
        },
        {
         "hoverinfo": "text",
         "marker": {
          "color": "rgb(255,65,54)"
         },
         "mode": "lines",
         "type": "scatter",
         "uid": "a5e6221e-d282-478d-92ee-b9e4c43c960f",
         "x": [
          45,
          45,
          62.5,
          62.5
         ],
         "xaxis": "x",
         "y": [
          0,
          0.031125625129322876,
          0.031125625129322876,
          0.027749219471243255
         ],
         "yaxis": "y"
        },
        {
         "hoverinfo": "text",
         "marker": {
          "color": "rgb(255,65,54)"
         },
         "mode": "lines",
         "type": "scatter",
         "uid": "488594da-46f0-4d31-9df3-49d52ebb0468",
         "x": [
          85,
          85,
          95,
          95
         ],
         "xaxis": "x",
         "y": [
          0,
          0.01478736150802484,
          0.01478736150802484,
          0
         ],
         "yaxis": "y"
        },
        {
         "hoverinfo": "text",
         "marker": {
          "color": "rgb(255,65,54)"
         },
         "mode": "lines",
         "type": "scatter",
         "uid": "ac91b274-cca0-49d3-a9fc-54164387c11e",
         "x": [
          115,
          115,
          125,
          125
         ],
         "xaxis": "x",
         "y": [
          0,
          0.007164735473052262,
          0.007164735473052262,
          0
         ],
         "yaxis": "y"
        },
        {
         "hoverinfo": "text",
         "marker": {
          "color": "rgb(255,65,54)"
         },
         "mode": "lines",
         "type": "scatter",
         "uid": "e0453d8e-057b-471d-bfc9-8d0494cb6899",
         "x": [
          105,
          105,
          120,
          120
         ],
         "xaxis": "x",
         "y": [
          0,
          0.02123152996312275,
          0.02123152996312275,
          0.007164735473052262
         ],
         "yaxis": "y"
        },
        {
         "hoverinfo": "text",
         "marker": {
          "color": "rgb(255,65,54)"
         },
         "mode": "lines",
         "type": "scatter",
         "uid": "6b3f6aaf-c616-481e-a27a-17c18deb9cb6",
         "x": [
          90,
          90,
          112.5,
          112.5
         ],
         "xaxis": "x",
         "y": [
          0.01478736150802484,
          0.027525816066821616,
          0.027525816066821616,
          0.02123152996312275
         ],
         "yaxis": "y"
        },
        {
         "hoverinfo": "text",
         "marker": {
          "color": "rgb(255,65,54)"
         },
         "mode": "lines",
         "type": "scatter",
         "uid": "4e74a1ed-62a2-46ab-b1a2-3693e43923f1",
         "x": [
          155,
          155,
          165,
          165
         ],
         "xaxis": "x",
         "y": [
          0,
          0.00776135609654976,
          0.00776135609654976,
          0
         ],
         "yaxis": "y"
        },
        {
         "hoverinfo": "text",
         "marker": {
          "color": "rgb(255,65,54)"
         },
         "mode": "lines",
         "type": "scatter",
         "uid": "1483f583-d943-4e99-884e-b5be282ac766",
         "x": [
          145,
          145,
          160,
          160
         ],
         "xaxis": "x",
         "y": [
          0,
          0.01707628803361279,
          0.01707628803361279,
          0.00776135609654976
         ],
         "yaxis": "y"
        },
        {
         "hoverinfo": "text",
         "marker": {
          "color": "rgb(255,65,54)"
         },
         "mode": "lines",
         "type": "scatter",
         "uid": "143dd236-0c8e-4f85-b06c-c9d6b1b5e4ff",
         "x": [
          135,
          135,
          152.5,
          152.5
         ],
         "xaxis": "x",
         "y": [
          0,
          0.027726218834339802,
          0.027726218834339802,
          0.01707628803361279
         ],
         "yaxis": "y"
        },
        {
         "hoverinfo": "text",
         "marker": {
          "color": "rgb(255,65,54)"
         },
         "mode": "lines",
         "type": "scatter",
         "uid": "53ee2bb4-a8ab-42ee-87b9-abf26eeedecd",
         "x": [
          101.25,
          101.25,
          143.75,
          143.75
         ],
         "xaxis": "x",
         "y": [
          0.027525816066821616,
          0.05314109794364373,
          0.05314109794364373,
          0.027726218834339802
         ],
         "yaxis": "y"
        },
        {
         "hoverinfo": "text",
         "marker": {
          "color": "rgb(255,65,54)"
         },
         "mode": "lines",
         "type": "scatter",
         "uid": "073206bf-2dbb-48dc-8de0-cd8001f3a42a",
         "x": [
          185,
          185,
          195,
          195
         ],
         "xaxis": "x",
         "y": [
          0,
          0.021766806046100623,
          0.021766806046100623,
          0
         ],
         "yaxis": "y"
        },
        {
         "hoverinfo": "text",
         "marker": {
          "color": "rgb(255,65,54)"
         },
         "mode": "lines",
         "type": "scatter",
         "uid": "2cae34cc-8b5c-4aa6-b789-e0453d0697bd",
         "x": [
          175,
          175,
          190,
          190
         ],
         "xaxis": "x",
         "y": [
          0,
          0.05541012516386199,
          0.05541012516386199,
          0.021766806046100623
         ],
         "yaxis": "y"
        },
        {
         "hoverinfo": "text",
         "marker": {
          "color": "rgb(255,65,54)"
         },
         "mode": "lines",
         "type": "scatter",
         "uid": "1a7ddb1f-26e3-4b65-bf02-69db604f017a",
         "x": [
          122.5,
          122.5,
          182.5,
          182.5
         ],
         "xaxis": "x",
         "y": [
          0.05314109794364373,
          0.09687234190306607,
          0.09687234190306607,
          0.05541012516386199
         ],
         "yaxis": "y"
        },
        {
         "hoverinfo": "text",
         "marker": {
          "color": "rgb(255,65,54)"
         },
         "mode": "lines",
         "type": "scatter",
         "uid": "bdcccef4-f5c3-4647-997b-08a54f97d5c5",
         "x": [
          53.75,
          53.75,
          152.5,
          152.5
         ],
         "xaxis": "x",
         "y": [
          0.031125625129322876,
          0.12153147897895707,
          0.12153147897895707,
          0.09687234190306607
         ],
         "yaxis": "y"
        },
        {
         "hoverinfo": "text",
         "marker": {
          "color": "rgb(255,65,54)"
         },
         "mode": "lines",
         "type": "scatter",
         "uid": "950d7ead-3853-4b85-b84b-66058a6539dd",
         "x": [
          205,
          205,
          215,
          215
         ],
         "xaxis": "x",
         "y": [
          0,
          0.0033369999265642322,
          0.0033369999265642322,
          0
         ],
         "yaxis": "y"
        },
        {
         "hoverinfo": "text",
         "marker": {
          "color": "rgb(255,65,54)"
         },
         "mode": "lines",
         "type": "scatter",
         "uid": "9be02656-f02b-4e34-9822-97f85d871a95",
         "x": [
          235,
          235,
          245,
          245
         ],
         "xaxis": "x",
         "y": [
          0,
          0.004839039411754224,
          0.004839039411754224,
          0
         ],
         "yaxis": "y"
        },
        {
         "hoverinfo": "text",
         "marker": {
          "color": "rgb(255,65,54)"
         },
         "mode": "lines",
         "type": "scatter",
         "uid": "54ef919e-9364-4ae2-87a6-e3db6af5e2e8",
         "x": [
          225,
          225,
          240,
          240
         ],
         "xaxis": "x",
         "y": [
          0,
          0.01188841672773555,
          0.01188841672773555,
          0.004839039411754224
         ],
         "yaxis": "y"
        },
        {
         "hoverinfo": "text",
         "marker": {
          "color": "rgb(255,65,54)"
         },
         "mode": "lines",
         "type": "scatter",
         "uid": "ba3d1602-7f15-468c-b059-1db08d91f4b3",
         "x": [
          210,
          210,
          232.5,
          232.5
         ],
         "xaxis": "x",
         "y": [
          0.0033369999265642322,
          0.028594090130375616,
          0.028594090130375616,
          0.01188841672773555
         ],
         "yaxis": "y"
        },
        {
         "hoverinfo": "text",
         "marker": {
          "color": "rgb(255,65,54)"
         },
         "mode": "lines",
         "type": "scatter",
         "uid": "83b84f9f-9cf5-4788-b2f6-ba2efd9b56b9",
         "x": [
          275,
          275,
          285,
          285
         ],
         "xaxis": "x",
         "y": [
          0,
          0.016230929959956984,
          0.016230929959956984,
          0
         ],
         "yaxis": "y"
        },
        {
         "hoverinfo": "text",
         "marker": {
          "color": "rgb(255,65,54)"
         },
         "mode": "lines",
         "type": "scatter",
         "uid": "92e1f641-65fd-49fc-8145-8620ada00201",
         "x": [
          265,
          265,
          280,
          280
         ],
         "xaxis": "x",
         "y": [
          0,
          0.022870398756721283,
          0.022870398756721283,
          0.016230929959956984
         ],
         "yaxis": "y"
        },
        {
         "hoverinfo": "text",
         "marker": {
          "color": "rgb(255,65,54)"
         },
         "mode": "lines",
         "type": "scatter",
         "uid": "e7621415-8e0a-4b2d-93ba-e5d23a553831",
         "x": [
          255,
          255,
          272.5,
          272.5
         ],
         "xaxis": "x",
         "y": [
          0,
          0.04103274535495095,
          0.04103274535495095,
          0.022870398756721283
         ],
         "yaxis": "y"
        },
        {
         "hoverinfo": "text",
         "marker": {
          "color": "rgb(255,65,54)"
         },
         "mode": "lines",
         "type": "scatter",
         "uid": "81326bf1-7a22-4cd5-9a75-62332dca53f0",
         "x": [
          221.25,
          221.25,
          263.75,
          263.75
         ],
         "xaxis": "x",
         "y": [
          0.028594090130375616,
          0.053435983043358004,
          0.053435983043358004,
          0.04103274535495095
         ],
         "yaxis": "y"
        },
        {
         "hoverinfo": "text",
         "marker": {
          "color": "rgb(255,65,54)"
         },
         "mode": "lines",
         "type": "scatter",
         "uid": "0948fe79-3622-4ac5-9991-ccc7fd6bf8bb",
         "x": [
          305,
          305,
          315,
          315
         ],
         "xaxis": "x",
         "y": [
          0,
          0.009437595071914766,
          0.009437595071914766,
          0
         ],
         "yaxis": "y"
        },
        {
         "hoverinfo": "text",
         "marker": {
          "color": "rgb(255,65,54)"
         },
         "mode": "lines",
         "type": "scatter",
         "uid": "55d8d33d-76da-4f40-b443-61af81de6d62",
         "x": [
          295,
          295,
          310,
          310
         ],
         "xaxis": "x",
         "y": [
          0,
          0.026438204397909237,
          0.026438204397909237,
          0.009437595071914766
         ],
         "yaxis": "y"
        },
        {
         "hoverinfo": "text",
         "marker": {
          "color": "rgb(255,65,54)"
         },
         "mode": "lines",
         "type": "scatter",
         "uid": "8aff34c1-c77b-42b4-b1cf-fa917c187db9",
         "x": [
          345,
          345,
          355,
          355
         ],
         "xaxis": "x",
         "y": [
          0,
          0.0009693828983737636,
          0.0009693828983737636,
          0
         ],
         "yaxis": "y"
        },
        {
         "hoverinfo": "text",
         "marker": {
          "color": "rgb(255,65,54)"
         },
         "mode": "lines",
         "type": "scatter",
         "uid": "1ca1a912-e6df-4fdd-978c-3a8e1ff39131",
         "x": [
          335,
          335,
          350,
          350
         ],
         "xaxis": "x",
         "y": [
          0,
          0.005061601569242093,
          0.005061601569242093,
          0.0009693828983737636
         ],
         "yaxis": "y"
        },
        {
         "hoverinfo": "text",
         "marker": {
          "color": "rgb(255,65,54)"
         },
         "mode": "lines",
         "type": "scatter",
         "uid": "1ff6aa3b-fae4-44cb-adae-dc28e5ad2fb9",
         "x": [
          325,
          325,
          342.5,
          342.5
         ],
         "xaxis": "x",
         "y": [
          0,
          0.013029350553372178,
          0.013029350553372178,
          0.005061601569242093
         ],
         "yaxis": "y"
        },
        {
         "hoverinfo": "text",
         "marker": {
          "color": "rgb(255,65,54)"
         },
         "mode": "lines",
         "type": "scatter",
         "uid": "d972f9a2-5a1f-465a-bc25-568ad067a8c6",
         "x": [
          375,
          375,
          385,
          385
         ],
         "xaxis": "x",
         "y": [
          0,
          0.004357300197175236,
          0.004357300197175236,
          0
         ],
         "yaxis": "y"
        },
        {
         "hoverinfo": "text",
         "marker": {
          "color": "rgb(255,65,54)"
         },
         "mode": "lines",
         "type": "scatter",
         "uid": "ae5ea4c9-1469-4fe4-82c5-35870a465c0f",
         "x": [
          365,
          365,
          380,
          380
         ],
         "xaxis": "x",
         "y": [
          0,
          0.013738114731709798,
          0.013738114731709798,
          0.004357300197175236
         ],
         "yaxis": "y"
        },
        {
         "hoverinfo": "text",
         "marker": {
          "color": "rgb(255,65,54)"
         },
         "mode": "lines",
         "type": "scatter",
         "uid": "1167c616-8b8a-48c7-b56e-ef91a1a80130",
         "x": [
          333.75,
          333.75,
          372.5,
          372.5
         ],
         "xaxis": "x",
         "y": [
          0.013029350553372178,
          0.03471257643009323,
          0.03471257643009323,
          0.013738114731709798
         ],
         "yaxis": "y"
        },
        {
         "hoverinfo": "text",
         "marker": {
          "color": "rgb(255,65,54)"
         },
         "mode": "lines",
         "type": "scatter",
         "uid": "50d9fb58-3ede-42aa-874d-cb3401cb5942",
         "x": [
          302.5,
          302.5,
          353.125,
          353.125
         ],
         "xaxis": "x",
         "y": [
          0.026438204397909237,
          0.054260578373233496,
          0.054260578373233496,
          0.03471257643009323
         ],
         "yaxis": "y"
        },
        {
         "hoverinfo": "text",
         "marker": {
          "color": "rgb(255,65,54)"
         },
         "mode": "lines",
         "type": "scatter",
         "uid": "05f20222-0072-4ae4-81b9-49fa7011729d",
         "x": [
          242.5,
          242.5,
          327.8125,
          327.8125
         ],
         "xaxis": "x",
         "y": [
          0.053435983043358004,
          0.08795394973741397,
          0.08795394973741397,
          0.054260578373233496
         ],
         "yaxis": "y"
        },
        {
         "hoverinfo": "text",
         "marker": {
          "color": "rgb(255,65,54)"
         },
         "mode": "lines",
         "type": "scatter",
         "uid": "ae127b42-15a0-4e56-a896-d691024281fd",
         "x": [
          405,
          405,
          415,
          415
         ],
         "xaxis": "x",
         "y": [
          0,
          0.00606763257879938,
          0.00606763257879938,
          0
         ],
         "yaxis": "y"
        },
        {
         "hoverinfo": "text",
         "marker": {
          "color": "rgb(255,65,54)"
         },
         "mode": "lines",
         "type": "scatter",
         "uid": "247a12de-831b-4077-bcb5-1314cc806ca0",
         "x": [
          395,
          395,
          410,
          410
         ],
         "xaxis": "x",
         "y": [
          0,
          0.025209086228367657,
          0.025209086228367657,
          0.00606763257879938
         ],
         "yaxis": "y"
        },
        {
         "hoverinfo": "text",
         "marker": {
          "color": "rgb(255,65,54)"
         },
         "mode": "lines",
         "type": "scatter",
         "uid": "56f54389-e15e-453f-85b9-a6c7bd6e0c04",
         "x": [
          445,
          445,
          455,
          455
         ],
         "xaxis": "x",
         "y": [
          0,
          0.0027631766901830674,
          0.0027631766901830674,
          0
         ],
         "yaxis": "y"
        },
        {
         "hoverinfo": "text",
         "marker": {
          "color": "rgb(255,65,54)"
         },
         "mode": "lines",
         "type": "scatter",
         "uid": "2ff251f5-de66-4bb4-9c8d-cc443b2411aa",
         "x": [
          435,
          435,
          450,
          450
         ],
         "xaxis": "x",
         "y": [
          0,
          0.004319020038486611,
          0.004319020038486611,
          0.0027631766901830674
         ],
         "yaxis": "y"
        },
        {
         "hoverinfo": "text",
         "marker": {
          "color": "rgb(255,65,54)"
         },
         "mode": "lines",
         "type": "scatter",
         "uid": "f3922c57-8446-4497-8ab8-8360b6a8e23e",
         "x": [
          425,
          425,
          442.5,
          442.5
         ],
         "xaxis": "x",
         "y": [
          0,
          0.012363043536517855,
          0.012363043536517855,
          0.004319020038486611
         ],
         "yaxis": "y"
        },
        {
         "hoverinfo": "text",
         "marker": {
          "color": "rgb(255,65,54)"
         },
         "mode": "lines",
         "type": "scatter",
         "uid": "162a574e-ee9c-4cfe-9ae1-838cea7536e1",
         "x": [
          475,
          475,
          485,
          485
         ],
         "xaxis": "x",
         "y": [
          0,
          0.00424568092869819,
          0.00424568092869819,
          0
         ],
         "yaxis": "y"
        },
        {
         "hoverinfo": "text",
         "marker": {
          "color": "rgb(255,65,54)"
         },
         "mode": "lines",
         "type": "scatter",
         "uid": "9cf61a60-169b-4cfc-9bc5-37b16d676767",
         "x": [
          465,
          465,
          480,
          480
         ],
         "xaxis": "x",
         "y": [
          0,
          0.019087801370655376,
          0.019087801370655376,
          0.00424568092869819
         ],
         "yaxis": "y"
        },
        {
         "hoverinfo": "text",
         "marker": {
          "color": "rgb(255,65,54)"
         },
         "mode": "lines",
         "type": "scatter",
         "uid": "dc4272c6-7886-4dad-9a1c-3c64a57a53ab",
         "x": [
          433.75,
          433.75,
          472.5,
          472.5
         ],
         "xaxis": "x",
         "y": [
          0.012363043536517855,
          0.027286671496009628,
          0.027286671496009628,
          0.019087801370655376
         ],
         "yaxis": "y"
        },
        {
         "hoverinfo": "text",
         "marker": {
          "color": "rgb(255,65,54)"
         },
         "mode": "lines",
         "type": "scatter",
         "uid": "04dd3467-bb98-4260-88e5-7041be18b11b",
         "x": [
          402.5,
          402.5,
          453.125,
          453.125
         ],
         "xaxis": "x",
         "y": [
          0.025209086228367657,
          0.05292365367039044,
          0.05292365367039044,
          0.027286671496009628
         ],
         "yaxis": "y"
        },
        {
         "hoverinfo": "text",
         "marker": {
          "color": "rgb(255,65,54)"
         },
         "mode": "lines",
         "type": "scatter",
         "uid": "3124cbaf-5008-4ed6-89ad-d3aeba2cbe26",
         "x": [
          495,
          495,
          505,
          505
         ],
         "xaxis": "x",
         "y": [
          0,
          0.026632650508738996,
          0.026632650508738996,
          0
         ],
         "yaxis": "y"
        },
        {
         "hoverinfo": "text",
         "marker": {
          "color": "rgb(255,65,54)"
         },
         "mode": "lines",
         "type": "scatter",
         "uid": "a3d24e5d-62dd-4cde-8d48-18aa6e45e754",
         "x": [
          535,
          535,
          545,
          545
         ],
         "xaxis": "x",
         "y": [
          0,
          0.0022131977955871843,
          0.0022131977955871843,
          0
         ],
         "yaxis": "y"
        },
        {
         "hoverinfo": "text",
         "marker": {
          "color": "rgb(255,65,54)"
         },
         "mode": "lines",
         "type": "scatter",
         "uid": "67d22248-8e3a-4ae9-9195-cdd2c9cbb01e",
         "x": [
          525,
          525,
          540,
          540
         ],
         "xaxis": "x",
         "y": [
          0,
          0.013582099535862547,
          0.013582099535862547,
          0.0022131977955871843
         ],
         "yaxis": "y"
        },
        {
         "hoverinfo": "text",
         "marker": {
          "color": "rgb(255,65,54)"
         },
         "mode": "lines",
         "type": "scatter",
         "uid": "11f7585c-4966-4c91-87e7-fd7a4dfba18e",
         "x": [
          515,
          515,
          532.5,
          532.5
         ],
         "xaxis": "x",
         "y": [
          0,
          0.030620002890118892,
          0.030620002890118892,
          0.013582099535862547
         ],
         "yaxis": "y"
        },
        {
         "hoverinfo": "text",
         "marker": {
          "color": "rgb(255,65,54)"
         },
         "mode": "lines",
         "type": "scatter",
         "uid": "396fdc3a-5721-40cb-b1cb-619c67bc794b",
         "x": [
          500,
          500,
          523.75,
          523.75
         ],
         "xaxis": "x",
         "y": [
          0.026632650508738996,
          0.06171889332096412,
          0.06171889332096412,
          0.030620002890118892
         ],
         "yaxis": "y"
        },
        {
         "hoverinfo": "text",
         "marker": {
          "color": "rgb(255,65,54)"
         },
         "mode": "lines",
         "type": "scatter",
         "uid": "03ba679e-a9f8-4300-8db0-2007b398cca4",
         "x": [
          427.8125,
          427.8125,
          511.875,
          511.875
         ],
         "xaxis": "x",
         "y": [
          0.05292365367039044,
          0.0916967283213374,
          0.0916967283213374,
          0.06171889332096412
         ],
         "yaxis": "y"
        },
        {
         "hoverinfo": "text",
         "marker": {
          "color": "rgb(255,65,54)"
         },
         "mode": "lines",
         "type": "scatter",
         "uid": "25bd51b2-e86c-4c18-ad63-1d77cc90f801",
         "x": [
          285.15625,
          285.15625,
          469.84375,
          469.84375
         ],
         "xaxis": "x",
         "y": [
          0.08795394973741397,
          0.15196251990506807,
          0.15196251990506807,
          0.0916967283213374
         ],
         "yaxis": "y"
        },
        {
         "hoverinfo": "text",
         "marker": {
          "color": "rgb(255,65,54)"
         },
         "mode": "lines",
         "type": "scatter",
         "uid": "ab7ac310-6ec3-4d39-b188-83427f26805f",
         "x": [
          565,
          565,
          575,
          575
         ],
         "xaxis": "x",
         "y": [
          0,
          0.010993981180051168,
          0.010993981180051168,
          0
         ],
         "yaxis": "y"
        },
        {
         "hoverinfo": "text",
         "marker": {
          "color": "rgb(255,65,54)"
         },
         "mode": "lines",
         "type": "scatter",
         "uid": "b4b342d5-7296-4faa-a06a-7b54e602cd66",
         "x": [
          555,
          555,
          570,
          570
         ],
         "xaxis": "x",
         "y": [
          0,
          0.03408352553933763,
          0.03408352553933763,
          0.010993981180051168
         ],
         "yaxis": "y"
        },
        {
         "hoverinfo": "text",
         "marker": {
          "color": "rgb(255,65,54)"
         },
         "mode": "lines",
         "type": "scatter",
         "uid": "16ba1a44-70e9-40a0-b284-bd1bbf2afbfb",
         "x": [
          595,
          595,
          605,
          605
         ],
         "xaxis": "x",
         "y": [
          0,
          0.0099919127002183,
          0.0099919127002183,
          0
         ],
         "yaxis": "y"
        },
        {
         "hoverinfo": "text",
         "marker": {
          "color": "rgb(255,65,54)"
         },
         "mode": "lines",
         "type": "scatter",
         "uid": "6b1be060-4083-4425-aac9-abad5e5137fb",
         "x": [
          585,
          585,
          600,
          600
         ],
         "xaxis": "x",
         "y": [
          0,
          0.035490614130310114,
          0.035490614130310114,
          0.0099919127002183
         ],
         "yaxis": "y"
        },
        {
         "hoverinfo": "text",
         "marker": {
          "color": "rgb(255,65,54)"
         },
         "mode": "lines",
         "type": "scatter",
         "uid": "009da73a-b2a7-4608-8d55-4e3a22c429c3",
         "x": [
          562.5,
          562.5,
          592.5,
          592.5
         ],
         "xaxis": "x",
         "y": [
          0.03408352553933763,
          0.08072420291401061,
          0.08072420291401061,
          0.035490614130310114
         ],
         "yaxis": "y"
        },
        {
         "hoverinfo": "text",
         "marker": {
          "color": "rgb(255,65,54)"
         },
         "mode": "lines",
         "type": "scatter",
         "uid": "7e61d6a9-ee2e-4475-9347-db40dc9d6f47",
         "x": [
          615,
          615,
          625,
          625
         ],
         "xaxis": "x",
         "y": [
          0,
          0.0209662677047731,
          0.0209662677047731,
          0
         ],
         "yaxis": "y"
        },
        {
         "hoverinfo": "text",
         "marker": {
          "color": "rgb(255,65,54)"
         },
         "mode": "lines",
         "type": "scatter",
         "uid": "99a8fa04-b286-4d92-b3b2-ecc79e0c38ec",
         "x": [
          645,
          645,
          655,
          655
         ],
         "xaxis": "x",
         "y": [
          0,
          0.013165343203294906,
          0.013165343203294906,
          0
         ],
         "yaxis": "y"
        },
        {
         "hoverinfo": "text",
         "marker": {
          "color": "rgb(255,65,54)"
         },
         "mode": "lines",
         "type": "scatter",
         "uid": "02864128-8852-4204-9c13-f9308af69ae0",
         "x": [
          635,
          635,
          650,
          650
         ],
         "xaxis": "x",
         "y": [
          0,
          0.030994419928763572,
          0.030994419928763572,
          0.013165343203294906
         ],
         "yaxis": "y"
        },
        {
         "hoverinfo": "text",
         "marker": {
          "color": "rgb(255,65,54)"
         },
         "mode": "lines",
         "type": "scatter",
         "uid": "78f87517-eaa3-4097-bbd8-049cb7b44c8d",
         "x": [
          620,
          620,
          642.5,
          642.5
         ],
         "xaxis": "x",
         "y": [
          0.0209662677047731,
          0.048814126786864656,
          0.048814126786864656,
          0.030994419928763572
         ],
         "yaxis": "y"
        },
        {
         "hoverinfo": "text",
         "marker": {
          "color": "rgb(255,65,54)"
         },
         "mode": "lines",
         "type": "scatter",
         "uid": "c2296fef-b725-4671-96c1-cb568b99f730",
         "x": [
          665,
          665,
          675,
          675
         ],
         "xaxis": "x",
         "y": [
          0,
          0.00938946586889622,
          0.00938946586889622,
          0
         ],
         "yaxis": "y"
        },
        {
         "hoverinfo": "text",
         "marker": {
          "color": "rgb(255,65,54)"
         },
         "mode": "lines",
         "type": "scatter",
         "uid": "e7c15c86-c60b-4949-8ce1-586a01d04b35",
         "x": [
          685,
          685,
          695,
          695
         ],
         "xaxis": "x",
         "y": [
          0,
          0.014203967675815471,
          0.014203967675815471,
          0
         ],
         "yaxis": "y"
        },
        {
         "hoverinfo": "text",
         "marker": {
          "color": "rgb(255,65,54)"
         },
         "mode": "lines",
         "type": "scatter",
         "uid": "9ff01899-b941-49de-b824-ab969bc3abfc",
         "x": [
          670,
          670,
          690,
          690
         ],
         "xaxis": "x",
         "y": [
          0.00938946586889622,
          0.020848863004593238,
          0.020848863004593238,
          0.014203967675815471
         ],
         "yaxis": "y"
        },
        {
         "hoverinfo": "text",
         "marker": {
          "color": "rgb(255,65,54)"
         },
         "mode": "lines",
         "type": "scatter",
         "uid": "5dbdba2f-abd2-4e2d-9ce7-b812206386ee",
         "x": [
          715,
          715,
          725,
          725
         ],
         "xaxis": "x",
         "y": [
          0,
          0.0031643307384602287,
          0.0031643307384602287,
          0
         ],
         "yaxis": "y"
        },
        {
         "hoverinfo": "text",
         "marker": {
          "color": "rgb(255,65,54)"
         },
         "mode": "lines",
         "type": "scatter",
         "uid": "99f8b84e-00d1-457a-bde9-3ffc463cf6f3",
         "x": [
          705,
          705,
          720,
          720
         ],
         "xaxis": "x",
         "y": [
          0,
          0.006468226883025869,
          0.006468226883025869,
          0.0031643307384602287
         ],
         "yaxis": "y"
        },
        {
         "hoverinfo": "text",
         "marker": {
          "color": "rgb(255,65,54)"
         },
         "mode": "lines",
         "type": "scatter",
         "uid": "2a1e1c33-3351-4625-995c-a57c8402eb60",
         "x": [
          755,
          755,
          765,
          765
         ],
         "xaxis": "x",
         "y": [
          0,
          0.0032641218662732502,
          0.0032641218662732502,
          0
         ],
         "yaxis": "y"
        },
        {
         "hoverinfo": "text",
         "marker": {
          "color": "rgb(255,65,54)"
         },
         "mode": "lines",
         "type": "scatter",
         "uid": "6c9b7208-7c1a-4278-82c9-c423c5eafc40",
         "x": [
          745,
          745,
          760,
          760
         ],
         "xaxis": "x",
         "y": [
          0,
          0.005984645612115164,
          0.005984645612115164,
          0.0032641218662732502
         ],
         "yaxis": "y"
        },
        {
         "hoverinfo": "text",
         "marker": {
          "color": "rgb(255,65,54)"
         },
         "mode": "lines",
         "type": "scatter",
         "uid": "71532eb0-e353-4200-8a09-8b7519ecbd59",
         "x": [
          735,
          735,
          752.5,
          752.5
         ],
         "xaxis": "x",
         "y": [
          0,
          0.01184555506408526,
          0.01184555506408526,
          0.005984645612115164
         ],
         "yaxis": "y"
        },
        {
         "hoverinfo": "text",
         "marker": {
          "color": "rgb(255,65,54)"
         },
         "mode": "lines",
         "type": "scatter",
         "uid": "3b1065c5-4bc7-40e5-84fa-434ddefbeec6",
         "x": [
          712.5,
          712.5,
          743.75,
          743.75
         ],
         "xaxis": "x",
         "y": [
          0.006468226883025869,
          0.016808998725292307,
          0.016808998725292307,
          0.01184555506408526
         ],
         "yaxis": "y"
        },
        {
         "hoverinfo": "text",
         "marker": {
          "color": "rgb(255,65,54)"
         },
         "mode": "lines",
         "type": "scatter",
         "uid": "d2328b58-6ef5-461c-9410-35113a2f78ff",
         "x": [
          775,
          775,
          785,
          785
         ],
         "xaxis": "x",
         "y": [
          0,
          0.0201338775730355,
          0.0201338775730355,
          0
         ],
         "yaxis": "y"
        },
        {
         "hoverinfo": "text",
         "marker": {
          "color": "rgb(255,65,54)"
         },
         "mode": "lines",
         "type": "scatter",
         "uid": "898406c1-30a9-41bb-830e-8a1ceca36e36",
         "x": [
          728.125,
          728.125,
          780,
          780
         ],
         "xaxis": "x",
         "y": [
          0.016808998725292307,
          0.03735112423943811,
          0.03735112423943811,
          0.0201338775730355
         ],
         "yaxis": "y"
        },
        {
         "hoverinfo": "text",
         "marker": {
          "color": "rgb(255,65,54)"
         },
         "mode": "lines",
         "type": "scatter",
         "uid": "1867056b-2890-47e0-9a01-9abecb497c4a",
         "x": [
          680,
          680,
          754.0625,
          754.0625
         ],
         "xaxis": "x",
         "y": [
          0.020848863004593238,
          0.06462107670406081,
          0.06462107670406081,
          0.03735112423943811
         ],
         "yaxis": "y"
        },
        {
         "hoverinfo": "text",
         "marker": {
          "color": "rgb(255,65,54)"
         },
         "mode": "lines",
         "type": "scatter",
         "uid": "514b57b0-bd61-40ce-8fd2-edfe394a24f0",
         "x": [
          631.25,
          631.25,
          717.03125,
          717.03125
         ],
         "xaxis": "x",
         "y": [
          0.048814126786864656,
          0.08509399309094155,
          0.08509399309094155,
          0.06462107670406081
         ],
         "yaxis": "y"
        },
        {
         "hoverinfo": "text",
         "marker": {
          "color": "rgb(255,65,54)"
         },
         "mode": "lines",
         "type": "scatter",
         "uid": "daa4dc2e-a538-4ebc-9e5c-5ad1a1ca226f",
         "x": [
          577.5,
          577.5,
          674.140625,
          674.140625
         ],
         "xaxis": "x",
         "y": [
          0.08072420291401061,
          0.1475455963631917,
          0.1475455963631917,
          0.08509399309094155
         ],
         "yaxis": "y"
        },
        {
         "hoverinfo": "text",
         "marker": {
          "color": "rgb(255,65,54)"
         },
         "mode": "lines",
         "type": "scatter",
         "uid": "c9d4033b-83ec-4f45-92c0-dff0c73c62e0",
         "x": [
          815,
          815,
          825,
          825
         ],
         "xaxis": "x",
         "y": [
          0,
          0.016056129353723896,
          0.016056129353723896,
          0
         ],
         "yaxis": "y"
        },
        {
         "hoverinfo": "text",
         "marker": {
          "color": "rgb(255,65,54)"
         },
         "mode": "lines",
         "type": "scatter",
         "uid": "041797a2-5c16-493c-8160-bdf1c0fcaba6",
         "x": [
          805,
          805,
          820,
          820
         ],
         "xaxis": "x",
         "y": [
          0,
          0.03065247850742194,
          0.03065247850742194,
          0.016056129353723896
         ],
         "yaxis": "y"
        },
        {
         "hoverinfo": "text",
         "marker": {
          "color": "rgb(255,65,54)"
         },
         "mode": "lines",
         "type": "scatter",
         "uid": "725211da-354e-4f5f-aeed-3605c4705612",
         "x": [
          835,
          835,
          845,
          845
         ],
         "xaxis": "x",
         "y": [
          0,
          0.019660996221528546,
          0.019660996221528546,
          0
         ],
         "yaxis": "y"
        },
        {
         "hoverinfo": "text",
         "marker": {
          "color": "rgb(255,65,54)"
         },
         "mode": "lines",
         "type": "scatter",
         "uid": "e2e524e2-ec5c-417b-aa16-6b3128496db8",
         "x": [
          865,
          865,
          875,
          875
         ],
         "xaxis": "x",
         "y": [
          0,
          0.012294266094747881,
          0.012294266094747881,
          0
         ],
         "yaxis": "y"
        },
        {
         "hoverinfo": "text",
         "marker": {
          "color": "rgb(255,65,54)"
         },
         "mode": "lines",
         "type": "scatter",
         "uid": "3721b4de-8d41-4964-8e44-1c7d4d8a741a",
         "x": [
          855,
          855,
          870,
          870
         ],
         "xaxis": "x",
         "y": [
          0,
          0.032127528599318965,
          0.032127528599318965,
          0.012294266094747881
         ],
         "yaxis": "y"
        },
        {
         "hoverinfo": "text",
         "marker": {
          "color": "rgb(255,65,54)"
         },
         "mode": "lines",
         "type": "scatter",
         "uid": "fb3d49ae-48c4-492e-ace1-7c7701e1f14b",
         "x": [
          840,
          840,
          862.5,
          862.5
         ],
         "xaxis": "x",
         "y": [
          0.019660996221528546,
          0.04518180470604276,
          0.04518180470604276,
          0.032127528599318965
         ],
         "yaxis": "y"
        },
        {
         "hoverinfo": "text",
         "marker": {
          "color": "rgb(255,65,54)"
         },
         "mode": "lines",
         "type": "scatter",
         "uid": "a735485e-cca2-46f6-9a02-57baff047e0b",
         "x": [
          812.5,
          812.5,
          851.25,
          851.25
         ],
         "xaxis": "x",
         "y": [
          0.03065247850742194,
          0.08359571348068248,
          0.08359571348068248,
          0.04518180470604276
         ],
         "yaxis": "y"
        },
        {
         "hoverinfo": "text",
         "marker": {
          "color": "rgb(255,65,54)"
         },
         "mode": "lines",
         "type": "scatter",
         "uid": "58ddfbf2-3125-4a9b-8ca7-daa03e1ac87a",
         "x": [
          905,
          905,
          915,
          915
         ],
         "xaxis": "x",
         "y": [
          0,
          0.00094600039316044,
          0.00094600039316044,
          0
         ],
         "yaxis": "y"
        },
        {
         "hoverinfo": "text",
         "marker": {
          "color": "rgb(255,65,54)"
         },
         "mode": "lines",
         "type": "scatter",
         "uid": "6a921299-ff98-4307-80c3-46e819ef54b2",
         "x": [
          895,
          895,
          910,
          910
         ],
         "xaxis": "x",
         "y": [
          0,
          0.011130532748230532,
          0.011130532748230532,
          0.00094600039316044
         ],
         "yaxis": "y"
        },
        {
         "hoverinfo": "text",
         "marker": {
          "color": "rgb(255,65,54)"
         },
         "mode": "lines",
         "type": "scatter",
         "uid": "ef798a62-33ef-4619-88fe-fc20b5e6d288",
         "x": [
          885,
          885,
          902.5,
          902.5
         ],
         "xaxis": "x",
         "y": [
          0,
          0.0372363487377299,
          0.0372363487377299,
          0.011130532748230532
         ],
         "yaxis": "y"
        },
        {
         "hoverinfo": "text",
         "marker": {
          "color": "rgb(255,65,54)"
         },
         "mode": "lines",
         "type": "scatter",
         "uid": "df00934e-54e1-455f-989a-a551ebc5bc7a",
         "x": [
          935,
          935,
          945,
          945
         ],
         "xaxis": "x",
         "y": [
          0,
          0.020057683698286633,
          0.020057683698286633,
          0
         ],
         "yaxis": "y"
        },
        {
         "hoverinfo": "text",
         "marker": {
          "color": "rgb(255,65,54)"
         },
         "mode": "lines",
         "type": "scatter",
         "uid": "97fc3f02-7b0e-4e22-b0ff-e2f94e7135ae",
         "x": [
          925,
          925,
          940,
          940
         ],
         "xaxis": "x",
         "y": [
          0,
          0.05809443998568127,
          0.05809443998568127,
          0.020057683698286633
         ],
         "yaxis": "y"
        },
        {
         "hoverinfo": "text",
         "marker": {
          "color": "rgb(255,65,54)"
         },
         "mode": "lines",
         "type": "scatter",
         "uid": "7801f8e9-35f7-4d01-a1e3-26b91af55dd1",
         "x": [
          893.75,
          893.75,
          932.5,
          932.5
         ],
         "xaxis": "x",
         "y": [
          0.0372363487377299,
          0.10381246399239312,
          0.10381246399239312,
          0.05809443998568127
         ],
         "yaxis": "y"
        },
        {
         "hoverinfo": "text",
         "marker": {
          "color": "rgb(255,65,54)"
         },
         "mode": "lines",
         "type": "scatter",
         "uid": "b08fc75f-3849-46c9-9db3-d2f2b75cd688",
         "x": [
          831.875,
          831.875,
          913.125,
          913.125
         ],
         "xaxis": "x",
         "y": [
          0.08359571348068248,
          0.12822161203527746,
          0.12822161203527746,
          0.10381246399239312
         ],
         "yaxis": "y"
        },
        {
         "hoverinfo": "text",
         "marker": {
          "color": "rgb(255,65,54)"
         },
         "mode": "lines",
         "type": "scatter",
         "uid": "f3abe716-a9d9-4c98-b8ea-e0c5ef6845a9",
         "x": [
          795,
          795,
          872.5,
          872.5
         ],
         "xaxis": "x",
         "y": [
          0,
          0.19083656995527593,
          0.19083656995527593,
          0.12822161203527746
         ],
         "yaxis": "y"
        },
        {
         "hoverinfo": "text",
         "marker": {
          "color": "rgb(255,65,54)"
         },
         "mode": "lines",
         "type": "scatter",
         "uid": "bca78c80-ccfe-4c07-8989-dfb0d52d751f",
         "x": [
          625.8203125,
          625.8203125,
          833.75,
          833.75
         ],
         "xaxis": "x",
         "y": [
          0.1475455963631917,
          0.2631762194489856,
          0.2631762194489856,
          0.19083656995527593
         ],
         "yaxis": "y"
        },
        {
         "hoverinfo": "text",
         "marker": {
          "color": "rgb(255,65,54)"
         },
         "mode": "lines",
         "type": "scatter",
         "uid": "9da2c1aa-4125-47e9-aaf1-a94d7ec44776",
         "x": [
          377.5,
          377.5,
          729.78515625,
          729.78515625
         ],
         "xaxis": "x",
         "y": [
          0.15196251990506807,
          0.29956366593120254,
          0.29956366593120254,
          0.2631762194489856
         ],
         "yaxis": "y"
        },
        {
         "hoverinfo": "text",
         "marker": {
          "color": "rgb(255,65,54)"
         },
         "mode": "lines",
         "type": "scatter",
         "uid": "c0efbbb7-0737-4fa5-9cea-2d46c89ed762",
         "x": [
          103.125,
          103.125,
          553.642578125,
          553.642578125
         ],
         "xaxis": "x",
         "y": [
          0.12153147897895707,
          0.42153975575978914,
          0.42153975575978914,
          0.29956366593120254
         ],
         "yaxis": "y"
        },
        {
         "hoverinfo": "text",
         "marker": {
          "color": "rgb(35,205,205)"
         },
         "mode": "lines",
         "type": "scatter",
         "uid": "80419503-4e0e-4a0b-bdc5-f2abfec85496",
         "x": [
          965,
          965,
          975,
          975
         ],
         "xaxis": "x",
         "y": [
          0,
          0.05232737483746899,
          0.05232737483746899,
          0
         ],
         "yaxis": "y"
        },
        {
         "hoverinfo": "text",
         "marker": {
          "color": "rgb(35,205,205)"
         },
         "mode": "lines",
         "type": "scatter",
         "uid": "d3d64229-fef3-4fa8-8cb2-3357dd7600cd",
         "x": [
          955,
          955,
          970,
          970
         ],
         "xaxis": "x",
         "y": [
          0,
          0.09085673171659524,
          0.09085673171659524,
          0.05232737483746899
         ],
         "yaxis": "y"
        },
        {
         "hoverinfo": "text",
         "marker": {
          "color": "rgb(35,205,205)"
         },
         "mode": "lines",
         "type": "scatter",
         "uid": "349d0423-c76e-4069-8c0f-415e24b83391",
         "x": [
          985,
          985,
          995,
          995
         ],
         "xaxis": "x",
         "y": [
          0,
          0.09573420134525426,
          0.09573420134525426,
          0
         ],
         "yaxis": "y"
        },
        {
         "hoverinfo": "text",
         "marker": {
          "color": "rgb(35,205,205)"
         },
         "mode": "lines",
         "type": "scatter",
         "uid": "21ea74bf-fe30-4958-9b97-634d37fc2525",
         "x": [
          962.5,
          962.5,
          990,
          990
         ],
         "xaxis": "x",
         "y": [
          0.09085673171659524,
          0.4468387322637584,
          0.4468387322637584,
          0.09573420134525426
         ],
         "yaxis": "y"
        },
        {
         "hoverinfo": "text",
         "marker": {
          "color": "rgb(0,116,217)"
         },
         "mode": "lines",
         "type": "scatter",
         "uid": "3bcf0470-e5db-46ff-b6a3-bad62b8d1419",
         "x": [
          328.3837890625,
          328.3837890625,
          976.25,
          976.25
         ],
         "xaxis": "x",
         "y": [
          0.42153975575978914,
          0.9232208549486557,
          0.9232208549486557,
          0.4468387322637584
         ],
         "yaxis": "y"
        },
        {
         "hoverinfo": "text",
         "marker": {
          "color": "rgb(0,116,217)"
         },
         "mode": "lines",
         "type": "scatter",
         "uid": "f8f97553-74c0-4c43-8acf-8ad540fa3d88",
         "x": [
          13.75,
          13.75,
          652.31689453125,
          652.31689453125
         ],
         "xaxis": "x",
         "y": [
          0.24222954742505967,
          1.1869112533357025,
          1.1869112533357025,
          0.9232208549486557
         ],
         "yaxis": "y"
        }
       ],
       "layout": {
        "autosize": false,
        "font": {
         "size": 10
        },
        "height": 500,
        "hovermode": "closest",
        "showlegend": false,
        "title": {
         "font": {
          "size": 25
         },
         "text": "100 Greatest Films"
        },
        "width": 1000,
        "xaxis": {
         "mirror": "allticks",
         "rangemode": "tozero",
         "showgrid": false,
         "showline": true,
         "showticklabels": true,
         "tickmode": "array",
         "ticks": "outside",
         "ticktext": [
          "E.T. the Extra-Terrestrial",
          "The Godfather",
          "The Godfather: Part II",
          "Tootsie",
          "Saving Private Ryan",
          "Lawrence of Arabia",
          "The Bridge on the River Kwai",
          "Apocalypse Now",
          "Gandhi",
          "The Good, the Bad and the Ugly",
          "Star Wars",
          "All Quiet on the Western Front",
          "Mutiny on the Bounty",
          "Platoon",
          "Raiders of the Lost Ark",
          "Dr. Strangelove or: How I Learned to Stop Worrying and Love the Bomb",
          "Dances with Wolves",
          "Patton",
          "Schindler's List",
          "Gladiator",
          "Good Will Hunting",
          "The Third Man",
          "Chinatown",
          "Forrest Gump",
          "My Fair Lady",
          "High Noon",
          "West Side Story",
          "The Shawshank Redemption",
          "Yankee Doodle Dandy",
          "Goodfellas",
          "Raging Bull",
          "The Maltese Falcon",
          "Wuthering Heights",
          "Citizen Kane",
          "Psycho",
          "Pulp Fiction",
          "Double Indemnity",
          "Vertigo",
          "Rebel Without a Cause",
          "The French Connection",
          "Rain Man",
          "City Lights",
          "Rear Window",
          "Singin' in the Rain",
          "Annie Hall",
          "North by Northwest",
          "On the Waterfront",
          "The Apartment",
          "It Happened One Night",
          "Taxi Driver",
          "Terms of Endearment",
          "Nashville",
          "The Graduate",
          "Rocky",
          "American Graffiti",
          "The African Queen",
          "Casablanca",
          "The Lord of the Rings: The Return of the King",
          "Braveheart",
          "From Here to Eternity",
          "The Pianist",
          "Ben-Hur",
          "Shane",
          "2001: A Space Odyssey",
          "Gone with the Wind",
          "Mr. Smith Goes to Washington",
          "The Sound of Music",
          "The Treasure of the Sierra Madre",
          "Titanic",
          "Butch Cassidy and the Sundance Kid",
          "Unforgiven",
          "The Silence of the Lambs",
          "Network",
          "The Wizard of Oz",
          "The Best Years of Our Lives",
          "One Flew Over the Cuckoo's Nest",
          "Amadeus",
          "12 Angry Men",
          "Stagecoach",
          "Jaws",
          "The Exorcist",
          "To Kill a Mockingbird",
          "A Clockwork Orange",
          "It's a Wonderful Life",
          "The Philadelphia Story",
          "A Place in the Sun",
          "A Streetcar Named Desire",
          "Giant",
          "Doctor Zhivago",
          "The Green Mile",
          "Out of Africa",
          "Close Encounters of the Third Kind",
          "The Deer Hunter",
          "The King's Speech",
          "The Grapes of Wrath",
          "An American in Paris",
          "Some Like It Hot",
          "Fargo",
          "Sunset Blvd.",
          "Midnight Cowboy"
         ],
         "tickvals": [
          5,
          15,
          25,
          35,
          45,
          55,
          65,
          75,
          85,
          95,
          105,
          115,
          125,
          135,
          145,
          155,
          165,
          175,
          185,
          195,
          205,
          215,
          225,
          235,
          245,
          255,
          265,
          275,
          285,
          295,
          305,
          315,
          325,
          335,
          345,
          355,
          365,
          375,
          385,
          395,
          405,
          415,
          425,
          435,
          445,
          455,
          465,
          475,
          485,
          495,
          505,
          515,
          525,
          535,
          545,
          555,
          565,
          575,
          585,
          595,
          605,
          615,
          625,
          635,
          645,
          655,
          665,
          675,
          685,
          695,
          705,
          715,
          725,
          735,
          745,
          755,
          765,
          775,
          785,
          795,
          805,
          815,
          825,
          835,
          845,
          855,
          865,
          875,
          885,
          895,
          905,
          915,
          925,
          935,
          945,
          955,
          965,
          975,
          985,
          995
         ],
         "type": "linear",
         "zeroline": false
        },
        "yaxis": {
         "mirror": "allticks",
         "rangemode": "tozero",
         "showgrid": false,
         "showline": true,
         "showticklabels": true,
         "ticks": "outside",
         "type": "linear",
         "zeroline": false
        }
       }
      },
      "text/html": [
       "<div id=\"f768c67f-5cdf-4c4e-a392-57642eee16ed\" style=\"height: 500px; width: 1000px;\" class=\"plotly-graph-div\"></div><script type=\"text/javascript\">require([\"plotly\"], function(Plotly) { window.PLOTLYENV=window.PLOTLYENV || {};window.PLOTLYENV.BASE_URL=\"https://plot.ly\";Plotly.newPlot(\"f768c67f-5cdf-4c4e-a392-57642eee16ed\", [{\"hoverinfo\": \"text\", \"marker\": {\"color\": \"rgb(61,153,112)\"}, \"mode\": \"lines\", \"x\": [25.0, 25.0, 35.0, 35.0], \"xaxis\": \"x\", \"y\": [0.0, 0.047315827425166164, 0.047315827425166164, 0.0], \"yaxis\": \"y\", \"type\": \"scatter\", \"uid\": \"19a9639e-80dd-4515-946a-b03c39f7299b\"}, {\"hoverinfo\": \"text\", \"marker\": {\"color\": \"rgb(61,153,112)\"}, \"mode\": \"lines\", \"x\": [15.0, 15.0, 30.0, 30.0], \"xaxis\": \"x\", \"y\": [0.0, 0.06930744917259074, 0.06930744917259074, 0.047315827425166164], \"yaxis\": \"y\", \"type\": \"scatter\", \"uid\": \"d87f525b-25a2-4219-8671-dc8c1222ed07\"}, {\"hoverinfo\": \"text\", \"marker\": {\"color\": \"rgb(61,153,112)\"}, \"mode\": \"lines\", \"x\": [5.0, 5.0, 22.5, 22.5], \"xaxis\": \"x\", \"y\": [0.0, 0.24222954742505967, 0.24222954742505967, 0.06930744917259074], \"yaxis\": \"y\", \"type\": \"scatter\", \"uid\": \"d75e5819-8e22-4729-87e2-399db080900e\"}, {\"hoverinfo\": \"text\", \"marker\": {\"color\": \"rgb(255,65,54)\"}, \"mode\": \"lines\", \"x\": [65.0, 65.0, 75.0, 75.0], \"xaxis\": \"x\", \"y\": [0.0, 0.0128801717739737, 0.0128801717739737, 0.0], \"yaxis\": \"y\", \"type\": \"scatter\", \"uid\": \"9f98e51d-ca9e-4700-83a5-73fb32a6df49\"}, {\"hoverinfo\": \"text\", \"marker\": {\"color\": \"rgb(255,65,54)\"}, \"mode\": \"lines\", \"x\": [55.0, 55.0, 70.0, 70.0], \"xaxis\": \"x\", \"y\": [0.0, 0.027749219471243255, 0.027749219471243255, 0.0128801717739737], \"yaxis\": \"y\", \"type\": \"scatter\", \"uid\": \"65dc938f-0a56-48ef-a8a3-a5c0177795e3\"}, {\"hoverinfo\": \"text\", \"marker\": {\"color\": \"rgb(255,65,54)\"}, \"mode\": \"lines\", \"x\": [45.0, 45.0, 62.5, 62.5], \"xaxis\": \"x\", \"y\": [0.0, 0.031125625129322876, 0.031125625129322876, 0.027749219471243255], \"yaxis\": \"y\", \"type\": \"scatter\", \"uid\": \"a5e6221e-d282-478d-92ee-b9e4c43c960f\"}, {\"hoverinfo\": \"text\", \"marker\": {\"color\": \"rgb(255,65,54)\"}, \"mode\": \"lines\", \"x\": [85.0, 85.0, 95.0, 95.0], \"xaxis\": \"x\", \"y\": [0.0, 0.01478736150802484, 0.01478736150802484, 0.0], \"yaxis\": \"y\", \"type\": \"scatter\", \"uid\": \"488594da-46f0-4d31-9df3-49d52ebb0468\"}, {\"hoverinfo\": \"text\", \"marker\": {\"color\": \"rgb(255,65,54)\"}, \"mode\": \"lines\", \"x\": [115.0, 115.0, 125.0, 125.0], \"xaxis\": \"x\", \"y\": [0.0, 0.007164735473052262, 0.007164735473052262, 0.0], \"yaxis\": \"y\", \"type\": \"scatter\", \"uid\": \"ac91b274-cca0-49d3-a9fc-54164387c11e\"}, {\"hoverinfo\": \"text\", \"marker\": {\"color\": \"rgb(255,65,54)\"}, \"mode\": \"lines\", \"x\": [105.0, 105.0, 120.0, 120.0], \"xaxis\": \"x\", \"y\": [0.0, 0.02123152996312275, 0.02123152996312275, 0.007164735473052262], \"yaxis\": \"y\", \"type\": \"scatter\", \"uid\": \"e0453d8e-057b-471d-bfc9-8d0494cb6899\"}, {\"hoverinfo\": \"text\", \"marker\": {\"color\": \"rgb(255,65,54)\"}, \"mode\": \"lines\", \"x\": [90.0, 90.0, 112.5, 112.5], \"xaxis\": \"x\", \"y\": [0.01478736150802484, 0.027525816066821616, 0.027525816066821616, 0.02123152996312275], \"yaxis\": \"y\", \"type\": \"scatter\", \"uid\": \"6b3f6aaf-c616-481e-a27a-17c18deb9cb6\"}, {\"hoverinfo\": \"text\", \"marker\": {\"color\": \"rgb(255,65,54)\"}, \"mode\": \"lines\", \"x\": [155.0, 155.0, 165.0, 165.0], \"xaxis\": \"x\", \"y\": [0.0, 0.00776135609654976, 0.00776135609654976, 0.0], \"yaxis\": \"y\", \"type\": \"scatter\", \"uid\": \"4e74a1ed-62a2-46ab-b1a2-3693e43923f1\"}, {\"hoverinfo\": \"text\", \"marker\": {\"color\": \"rgb(255,65,54)\"}, \"mode\": \"lines\", \"x\": [145.0, 145.0, 160.0, 160.0], \"xaxis\": \"x\", \"y\": [0.0, 0.01707628803361279, 0.01707628803361279, 0.00776135609654976], \"yaxis\": \"y\", \"type\": \"scatter\", \"uid\": \"1483f583-d943-4e99-884e-b5be282ac766\"}, {\"hoverinfo\": \"text\", \"marker\": {\"color\": \"rgb(255,65,54)\"}, \"mode\": \"lines\", \"x\": [135.0, 135.0, 152.5, 152.5], \"xaxis\": \"x\", \"y\": [0.0, 0.027726218834339802, 0.027726218834339802, 0.01707628803361279], \"yaxis\": \"y\", \"type\": \"scatter\", \"uid\": \"143dd236-0c8e-4f85-b06c-c9d6b1b5e4ff\"}, {\"hoverinfo\": \"text\", \"marker\": {\"color\": \"rgb(255,65,54)\"}, \"mode\": \"lines\", \"x\": [101.25, 101.25, 143.75, 143.75], \"xaxis\": \"x\", \"y\": [0.027525816066821616, 0.05314109794364373, 0.05314109794364373, 0.027726218834339802], \"yaxis\": \"y\", \"type\": \"scatter\", \"uid\": \"53ee2bb4-a8ab-42ee-87b9-abf26eeedecd\"}, {\"hoverinfo\": \"text\", \"marker\": {\"color\": \"rgb(255,65,54)\"}, \"mode\": \"lines\", \"x\": [185.0, 185.0, 195.0, 195.0], \"xaxis\": \"x\", \"y\": [0.0, 0.021766806046100623, 0.021766806046100623, 0.0], \"yaxis\": \"y\", \"type\": \"scatter\", \"uid\": \"073206bf-2dbb-48dc-8de0-cd8001f3a42a\"}, {\"hoverinfo\": \"text\", \"marker\": {\"color\": \"rgb(255,65,54)\"}, \"mode\": \"lines\", \"x\": [175.0, 175.0, 190.0, 190.0], \"xaxis\": \"x\", \"y\": [0.0, 0.05541012516386199, 0.05541012516386199, 0.021766806046100623], \"yaxis\": \"y\", \"type\": \"scatter\", \"uid\": \"2cae34cc-8b5c-4aa6-b789-e0453d0697bd\"}, {\"hoverinfo\": \"text\", \"marker\": {\"color\": \"rgb(255,65,54)\"}, \"mode\": \"lines\", \"x\": [122.5, 122.5, 182.5, 182.5], \"xaxis\": \"x\", \"y\": [0.05314109794364373, 0.09687234190306607, 0.09687234190306607, 0.05541012516386199], \"yaxis\": \"y\", \"type\": \"scatter\", \"uid\": \"1a7ddb1f-26e3-4b65-bf02-69db604f017a\"}, {\"hoverinfo\": \"text\", \"marker\": {\"color\": \"rgb(255,65,54)\"}, \"mode\": \"lines\", \"x\": [53.75, 53.75, 152.5, 152.5], \"xaxis\": \"x\", \"y\": [0.031125625129322876, 0.12153147897895707, 0.12153147897895707, 0.09687234190306607], \"yaxis\": \"y\", \"type\": \"scatter\", \"uid\": \"bdcccef4-f5c3-4647-997b-08a54f97d5c5\"}, {\"hoverinfo\": \"text\", \"marker\": {\"color\": \"rgb(255,65,54)\"}, \"mode\": \"lines\", \"x\": [205.0, 205.0, 215.0, 215.0], \"xaxis\": \"x\", \"y\": [0.0, 0.0033369999265642322, 0.0033369999265642322, 0.0], \"yaxis\": \"y\", \"type\": \"scatter\", \"uid\": \"950d7ead-3853-4b85-b84b-66058a6539dd\"}, {\"hoverinfo\": \"text\", \"marker\": {\"color\": \"rgb(255,65,54)\"}, \"mode\": \"lines\", \"x\": [235.0, 235.0, 245.0, 245.0], \"xaxis\": \"x\", \"y\": [0.0, 0.004839039411754224, 0.004839039411754224, 0.0], \"yaxis\": \"y\", \"type\": \"scatter\", \"uid\": \"9be02656-f02b-4e34-9822-97f85d871a95\"}, {\"hoverinfo\": \"text\", \"marker\": {\"color\": \"rgb(255,65,54)\"}, \"mode\": \"lines\", \"x\": [225.0, 225.0, 240.0, 240.0], \"xaxis\": \"x\", \"y\": [0.0, 0.01188841672773555, 0.01188841672773555, 0.004839039411754224], \"yaxis\": \"y\", \"type\": \"scatter\", \"uid\": \"54ef919e-9364-4ae2-87a6-e3db6af5e2e8\"}, {\"hoverinfo\": \"text\", \"marker\": {\"color\": \"rgb(255,65,54)\"}, \"mode\": \"lines\", \"x\": [210.0, 210.0, 232.5, 232.5], \"xaxis\": \"x\", \"y\": [0.0033369999265642322, 0.028594090130375616, 0.028594090130375616, 0.01188841672773555], \"yaxis\": \"y\", \"type\": \"scatter\", \"uid\": \"ba3d1602-7f15-468c-b059-1db08d91f4b3\"}, {\"hoverinfo\": \"text\", \"marker\": {\"color\": \"rgb(255,65,54)\"}, \"mode\": \"lines\", \"x\": [275.0, 275.0, 285.0, 285.0], \"xaxis\": \"x\", \"y\": [0.0, 0.016230929959956984, 0.016230929959956984, 0.0], \"yaxis\": \"y\", \"type\": \"scatter\", \"uid\": \"83b84f9f-9cf5-4788-b2f6-ba2efd9b56b9\"}, {\"hoverinfo\": \"text\", \"marker\": {\"color\": \"rgb(255,65,54)\"}, \"mode\": \"lines\", \"x\": [265.0, 265.0, 280.0, 280.0], \"xaxis\": \"x\", \"y\": [0.0, 0.022870398756721283, 0.022870398756721283, 0.016230929959956984], \"yaxis\": \"y\", \"type\": \"scatter\", \"uid\": \"92e1f641-65fd-49fc-8145-8620ada00201\"}, {\"hoverinfo\": \"text\", \"marker\": {\"color\": \"rgb(255,65,54)\"}, \"mode\": \"lines\", \"x\": [255.0, 255.0, 272.5, 272.5], \"xaxis\": \"x\", \"y\": [0.0, 0.04103274535495095, 0.04103274535495095, 0.022870398756721283], \"yaxis\": \"y\", \"type\": \"scatter\", \"uid\": \"e7621415-8e0a-4b2d-93ba-e5d23a553831\"}, {\"hoverinfo\": \"text\", \"marker\": {\"color\": \"rgb(255,65,54)\"}, \"mode\": \"lines\", \"x\": [221.25, 221.25, 263.75, 263.75], \"xaxis\": \"x\", \"y\": [0.028594090130375616, 0.053435983043358004, 0.053435983043358004, 0.04103274535495095], \"yaxis\": \"y\", \"type\": \"scatter\", \"uid\": \"81326bf1-7a22-4cd5-9a75-62332dca53f0\"}, {\"hoverinfo\": \"text\", \"marker\": {\"color\": \"rgb(255,65,54)\"}, \"mode\": \"lines\", \"x\": [305.0, 305.0, 315.0, 315.0], \"xaxis\": \"x\", \"y\": [0.0, 0.009437595071914766, 0.009437595071914766, 0.0], \"yaxis\": \"y\", \"type\": \"scatter\", \"uid\": \"0948fe79-3622-4ac5-9991-ccc7fd6bf8bb\"}, {\"hoverinfo\": \"text\", \"marker\": {\"color\": \"rgb(255,65,54)\"}, \"mode\": \"lines\", \"x\": [295.0, 295.0, 310.0, 310.0], \"xaxis\": \"x\", \"y\": [0.0, 0.026438204397909237, 0.026438204397909237, 0.009437595071914766], \"yaxis\": \"y\", \"type\": \"scatter\", \"uid\": \"55d8d33d-76da-4f40-b443-61af81de6d62\"}, {\"hoverinfo\": \"text\", \"marker\": {\"color\": \"rgb(255,65,54)\"}, \"mode\": \"lines\", \"x\": [345.0, 345.0, 355.0, 355.0], \"xaxis\": \"x\", \"y\": [0.0, 0.0009693828983737636, 0.0009693828983737636, 0.0], \"yaxis\": \"y\", \"type\": \"scatter\", \"uid\": \"8aff34c1-c77b-42b4-b1cf-fa917c187db9\"}, {\"hoverinfo\": \"text\", \"marker\": {\"color\": \"rgb(255,65,54)\"}, \"mode\": \"lines\", \"x\": [335.0, 335.0, 350.0, 350.0], \"xaxis\": \"x\", \"y\": [0.0, 0.005061601569242093, 0.005061601569242093, 0.0009693828983737636], \"yaxis\": \"y\", \"type\": \"scatter\", \"uid\": \"1ca1a912-e6df-4fdd-978c-3a8e1ff39131\"}, {\"hoverinfo\": \"text\", \"marker\": {\"color\": \"rgb(255,65,54)\"}, \"mode\": \"lines\", \"x\": [325.0, 325.0, 342.5, 342.5], \"xaxis\": \"x\", \"y\": [0.0, 0.013029350553372178, 0.013029350553372178, 0.005061601569242093], \"yaxis\": \"y\", \"type\": \"scatter\", \"uid\": \"1ff6aa3b-fae4-44cb-adae-dc28e5ad2fb9\"}, {\"hoverinfo\": \"text\", \"marker\": {\"color\": \"rgb(255,65,54)\"}, \"mode\": \"lines\", \"x\": [375.0, 375.0, 385.0, 385.0], \"xaxis\": \"x\", \"y\": [0.0, 0.004357300197175236, 0.004357300197175236, 0.0], \"yaxis\": \"y\", \"type\": \"scatter\", \"uid\": \"d972f9a2-5a1f-465a-bc25-568ad067a8c6\"}, {\"hoverinfo\": \"text\", \"marker\": {\"color\": \"rgb(255,65,54)\"}, \"mode\": \"lines\", \"x\": [365.0, 365.0, 380.0, 380.0], \"xaxis\": \"x\", \"y\": [0.0, 0.013738114731709798, 0.013738114731709798, 0.004357300197175236], \"yaxis\": \"y\", \"type\": \"scatter\", \"uid\": \"ae5ea4c9-1469-4fe4-82c5-35870a465c0f\"}, {\"hoverinfo\": \"text\", \"marker\": {\"color\": \"rgb(255,65,54)\"}, \"mode\": \"lines\", \"x\": [333.75, 333.75, 372.5, 372.5], \"xaxis\": \"x\", \"y\": [0.013029350553372178, 0.03471257643009323, 0.03471257643009323, 0.013738114731709798], \"yaxis\": \"y\", \"type\": \"scatter\", \"uid\": \"1167c616-8b8a-48c7-b56e-ef91a1a80130\"}, {\"hoverinfo\": \"text\", \"marker\": {\"color\": \"rgb(255,65,54)\"}, \"mode\": \"lines\", \"x\": [302.5, 302.5, 353.125, 353.125], \"xaxis\": \"x\", \"y\": [0.026438204397909237, 0.054260578373233496, 0.054260578373233496, 0.03471257643009323], \"yaxis\": \"y\", \"type\": \"scatter\", \"uid\": \"50d9fb58-3ede-42aa-874d-cb3401cb5942\"}, {\"hoverinfo\": \"text\", \"marker\": {\"color\": \"rgb(255,65,54)\"}, \"mode\": \"lines\", \"x\": [242.5, 242.5, 327.8125, 327.8125], \"xaxis\": \"x\", \"y\": [0.053435983043358004, 0.08795394973741397, 0.08795394973741397, 0.054260578373233496], \"yaxis\": \"y\", \"type\": \"scatter\", \"uid\": \"05f20222-0072-4ae4-81b9-49fa7011729d\"}, {\"hoverinfo\": \"text\", \"marker\": {\"color\": \"rgb(255,65,54)\"}, \"mode\": \"lines\", \"x\": [405.0, 405.0, 415.0, 415.0], \"xaxis\": \"x\", \"y\": [0.0, 0.00606763257879938, 0.00606763257879938, 0.0], \"yaxis\": \"y\", \"type\": \"scatter\", \"uid\": \"ae127b42-15a0-4e56-a896-d691024281fd\"}, {\"hoverinfo\": \"text\", \"marker\": {\"color\": \"rgb(255,65,54)\"}, \"mode\": \"lines\", \"x\": [395.0, 395.0, 410.0, 410.0], \"xaxis\": \"x\", \"y\": [0.0, 0.025209086228367657, 0.025209086228367657, 0.00606763257879938], \"yaxis\": \"y\", \"type\": \"scatter\", \"uid\": \"247a12de-831b-4077-bcb5-1314cc806ca0\"}, {\"hoverinfo\": \"text\", \"marker\": {\"color\": \"rgb(255,65,54)\"}, \"mode\": \"lines\", \"x\": [445.0, 445.0, 455.0, 455.0], \"xaxis\": \"x\", \"y\": [0.0, 0.0027631766901830674, 0.0027631766901830674, 0.0], \"yaxis\": \"y\", \"type\": \"scatter\", \"uid\": \"56f54389-e15e-453f-85b9-a6c7bd6e0c04\"}, {\"hoverinfo\": \"text\", \"marker\": {\"color\": \"rgb(255,65,54)\"}, \"mode\": \"lines\", \"x\": [435.0, 435.0, 450.0, 450.0], \"xaxis\": \"x\", \"y\": [0.0, 0.004319020038486611, 0.004319020038486611, 0.0027631766901830674], \"yaxis\": \"y\", \"type\": \"scatter\", \"uid\": \"2ff251f5-de66-4bb4-9c8d-cc443b2411aa\"}, {\"hoverinfo\": \"text\", \"marker\": {\"color\": \"rgb(255,65,54)\"}, \"mode\": \"lines\", \"x\": [425.0, 425.0, 442.5, 442.5], \"xaxis\": \"x\", \"y\": [0.0, 0.012363043536517855, 0.012363043536517855, 0.004319020038486611], \"yaxis\": \"y\", \"type\": \"scatter\", \"uid\": \"f3922c57-8446-4497-8ab8-8360b6a8e23e\"}, {\"hoverinfo\": \"text\", \"marker\": {\"color\": \"rgb(255,65,54)\"}, \"mode\": \"lines\", \"x\": [475.0, 475.0, 485.0, 485.0], \"xaxis\": \"x\", \"y\": [0.0, 0.00424568092869819, 0.00424568092869819, 0.0], \"yaxis\": \"y\", \"type\": \"scatter\", \"uid\": \"162a574e-ee9c-4cfe-9ae1-838cea7536e1\"}, {\"hoverinfo\": \"text\", \"marker\": {\"color\": \"rgb(255,65,54)\"}, \"mode\": \"lines\", \"x\": [465.0, 465.0, 480.0, 480.0], \"xaxis\": \"x\", \"y\": [0.0, 0.019087801370655376, 0.019087801370655376, 0.00424568092869819], \"yaxis\": \"y\", \"type\": \"scatter\", \"uid\": \"9cf61a60-169b-4cfc-9bc5-37b16d676767\"}, {\"hoverinfo\": \"text\", \"marker\": {\"color\": \"rgb(255,65,54)\"}, \"mode\": \"lines\", \"x\": [433.75, 433.75, 472.5, 472.5], \"xaxis\": \"x\", \"y\": [0.012363043536517855, 0.027286671496009628, 0.027286671496009628, 0.019087801370655376], \"yaxis\": \"y\", \"type\": \"scatter\", \"uid\": \"dc4272c6-7886-4dad-9a1c-3c64a57a53ab\"}, {\"hoverinfo\": \"text\", \"marker\": {\"color\": \"rgb(255,65,54)\"}, \"mode\": \"lines\", \"x\": [402.5, 402.5, 453.125, 453.125], \"xaxis\": \"x\", \"y\": [0.025209086228367657, 0.05292365367039044, 0.05292365367039044, 0.027286671496009628], \"yaxis\": \"y\", \"type\": \"scatter\", \"uid\": \"04dd3467-bb98-4260-88e5-7041be18b11b\"}, {\"hoverinfo\": \"text\", \"marker\": {\"color\": \"rgb(255,65,54)\"}, \"mode\": \"lines\", \"x\": [495.0, 495.0, 505.0, 505.0], \"xaxis\": \"x\", \"y\": [0.0, 0.026632650508738996, 0.026632650508738996, 0.0], \"yaxis\": \"y\", \"type\": \"scatter\", \"uid\": \"3124cbaf-5008-4ed6-89ad-d3aeba2cbe26\"}, {\"hoverinfo\": \"text\", \"marker\": {\"color\": \"rgb(255,65,54)\"}, \"mode\": \"lines\", \"x\": [535.0, 535.0, 545.0, 545.0], \"xaxis\": \"x\", \"y\": [0.0, 0.0022131977955871843, 0.0022131977955871843, 0.0], \"yaxis\": \"y\", \"type\": \"scatter\", \"uid\": \"a3d24e5d-62dd-4cde-8d48-18aa6e45e754\"}, {\"hoverinfo\": \"text\", \"marker\": {\"color\": \"rgb(255,65,54)\"}, \"mode\": \"lines\", \"x\": [525.0, 525.0, 540.0, 540.0], \"xaxis\": \"x\", \"y\": [0.0, 0.013582099535862547, 0.013582099535862547, 0.0022131977955871843], \"yaxis\": \"y\", \"type\": \"scatter\", \"uid\": \"67d22248-8e3a-4ae9-9195-cdd2c9cbb01e\"}, {\"hoverinfo\": \"text\", \"marker\": {\"color\": \"rgb(255,65,54)\"}, \"mode\": \"lines\", \"x\": [515.0, 515.0, 532.5, 532.5], \"xaxis\": \"x\", \"y\": [0.0, 0.030620002890118892, 0.030620002890118892, 0.013582099535862547], \"yaxis\": \"y\", \"type\": \"scatter\", \"uid\": \"11f7585c-4966-4c91-87e7-fd7a4dfba18e\"}, {\"hoverinfo\": \"text\", \"marker\": {\"color\": \"rgb(255,65,54)\"}, \"mode\": \"lines\", \"x\": [500.0, 500.0, 523.75, 523.75], \"xaxis\": \"x\", \"y\": [0.026632650508738996, 0.06171889332096412, 0.06171889332096412, 0.030620002890118892], \"yaxis\": \"y\", \"type\": \"scatter\", \"uid\": \"396fdc3a-5721-40cb-b1cb-619c67bc794b\"}, {\"hoverinfo\": \"text\", \"marker\": {\"color\": \"rgb(255,65,54)\"}, \"mode\": \"lines\", \"x\": [427.8125, 427.8125, 511.875, 511.875], \"xaxis\": \"x\", \"y\": [0.05292365367039044, 0.0916967283213374, 0.0916967283213374, 0.06171889332096412], \"yaxis\": \"y\", \"type\": \"scatter\", \"uid\": \"03ba679e-a9f8-4300-8db0-2007b398cca4\"}, {\"hoverinfo\": \"text\", \"marker\": {\"color\": \"rgb(255,65,54)\"}, \"mode\": \"lines\", \"x\": [285.15625, 285.15625, 469.84375, 469.84375], \"xaxis\": \"x\", \"y\": [0.08795394973741397, 0.15196251990506807, 0.15196251990506807, 0.0916967283213374], \"yaxis\": \"y\", \"type\": \"scatter\", \"uid\": \"25bd51b2-e86c-4c18-ad63-1d77cc90f801\"}, {\"hoverinfo\": \"text\", \"marker\": {\"color\": \"rgb(255,65,54)\"}, \"mode\": \"lines\", \"x\": [565.0, 565.0, 575.0, 575.0], \"xaxis\": \"x\", \"y\": [0.0, 0.010993981180051168, 0.010993981180051168, 0.0], \"yaxis\": \"y\", \"type\": \"scatter\", \"uid\": \"ab7ac310-6ec3-4d39-b188-83427f26805f\"}, {\"hoverinfo\": \"text\", \"marker\": {\"color\": \"rgb(255,65,54)\"}, \"mode\": \"lines\", \"x\": [555.0, 555.0, 570.0, 570.0], \"xaxis\": \"x\", \"y\": [0.0, 0.03408352553933763, 0.03408352553933763, 0.010993981180051168], \"yaxis\": \"y\", \"type\": \"scatter\", \"uid\": \"b4b342d5-7296-4faa-a06a-7b54e602cd66\"}, {\"hoverinfo\": \"text\", \"marker\": {\"color\": \"rgb(255,65,54)\"}, \"mode\": \"lines\", \"x\": [595.0, 595.0, 605.0, 605.0], \"xaxis\": \"x\", \"y\": [0.0, 0.0099919127002183, 0.0099919127002183, 0.0], \"yaxis\": \"y\", \"type\": \"scatter\", \"uid\": \"16ba1a44-70e9-40a0-b284-bd1bbf2afbfb\"}, {\"hoverinfo\": \"text\", \"marker\": {\"color\": \"rgb(255,65,54)\"}, \"mode\": \"lines\", \"x\": [585.0, 585.0, 600.0, 600.0], \"xaxis\": \"x\", \"y\": [0.0, 0.035490614130310114, 0.035490614130310114, 0.0099919127002183], \"yaxis\": \"y\", \"type\": \"scatter\", \"uid\": \"6b1be060-4083-4425-aac9-abad5e5137fb\"}, {\"hoverinfo\": \"text\", \"marker\": {\"color\": \"rgb(255,65,54)\"}, \"mode\": \"lines\", \"x\": [562.5, 562.5, 592.5, 592.5], \"xaxis\": \"x\", \"y\": [0.03408352553933763, 0.08072420291401061, 0.08072420291401061, 0.035490614130310114], \"yaxis\": \"y\", \"type\": \"scatter\", \"uid\": \"009da73a-b2a7-4608-8d55-4e3a22c429c3\"}, {\"hoverinfo\": \"text\", \"marker\": {\"color\": \"rgb(255,65,54)\"}, \"mode\": \"lines\", \"x\": [615.0, 615.0, 625.0, 625.0], \"xaxis\": \"x\", \"y\": [0.0, 0.0209662677047731, 0.0209662677047731, 0.0], \"yaxis\": \"y\", \"type\": \"scatter\", \"uid\": \"7e61d6a9-ee2e-4475-9347-db40dc9d6f47\"}, {\"hoverinfo\": \"text\", \"marker\": {\"color\": \"rgb(255,65,54)\"}, \"mode\": \"lines\", \"x\": [645.0, 645.0, 655.0, 655.0], \"xaxis\": \"x\", \"y\": [0.0, 0.013165343203294906, 0.013165343203294906, 0.0], \"yaxis\": \"y\", \"type\": \"scatter\", \"uid\": \"99a8fa04-b286-4d92-b3b2-ecc79e0c38ec\"}, {\"hoverinfo\": \"text\", \"marker\": {\"color\": \"rgb(255,65,54)\"}, \"mode\": \"lines\", \"x\": [635.0, 635.0, 650.0, 650.0], \"xaxis\": \"x\", \"y\": [0.0, 0.030994419928763572, 0.030994419928763572, 0.013165343203294906], \"yaxis\": \"y\", \"type\": \"scatter\", \"uid\": \"02864128-8852-4204-9c13-f9308af69ae0\"}, {\"hoverinfo\": \"text\", \"marker\": {\"color\": \"rgb(255,65,54)\"}, \"mode\": \"lines\", \"x\": [620.0, 620.0, 642.5, 642.5], \"xaxis\": \"x\", \"y\": [0.0209662677047731, 0.048814126786864656, 0.048814126786864656, 0.030994419928763572], \"yaxis\": \"y\", \"type\": \"scatter\", \"uid\": \"78f87517-eaa3-4097-bbd8-049cb7b44c8d\"}, {\"hoverinfo\": \"text\", \"marker\": {\"color\": \"rgb(255,65,54)\"}, \"mode\": \"lines\", \"x\": [665.0, 665.0, 675.0, 675.0], \"xaxis\": \"x\", \"y\": [0.0, 0.00938946586889622, 0.00938946586889622, 0.0], \"yaxis\": \"y\", \"type\": \"scatter\", \"uid\": \"c2296fef-b725-4671-96c1-cb568b99f730\"}, {\"hoverinfo\": \"text\", \"marker\": {\"color\": \"rgb(255,65,54)\"}, \"mode\": \"lines\", \"x\": [685.0, 685.0, 695.0, 695.0], \"xaxis\": \"x\", \"y\": [0.0, 0.014203967675815471, 0.014203967675815471, 0.0], \"yaxis\": \"y\", \"type\": \"scatter\", \"uid\": \"e7c15c86-c60b-4949-8ce1-586a01d04b35\"}, {\"hoverinfo\": \"text\", \"marker\": {\"color\": \"rgb(255,65,54)\"}, \"mode\": \"lines\", \"x\": [670.0, 670.0, 690.0, 690.0], \"xaxis\": \"x\", \"y\": [0.00938946586889622, 0.020848863004593238, 0.020848863004593238, 0.014203967675815471], \"yaxis\": \"y\", \"type\": \"scatter\", \"uid\": \"9ff01899-b941-49de-b824-ab969bc3abfc\"}, {\"hoverinfo\": \"text\", \"marker\": {\"color\": \"rgb(255,65,54)\"}, \"mode\": \"lines\", \"x\": [715.0, 715.0, 725.0, 725.0], \"xaxis\": \"x\", \"y\": [0.0, 0.0031643307384602287, 0.0031643307384602287, 0.0], \"yaxis\": \"y\", \"type\": \"scatter\", \"uid\": \"5dbdba2f-abd2-4e2d-9ce7-b812206386ee\"}, {\"hoverinfo\": \"text\", \"marker\": {\"color\": \"rgb(255,65,54)\"}, \"mode\": \"lines\", \"x\": [705.0, 705.0, 720.0, 720.0], \"xaxis\": \"x\", \"y\": [0.0, 0.006468226883025869, 0.006468226883025869, 0.0031643307384602287], \"yaxis\": \"y\", \"type\": \"scatter\", \"uid\": \"99f8b84e-00d1-457a-bde9-3ffc463cf6f3\"}, {\"hoverinfo\": \"text\", \"marker\": {\"color\": \"rgb(255,65,54)\"}, \"mode\": \"lines\", \"x\": [755.0, 755.0, 765.0, 765.0], \"xaxis\": \"x\", \"y\": [0.0, 0.0032641218662732502, 0.0032641218662732502, 0.0], \"yaxis\": \"y\", \"type\": \"scatter\", \"uid\": \"2a1e1c33-3351-4625-995c-a57c8402eb60\"}, {\"hoverinfo\": \"text\", \"marker\": {\"color\": \"rgb(255,65,54)\"}, \"mode\": \"lines\", \"x\": [745.0, 745.0, 760.0, 760.0], \"xaxis\": \"x\", \"y\": [0.0, 0.005984645612115164, 0.005984645612115164, 0.0032641218662732502], \"yaxis\": \"y\", \"type\": \"scatter\", \"uid\": \"6c9b7208-7c1a-4278-82c9-c423c5eafc40\"}, {\"hoverinfo\": \"text\", \"marker\": {\"color\": \"rgb(255,65,54)\"}, \"mode\": \"lines\", \"x\": [735.0, 735.0, 752.5, 752.5], \"xaxis\": \"x\", \"y\": [0.0, 0.01184555506408526, 0.01184555506408526, 0.005984645612115164], \"yaxis\": \"y\", \"type\": \"scatter\", \"uid\": \"71532eb0-e353-4200-8a09-8b7519ecbd59\"}, {\"hoverinfo\": \"text\", \"marker\": {\"color\": \"rgb(255,65,54)\"}, \"mode\": \"lines\", \"x\": [712.5, 712.5, 743.75, 743.75], \"xaxis\": \"x\", \"y\": [0.006468226883025869, 0.016808998725292307, 0.016808998725292307, 0.01184555506408526], \"yaxis\": \"y\", \"type\": \"scatter\", \"uid\": \"3b1065c5-4bc7-40e5-84fa-434ddefbeec6\"}, {\"hoverinfo\": \"text\", \"marker\": {\"color\": \"rgb(255,65,54)\"}, \"mode\": \"lines\", \"x\": [775.0, 775.0, 785.0, 785.0], \"xaxis\": \"x\", \"y\": [0.0, 0.0201338775730355, 0.0201338775730355, 0.0], \"yaxis\": \"y\", \"type\": \"scatter\", \"uid\": \"d2328b58-6ef5-461c-9410-35113a2f78ff\"}, {\"hoverinfo\": \"text\", \"marker\": {\"color\": \"rgb(255,65,54)\"}, \"mode\": \"lines\", \"x\": [728.125, 728.125, 780.0, 780.0], \"xaxis\": \"x\", \"y\": [0.016808998725292307, 0.03735112423943811, 0.03735112423943811, 0.0201338775730355], \"yaxis\": \"y\", \"type\": \"scatter\", \"uid\": \"898406c1-30a9-41bb-830e-8a1ceca36e36\"}, {\"hoverinfo\": \"text\", \"marker\": {\"color\": \"rgb(255,65,54)\"}, \"mode\": \"lines\", \"x\": [680.0, 680.0, 754.0625, 754.0625], \"xaxis\": \"x\", \"y\": [0.020848863004593238, 0.06462107670406081, 0.06462107670406081, 0.03735112423943811], \"yaxis\": \"y\", \"type\": \"scatter\", \"uid\": \"1867056b-2890-47e0-9a01-9abecb497c4a\"}, {\"hoverinfo\": \"text\", \"marker\": {\"color\": \"rgb(255,65,54)\"}, \"mode\": \"lines\", \"x\": [631.25, 631.25, 717.03125, 717.03125], \"xaxis\": \"x\", \"y\": [0.048814126786864656, 0.08509399309094155, 0.08509399309094155, 0.06462107670406081], \"yaxis\": \"y\", \"type\": \"scatter\", \"uid\": \"514b57b0-bd61-40ce-8fd2-edfe394a24f0\"}, {\"hoverinfo\": \"text\", \"marker\": {\"color\": \"rgb(255,65,54)\"}, \"mode\": \"lines\", \"x\": [577.5, 577.5, 674.140625, 674.140625], \"xaxis\": \"x\", \"y\": [0.08072420291401061, 0.1475455963631917, 0.1475455963631917, 0.08509399309094155], \"yaxis\": \"y\", \"type\": \"scatter\", \"uid\": \"daa4dc2e-a538-4ebc-9e5c-5ad1a1ca226f\"}, {\"hoverinfo\": \"text\", \"marker\": {\"color\": \"rgb(255,65,54)\"}, \"mode\": \"lines\", \"x\": [815.0, 815.0, 825.0, 825.0], \"xaxis\": \"x\", \"y\": [0.0, 0.016056129353723896, 0.016056129353723896, 0.0], \"yaxis\": \"y\", \"type\": \"scatter\", \"uid\": \"c9d4033b-83ec-4f45-92c0-dff0c73c62e0\"}, {\"hoverinfo\": \"text\", \"marker\": {\"color\": \"rgb(255,65,54)\"}, \"mode\": \"lines\", \"x\": [805.0, 805.0, 820.0, 820.0], \"xaxis\": \"x\", \"y\": [0.0, 0.03065247850742194, 0.03065247850742194, 0.016056129353723896], \"yaxis\": \"y\", \"type\": \"scatter\", \"uid\": \"041797a2-5c16-493c-8160-bdf1c0fcaba6\"}, {\"hoverinfo\": \"text\", \"marker\": {\"color\": \"rgb(255,65,54)\"}, \"mode\": \"lines\", \"x\": [835.0, 835.0, 845.0, 845.0], \"xaxis\": \"x\", \"y\": [0.0, 0.019660996221528546, 0.019660996221528546, 0.0], \"yaxis\": \"y\", \"type\": \"scatter\", \"uid\": \"725211da-354e-4f5f-aeed-3605c4705612\"}, {\"hoverinfo\": \"text\", \"marker\": {\"color\": \"rgb(255,65,54)\"}, \"mode\": \"lines\", \"x\": [865.0, 865.0, 875.0, 875.0], \"xaxis\": \"x\", \"y\": [0.0, 0.012294266094747881, 0.012294266094747881, 0.0], \"yaxis\": \"y\", \"type\": \"scatter\", \"uid\": \"e2e524e2-ec5c-417b-aa16-6b3128496db8\"}, {\"hoverinfo\": \"text\", \"marker\": {\"color\": \"rgb(255,65,54)\"}, \"mode\": \"lines\", \"x\": [855.0, 855.0, 870.0, 870.0], \"xaxis\": \"x\", \"y\": [0.0, 0.032127528599318965, 0.032127528599318965, 0.012294266094747881], \"yaxis\": \"y\", \"type\": \"scatter\", \"uid\": \"3721b4de-8d41-4964-8e44-1c7d4d8a741a\"}, {\"hoverinfo\": \"text\", \"marker\": {\"color\": \"rgb(255,65,54)\"}, \"mode\": \"lines\", \"x\": [840.0, 840.0, 862.5, 862.5], \"xaxis\": \"x\", \"y\": [0.019660996221528546, 0.04518180470604276, 0.04518180470604276, 0.032127528599318965], \"yaxis\": \"y\", \"type\": \"scatter\", \"uid\": \"fb3d49ae-48c4-492e-ace1-7c7701e1f14b\"}, {\"hoverinfo\": \"text\", \"marker\": {\"color\": \"rgb(255,65,54)\"}, \"mode\": \"lines\", \"x\": [812.5, 812.5, 851.25, 851.25], \"xaxis\": \"x\", \"y\": [0.03065247850742194, 0.08359571348068248, 0.08359571348068248, 0.04518180470604276], \"yaxis\": \"y\", \"type\": \"scatter\", \"uid\": \"a735485e-cca2-46f6-9a02-57baff047e0b\"}, {\"hoverinfo\": \"text\", \"marker\": {\"color\": \"rgb(255,65,54)\"}, \"mode\": \"lines\", \"x\": [905.0, 905.0, 915.0, 915.0], \"xaxis\": \"x\", \"y\": [0.0, 0.00094600039316044, 0.00094600039316044, 0.0], \"yaxis\": \"y\", \"type\": \"scatter\", \"uid\": \"58ddfbf2-3125-4a9b-8ca7-daa03e1ac87a\"}, {\"hoverinfo\": \"text\", \"marker\": {\"color\": \"rgb(255,65,54)\"}, \"mode\": \"lines\", \"x\": [895.0, 895.0, 910.0, 910.0], \"xaxis\": \"x\", \"y\": [0.0, 0.011130532748230532, 0.011130532748230532, 0.00094600039316044], \"yaxis\": \"y\", \"type\": \"scatter\", \"uid\": \"6a921299-ff98-4307-80c3-46e819ef54b2\"}, {\"hoverinfo\": \"text\", \"marker\": {\"color\": \"rgb(255,65,54)\"}, \"mode\": \"lines\", \"x\": [885.0, 885.0, 902.5, 902.5], \"xaxis\": \"x\", \"y\": [0.0, 0.0372363487377299, 0.0372363487377299, 0.011130532748230532], \"yaxis\": \"y\", \"type\": \"scatter\", \"uid\": \"ef798a62-33ef-4619-88fe-fc20b5e6d288\"}, {\"hoverinfo\": \"text\", \"marker\": {\"color\": \"rgb(255,65,54)\"}, \"mode\": \"lines\", \"x\": [935.0, 935.0, 945.0, 945.0], \"xaxis\": \"x\", \"y\": [0.0, 0.020057683698286633, 0.020057683698286633, 0.0], \"yaxis\": \"y\", \"type\": \"scatter\", \"uid\": \"df00934e-54e1-455f-989a-a551ebc5bc7a\"}, {\"hoverinfo\": \"text\", \"marker\": {\"color\": \"rgb(255,65,54)\"}, \"mode\": \"lines\", \"x\": [925.0, 925.0, 940.0, 940.0], \"xaxis\": \"x\", \"y\": [0.0, 0.05809443998568127, 0.05809443998568127, 0.020057683698286633], \"yaxis\": \"y\", \"type\": \"scatter\", \"uid\": \"97fc3f02-7b0e-4e22-b0ff-e2f94e7135ae\"}, {\"hoverinfo\": \"text\", \"marker\": {\"color\": \"rgb(255,65,54)\"}, \"mode\": \"lines\", \"x\": [893.75, 893.75, 932.5, 932.5], \"xaxis\": \"x\", \"y\": [0.0372363487377299, 0.10381246399239312, 0.10381246399239312, 0.05809443998568127], \"yaxis\": \"y\", \"type\": \"scatter\", \"uid\": \"7801f8e9-35f7-4d01-a1e3-26b91af55dd1\"}, {\"hoverinfo\": \"text\", \"marker\": {\"color\": \"rgb(255,65,54)\"}, \"mode\": \"lines\", \"x\": [831.875, 831.875, 913.125, 913.125], \"xaxis\": \"x\", \"y\": [0.08359571348068248, 0.12822161203527746, 0.12822161203527746, 0.10381246399239312], \"yaxis\": \"y\", \"type\": \"scatter\", \"uid\": \"b08fc75f-3849-46c9-9db3-d2f2b75cd688\"}, {\"hoverinfo\": \"text\", \"marker\": {\"color\": \"rgb(255,65,54)\"}, \"mode\": \"lines\", \"x\": [795.0, 795.0, 872.5, 872.5], \"xaxis\": \"x\", \"y\": [0.0, 0.19083656995527593, 0.19083656995527593, 0.12822161203527746], \"yaxis\": \"y\", \"type\": \"scatter\", \"uid\": \"f3abe716-a9d9-4c98-b8ea-e0c5ef6845a9\"}, {\"hoverinfo\": \"text\", \"marker\": {\"color\": \"rgb(255,65,54)\"}, \"mode\": \"lines\", \"x\": [625.8203125, 625.8203125, 833.75, 833.75], \"xaxis\": \"x\", \"y\": [0.1475455963631917, 0.2631762194489856, 0.2631762194489856, 0.19083656995527593], \"yaxis\": \"y\", \"type\": \"scatter\", \"uid\": \"bca78c80-ccfe-4c07-8989-dfb0d52d751f\"}, {\"hoverinfo\": \"text\", \"marker\": {\"color\": \"rgb(255,65,54)\"}, \"mode\": \"lines\", \"x\": [377.5, 377.5, 729.78515625, 729.78515625], \"xaxis\": \"x\", \"y\": [0.15196251990506807, 0.29956366593120254, 0.29956366593120254, 0.2631762194489856], \"yaxis\": \"y\", \"type\": \"scatter\", \"uid\": \"9da2c1aa-4125-47e9-aaf1-a94d7ec44776\"}, {\"hoverinfo\": \"text\", \"marker\": {\"color\": \"rgb(255,65,54)\"}, \"mode\": \"lines\", \"x\": [103.125, 103.125, 553.642578125, 553.642578125], \"xaxis\": \"x\", \"y\": [0.12153147897895707, 0.42153975575978914, 0.42153975575978914, 0.29956366593120254], \"yaxis\": \"y\", \"type\": \"scatter\", \"uid\": \"c0efbbb7-0737-4fa5-9cea-2d46c89ed762\"}, {\"hoverinfo\": \"text\", \"marker\": {\"color\": \"rgb(35,205,205)\"}, \"mode\": \"lines\", \"x\": [965.0, 965.0, 975.0, 975.0], \"xaxis\": \"x\", \"y\": [0.0, 0.05232737483746899, 0.05232737483746899, 0.0], \"yaxis\": \"y\", \"type\": \"scatter\", \"uid\": \"80419503-4e0e-4a0b-bdc5-f2abfec85496\"}, {\"hoverinfo\": \"text\", \"marker\": {\"color\": \"rgb(35,205,205)\"}, \"mode\": \"lines\", \"x\": [955.0, 955.0, 970.0, 970.0], \"xaxis\": \"x\", \"y\": [0.0, 0.09085673171659524, 0.09085673171659524, 0.05232737483746899], \"yaxis\": \"y\", \"type\": \"scatter\", \"uid\": \"d3d64229-fef3-4fa8-8cb2-3357dd7600cd\"}, {\"hoverinfo\": \"text\", \"marker\": {\"color\": \"rgb(35,205,205)\"}, \"mode\": \"lines\", \"x\": [985.0, 985.0, 995.0, 995.0], \"xaxis\": \"x\", \"y\": [0.0, 0.09573420134525426, 0.09573420134525426, 0.0], \"yaxis\": \"y\", \"type\": \"scatter\", \"uid\": \"349d0423-c76e-4069-8c0f-415e24b83391\"}, {\"hoverinfo\": \"text\", \"marker\": {\"color\": \"rgb(35,205,205)\"}, \"mode\": \"lines\", \"x\": [962.5, 962.5, 990.0, 990.0], \"xaxis\": \"x\", \"y\": [0.09085673171659524, 0.4468387322637584, 0.4468387322637584, 0.09573420134525426], \"yaxis\": \"y\", \"type\": \"scatter\", \"uid\": \"21ea74bf-fe30-4958-9b97-634d37fc2525\"}, {\"hoverinfo\": \"text\", \"marker\": {\"color\": \"rgb(0,116,217)\"}, \"mode\": \"lines\", \"x\": [328.3837890625, 328.3837890625, 976.25, 976.25], \"xaxis\": \"x\", \"y\": [0.42153975575978914, 0.9232208549486557, 0.9232208549486557, 0.4468387322637584], \"yaxis\": \"y\", \"type\": \"scatter\", \"uid\": \"3bcf0470-e5db-46ff-b6a3-bad62b8d1419\"}, {\"hoverinfo\": \"text\", \"marker\": {\"color\": \"rgb(0,116,217)\"}, \"mode\": \"lines\", \"x\": [13.75, 13.75, 652.31689453125, 652.31689453125], \"xaxis\": \"x\", \"y\": [0.24222954742505967, 1.1869112533357025, 1.1869112533357025, 0.9232208549486557], \"yaxis\": \"y\", \"type\": \"scatter\", \"uid\": \"f8f97553-74c0-4c43-8acf-8ad540fa3d88\"}], {\"autosize\": false, \"height\": 500, \"hovermode\": \"closest\", \"showlegend\": false, \"width\": 1000, \"xaxis\": {\"mirror\": \"allticks\", \"rangemode\": \"tozero\", \"showgrid\": false, \"showline\": true, \"showticklabels\": true, \"tickmode\": \"array\", \"ticks\": \"outside\", \"ticktext\": [\"E.T. the Extra-Terrestrial\", \"The Godfather\", \"The Godfather: Part II\", \"Tootsie\", \"Saving Private Ryan\", \"Lawrence of Arabia\", \"The Bridge on the River Kwai\", \"Apocalypse Now\", \"Gandhi\", \"The Good, the Bad and the Ugly\", \"Star Wars\", \"All Quiet on the Western Front\", \"Mutiny on the Bounty\", \"Platoon\", \"Raiders of the Lost Ark\", \"Dr. Strangelove or: How I Learned to Stop Worrying and Love the Bomb\", \"Dances with Wolves\", \"Patton\", \"Schindler's List\", \"Gladiator\", \"Good Will Hunting\", \"The Third Man\", \"Chinatown\", \"Forrest Gump\", \"My Fair Lady\", \"High Noon\", \"West Side Story\", \"The Shawshank Redemption\", \"Yankee Doodle Dandy\", \"Goodfellas\", \"Raging Bull\", \"The Maltese Falcon\", \"Wuthering Heights\", \"Citizen Kane\", \"Psycho\", \"Pulp Fiction\", \"Double Indemnity\", \"Vertigo\", \"Rebel Without a Cause\", \"The French Connection\", \"Rain Man\", \"City Lights\", \"Rear Window\", \"Singin' in the Rain\", \"Annie Hall\", \"North by Northwest\", \"On the Waterfront\", \"The Apartment\", \"It Happened One Night\", \"Taxi Driver\", \"Terms of Endearment\", \"Nashville\", \"The Graduate\", \"Rocky\", \"American Graffiti\", \"The African Queen\", \"Casablanca\", \"The Lord of the Rings: The Return of the King\", \"Braveheart\", \"From Here to Eternity\", \"The Pianist\", \"Ben-Hur\", \"Shane\", \"2001: A Space Odyssey\", \"Gone with the Wind\", \"Mr. Smith Goes to Washington\", \"The Sound of Music\", \"The Treasure of the Sierra Madre\", \"Titanic\", \"Butch Cassidy and the Sundance Kid\", \"Unforgiven\", \"The Silence of the Lambs\", \"Network\", \"The Wizard of Oz\", \"The Best Years of Our Lives\", \"One Flew Over the Cuckoo's Nest\", \"Amadeus\", \"12 Angry Men\", \"Stagecoach\", \"Jaws\", \"The Exorcist\", \"To Kill a Mockingbird\", \"A Clockwork Orange\", \"It's a Wonderful Life\", \"The Philadelphia Story\", \"A Place in the Sun\", \"A Streetcar Named Desire\", \"Giant\", \"Doctor Zhivago\", \"The Green Mile\", \"Out of Africa\", \"Close Encounters of the Third Kind\", \"The Deer Hunter\", \"The King's Speech\", \"The Grapes of Wrath\", \"An American in Paris\", \"Some Like It Hot\", \"Fargo\", \"Sunset Blvd.\", \"Midnight Cowboy\"], \"tickvals\": [5.0, 15.0, 25.0, 35.0, 45.0, 55.0, 65.0, 75.0, 85.0, 95.0, 105.0, 115.0, 125.0, 135.0, 145.0, 155.0, 165.0, 175.0, 185.0, 195.0, 205.0, 215.0, 225.0, 235.0, 245.0, 255.0, 265.0, 275.0, 285.0, 295.0, 305.0, 315.0, 325.0, 335.0, 345.0, 355.0, 365.0, 375.0, 385.0, 395.0, 405.0, 415.0, 425.0, 435.0, 445.0, 455.0, 465.0, 475.0, 485.0, 495.0, 505.0, 515.0, 525.0, 535.0, 545.0, 555.0, 565.0, 575.0, 585.0, 595.0, 605.0, 615.0, 625.0, 635.0, 645.0, 655.0, 665.0, 675.0, 685.0, 695.0, 705.0, 715.0, 725.0, 735.0, 745.0, 755.0, 765.0, 775.0, 785.0, 795.0, 805.0, 815.0, 825.0, 835.0, 845.0, 855.0, 865.0, 875.0, 885.0, 895.0, 905.0, 915.0, 925.0, 935.0, 945.0, 955.0, 965.0, 975.0, 985.0, 995.0], \"type\": \"linear\", \"zeroline\": false}, \"yaxis\": {\"mirror\": \"allticks\", \"rangemode\": \"tozero\", \"showgrid\": false, \"showline\": true, \"showticklabels\": true, \"ticks\": \"outside\", \"type\": \"linear\", \"zeroline\": false}, \"title\": {\"font\": {\"size\": 25}, \"text\": \"100 Greatest Films\"}, \"font\": {\"size\": 10}}, {\"showLink\": false, \"linkText\": \"Export to plot.ly\", \"plotlyServerURL\": \"https://plot.ly\"})});</script>"
      ],
      "text/vnd.plotly.v1+html": [
       "<div id=\"f768c67f-5cdf-4c4e-a392-57642eee16ed\" style=\"height: 500px; width: 1000px;\" class=\"plotly-graph-div\"></div><script type=\"text/javascript\">require([\"plotly\"], function(Plotly) { window.PLOTLYENV=window.PLOTLYENV || {};window.PLOTLYENV.BASE_URL=\"https://plot.ly\";Plotly.newPlot(\"f768c67f-5cdf-4c4e-a392-57642eee16ed\", [{\"hoverinfo\": \"text\", \"marker\": {\"color\": \"rgb(61,153,112)\"}, \"mode\": \"lines\", \"x\": [25.0, 25.0, 35.0, 35.0], \"xaxis\": \"x\", \"y\": [0.0, 0.047315827425166164, 0.047315827425166164, 0.0], \"yaxis\": \"y\", \"type\": \"scatter\", \"uid\": \"19a9639e-80dd-4515-946a-b03c39f7299b\"}, {\"hoverinfo\": \"text\", \"marker\": {\"color\": \"rgb(61,153,112)\"}, \"mode\": \"lines\", \"x\": [15.0, 15.0, 30.0, 30.0], \"xaxis\": \"x\", \"y\": [0.0, 0.06930744917259074, 0.06930744917259074, 0.047315827425166164], \"yaxis\": \"y\", \"type\": \"scatter\", \"uid\": \"d87f525b-25a2-4219-8671-dc8c1222ed07\"}, {\"hoverinfo\": \"text\", \"marker\": {\"color\": \"rgb(61,153,112)\"}, \"mode\": \"lines\", \"x\": [5.0, 5.0, 22.5, 22.5], \"xaxis\": \"x\", \"y\": [0.0, 0.24222954742505967, 0.24222954742505967, 0.06930744917259074], \"yaxis\": \"y\", \"type\": \"scatter\", \"uid\": \"d75e5819-8e22-4729-87e2-399db080900e\"}, {\"hoverinfo\": \"text\", \"marker\": {\"color\": \"rgb(255,65,54)\"}, \"mode\": \"lines\", \"x\": [65.0, 65.0, 75.0, 75.0], \"xaxis\": \"x\", \"y\": [0.0, 0.0128801717739737, 0.0128801717739737, 0.0], \"yaxis\": \"y\", \"type\": \"scatter\", \"uid\": \"9f98e51d-ca9e-4700-83a5-73fb32a6df49\"}, {\"hoverinfo\": \"text\", \"marker\": {\"color\": \"rgb(255,65,54)\"}, \"mode\": \"lines\", \"x\": [55.0, 55.0, 70.0, 70.0], \"xaxis\": \"x\", \"y\": [0.0, 0.027749219471243255, 0.027749219471243255, 0.0128801717739737], \"yaxis\": \"y\", \"type\": \"scatter\", \"uid\": \"65dc938f-0a56-48ef-a8a3-a5c0177795e3\"}, {\"hoverinfo\": \"text\", \"marker\": {\"color\": \"rgb(255,65,54)\"}, \"mode\": \"lines\", \"x\": [45.0, 45.0, 62.5, 62.5], \"xaxis\": \"x\", \"y\": [0.0, 0.031125625129322876, 0.031125625129322876, 0.027749219471243255], \"yaxis\": \"y\", \"type\": \"scatter\", \"uid\": \"a5e6221e-d282-478d-92ee-b9e4c43c960f\"}, {\"hoverinfo\": \"text\", \"marker\": {\"color\": \"rgb(255,65,54)\"}, \"mode\": \"lines\", \"x\": [85.0, 85.0, 95.0, 95.0], \"xaxis\": \"x\", \"y\": [0.0, 0.01478736150802484, 0.01478736150802484, 0.0], \"yaxis\": \"y\", \"type\": \"scatter\", \"uid\": \"488594da-46f0-4d31-9df3-49d52ebb0468\"}, {\"hoverinfo\": \"text\", \"marker\": {\"color\": \"rgb(255,65,54)\"}, \"mode\": \"lines\", \"x\": [115.0, 115.0, 125.0, 125.0], \"xaxis\": \"x\", \"y\": [0.0, 0.007164735473052262, 0.007164735473052262, 0.0], \"yaxis\": \"y\", \"type\": \"scatter\", \"uid\": \"ac91b274-cca0-49d3-a9fc-54164387c11e\"}, {\"hoverinfo\": \"text\", \"marker\": {\"color\": \"rgb(255,65,54)\"}, \"mode\": \"lines\", \"x\": [105.0, 105.0, 120.0, 120.0], \"xaxis\": \"x\", \"y\": [0.0, 0.02123152996312275, 0.02123152996312275, 0.007164735473052262], \"yaxis\": \"y\", \"type\": \"scatter\", \"uid\": \"e0453d8e-057b-471d-bfc9-8d0494cb6899\"}, {\"hoverinfo\": \"text\", \"marker\": {\"color\": \"rgb(255,65,54)\"}, \"mode\": \"lines\", \"x\": [90.0, 90.0, 112.5, 112.5], \"xaxis\": \"x\", \"y\": [0.01478736150802484, 0.027525816066821616, 0.027525816066821616, 0.02123152996312275], \"yaxis\": \"y\", \"type\": \"scatter\", \"uid\": \"6b3f6aaf-c616-481e-a27a-17c18deb9cb6\"}, {\"hoverinfo\": \"text\", \"marker\": {\"color\": \"rgb(255,65,54)\"}, \"mode\": \"lines\", \"x\": [155.0, 155.0, 165.0, 165.0], \"xaxis\": \"x\", \"y\": [0.0, 0.00776135609654976, 0.00776135609654976, 0.0], \"yaxis\": \"y\", \"type\": \"scatter\", \"uid\": \"4e74a1ed-62a2-46ab-b1a2-3693e43923f1\"}, {\"hoverinfo\": \"text\", \"marker\": {\"color\": \"rgb(255,65,54)\"}, \"mode\": \"lines\", \"x\": [145.0, 145.0, 160.0, 160.0], \"xaxis\": \"x\", \"y\": [0.0, 0.01707628803361279, 0.01707628803361279, 0.00776135609654976], \"yaxis\": \"y\", \"type\": \"scatter\", \"uid\": \"1483f583-d943-4e99-884e-b5be282ac766\"}, {\"hoverinfo\": \"text\", \"marker\": {\"color\": \"rgb(255,65,54)\"}, \"mode\": \"lines\", \"x\": [135.0, 135.0, 152.5, 152.5], \"xaxis\": \"x\", \"y\": [0.0, 0.027726218834339802, 0.027726218834339802, 0.01707628803361279], \"yaxis\": \"y\", \"type\": \"scatter\", \"uid\": \"143dd236-0c8e-4f85-b06c-c9d6b1b5e4ff\"}, {\"hoverinfo\": \"text\", \"marker\": {\"color\": \"rgb(255,65,54)\"}, \"mode\": \"lines\", \"x\": [101.25, 101.25, 143.75, 143.75], \"xaxis\": \"x\", \"y\": [0.027525816066821616, 0.05314109794364373, 0.05314109794364373, 0.027726218834339802], \"yaxis\": \"y\", \"type\": \"scatter\", \"uid\": \"53ee2bb4-a8ab-42ee-87b9-abf26eeedecd\"}, {\"hoverinfo\": \"text\", \"marker\": {\"color\": \"rgb(255,65,54)\"}, \"mode\": \"lines\", \"x\": [185.0, 185.0, 195.0, 195.0], \"xaxis\": \"x\", \"y\": [0.0, 0.021766806046100623, 0.021766806046100623, 0.0], \"yaxis\": \"y\", \"type\": \"scatter\", \"uid\": \"073206bf-2dbb-48dc-8de0-cd8001f3a42a\"}, {\"hoverinfo\": \"text\", \"marker\": {\"color\": \"rgb(255,65,54)\"}, \"mode\": \"lines\", \"x\": [175.0, 175.0, 190.0, 190.0], \"xaxis\": \"x\", \"y\": [0.0, 0.05541012516386199, 0.05541012516386199, 0.021766806046100623], \"yaxis\": \"y\", \"type\": \"scatter\", \"uid\": \"2cae34cc-8b5c-4aa6-b789-e0453d0697bd\"}, {\"hoverinfo\": \"text\", \"marker\": {\"color\": \"rgb(255,65,54)\"}, \"mode\": \"lines\", \"x\": [122.5, 122.5, 182.5, 182.5], \"xaxis\": \"x\", \"y\": [0.05314109794364373, 0.09687234190306607, 0.09687234190306607, 0.05541012516386199], \"yaxis\": \"y\", \"type\": \"scatter\", \"uid\": \"1a7ddb1f-26e3-4b65-bf02-69db604f017a\"}, {\"hoverinfo\": \"text\", \"marker\": {\"color\": \"rgb(255,65,54)\"}, \"mode\": \"lines\", \"x\": [53.75, 53.75, 152.5, 152.5], \"xaxis\": \"x\", \"y\": [0.031125625129322876, 0.12153147897895707, 0.12153147897895707, 0.09687234190306607], \"yaxis\": \"y\", \"type\": \"scatter\", \"uid\": \"bdcccef4-f5c3-4647-997b-08a54f97d5c5\"}, {\"hoverinfo\": \"text\", \"marker\": {\"color\": \"rgb(255,65,54)\"}, \"mode\": \"lines\", \"x\": [205.0, 205.0, 215.0, 215.0], \"xaxis\": \"x\", \"y\": [0.0, 0.0033369999265642322, 0.0033369999265642322, 0.0], \"yaxis\": \"y\", \"type\": \"scatter\", \"uid\": \"950d7ead-3853-4b85-b84b-66058a6539dd\"}, {\"hoverinfo\": \"text\", \"marker\": {\"color\": \"rgb(255,65,54)\"}, \"mode\": \"lines\", \"x\": [235.0, 235.0, 245.0, 245.0], \"xaxis\": \"x\", \"y\": [0.0, 0.004839039411754224, 0.004839039411754224, 0.0], \"yaxis\": \"y\", \"type\": \"scatter\", \"uid\": \"9be02656-f02b-4e34-9822-97f85d871a95\"}, {\"hoverinfo\": \"text\", \"marker\": {\"color\": \"rgb(255,65,54)\"}, \"mode\": \"lines\", \"x\": [225.0, 225.0, 240.0, 240.0], \"xaxis\": \"x\", \"y\": [0.0, 0.01188841672773555, 0.01188841672773555, 0.004839039411754224], \"yaxis\": \"y\", \"type\": \"scatter\", \"uid\": \"54ef919e-9364-4ae2-87a6-e3db6af5e2e8\"}, {\"hoverinfo\": \"text\", \"marker\": {\"color\": \"rgb(255,65,54)\"}, \"mode\": \"lines\", \"x\": [210.0, 210.0, 232.5, 232.5], \"xaxis\": \"x\", \"y\": [0.0033369999265642322, 0.028594090130375616, 0.028594090130375616, 0.01188841672773555], \"yaxis\": \"y\", \"type\": \"scatter\", \"uid\": \"ba3d1602-7f15-468c-b059-1db08d91f4b3\"}, {\"hoverinfo\": \"text\", \"marker\": {\"color\": \"rgb(255,65,54)\"}, \"mode\": \"lines\", \"x\": [275.0, 275.0, 285.0, 285.0], \"xaxis\": \"x\", \"y\": [0.0, 0.016230929959956984, 0.016230929959956984, 0.0], \"yaxis\": \"y\", \"type\": \"scatter\", \"uid\": \"83b84f9f-9cf5-4788-b2f6-ba2efd9b56b9\"}, {\"hoverinfo\": \"text\", \"marker\": {\"color\": \"rgb(255,65,54)\"}, \"mode\": \"lines\", \"x\": [265.0, 265.0, 280.0, 280.0], \"xaxis\": \"x\", \"y\": [0.0, 0.022870398756721283, 0.022870398756721283, 0.016230929959956984], \"yaxis\": \"y\", \"type\": \"scatter\", \"uid\": \"92e1f641-65fd-49fc-8145-8620ada00201\"}, {\"hoverinfo\": \"text\", \"marker\": {\"color\": \"rgb(255,65,54)\"}, \"mode\": \"lines\", \"x\": [255.0, 255.0, 272.5, 272.5], \"xaxis\": \"x\", \"y\": [0.0, 0.04103274535495095, 0.04103274535495095, 0.022870398756721283], \"yaxis\": \"y\", \"type\": \"scatter\", \"uid\": \"e7621415-8e0a-4b2d-93ba-e5d23a553831\"}, {\"hoverinfo\": \"text\", \"marker\": {\"color\": \"rgb(255,65,54)\"}, \"mode\": \"lines\", \"x\": [221.25, 221.25, 263.75, 263.75], \"xaxis\": \"x\", \"y\": [0.028594090130375616, 0.053435983043358004, 0.053435983043358004, 0.04103274535495095], \"yaxis\": \"y\", \"type\": \"scatter\", \"uid\": \"81326bf1-7a22-4cd5-9a75-62332dca53f0\"}, {\"hoverinfo\": \"text\", \"marker\": {\"color\": \"rgb(255,65,54)\"}, \"mode\": \"lines\", \"x\": [305.0, 305.0, 315.0, 315.0], \"xaxis\": \"x\", \"y\": [0.0, 0.009437595071914766, 0.009437595071914766, 0.0], \"yaxis\": \"y\", \"type\": \"scatter\", \"uid\": \"0948fe79-3622-4ac5-9991-ccc7fd6bf8bb\"}, {\"hoverinfo\": \"text\", \"marker\": {\"color\": \"rgb(255,65,54)\"}, \"mode\": \"lines\", \"x\": [295.0, 295.0, 310.0, 310.0], \"xaxis\": \"x\", \"y\": [0.0, 0.026438204397909237, 0.026438204397909237, 0.009437595071914766], \"yaxis\": \"y\", \"type\": \"scatter\", \"uid\": \"55d8d33d-76da-4f40-b443-61af81de6d62\"}, {\"hoverinfo\": \"text\", \"marker\": {\"color\": \"rgb(255,65,54)\"}, \"mode\": \"lines\", \"x\": [345.0, 345.0, 355.0, 355.0], \"xaxis\": \"x\", \"y\": [0.0, 0.0009693828983737636, 0.0009693828983737636, 0.0], \"yaxis\": \"y\", \"type\": \"scatter\", \"uid\": \"8aff34c1-c77b-42b4-b1cf-fa917c187db9\"}, {\"hoverinfo\": \"text\", \"marker\": {\"color\": \"rgb(255,65,54)\"}, \"mode\": \"lines\", \"x\": [335.0, 335.0, 350.0, 350.0], \"xaxis\": \"x\", \"y\": [0.0, 0.005061601569242093, 0.005061601569242093, 0.0009693828983737636], \"yaxis\": \"y\", \"type\": \"scatter\", \"uid\": \"1ca1a912-e6df-4fdd-978c-3a8e1ff39131\"}, {\"hoverinfo\": \"text\", \"marker\": {\"color\": \"rgb(255,65,54)\"}, \"mode\": \"lines\", \"x\": [325.0, 325.0, 342.5, 342.5], \"xaxis\": \"x\", \"y\": [0.0, 0.013029350553372178, 0.013029350553372178, 0.005061601569242093], \"yaxis\": \"y\", \"type\": \"scatter\", \"uid\": \"1ff6aa3b-fae4-44cb-adae-dc28e5ad2fb9\"}, {\"hoverinfo\": \"text\", \"marker\": {\"color\": \"rgb(255,65,54)\"}, \"mode\": \"lines\", \"x\": [375.0, 375.0, 385.0, 385.0], \"xaxis\": \"x\", \"y\": [0.0, 0.004357300197175236, 0.004357300197175236, 0.0], \"yaxis\": \"y\", \"type\": \"scatter\", \"uid\": \"d972f9a2-5a1f-465a-bc25-568ad067a8c6\"}, {\"hoverinfo\": \"text\", \"marker\": {\"color\": \"rgb(255,65,54)\"}, \"mode\": \"lines\", \"x\": [365.0, 365.0, 380.0, 380.0], \"xaxis\": \"x\", \"y\": [0.0, 0.013738114731709798, 0.013738114731709798, 0.004357300197175236], \"yaxis\": \"y\", \"type\": \"scatter\", \"uid\": \"ae5ea4c9-1469-4fe4-82c5-35870a465c0f\"}, {\"hoverinfo\": \"text\", \"marker\": {\"color\": \"rgb(255,65,54)\"}, \"mode\": \"lines\", \"x\": [333.75, 333.75, 372.5, 372.5], \"xaxis\": \"x\", \"y\": [0.013029350553372178, 0.03471257643009323, 0.03471257643009323, 0.013738114731709798], \"yaxis\": \"y\", \"type\": \"scatter\", \"uid\": \"1167c616-8b8a-48c7-b56e-ef91a1a80130\"}, {\"hoverinfo\": \"text\", \"marker\": {\"color\": \"rgb(255,65,54)\"}, \"mode\": \"lines\", \"x\": [302.5, 302.5, 353.125, 353.125], \"xaxis\": \"x\", \"y\": [0.026438204397909237, 0.054260578373233496, 0.054260578373233496, 0.03471257643009323], \"yaxis\": \"y\", \"type\": \"scatter\", \"uid\": \"50d9fb58-3ede-42aa-874d-cb3401cb5942\"}, {\"hoverinfo\": \"text\", \"marker\": {\"color\": \"rgb(255,65,54)\"}, \"mode\": \"lines\", \"x\": [242.5, 242.5, 327.8125, 327.8125], \"xaxis\": \"x\", \"y\": [0.053435983043358004, 0.08795394973741397, 0.08795394973741397, 0.054260578373233496], \"yaxis\": \"y\", \"type\": \"scatter\", \"uid\": \"05f20222-0072-4ae4-81b9-49fa7011729d\"}, {\"hoverinfo\": \"text\", \"marker\": {\"color\": \"rgb(255,65,54)\"}, \"mode\": \"lines\", \"x\": [405.0, 405.0, 415.0, 415.0], \"xaxis\": \"x\", \"y\": [0.0, 0.00606763257879938, 0.00606763257879938, 0.0], \"yaxis\": \"y\", \"type\": \"scatter\", \"uid\": \"ae127b42-15a0-4e56-a896-d691024281fd\"}, {\"hoverinfo\": \"text\", \"marker\": {\"color\": \"rgb(255,65,54)\"}, \"mode\": \"lines\", \"x\": [395.0, 395.0, 410.0, 410.0], \"xaxis\": \"x\", \"y\": [0.0, 0.025209086228367657, 0.025209086228367657, 0.00606763257879938], \"yaxis\": \"y\", \"type\": \"scatter\", \"uid\": \"247a12de-831b-4077-bcb5-1314cc806ca0\"}, {\"hoverinfo\": \"text\", \"marker\": {\"color\": \"rgb(255,65,54)\"}, \"mode\": \"lines\", \"x\": [445.0, 445.0, 455.0, 455.0], \"xaxis\": \"x\", \"y\": [0.0, 0.0027631766901830674, 0.0027631766901830674, 0.0], \"yaxis\": \"y\", \"type\": \"scatter\", \"uid\": \"56f54389-e15e-453f-85b9-a6c7bd6e0c04\"}, {\"hoverinfo\": \"text\", \"marker\": {\"color\": \"rgb(255,65,54)\"}, \"mode\": \"lines\", \"x\": [435.0, 435.0, 450.0, 450.0], \"xaxis\": \"x\", \"y\": [0.0, 0.004319020038486611, 0.004319020038486611, 0.0027631766901830674], \"yaxis\": \"y\", \"type\": \"scatter\", \"uid\": \"2ff251f5-de66-4bb4-9c8d-cc443b2411aa\"}, {\"hoverinfo\": \"text\", \"marker\": {\"color\": \"rgb(255,65,54)\"}, \"mode\": \"lines\", \"x\": [425.0, 425.0, 442.5, 442.5], \"xaxis\": \"x\", \"y\": [0.0, 0.012363043536517855, 0.012363043536517855, 0.004319020038486611], \"yaxis\": \"y\", \"type\": \"scatter\", \"uid\": \"f3922c57-8446-4497-8ab8-8360b6a8e23e\"}, {\"hoverinfo\": \"text\", \"marker\": {\"color\": \"rgb(255,65,54)\"}, \"mode\": \"lines\", \"x\": [475.0, 475.0, 485.0, 485.0], \"xaxis\": \"x\", \"y\": [0.0, 0.00424568092869819, 0.00424568092869819, 0.0], \"yaxis\": \"y\", \"type\": \"scatter\", \"uid\": \"162a574e-ee9c-4cfe-9ae1-838cea7536e1\"}, {\"hoverinfo\": \"text\", \"marker\": {\"color\": \"rgb(255,65,54)\"}, \"mode\": \"lines\", \"x\": [465.0, 465.0, 480.0, 480.0], \"xaxis\": \"x\", \"y\": [0.0, 0.019087801370655376, 0.019087801370655376, 0.00424568092869819], \"yaxis\": \"y\", \"type\": \"scatter\", \"uid\": \"9cf61a60-169b-4cfc-9bc5-37b16d676767\"}, {\"hoverinfo\": \"text\", \"marker\": {\"color\": \"rgb(255,65,54)\"}, \"mode\": \"lines\", \"x\": [433.75, 433.75, 472.5, 472.5], \"xaxis\": \"x\", \"y\": [0.012363043536517855, 0.027286671496009628, 0.027286671496009628, 0.019087801370655376], \"yaxis\": \"y\", \"type\": \"scatter\", \"uid\": \"dc4272c6-7886-4dad-9a1c-3c64a57a53ab\"}, {\"hoverinfo\": \"text\", \"marker\": {\"color\": \"rgb(255,65,54)\"}, \"mode\": \"lines\", \"x\": [402.5, 402.5, 453.125, 453.125], \"xaxis\": \"x\", \"y\": [0.025209086228367657, 0.05292365367039044, 0.05292365367039044, 0.027286671496009628], \"yaxis\": \"y\", \"type\": \"scatter\", \"uid\": \"04dd3467-bb98-4260-88e5-7041be18b11b\"}, {\"hoverinfo\": \"text\", \"marker\": {\"color\": \"rgb(255,65,54)\"}, \"mode\": \"lines\", \"x\": [495.0, 495.0, 505.0, 505.0], \"xaxis\": \"x\", \"y\": [0.0, 0.026632650508738996, 0.026632650508738996, 0.0], \"yaxis\": \"y\", \"type\": \"scatter\", \"uid\": \"3124cbaf-5008-4ed6-89ad-d3aeba2cbe26\"}, {\"hoverinfo\": \"text\", \"marker\": {\"color\": \"rgb(255,65,54)\"}, \"mode\": \"lines\", \"x\": [535.0, 535.0, 545.0, 545.0], \"xaxis\": \"x\", \"y\": [0.0, 0.0022131977955871843, 0.0022131977955871843, 0.0], \"yaxis\": \"y\", \"type\": \"scatter\", \"uid\": \"a3d24e5d-62dd-4cde-8d48-18aa6e45e754\"}, {\"hoverinfo\": \"text\", \"marker\": {\"color\": \"rgb(255,65,54)\"}, \"mode\": \"lines\", \"x\": [525.0, 525.0, 540.0, 540.0], \"xaxis\": \"x\", \"y\": [0.0, 0.013582099535862547, 0.013582099535862547, 0.0022131977955871843], \"yaxis\": \"y\", \"type\": \"scatter\", \"uid\": \"67d22248-8e3a-4ae9-9195-cdd2c9cbb01e\"}, {\"hoverinfo\": \"text\", \"marker\": {\"color\": \"rgb(255,65,54)\"}, \"mode\": \"lines\", \"x\": [515.0, 515.0, 532.5, 532.5], \"xaxis\": \"x\", \"y\": [0.0, 0.030620002890118892, 0.030620002890118892, 0.013582099535862547], \"yaxis\": \"y\", \"type\": \"scatter\", \"uid\": \"11f7585c-4966-4c91-87e7-fd7a4dfba18e\"}, {\"hoverinfo\": \"text\", \"marker\": {\"color\": \"rgb(255,65,54)\"}, \"mode\": \"lines\", \"x\": [500.0, 500.0, 523.75, 523.75], \"xaxis\": \"x\", \"y\": [0.026632650508738996, 0.06171889332096412, 0.06171889332096412, 0.030620002890118892], \"yaxis\": \"y\", \"type\": \"scatter\", \"uid\": \"396fdc3a-5721-40cb-b1cb-619c67bc794b\"}, {\"hoverinfo\": \"text\", \"marker\": {\"color\": \"rgb(255,65,54)\"}, \"mode\": \"lines\", \"x\": [427.8125, 427.8125, 511.875, 511.875], \"xaxis\": \"x\", \"y\": [0.05292365367039044, 0.0916967283213374, 0.0916967283213374, 0.06171889332096412], \"yaxis\": \"y\", \"type\": \"scatter\", \"uid\": \"03ba679e-a9f8-4300-8db0-2007b398cca4\"}, {\"hoverinfo\": \"text\", \"marker\": {\"color\": \"rgb(255,65,54)\"}, \"mode\": \"lines\", \"x\": [285.15625, 285.15625, 469.84375, 469.84375], \"xaxis\": \"x\", \"y\": [0.08795394973741397, 0.15196251990506807, 0.15196251990506807, 0.0916967283213374], \"yaxis\": \"y\", \"type\": \"scatter\", \"uid\": \"25bd51b2-e86c-4c18-ad63-1d77cc90f801\"}, {\"hoverinfo\": \"text\", \"marker\": {\"color\": \"rgb(255,65,54)\"}, \"mode\": \"lines\", \"x\": [565.0, 565.0, 575.0, 575.0], \"xaxis\": \"x\", \"y\": [0.0, 0.010993981180051168, 0.010993981180051168, 0.0], \"yaxis\": \"y\", \"type\": \"scatter\", \"uid\": \"ab7ac310-6ec3-4d39-b188-83427f26805f\"}, {\"hoverinfo\": \"text\", \"marker\": {\"color\": \"rgb(255,65,54)\"}, \"mode\": \"lines\", \"x\": [555.0, 555.0, 570.0, 570.0], \"xaxis\": \"x\", \"y\": [0.0, 0.03408352553933763, 0.03408352553933763, 0.010993981180051168], \"yaxis\": \"y\", \"type\": \"scatter\", \"uid\": \"b4b342d5-7296-4faa-a06a-7b54e602cd66\"}, {\"hoverinfo\": \"text\", \"marker\": {\"color\": \"rgb(255,65,54)\"}, \"mode\": \"lines\", \"x\": [595.0, 595.0, 605.0, 605.0], \"xaxis\": \"x\", \"y\": [0.0, 0.0099919127002183, 0.0099919127002183, 0.0], \"yaxis\": \"y\", \"type\": \"scatter\", \"uid\": \"16ba1a44-70e9-40a0-b284-bd1bbf2afbfb\"}, {\"hoverinfo\": \"text\", \"marker\": {\"color\": \"rgb(255,65,54)\"}, \"mode\": \"lines\", \"x\": [585.0, 585.0, 600.0, 600.0], \"xaxis\": \"x\", \"y\": [0.0, 0.035490614130310114, 0.035490614130310114, 0.0099919127002183], \"yaxis\": \"y\", \"type\": \"scatter\", \"uid\": \"6b1be060-4083-4425-aac9-abad5e5137fb\"}, {\"hoverinfo\": \"text\", \"marker\": {\"color\": \"rgb(255,65,54)\"}, \"mode\": \"lines\", \"x\": [562.5, 562.5, 592.5, 592.5], \"xaxis\": \"x\", \"y\": [0.03408352553933763, 0.08072420291401061, 0.08072420291401061, 0.035490614130310114], \"yaxis\": \"y\", \"type\": \"scatter\", \"uid\": \"009da73a-b2a7-4608-8d55-4e3a22c429c3\"}, {\"hoverinfo\": \"text\", \"marker\": {\"color\": \"rgb(255,65,54)\"}, \"mode\": \"lines\", \"x\": [615.0, 615.0, 625.0, 625.0], \"xaxis\": \"x\", \"y\": [0.0, 0.0209662677047731, 0.0209662677047731, 0.0], \"yaxis\": \"y\", \"type\": \"scatter\", \"uid\": \"7e61d6a9-ee2e-4475-9347-db40dc9d6f47\"}, {\"hoverinfo\": \"text\", \"marker\": {\"color\": \"rgb(255,65,54)\"}, \"mode\": \"lines\", \"x\": [645.0, 645.0, 655.0, 655.0], \"xaxis\": \"x\", \"y\": [0.0, 0.013165343203294906, 0.013165343203294906, 0.0], \"yaxis\": \"y\", \"type\": \"scatter\", \"uid\": \"99a8fa04-b286-4d92-b3b2-ecc79e0c38ec\"}, {\"hoverinfo\": \"text\", \"marker\": {\"color\": \"rgb(255,65,54)\"}, \"mode\": \"lines\", \"x\": [635.0, 635.0, 650.0, 650.0], \"xaxis\": \"x\", \"y\": [0.0, 0.030994419928763572, 0.030994419928763572, 0.013165343203294906], \"yaxis\": \"y\", \"type\": \"scatter\", \"uid\": \"02864128-8852-4204-9c13-f9308af69ae0\"}, {\"hoverinfo\": \"text\", \"marker\": {\"color\": \"rgb(255,65,54)\"}, \"mode\": \"lines\", \"x\": [620.0, 620.0, 642.5, 642.5], \"xaxis\": \"x\", \"y\": [0.0209662677047731, 0.048814126786864656, 0.048814126786864656, 0.030994419928763572], \"yaxis\": \"y\", \"type\": \"scatter\", \"uid\": \"78f87517-eaa3-4097-bbd8-049cb7b44c8d\"}, {\"hoverinfo\": \"text\", \"marker\": {\"color\": \"rgb(255,65,54)\"}, \"mode\": \"lines\", \"x\": [665.0, 665.0, 675.0, 675.0], \"xaxis\": \"x\", \"y\": [0.0, 0.00938946586889622, 0.00938946586889622, 0.0], \"yaxis\": \"y\", \"type\": \"scatter\", \"uid\": \"c2296fef-b725-4671-96c1-cb568b99f730\"}, {\"hoverinfo\": \"text\", \"marker\": {\"color\": \"rgb(255,65,54)\"}, \"mode\": \"lines\", \"x\": [685.0, 685.0, 695.0, 695.0], \"xaxis\": \"x\", \"y\": [0.0, 0.014203967675815471, 0.014203967675815471, 0.0], \"yaxis\": \"y\", \"type\": \"scatter\", \"uid\": \"e7c15c86-c60b-4949-8ce1-586a01d04b35\"}, {\"hoverinfo\": \"text\", \"marker\": {\"color\": \"rgb(255,65,54)\"}, \"mode\": \"lines\", \"x\": [670.0, 670.0, 690.0, 690.0], \"xaxis\": \"x\", \"y\": [0.00938946586889622, 0.020848863004593238, 0.020848863004593238, 0.014203967675815471], \"yaxis\": \"y\", \"type\": \"scatter\", \"uid\": \"9ff01899-b941-49de-b824-ab969bc3abfc\"}, {\"hoverinfo\": \"text\", \"marker\": {\"color\": \"rgb(255,65,54)\"}, \"mode\": \"lines\", \"x\": [715.0, 715.0, 725.0, 725.0], \"xaxis\": \"x\", \"y\": [0.0, 0.0031643307384602287, 0.0031643307384602287, 0.0], \"yaxis\": \"y\", \"type\": \"scatter\", \"uid\": \"5dbdba2f-abd2-4e2d-9ce7-b812206386ee\"}, {\"hoverinfo\": \"text\", \"marker\": {\"color\": \"rgb(255,65,54)\"}, \"mode\": \"lines\", \"x\": [705.0, 705.0, 720.0, 720.0], \"xaxis\": \"x\", \"y\": [0.0, 0.006468226883025869, 0.006468226883025869, 0.0031643307384602287], \"yaxis\": \"y\", \"type\": \"scatter\", \"uid\": \"99f8b84e-00d1-457a-bde9-3ffc463cf6f3\"}, {\"hoverinfo\": \"text\", \"marker\": {\"color\": \"rgb(255,65,54)\"}, \"mode\": \"lines\", \"x\": [755.0, 755.0, 765.0, 765.0], \"xaxis\": \"x\", \"y\": [0.0, 0.0032641218662732502, 0.0032641218662732502, 0.0], \"yaxis\": \"y\", \"type\": \"scatter\", \"uid\": \"2a1e1c33-3351-4625-995c-a57c8402eb60\"}, {\"hoverinfo\": \"text\", \"marker\": {\"color\": \"rgb(255,65,54)\"}, \"mode\": \"lines\", \"x\": [745.0, 745.0, 760.0, 760.0], \"xaxis\": \"x\", \"y\": [0.0, 0.005984645612115164, 0.005984645612115164, 0.0032641218662732502], \"yaxis\": \"y\", \"type\": \"scatter\", \"uid\": \"6c9b7208-7c1a-4278-82c9-c423c5eafc40\"}, {\"hoverinfo\": \"text\", \"marker\": {\"color\": \"rgb(255,65,54)\"}, \"mode\": \"lines\", \"x\": [735.0, 735.0, 752.5, 752.5], \"xaxis\": \"x\", \"y\": [0.0, 0.01184555506408526, 0.01184555506408526, 0.005984645612115164], \"yaxis\": \"y\", \"type\": \"scatter\", \"uid\": \"71532eb0-e353-4200-8a09-8b7519ecbd59\"}, {\"hoverinfo\": \"text\", \"marker\": {\"color\": \"rgb(255,65,54)\"}, \"mode\": \"lines\", \"x\": [712.5, 712.5, 743.75, 743.75], \"xaxis\": \"x\", \"y\": [0.006468226883025869, 0.016808998725292307, 0.016808998725292307, 0.01184555506408526], \"yaxis\": \"y\", \"type\": \"scatter\", \"uid\": \"3b1065c5-4bc7-40e5-84fa-434ddefbeec6\"}, {\"hoverinfo\": \"text\", \"marker\": {\"color\": \"rgb(255,65,54)\"}, \"mode\": \"lines\", \"x\": [775.0, 775.0, 785.0, 785.0], \"xaxis\": \"x\", \"y\": [0.0, 0.0201338775730355, 0.0201338775730355, 0.0], \"yaxis\": \"y\", \"type\": \"scatter\", \"uid\": \"d2328b58-6ef5-461c-9410-35113a2f78ff\"}, {\"hoverinfo\": \"text\", \"marker\": {\"color\": \"rgb(255,65,54)\"}, \"mode\": \"lines\", \"x\": [728.125, 728.125, 780.0, 780.0], \"xaxis\": \"x\", \"y\": [0.016808998725292307, 0.03735112423943811, 0.03735112423943811, 0.0201338775730355], \"yaxis\": \"y\", \"type\": \"scatter\", \"uid\": \"898406c1-30a9-41bb-830e-8a1ceca36e36\"}, {\"hoverinfo\": \"text\", \"marker\": {\"color\": \"rgb(255,65,54)\"}, \"mode\": \"lines\", \"x\": [680.0, 680.0, 754.0625, 754.0625], \"xaxis\": \"x\", \"y\": [0.020848863004593238, 0.06462107670406081, 0.06462107670406081, 0.03735112423943811], \"yaxis\": \"y\", \"type\": \"scatter\", \"uid\": \"1867056b-2890-47e0-9a01-9abecb497c4a\"}, {\"hoverinfo\": \"text\", \"marker\": {\"color\": \"rgb(255,65,54)\"}, \"mode\": \"lines\", \"x\": [631.25, 631.25, 717.03125, 717.03125], \"xaxis\": \"x\", \"y\": [0.048814126786864656, 0.08509399309094155, 0.08509399309094155, 0.06462107670406081], \"yaxis\": \"y\", \"type\": \"scatter\", \"uid\": \"514b57b0-bd61-40ce-8fd2-edfe394a24f0\"}, {\"hoverinfo\": \"text\", \"marker\": {\"color\": \"rgb(255,65,54)\"}, \"mode\": \"lines\", \"x\": [577.5, 577.5, 674.140625, 674.140625], \"xaxis\": \"x\", \"y\": [0.08072420291401061, 0.1475455963631917, 0.1475455963631917, 0.08509399309094155], \"yaxis\": \"y\", \"type\": \"scatter\", \"uid\": \"daa4dc2e-a538-4ebc-9e5c-5ad1a1ca226f\"}, {\"hoverinfo\": \"text\", \"marker\": {\"color\": \"rgb(255,65,54)\"}, \"mode\": \"lines\", \"x\": [815.0, 815.0, 825.0, 825.0], \"xaxis\": \"x\", \"y\": [0.0, 0.016056129353723896, 0.016056129353723896, 0.0], \"yaxis\": \"y\", \"type\": \"scatter\", \"uid\": \"c9d4033b-83ec-4f45-92c0-dff0c73c62e0\"}, {\"hoverinfo\": \"text\", \"marker\": {\"color\": \"rgb(255,65,54)\"}, \"mode\": \"lines\", \"x\": [805.0, 805.0, 820.0, 820.0], \"xaxis\": \"x\", \"y\": [0.0, 0.03065247850742194, 0.03065247850742194, 0.016056129353723896], \"yaxis\": \"y\", \"type\": \"scatter\", \"uid\": \"041797a2-5c16-493c-8160-bdf1c0fcaba6\"}, {\"hoverinfo\": \"text\", \"marker\": {\"color\": \"rgb(255,65,54)\"}, \"mode\": \"lines\", \"x\": [835.0, 835.0, 845.0, 845.0], \"xaxis\": \"x\", \"y\": [0.0, 0.019660996221528546, 0.019660996221528546, 0.0], \"yaxis\": \"y\", \"type\": \"scatter\", \"uid\": \"725211da-354e-4f5f-aeed-3605c4705612\"}, {\"hoverinfo\": \"text\", \"marker\": {\"color\": \"rgb(255,65,54)\"}, \"mode\": \"lines\", \"x\": [865.0, 865.0, 875.0, 875.0], \"xaxis\": \"x\", \"y\": [0.0, 0.012294266094747881, 0.012294266094747881, 0.0], \"yaxis\": \"y\", \"type\": \"scatter\", \"uid\": \"e2e524e2-ec5c-417b-aa16-6b3128496db8\"}, {\"hoverinfo\": \"text\", \"marker\": {\"color\": \"rgb(255,65,54)\"}, \"mode\": \"lines\", \"x\": [855.0, 855.0, 870.0, 870.0], \"xaxis\": \"x\", \"y\": [0.0, 0.032127528599318965, 0.032127528599318965, 0.012294266094747881], \"yaxis\": \"y\", \"type\": \"scatter\", \"uid\": \"3721b4de-8d41-4964-8e44-1c7d4d8a741a\"}, {\"hoverinfo\": \"text\", \"marker\": {\"color\": \"rgb(255,65,54)\"}, \"mode\": \"lines\", \"x\": [840.0, 840.0, 862.5, 862.5], \"xaxis\": \"x\", \"y\": [0.019660996221528546, 0.04518180470604276, 0.04518180470604276, 0.032127528599318965], \"yaxis\": \"y\", \"type\": \"scatter\", \"uid\": \"fb3d49ae-48c4-492e-ace1-7c7701e1f14b\"}, {\"hoverinfo\": \"text\", \"marker\": {\"color\": \"rgb(255,65,54)\"}, \"mode\": \"lines\", \"x\": [812.5, 812.5, 851.25, 851.25], \"xaxis\": \"x\", \"y\": [0.03065247850742194, 0.08359571348068248, 0.08359571348068248, 0.04518180470604276], \"yaxis\": \"y\", \"type\": \"scatter\", \"uid\": \"a735485e-cca2-46f6-9a02-57baff047e0b\"}, {\"hoverinfo\": \"text\", \"marker\": {\"color\": \"rgb(255,65,54)\"}, \"mode\": \"lines\", \"x\": [905.0, 905.0, 915.0, 915.0], \"xaxis\": \"x\", \"y\": [0.0, 0.00094600039316044, 0.00094600039316044, 0.0], \"yaxis\": \"y\", \"type\": \"scatter\", \"uid\": \"58ddfbf2-3125-4a9b-8ca7-daa03e1ac87a\"}, {\"hoverinfo\": \"text\", \"marker\": {\"color\": \"rgb(255,65,54)\"}, \"mode\": \"lines\", \"x\": [895.0, 895.0, 910.0, 910.0], \"xaxis\": \"x\", \"y\": [0.0, 0.011130532748230532, 0.011130532748230532, 0.00094600039316044], \"yaxis\": \"y\", \"type\": \"scatter\", \"uid\": \"6a921299-ff98-4307-80c3-46e819ef54b2\"}, {\"hoverinfo\": \"text\", \"marker\": {\"color\": \"rgb(255,65,54)\"}, \"mode\": \"lines\", \"x\": [885.0, 885.0, 902.5, 902.5], \"xaxis\": \"x\", \"y\": [0.0, 0.0372363487377299, 0.0372363487377299, 0.011130532748230532], \"yaxis\": \"y\", \"type\": \"scatter\", \"uid\": \"ef798a62-33ef-4619-88fe-fc20b5e6d288\"}, {\"hoverinfo\": \"text\", \"marker\": {\"color\": \"rgb(255,65,54)\"}, \"mode\": \"lines\", \"x\": [935.0, 935.0, 945.0, 945.0], \"xaxis\": \"x\", \"y\": [0.0, 0.020057683698286633, 0.020057683698286633, 0.0], \"yaxis\": \"y\", \"type\": \"scatter\", \"uid\": \"df00934e-54e1-455f-989a-a551ebc5bc7a\"}, {\"hoverinfo\": \"text\", \"marker\": {\"color\": \"rgb(255,65,54)\"}, \"mode\": \"lines\", \"x\": [925.0, 925.0, 940.0, 940.0], \"xaxis\": \"x\", \"y\": [0.0, 0.05809443998568127, 0.05809443998568127, 0.020057683698286633], \"yaxis\": \"y\", \"type\": \"scatter\", \"uid\": \"97fc3f02-7b0e-4e22-b0ff-e2f94e7135ae\"}, {\"hoverinfo\": \"text\", \"marker\": {\"color\": \"rgb(255,65,54)\"}, \"mode\": \"lines\", \"x\": [893.75, 893.75, 932.5, 932.5], \"xaxis\": \"x\", \"y\": [0.0372363487377299, 0.10381246399239312, 0.10381246399239312, 0.05809443998568127], \"yaxis\": \"y\", \"type\": \"scatter\", \"uid\": \"7801f8e9-35f7-4d01-a1e3-26b91af55dd1\"}, {\"hoverinfo\": \"text\", \"marker\": {\"color\": \"rgb(255,65,54)\"}, \"mode\": \"lines\", \"x\": [831.875, 831.875, 913.125, 913.125], \"xaxis\": \"x\", \"y\": [0.08359571348068248, 0.12822161203527746, 0.12822161203527746, 0.10381246399239312], \"yaxis\": \"y\", \"type\": \"scatter\", \"uid\": \"b08fc75f-3849-46c9-9db3-d2f2b75cd688\"}, {\"hoverinfo\": \"text\", \"marker\": {\"color\": \"rgb(255,65,54)\"}, \"mode\": \"lines\", \"x\": [795.0, 795.0, 872.5, 872.5], \"xaxis\": \"x\", \"y\": [0.0, 0.19083656995527593, 0.19083656995527593, 0.12822161203527746], \"yaxis\": \"y\", \"type\": \"scatter\", \"uid\": \"f3abe716-a9d9-4c98-b8ea-e0c5ef6845a9\"}, {\"hoverinfo\": \"text\", \"marker\": {\"color\": \"rgb(255,65,54)\"}, \"mode\": \"lines\", \"x\": [625.8203125, 625.8203125, 833.75, 833.75], \"xaxis\": \"x\", \"y\": [0.1475455963631917, 0.2631762194489856, 0.2631762194489856, 0.19083656995527593], \"yaxis\": \"y\", \"type\": \"scatter\", \"uid\": \"bca78c80-ccfe-4c07-8989-dfb0d52d751f\"}, {\"hoverinfo\": \"text\", \"marker\": {\"color\": \"rgb(255,65,54)\"}, \"mode\": \"lines\", \"x\": [377.5, 377.5, 729.78515625, 729.78515625], \"xaxis\": \"x\", \"y\": [0.15196251990506807, 0.29956366593120254, 0.29956366593120254, 0.2631762194489856], \"yaxis\": \"y\", \"type\": \"scatter\", \"uid\": \"9da2c1aa-4125-47e9-aaf1-a94d7ec44776\"}, {\"hoverinfo\": \"text\", \"marker\": {\"color\": \"rgb(255,65,54)\"}, \"mode\": \"lines\", \"x\": [103.125, 103.125, 553.642578125, 553.642578125], \"xaxis\": \"x\", \"y\": [0.12153147897895707, 0.42153975575978914, 0.42153975575978914, 0.29956366593120254], \"yaxis\": \"y\", \"type\": \"scatter\", \"uid\": \"c0efbbb7-0737-4fa5-9cea-2d46c89ed762\"}, {\"hoverinfo\": \"text\", \"marker\": {\"color\": \"rgb(35,205,205)\"}, \"mode\": \"lines\", \"x\": [965.0, 965.0, 975.0, 975.0], \"xaxis\": \"x\", \"y\": [0.0, 0.05232737483746899, 0.05232737483746899, 0.0], \"yaxis\": \"y\", \"type\": \"scatter\", \"uid\": \"80419503-4e0e-4a0b-bdc5-f2abfec85496\"}, {\"hoverinfo\": \"text\", \"marker\": {\"color\": \"rgb(35,205,205)\"}, \"mode\": \"lines\", \"x\": [955.0, 955.0, 970.0, 970.0], \"xaxis\": \"x\", \"y\": [0.0, 0.09085673171659524, 0.09085673171659524, 0.05232737483746899], \"yaxis\": \"y\", \"type\": \"scatter\", \"uid\": \"d3d64229-fef3-4fa8-8cb2-3357dd7600cd\"}, {\"hoverinfo\": \"text\", \"marker\": {\"color\": \"rgb(35,205,205)\"}, \"mode\": \"lines\", \"x\": [985.0, 985.0, 995.0, 995.0], \"xaxis\": \"x\", \"y\": [0.0, 0.09573420134525426, 0.09573420134525426, 0.0], \"yaxis\": \"y\", \"type\": \"scatter\", \"uid\": \"349d0423-c76e-4069-8c0f-415e24b83391\"}, {\"hoverinfo\": \"text\", \"marker\": {\"color\": \"rgb(35,205,205)\"}, \"mode\": \"lines\", \"x\": [962.5, 962.5, 990.0, 990.0], \"xaxis\": \"x\", \"y\": [0.09085673171659524, 0.4468387322637584, 0.4468387322637584, 0.09573420134525426], \"yaxis\": \"y\", \"type\": \"scatter\", \"uid\": \"21ea74bf-fe30-4958-9b97-634d37fc2525\"}, {\"hoverinfo\": \"text\", \"marker\": {\"color\": \"rgb(0,116,217)\"}, \"mode\": \"lines\", \"x\": [328.3837890625, 328.3837890625, 976.25, 976.25], \"xaxis\": \"x\", \"y\": [0.42153975575978914, 0.9232208549486557, 0.9232208549486557, 0.4468387322637584], \"yaxis\": \"y\", \"type\": \"scatter\", \"uid\": \"3bcf0470-e5db-46ff-b6a3-bad62b8d1419\"}, {\"hoverinfo\": \"text\", \"marker\": {\"color\": \"rgb(0,116,217)\"}, \"mode\": \"lines\", \"x\": [13.75, 13.75, 652.31689453125, 652.31689453125], \"xaxis\": \"x\", \"y\": [0.24222954742505967, 1.1869112533357025, 1.1869112533357025, 0.9232208549486557], \"yaxis\": \"y\", \"type\": \"scatter\", \"uid\": \"f8f97553-74c0-4c43-8acf-8ad540fa3d88\"}], {\"autosize\": false, \"height\": 500, \"hovermode\": \"closest\", \"showlegend\": false, \"width\": 1000, \"xaxis\": {\"mirror\": \"allticks\", \"rangemode\": \"tozero\", \"showgrid\": false, \"showline\": true, \"showticklabels\": true, \"tickmode\": \"array\", \"ticks\": \"outside\", \"ticktext\": [\"E.T. the Extra-Terrestrial\", \"The Godfather\", \"The Godfather: Part II\", \"Tootsie\", \"Saving Private Ryan\", \"Lawrence of Arabia\", \"The Bridge on the River Kwai\", \"Apocalypse Now\", \"Gandhi\", \"The Good, the Bad and the Ugly\", \"Star Wars\", \"All Quiet on the Western Front\", \"Mutiny on the Bounty\", \"Platoon\", \"Raiders of the Lost Ark\", \"Dr. Strangelove or: How I Learned to Stop Worrying and Love the Bomb\", \"Dances with Wolves\", \"Patton\", \"Schindler's List\", \"Gladiator\", \"Good Will Hunting\", \"The Third Man\", \"Chinatown\", \"Forrest Gump\", \"My Fair Lady\", \"High Noon\", \"West Side Story\", \"The Shawshank Redemption\", \"Yankee Doodle Dandy\", \"Goodfellas\", \"Raging Bull\", \"The Maltese Falcon\", \"Wuthering Heights\", \"Citizen Kane\", \"Psycho\", \"Pulp Fiction\", \"Double Indemnity\", \"Vertigo\", \"Rebel Without a Cause\", \"The French Connection\", \"Rain Man\", \"City Lights\", \"Rear Window\", \"Singin' in the Rain\", \"Annie Hall\", \"North by Northwest\", \"On the Waterfront\", \"The Apartment\", \"It Happened One Night\", \"Taxi Driver\", \"Terms of Endearment\", \"Nashville\", \"The Graduate\", \"Rocky\", \"American Graffiti\", \"The African Queen\", \"Casablanca\", \"The Lord of the Rings: The Return of the King\", \"Braveheart\", \"From Here to Eternity\", \"The Pianist\", \"Ben-Hur\", \"Shane\", \"2001: A Space Odyssey\", \"Gone with the Wind\", \"Mr. Smith Goes to Washington\", \"The Sound of Music\", \"The Treasure of the Sierra Madre\", \"Titanic\", \"Butch Cassidy and the Sundance Kid\", \"Unforgiven\", \"The Silence of the Lambs\", \"Network\", \"The Wizard of Oz\", \"The Best Years of Our Lives\", \"One Flew Over the Cuckoo's Nest\", \"Amadeus\", \"12 Angry Men\", \"Stagecoach\", \"Jaws\", \"The Exorcist\", \"To Kill a Mockingbird\", \"A Clockwork Orange\", \"It's a Wonderful Life\", \"The Philadelphia Story\", \"A Place in the Sun\", \"A Streetcar Named Desire\", \"Giant\", \"Doctor Zhivago\", \"The Green Mile\", \"Out of Africa\", \"Close Encounters of the Third Kind\", \"The Deer Hunter\", \"The King's Speech\", \"The Grapes of Wrath\", \"An American in Paris\", \"Some Like It Hot\", \"Fargo\", \"Sunset Blvd.\", \"Midnight Cowboy\"], \"tickvals\": [5.0, 15.0, 25.0, 35.0, 45.0, 55.0, 65.0, 75.0, 85.0, 95.0, 105.0, 115.0, 125.0, 135.0, 145.0, 155.0, 165.0, 175.0, 185.0, 195.0, 205.0, 215.0, 225.0, 235.0, 245.0, 255.0, 265.0, 275.0, 285.0, 295.0, 305.0, 315.0, 325.0, 335.0, 345.0, 355.0, 365.0, 375.0, 385.0, 395.0, 405.0, 415.0, 425.0, 435.0, 445.0, 455.0, 465.0, 475.0, 485.0, 495.0, 505.0, 515.0, 525.0, 535.0, 545.0, 555.0, 565.0, 575.0, 585.0, 595.0, 605.0, 615.0, 625.0, 635.0, 645.0, 655.0, 665.0, 675.0, 685.0, 695.0, 705.0, 715.0, 725.0, 735.0, 745.0, 755.0, 765.0, 775.0, 785.0, 795.0, 805.0, 815.0, 825.0, 835.0, 845.0, 855.0, 865.0, 875.0, 885.0, 895.0, 905.0, 915.0, 925.0, 935.0, 945.0, 955.0, 965.0, 975.0, 985.0, 995.0], \"type\": \"linear\", \"zeroline\": false}, \"yaxis\": {\"mirror\": \"allticks\", \"rangemode\": \"tozero\", \"showgrid\": false, \"showline\": true, \"showticklabels\": true, \"ticks\": \"outside\", \"type\": \"linear\", \"zeroline\": false}, \"title\": {\"font\": {\"size\": 25}, \"text\": \"100 Greatest Films\"}, \"font\": {\"size\": 10}}, {\"showLink\": false, \"linkText\": \"Export to plot.ly\", \"plotlyServerURL\": \"https://plot.ly\"})});</script>"
      ]
     },
     "metadata": {},
     "output_type": "display_data"
    }
   ],
   "source": [
    "import plotly.figure_factory as ff\n",
    "\n",
    "X_2D = pca.fit_transform(X.todense())\n",
    "dendro = ff.create_dendrogram(X_2D, labels=movies['title'].tolist())\n",
    "dendro['layout'].update(width=1000, height=500,\n",
    "                     title={'text': '100 Greatest Films', 'font': {'size': 25}}, \n",
    "                     font={'size': 10})\n",
    "iplot(dendro, filename='simple_dendrogram')"
   ]
  },
  {
   "cell_type": "markdown",
   "metadata": {},
   "source": [
    "## t-SNE"
   ]
  },
  {
   "cell_type": "markdown",
   "metadata": {},
   "source": [
    "**t-SNE** _(t-distributed stochastic neighbor embedding)_ — техника нелинейного снижения размерности и визуализации многомерных переменных. Документация [тут](http://www.scikit-yb.org/en/latest/api/text/tsne.html)."
   ]
  },
  {
   "cell_type": "code",
   "execution_count": 46,
   "metadata": {},
   "outputs": [
    {
     "data": {
      "image/png": "[encoded data removed]",
      "text/plain": [
       "<Figure size 576x396 with 1 Axes>"
      ]
     },
     "metadata": {},
     "output_type": "display_data"
    }
   ],
   "source": [
    "import yellowbrick\n",
    "from yellowbrick.text import TSNEVisualizer\n",
    "\n",
    "# В X все еще лежит векторизованный корпус размерностью 2348\n",
    "tsne = TSNEVisualizer()\n",
    "tsne.fit(X, [\"c{}\".format(c) for c in clf.labels_])\n",
    "tsne.poof()"
   ]
  }
 ],
 "metadata": {
  "kernelspec": {
   "display_name": "Python 3",
   "language": "python",
   "name": "python3"
  },
  "language_info": {
   "codemirror_mode": {
    "name": "ipython",
    "version": 3
   },
   "file_extension": ".py",
   "mimetype": "text/x-python",
   "name": "python",
   "nbconvert_exporter": "python",
   "pygments_lexer": "ipython3",
   "version": "3.6.8"
  }
 },
 "nbformat": 4,
 "nbformat_minor": 2
}
