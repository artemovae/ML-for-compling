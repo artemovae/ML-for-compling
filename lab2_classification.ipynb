{
 "cells": [
  {
   "cell_type": "markdown",
   "metadata": {
    "deletable": true,
    "editable": true
   },
   "source": [
    "# Классификация текстов"
   ]
  },
  {
   "cell_type": "markdown",
   "metadata": {
    "deletable": true,
    "editable": true
   },
   "source": [
    "В этой лабораторной работе вам предстоит сравнить между собой различные алгоритмы классификации текстов на одной и той же коллекции текстов. Коллекция текстов состоит из 11000 новостных статей, принадлежащих 5 возможным классам: культура, общество, политика, экономика, спорт. \n",
    "\n",
    "Коллекция текстов заранее разбита на обучающее и тестовое множества, в обучающем – 2000 текстов, в тестовом – 200. \n",
    "\n",
    "Ваша задача – сравнить между собой несколько алгоритмов классификации и выбрать лучший из них по аккуратности и F1-мере. "
   ]
  },
  {
   "cell_type": "code",
   "execution_count": 1,
   "metadata": {
    "collapsed": true,
    "deletable": true,
    "editable": true
   },
   "outputs": [],
   "source": [
    "import pandas as pd\n",
    "import matplotlib.pyplot as plt\n",
    "import seaborn as sns\n",
    "import random\n",
    "random.seed(1228)\n",
    "from sklearn.feature_extraction.text import *\n",
    "from sklearn.metrics import *\n",
    "from sklearn.pipeline import Pipeline\n",
    "%matplotlib inline"
   ]
  },
  {
   "cell_type": "markdown",
   "metadata": {
    "deletable": true,
    "editable": true
   },
   "source": [
    "Тексты заранее предобработаны и сохранены в .csv-файл – все слова в нижнем регистре, все слова лемматизированы (mystem3), тексты очищены от стоп-слов (по списку из NLTK)."
   ]
  },
  {
   "cell_type": "code",
   "execution_count": 2,
   "metadata": {
    "collapsed": true,
    "deletable": true,
    "editable": true
   },
   "outputs": [],
   "source": [
    "data = pd.read_csv(\"../data/izvestya/articles_lemmatized_no_SW.csv\")"
   ]
  },
  {
   "cell_type": "markdown",
   "metadata": {
    "deletable": true,
    "editable": true
   },
   "source": [
    "Разбиение на тестовое и обучающее множество"
   ]
  },
  {
   "cell_type": "code",
   "execution_count": 3,
   "metadata": {
    "collapsed": false,
    "deletable": true,
    "editable": true
   },
   "outputs": [],
   "source": [
    "data = data[data.topic.isin((\"Культура\", \"Общество\", \"Политика\", \"Экономика\", \"Спорт\"))] \n",
    "corpus_sample_train = pd.DataFrame(columns=data.columns)\n",
    "corpus_sample_test = pd.DataFrame(columns=data.columns)\n",
    "\n",
    "for topic in data.topic.unique():\n",
    "    corpus_sample = data[data.topic==topic].sample(2200)\n",
    "    corpus_sample_train = corpus_sample_train.append(corpus_sample.iloc[:2000, :])\n",
    "    corpus_sample_test = corpus_sample_test.append(corpus_sample.iloc[2000:, :])"
   ]
  },
  {
   "cell_type": "code",
   "execution_count": 5,
   "metadata": {
    "collapsed": false,
    "deletable": true,
    "editable": true
   },
   "outputs": [
    {
     "data": {
      "text/plain": [
       "10000"
      ]
     },
     "execution_count": 5,
     "metadata": {},
     "output_type": "execute_result"
    }
   ],
   "source": [
    "len(corpus_sample_train)"
   ]
  },
  {
   "cell_type": "markdown",
   "metadata": {
    "deletable": true,
    "editable": true
   },
   "source": [
    "## Традиционные алгоритмы классификации\n",
    "Возможные варианты алгоритмов классификации (можно использовать и другие):\n",
    "* Наивный Байесовский классификатор (MultinomialNB, http://scikit-learn.org/stable/modules/generated/sklearn.naive_bayes.MultinomialNB.html)\n",
    "* Машины опорных векторов (SGDClassifier, http://scikit-learn.org/stable/modules/generated/sklearn.linear_model.SGDClassifier.html)\n",
    "* Случайные леса (RandomForestClassifier, http://scikit-learn.org/stable/modules/generated/sklearn.ensemble.RandomForestClassifier.html)\n",
    "* Метод максимальной энтропии http://scikit-learn.org/stable/modules/generated/sklearn.linear_model.LogisticRegression.html"
   ]
  },
  {
   "cell_type": "code",
   "execution_count": 4,
   "metadata": {
    "collapsed": false,
    "deletable": true,
    "editable": true
   },
   "outputs": [],
   "source": [
    "from sklearn.naive_bayes import MultinomialNB\n",
    "from sklearn.linear_model import SGDClassifier, LogisticRegression\n",
    "from sklearn.ensemble import RandomForestClassifier\n",
    "# from sklearn.decomposition import TruncatedSVD\n"
   ]
  },
  {
   "cell_type": "markdown",
   "metadata": {
    "deletable": true,
    "editable": true
   },
   "source": [
    "Будем классифицировать тексты как \"мешки слов\". Это значит, что каждое слово или каждая н-грамма задает свою координату в векторном пространстве, никаких дополнительных признаков не использует. \n",
    "\n",
    "В коде ниже замените:\n",
    "* Val1, Val2 – на какие-то числа. Эти числа задают способ определения признаков в векторном пространстве. Например, (1,1) означает, что мы рассматриваем только униграммы, (2, 2) – только биграмы), а (1, 2) – и униграммы, и биграммы;\n",
    "* Val3 – число размерностей. Можно попробовать снизить число размерностей, но надо помнить, что не все классификаторы этого требуют. \n",
    "* Classifier – на метод классификации и его параметры (или используйте параметры по умолчанию);"
   ]
  },
  {
   "cell_type": "code",
   "execution_count": 5,
   "metadata": {
    "collapsed": false,
    "deletable": true,
    "editable": true
   },
   "outputs": [
    {
     "data": {
      "text/plain": [
       "Pipeline(steps=[('vect', CountVectorizer(analyzer='word', binary=False, decode_error='strict',\n",
       "        dtype=<class 'numpy.int64'>, encoding='utf-8', input='content',\n",
       "        lowercase=True, max_df=1.0, max_features=None, min_df=1,\n",
       "        ngram_range=(1, 2), preprocessor=None, stop_words=None,\n",
       "        strip...   penalty='l2', power_t=0.5, random_state=None, shuffle=True,\n",
       "       verbose=0, warm_start=False))])"
      ]
     },
     "execution_count": 5,
     "metadata": {},
     "output_type": "execute_result"
    }
   ],
   "source": [
    "clf = Pipeline([\n",
    "    ('vect', CountVectorizer(ngram_range=(Val1,Val2))),\n",
    "#     ('tfidf', TfidfTransformer()),\n",
    "#     ('reducer', TruncatedSVD(n_components=30)),\n",
    "    ('clf', Classifier()),\n",
    "])\n",
    "\n",
    "\n",
    "clf.fit(corpus_sample_train.body, corpus_sample_train.topic)"
   ]
  },
  {
   "cell_type": "markdown",
   "metadata": {
    "deletable": true,
    "editable": true
   },
   "source": [
    "Предсказания классификатора на тестовом множестве"
   ]
  },
  {
   "cell_type": "code",
   "execution_count": 6,
   "metadata": {
    "collapsed": false,
    "deletable": true,
    "editable": true
   },
   "outputs": [],
   "source": [
    "predictions = clf.predict(corpus_sample_test.body)"
   ]
  },
  {
   "cell_type": "markdown",
   "metadata": {
    "deletable": true,
    "editable": true
   },
   "source": [
    "Качество классификации"
   ]
  },
  {
   "cell_type": "code",
   "execution_count": 7,
   "metadata": {
    "collapsed": false,
    "deletable": true,
    "editable": true
   },
   "outputs": [
    {
     "name": "stdout",
     "output_type": "stream",
     "text": [
      "Precision:   0.84\n",
      "Recall:   0.83\n",
      "F1-measure:   0.82\n",
      "Accuracy:   0.83\n",
      "             precision    recall  f1-score   support\n",
      "\n",
      "   Культура       0.82      0.97      0.89       200\n",
      "   Общество       0.87      0.47      0.61       200\n",
      "   Политика       0.74      0.86      0.79       200\n",
      "      Спорт       0.97      0.97      0.97       200\n",
      "  Экономика       0.80      0.88      0.84       200\n",
      "\n",
      "avg / total       0.84      0.83      0.82      1000\n",
      "\n"
     ]
    },
    {
     "name": "stderr",
     "output_type": "stream",
     "text": [
      "/Library/Frameworks/Python.framework/Versions/3.6/lib/python3.6/site-packages/seaborn/matrix.py:143: FutureWarning: elementwise comparison failed; returning scalar instead, but in the future will perform elementwise comparison\n",
      "  if xticklabels == []:\n",
      "/Library/Frameworks/Python.framework/Versions/3.6/lib/python3.6/site-packages/seaborn/matrix.py:151: FutureWarning: elementwise comparison failed; returning scalar instead, but in the future will perform elementwise comparison\n",
      "  if yticklabels == []:\n"
     ]
    },
    {
     "data": {
      "image/png": "[encoded data removed]",
      "text/plain": [
       "<matplotlib.figure.Figure at 0x13473edd8>"
      ]
     },
     "metadata": {},
     "output_type": "display_data"
    }
   ],
   "source": [
    "print(\"Precision: {0:6.2f}\".format(precision_score(corpus_sample_test.topic, predictions, average='macro')))\n",
    "print(\"Recall: {0:6.2f}\".format(recall_score(corpus_sample_test.topic, predictions, average='macro')))\n",
    "print(\"F1-measure: {0:6.2f}\".format(f1_score(corpus_sample_test.topic, predictions, average='macro')))\n",
    "print(\"Accuracy: {0:6.2f}\".format(accuracy_score(corpus_sample_test.topic, predictions)))\n",
    "print(classification_report(corpus_sample_test.topic, predictions))\n",
    "labels = clf.classes_\n",
    "sns.heatmap(data=confusion_matrix(corpus_sample_test.topic, predictions), annot=True, fmt=\"d\", cbar=False, xticklabels=labels, yticklabels=labels)\n",
    "plt.title(\"Confusion matrix\")\n",
    "plt.show()"
   ]
  },
  {
   "cell_type": "code",
   "execution_count": null,
   "metadata": {
    "collapsed": true,
    "deletable": true,
    "editable": true
   },
   "outputs": [],
   "source": []
  }
 ],
 "metadata": {
  "kernelspec": {
   "display_name": "Python 3",
   "language": "python",
   "name": "python3"
  },
  "language_info": {
   "codemirror_mode": {
    "name": "ipython",
    "version": 3
   },
   "file_extension": ".py",
   "mimetype": "text/x-python",
   "name": "python",
   "nbconvert_exporter": "python",
   "pygments_lexer": "ipython3",
   "version": "3.6.0"
  }
 },
 "nbformat": 4,
 "nbformat_minor": 0
}
