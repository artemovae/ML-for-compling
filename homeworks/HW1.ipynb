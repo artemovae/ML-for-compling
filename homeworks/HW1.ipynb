{
  "nbformat": 4,
  "nbformat_minor": 0,
  "metadata": {
    "colab": {
      "name": "HW1.ipynb",
      "version": "0.3.2",
      "provenance": [],
      "collapsed_sections": []
    },
    "kernelspec": {
      "name": "python3",
      "display_name": "Python 3"
    }
  },
  "cells": [
    {
      "metadata": {
        "id": "E7ME-ag0hoDA",
        "colab_type": "text"
      },
      "cell_type": "markdown",
      "source": [
        "# Данные"
      ]
    },
    {
      "metadata": {
        "id": "eVLBU4s9fF-q",
        "colab_type": "code",
        "colab": {
          "base_uri": "https://localhost:8080/",
          "height": 411
        },
        "outputId": "3116fcaf-0d65-4c62-c4fa-b1070be5aa5e"
      },
      "cell_type": "code",
      "source": [
        "!wget https://www.dropbox.com/s/nd7v1fod89xla6j/vk_texts_with_sources.csv"
      ],
      "execution_count": 1,
      "outputs": [
        {
          "output_type": "stream",
          "text": [
            "--2019-02-09 13:40:16--  https://www.dropbox.com/s/nd7v1fod89xla6j/vk_texts_with_sources.csv\n",
            "Resolving www.dropbox.com (www.dropbox.com)... 162.125.9.1, 2620:100:601f:1::a27d:901\n",
            "Connecting to www.dropbox.com (www.dropbox.com)|162.125.9.1|:443... connected.\n",
            "HTTP request sent, awaiting response... 301 Moved Permanently\n",
            "Location: /s/raw/nd7v1fod89xla6j/vk_texts_with_sources.csv [following]\n",
            "--2019-02-09 13:40:17--  https://www.dropbox.com/s/raw/nd7v1fod89xla6j/vk_texts_with_sources.csv\n",
            "Reusing existing connection to www.dropbox.com:443.\n",
            "HTTP request sent, awaiting response... 302 Found\n",
            "Location: https://uc9b09c59cba1740041dad76770e.dl.dropboxusercontent.com/cd/0/inline/AbDAzP3QQIl7zVZuPqVAu9arwcIfKUOciqr06geBlCcwqNhBO-316ntiiq8rIACf7d7NO3NnHqowNC2Q2LkJ4gjqkNO4sazvQOI0imrMYwnuAQ3TBNDpxUkCg-siT4AnHHE/file# [following]\n",
            "--2019-02-09 13:40:17--  https://uc9b09c59cba1740041dad76770e.dl.dropboxusercontent.com/cd/0/inline/AbDAzP3QQIl7zVZuPqVAu9arwcIfKUOciqr06geBlCcwqNhBO-316ntiiq8rIACf7d7NO3NnHqowNC2Q2LkJ4gjqkNO4sazvQOI0imrMYwnuAQ3TBNDpxUkCg-siT4AnHHE/file\n",
            "Resolving uc9b09c59cba1740041dad76770e.dl.dropboxusercontent.com (uc9b09c59cba1740041dad76770e.dl.dropboxusercontent.com)... 162.125.9.6, 2620:100:601f:6::a27d:906\n",
            "Connecting to uc9b09c59cba1740041dad76770e.dl.dropboxusercontent.com (uc9b09c59cba1740041dad76770e.dl.dropboxusercontent.com)|162.125.9.6|:443... connected.\n",
            "HTTP request sent, awaiting response... 200 OK\n",
            "Length: 14406837 (14M) [text/plain]\n",
            "Saving to: ‘vk_texts_with_sources.csv’\n",
            "\n",
            "vk_texts_with_sourc 100%[===================>]  13.74M  62.6MB/s    in 0.2s    \n",
            "\n",
            "2019-02-09 13:40:18 (62.6 MB/s) - ‘vk_texts_with_sources.csv’ saved [14406837/14406837]\n",
            "\n"
          ],
          "name": "stdout"
        }
      ]
    },
    {
      "metadata": {
        "id": "qxZMU8CBK664",
        "colab_type": "code",
        "outputId": "ad5442ea-27c3-4357-8ab9-6249143c49ed",
        "colab": {
          "base_uri": "https://localhost:8080/",
          "height": 206
        }
      },
      "cell_type": "code",
      "source": [
        "import pandas as pd\n",
        "df = pd.read_csv('vk_texts_with_sources.csv', usecols = ['text', 'source'])\n",
        "df.head()"
      ],
      "execution_count": 2,
      "outputs": [
        {
          "output_type": "execute_result",
          "data": {
            "text/html": [
              "<div>\n",
              "<style scoped>\n",
              "    .dataframe tbody tr th:only-of-type {\n",
              "        vertical-align: middle;\n",
              "    }\n",
              "\n",
              "    .dataframe tbody tr th {\n",
              "        vertical-align: top;\n",
              "    }\n",
              "\n",
              "    .dataframe thead th {\n",
              "        text-align: right;\n",
              "    }\n",
              "</style>\n",
              "<table border=\"1\" class=\"dataframe\">\n",
              "  <thead>\n",
              "    <tr style=\"text-align: right;\">\n",
              "      <th></th>\n",
              "      <th>text</th>\n",
              "      <th>source</th>\n",
              "    </tr>\n",
              "  </thead>\n",
              "  <tbody>\n",
              "    <tr>\n",
              "      <th>0</th>\n",
              "      <td>Начальник Главного оперативного управления Ген...</td>\n",
              "      <td>mil</td>\n",
              "    </tr>\n",
              "    <tr>\n",
              "      <th>1</th>\n",
              "      <td>Артиллерийские подразделения общевойскового об...</td>\n",
              "      <td>mil</td>\n",
              "    </tr>\n",
              "    <tr>\n",
              "      <th>2</th>\n",
              "      <td>Подразделения морской пехоты Каспийской флотил...</td>\n",
              "      <td>mil</td>\n",
              "    </tr>\n",
              "    <tr>\n",
              "      <th>3</th>\n",
              "      <td>Команды на всеармейских этапах конкурсов АрМИ-...</td>\n",
              "      <td>mil</td>\n",
              "    </tr>\n",
              "    <tr>\n",
              "      <th>4</th>\n",
              "      <td>На большом учебно-методическом командирском сб...</td>\n",
              "      <td>mil</td>\n",
              "    </tr>\n",
              "  </tbody>\n",
              "</table>\n",
              "</div>"
            ],
            "text/plain": [
              "                                                text source\n",
              "0  Начальник Главного оперативного управления Ген...    mil\n",
              "1  Артиллерийские подразделения общевойскового об...    mil\n",
              "2  Подразделения морской пехоты Каспийской флотил...    mil\n",
              "3  Команды на всеармейских этапах конкурсов АрМИ-...    mil\n",
              "4  На большом учебно-методическом командирском сб...    mil"
            ]
          },
          "metadata": {
            "tags": []
          },
          "execution_count": 2
        }
      ]
    },
    {
      "metadata": {
        "id": "dYNCAr17MFA3",
        "colab_type": "text"
      },
      "cell_type": "markdown",
      "source": [
        "# Домашнее задание 1 \n",
        "\n",
        "В этом домашнем задании вы будете решать задачу тематической классификации. Даны тексты, опубликованные в нескольких пабликах VK.com, посвященных государственным и муниципальным службам. Формально задача заключается в том, чтобы по тексту ($d$) определить в каком паблике он опубликован, то есть, к какому классу $c$ он принадлежит. "
      ]
    },
    {
      "metadata": {
        "id": "e2EnN-U7MemU",
        "colab_type": "text"
      },
      "cell_type": "markdown",
      "source": [
        "## Задание 1 [2 балла]. Описательные статистики\n",
        "Посчитайте:\n",
        "* количество текстов и количество классов\n",
        "* количество слов (без лемматизации и с лемматизацией) в коллекции\n",
        "* среднюю длину текста в словах и символах\n",
        "* найдите 5 самых частых существительных в текстах каждого паблика \n",
        "\n",
        "*Рекомендуем использовать pandas для расчета описательных статистик.*"
      ]
    },
    {
      "metadata": {
        "id": "fTJPlulvQSqQ",
        "colab_type": "text"
      },
      "cell_type": "markdown",
      "source": [
        "Разделите коллекцию текстов на обучающую и тестовую части. "
      ]
    },
    {
      "metadata": {
        "id": "9yCVYfbpNhXd",
        "colab_type": "text"
      },
      "cell_type": "markdown",
      "source": [
        " ## Задание 2 [2 балла]. Классификация по правилам\n",
        " \n",
        " * Разработайте несколько правил вида \"Если встречается слово $w$, то текст относится к паблику $c$\"\n",
        " * Посчитайте, какую точность, полноту, $f$-меру и $accuracy$ вы получаете при классификации по правилам\n",
        " * Получилось ли у вас придумать правило, которое никогда не ошибается?"
      ]
    },
    {
      "metadata": {
        "id": "22tJKQnaOjie",
        "colab_type": "text"
      },
      "cell_type": "markdown",
      "source": [
        "## Задание 3 [4 балла]. Baseline\n",
        "Используйте стандартный ```sklearn.pipeline``` для классификации текстов: \n",
        "* векторизация \n",
        "* $tf-idf$ взвешивание \n",
        "* ваш любимый метод классификации.\n",
        "\n",
        "\n",
        "Оцените результаты классификации по стандартным мерам качества и проведите анализ ошибок. Для этого рекомендуем визуализировать матрицу ошибок (confusion matrix). "
      ]
    },
    {
      "metadata": {
        "id": "I4m1rDQ3PAqO",
        "colab_type": "text"
      },
      "cell_type": "markdown",
      "source": [
        "## Задание 4 [2 балла]. Снижение размерности\n",
        "Добавьте в ваш ```sklearn.pipeline```  методы снижения размерности:  PCA / LSI / LSA / LDA / другое. Какие методы классификации разумно использовать после снижения размерности? Как изменились результаты классификации после добавления нового шага?"
      ]
    },
    {
      "metadata": {
        "id": "7vVPaaVwPVwg",
        "colab_type": "text"
      },
      "cell_type": "markdown",
      "source": [
        "## Задание 5 [2 балла]. Лемматизация\n",
        "Посмотрите, как влияет лемматизация на качество классификации. Как изменится качество классификации, если вы используете ```CountVectorizer``` на словах или $n$-граммах на лемматизированных текстах?"
      ]
    },
    {
      "metadata": {
        "id": "hj7hWdtcP8L2",
        "colab_type": "text"
      },
      "cell_type": "markdown",
      "source": [
        "## Задание 6 [4 балла]. Модель скрытых тем\n",
        "Постройте и визуализируйте модель скрытых тем (LSI или LDA) по данной коллекции текстов. Нужно ли здесь использовать разделение на тестовую и обучающую части? Как модель скрытых тем может помочь в решении задачи классификации?"
      ]
    },
    {
      "metadata": {
        "id": "cdakRHahQp-l",
        "colab_type": "text"
      },
      "cell_type": "markdown",
      "source": [
        "## Задание 7 [4 балла]. Continious bag of words\n",
        "Для baseline решения мы использовали обычное представление текста в виде мешка слов. Попробуйте использовать другие модели представления текста – например, в виде непрерывного мешка слов, то есть, в виде набора эмбеддингов. Для того, чтобы получить вектор текста попробуйте:\n",
        "* усреднить все эмбеддинги слов, входящих в этот текст\n",
        "* усреднить все эмбеддинги слов, входящих в этот текст с $tf-idf$ весами\n",
        "* использовать любую модель эмбеддинга документа.\n",
        "\n",
        "Используйте любую модель эмбеддингов по вашему вкусу. \n",
        "\n",
        "\n",
        "Оцените результаты классификации по стандартным мерам качества и проведите анализ ошибок. Для этого рекомендуем визуализировать матрицу ошибок (confusion matrix). "
      ]
    },
    {
      "metadata": {
        "id": "uyVQ5Gm7Qzcz",
        "colab_type": "text"
      },
      "cell_type": "markdown",
      "source": [
        "## Задание 8 [2 балла]. fastText\n",
        "\n",
        "Используйте ```fastText``` в режиме классификации. Оцените результаты классификации по стандартным мерам качества и проведите анализ ошибок. Для этого рекомендуем визуализировать матрицу ошибок (confusion matrix). "
      ]
    },
    {
      "metadata": {
        "id": "_8fKqCD6Q5tW",
        "colab_type": "text"
      },
      "cell_type": "markdown",
      "source": [
        "## Конец\n",
        "Подведите итоги и проведите сравнение всех использованных методов. Какой из них показался вам лучше и почему?\n",
        "\n",
        "**NB!** Задание обязательное вне зависимости от того, сколько из предыдущих пунктов вы выполнили, и дополнительных баллов не дает. "
      ]
    },
    {
      "metadata": {
        "id": "4FkOuR_NiXeT",
        "colab_type": "text"
      },
      "cell_type": "markdown",
      "source": [
        "# Правила сдачи \n",
        "\n",
        "1. Домашняя работа должна быть выполнена в ipynb-тетрадке под названием `ML_HW1.ipynb`.\n",
        "2. Тетрадку можно загрузить либо на GitHub (и в таком случае лучше создать для домашек по курсу отдельный репозиторий), либо в Colab.\n",
        "3. Ссылку на домашку нужно оставить [вот в этом опросе](https://goo.gl/forms/JpWWwKEZRkfy8OS02). \n",
        "4. Задание выполняется в группах 1-3 человека.\n",
        "5. Все вычисления должны быть снабжены пояснениями!\n",
        "6. Дедлайн – 3 марта в 10.00.\n",
        "\n",
        "**NB!** Если вы даете ссылку на Colab, то обязательно делайте это через \"Share\", а не просто копируйте ее из адресной строки. "
      ]
    }
  ]
}